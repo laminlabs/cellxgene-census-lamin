{
 "cells": [
  {
   "cell_type": "markdown",
   "metadata": {},
   "source": [
    "# Register cellxgene-census metadata\n",
    "\n",
    "Also see [cellxgene-census tutorials](https://chanzuckerberg.github.io/cellxgene-census/notebooks/api_demo/census_query_extract.html)."
   ]
  },
  {
   "cell_type": "markdown",
   "metadata": {},
   "source": [
    "## Setup"
   ]
  },
  {
   "cell_type": "code",
   "execution_count": null,
   "metadata": {
    "tags": [
     "hide-output"
    ]
   },
   "outputs": [],
   "source": [
    "!lamin init --storage ./test-census --schema bionty"
   ]
  },
  {
   "cell_type": "code",
   "execution_count": null,
   "metadata": {},
   "outputs": [],
   "source": [
    "import lamindb as ln\n",
    "import lnschema_bionty as lb\n",
    "import cellxgene_census"
   ]
  },
  {
   "cell_type": "code",
   "execution_count": null,
   "metadata": {},
   "outputs": [],
   "source": [
    "lb.settings.species = \"human\"\n",
    "species = lb.settings.species.scientific_name"
   ]
  },
  {
   "cell_type": "markdown",
   "metadata": {},
   "source": [
    "## Register modalities"
   ]
  },
  {
   "cell_type": "markdown",
   "metadata": {},
   "source": [
    "Register \"RNA\" measurement as a modality:"
   ]
  },
  {
   "cell_type": "code",
   "execution_count": null,
   "metadata": {},
   "outputs": [],
   "source": [
    "modality = ln.Modality(name=\"RNA\", description=\"RNA measurements\")\n",
    "modality.save()\n",
    "rna = modality.name"
   ]
  },
  {
   "cell_type": "markdown",
   "metadata": {},
   "source": [
    "## Validate and register genes"
   ]
  },
  {
   "cell_type": "code",
   "execution_count": null,
   "metadata": {},
   "outputs": [],
   "source": [
    "census = cellxgene_census.open_soma()\n",
    "census_data = census[\"census_data\"][species]"
   ]
  },
  {
   "cell_type": "markdown",
   "metadata": {},
   "source": [
    "Gene metadata:"
   ]
  },
  {
   "cell_type": "code",
   "execution_count": null,
   "metadata": {},
   "outputs": [],
   "source": [
    "census_data.ms[rna].var.keys()"
   ]
  },
  {
   "cell_type": "code",
   "execution_count": null,
   "metadata": {},
   "outputs": [],
   "source": [
    "gene_metadata = census_data.ms[rna].var.read().concat().to_pandas()"
   ]
  },
  {
   "cell_type": "code",
   "execution_count": null,
   "metadata": {},
   "outputs": [],
   "source": [
    "gene_metadata.shape"
   ]
  },
  {
   "cell_type": "code",
   "execution_count": null,
   "metadata": {},
   "outputs": [],
   "source": [
    "gene_metadata.head()"
   ]
  },
  {
   "cell_type": "code",
   "execution_count": null,
   "metadata": {},
   "outputs": [],
   "source": [
    "lb.Gene.inspect(gene_metadata[\"feature_id\"], field=lb.Gene.ensembl_gene_id);"
   ]
  },
  {
   "cell_type": "code",
   "execution_count": null,
   "metadata": {},
   "outputs": [],
   "source": [
    "# register genes from bionty\n",
    "gene_records = lb.Gene.from_values(\n",
    "    gene_metadata[\"feature_id\"], field=lb.Gene.ensembl_gene_id\n",
    ")\n",
    "ln.save(gene_records)\n",
    "\n",
    "validated = lb.Gene.validate(gene_metadata[\"feature_id\"], field=lb.Gene.ensembl_gene_id)\n",
    "# register legacy genes manually\n",
    "records = []\n",
    "for gene_id in gene_metadata[\"feature_id\"][~validated]:\n",
    "    records.append(lb.Gene(ensembl_gene_id=gene_id))\n",
    "ln.save(records)"
   ]
  },
  {
   "cell_type": "markdown",
   "metadata": {},
   "source": [
    "## `obs` metadata in Census"
   ]
  },
  {
   "cell_type": "markdown",
   "metadata": {},
   "source": [
    "All available metadata columns:"
   ]
  },
  {
   "cell_type": "code",
   "execution_count": null,
   "metadata": {},
   "outputs": [],
   "source": [
    "census_data.obs.keys()"
   ]
  },
  {
   "cell_type": "markdown",
   "metadata": {},
   "source": [
    "## Register features and modalities"
   ]
  },
  {
   "cell_type": "markdown",
   "metadata": {},
   "source": [
    "Register `obs` column names as features:"
   ]
  },
  {
   "cell_type": "code",
   "execution_count": null,
   "metadata": {},
   "outputs": [],
   "source": [
    "features = []\n",
    "for col in census_data.obs.keys():\n",
    "    if col == \"soma_id\":\n",
    "        type = \"int\"\n",
    "    else:\n",
    "        type = \"category\"\n",
    "    features.append(ln.Feature(name=col, type=type))\n",
    "\n",
    "ln.save(features)"
   ]
  },
  {
   "cell_type": "code",
   "execution_count": null,
   "metadata": {},
   "outputs": [],
   "source": [
    "features = ln.Feature.lookup(return_field=ln.Feature.name)"
   ]
  },
  {
   "cell_type": "markdown",
   "metadata": {},
   "source": [
    "## Validate and register ontologies"
   ]
  },
  {
   "cell_type": "markdown",
   "metadata": {},
   "source": [
    "Fetch all terms used in census for each ontology:"
   ]
  },
  {
   "cell_type": "code",
   "execution_count": null,
   "metadata": {},
   "outputs": [],
   "source": [
    "dfs = {}\n",
    "\n",
    "for cols in [\n",
    "    (features.assay, features.assay_ontology_term_id),\n",
    "    (features.cell_type, features.cell_type_ontology_term_id),\n",
    "    (features.development_stage, features.development_stage_ontology_term_id),\n",
    "    (features.disease, features.disease_ontology_term_id),\n",
    "    (\n",
    "        features.self_reported_ethnicity,\n",
    "        features.self_reported_ethnicity_ontology_term_id,\n",
    "    ),\n",
    "    (features.sex, features.sex_ontology_term_id),\n",
    "    (features.tissue, features.tissue_ontology_term_id),\n",
    "    (features.tissue_general, features.tissue_general_ontology_term_id),\n",
    "]:\n",
    "    dfs[cols[0]] = (\n",
    "        census_data.obs.read(column_names=[cols[0], cols[1]])\n",
    "        .concat()\n",
    "        .to_pandas()\n",
    "        .drop_duplicates()\n",
    "    )"
   ]
  },
  {
   "cell_type": "code",
   "execution_count": null,
   "metadata": {},
   "outputs": [],
   "source": [
    "dfs[\"assay\"].head()"
   ]
  },
  {
   "cell_type": "code",
   "execution_count": null,
   "metadata": {},
   "outputs": [],
   "source": [
    "def register_ontology(orm, name: str, **kwargs):\n",
    "    from lamin_utils import logger\n",
    "\n",
    "    df = dfs[name]\n",
    "    records = orm.from_values(\n",
    "        df[f\"{name}_ontology_term_id\"], field=orm.ontology_id, **kwargs\n",
    "    )\n",
    "    for record in records:\n",
    "        census_name = df[df[f\"{name}_ontology_term_id\"] == record.ontology_id][\n",
    "            name\n",
    "        ].tolist()[0]\n",
    "        if census_name != record.name:\n",
    "            logger.warning(\n",
    "                f\"census name '{census_name}' doesn't match ontology name\"\n",
    "                f\" '{record.name}', adding census name as a synonym\\n\"\n",
    "            )\n",
    "            record.add_synonym(census_name)\n",
    "    name_with_schema = orm.__get_name_with_schema__()\n",
    "    feature = ln.Feature.filter(name=name).one()\n",
    "    feature.registries = name_with_schema\n",
    "    feature.save()\n",
    "    feature = ln.Feature.filter(name=f\"{name}_ontology_term_id\").one()\n",
    "    feature.registries = name_with_schema\n",
    "    feature.save()\n",
    "    ln.save(records, parents=False)"
   ]
  },
  {
   "cell_type": "code",
   "execution_count": null,
   "metadata": {
    "tags": []
   },
   "outputs": [],
   "source": [
    "register_ontology(lb.ExperimentalFactor, features.assay)"
   ]
  },
  {
   "cell_type": "code",
   "execution_count": null,
   "metadata": {
    "tags": []
   },
   "outputs": [],
   "source": [
    "register_ontology(lb.CellType, features.cell_type)"
   ]
  },
  {
   "cell_type": "code",
   "execution_count": null,
   "metadata": {},
   "outputs": [],
   "source": [
    "register_ontology(lb.Disease, features.disease)"
   ]
  },
  {
   "cell_type": "markdown",
   "metadata": {},
   "source": [
    "'PATO:0000461' is a term for \"normal\" which can be typed with `Phenotype`:"
   ]
  },
  {
   "cell_type": "code",
   "execution_count": null,
   "metadata": {},
   "outputs": [],
   "source": [
    "pato = lb.BiontySource.filter(source=\"pato\").one()\n",
    "lb.Phenotype.from_bionty(ontology_id=\"PATO:0000461\", bionty_source=pato).save()"
   ]
  },
  {
   "cell_type": "code",
   "execution_count": null,
   "metadata": {},
   "outputs": [],
   "source": [
    "register_ontology(lb.Ethnicity, features.self_reported_ethnicity)"
   ]
  },
  {
   "cell_type": "markdown",
   "metadata": {},
   "source": [
    "Let's manually add two terms to the Ethnicity registry:"
   ]
  },
  {
   "cell_type": "code",
   "execution_count": null,
   "metadata": {},
   "outputs": [],
   "source": [
    "lb.Ethnicity(name=\"multiethnic\").save()\n",
    "lb.Ethnicity(name=\"unknown\").save()"
   ]
  },
  {
   "cell_type": "code",
   "execution_count": null,
   "metadata": {},
   "outputs": [],
   "source": [
    "register_ontology(lb.Phenotype, features.sex, bionty_source=pato)"
   ]
  },
  {
   "cell_type": "code",
   "execution_count": null,
   "metadata": {},
   "outputs": [],
   "source": [
    "lb.Phenotype(name=\"unknown\").save()"
   ]
  },
  {
   "cell_type": "code",
   "execution_count": null,
   "metadata": {},
   "outputs": [],
   "source": [
    "register_ontology(lb.Tissue, features.tissue)"
   ]
  },
  {
   "cell_type": "code",
   "execution_count": null,
   "metadata": {},
   "outputs": [],
   "source": [
    "register_ontology(lb.Tissue, features.tissue_general)"
   ]
  },
  {
   "cell_type": "markdown",
   "metadata": {},
   "source": [
    "## Validate and register non-ontological metadata"
   ]
  },
  {
   "cell_type": "markdown",
   "metadata": {},
   "source": [
    "\"donor_id\" and \"suspension_type\" are two fields without public ontologies, let's register them using \"ULabel\":"
   ]
  },
  {
   "cell_type": "code",
   "execution_count": null,
   "metadata": {},
   "outputs": [],
   "source": [
    "features.donor_id.registries = ln.ULabel.__get_name_with_schema__()\n",
    "features.donor_id.save()\n",
    "features.suspension_type.registries = ln.ULabel.__get_name_with_schema__()\n",
    "features.suspension_type.save()"
   ]
  },
  {
   "cell_type": "code",
   "execution_count": null,
   "metadata": {},
   "outputs": [],
   "source": [
    "donor_ids = (\n",
    "    census_data.obs.read(column_names=[features.donor_id])\n",
    "    .concat()\n",
    "    .to_pandas()\n",
    "    .drop_duplicates()\n",
    ")"
   ]
  },
  {
   "cell_type": "code",
   "execution_count": null,
   "metadata": {},
   "outputs": [],
   "source": [
    "ln.settings.upon_create_search_names = False\n",
    "\n",
    "records = []\n",
    "for donor_id in donor_ids[features.donor_id].unique():\n",
    "    record = ln.ULabel(name=donor_id, description=f\"{features.donor_id}: {donor_id}\")\n",
    "    records.append(record)\n",
    "\n",
    "ln.save(records)"
   ]
  },
  {
   "cell_type": "markdown",
   "metadata": {},
   "source": [
    "Construct a parent \"is_donor\" to group these ulabels:"
   ]
  },
  {
   "cell_type": "code",
   "execution_count": null,
   "metadata": {},
   "outputs": [],
   "source": [
    "is_donor = ln.ULabel(name=\"is_donor\", description=\"parent of donor ids\")\n",
    "is_donor.save()\n",
    "is_donor.children.set(records)"
   ]
  },
  {
   "cell_type": "markdown",
   "metadata": {},
   "source": [
    "We do the same for \"suspension_type\":"
   ]
  },
  {
   "cell_type": "code",
   "execution_count": null,
   "metadata": {},
   "outputs": [],
   "source": [
    "suspension_types = (\n",
    "    census_data.obs.read(column_names=[features.suspension_type])\n",
    "    .concat()\n",
    "    .to_pandas()\n",
    "    .drop_duplicates()\n",
    ")\n",
    "\n",
    "records = []\n",
    "for suspension_type in suspension_types[features.suspension_type].unique():\n",
    "    record = ln.ULabel(\n",
    "        name=suspension_type,\n",
    "        description=f\"{features.suspension_type}: {suspension_type}\",\n",
    "    )\n",
    "    records.append(record)\n",
    "\n",
    "ln.save(records)\n",
    "\n",
    "is_suspension_type = ln.ULabel(\n",
    "    name=\"is_suspension_type\", description=\"parent of suspension types\"\n",
    ")\n",
    "is_suspension_type.save()\n",
    "is_suspension_type.children.set(records)"
   ]
  },
  {
   "cell_type": "markdown",
   "metadata": {},
   "source": [
    "Now we have validated all ontological terms in Census metadata!🎉 Let's see how they can be useful when {doc}`./query-census`."
   ]
  }
 ],
 "metadata": {
  "kernelspec": {
   "display_name": "py39",
   "language": "python",
   "name": "python3"
  },
  "language_info": {
   "codemirror_mode": {
    "name": "ipython",
    "version": 3
   },
   "file_extension": ".py",
   "mimetype": "text/x-python",
   "name": "python",
   "nbconvert_exporter": "python",
   "pygments_lexer": "ipython3",
   "version": "3.9.16"
  }
 },
 "nbformat": 4,
 "nbformat_minor": 2
}
