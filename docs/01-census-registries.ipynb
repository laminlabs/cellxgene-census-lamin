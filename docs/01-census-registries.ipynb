{
 "cells": [
  {
   "cell_type": "markdown",
   "metadata": {},
   "source": [
    "# Register the cellxgene-census metadata\n",
    "\n",
    "In this notebook, we show how to register all census datasets and metadata using LaminDB under 10min.\n",
    "\n",
    "Registered metadata can be readily used for querying, validating, annotating and integrating data, see {doc}`./cellxgene`.\n",
    "\n",
    "For background, see [cellxgene-census tutorials](https://chanzuckerberg.github.io/cellxgene-census/notebooks/api_demo/census_query_extract.html)."
   ]
  },
  {
   "cell_type": "markdown",
   "metadata": {},
   "source": [
    "## Setup"
   ]
  },
  {
   "cell_type": "code",
   "execution_count": null,
   "metadata": {
    "tags": [
     "hide-output"
    ]
   },
   "outputs": [],
   "source": [
    "!lamin init --storage ./test-cellxgene --schema bionty"
   ]
  },
  {
   "cell_type": "code",
   "execution_count": null,
   "metadata": {},
   "outputs": [],
   "source": [
    "import lamindb as ln\n",
    "import lnschema_bionty as lb\n",
    "import cellxgene_census"
   ]
  },
  {
   "cell_type": "code",
   "execution_count": null,
   "metadata": {
    "tags": [
     "hide-output"
    ]
   },
   "outputs": [],
   "source": [
    "lb.settings.organism = \"human\"  # \"mouse\" for registering metadata of mouse datasets\n",
    "human = lb.settings.organism.scientific_name\n",
    "rna = \"RNA\""
   ]
  },
  {
   "cell_type": "code",
   "execution_count": null,
   "metadata": {},
   "outputs": [],
   "source": [
    "ln.track()"
   ]
  },
  {
   "cell_type": "markdown",
   "metadata": {},
   "source": [
    "## Register datasets"
   ]
  },
  {
   "cell_type": "code",
   "execution_count": null,
   "metadata": {},
   "outputs": [],
   "source": [
    "census_version = \"2023-07-25\"\n",
    "census = cellxgene_census.open_soma(census_version=census_version)"
   ]
  },
  {
   "cell_type": "code",
   "execution_count": null,
   "metadata": {},
   "outputs": [],
   "source": [
    "datasets_df = census[\"census_info\"][\"datasets\"].read().concat().to_pandas()\n",
    "datasets_df.shape"
   ]
  },
  {
   "cell_type": "code",
   "execution_count": null,
   "metadata": {},
   "outputs": [],
   "source": [
    "datasets_df.head()"
   ]
  },
  {
   "cell_type": "code",
   "execution_count": null,
   "metadata": {
    "tags": [
     "hide-output"
    ]
   },
   "outputs": [],
   "source": [
    "files = ln.File.from_dir(\n",
    "    f\"s3://cellxgene-data-public/cell-census/{census_version}/h5ads\"\n",
    ")\n",
    "ln.save(files)"
   ]
  },
  {
   "cell_type": "code",
   "execution_count": null,
   "metadata": {},
   "outputs": [],
   "source": [
    "# use a dataset record to track version\n",
    "ln.Dataset(files, name=\"cellxgene-census\", version=census_version).save()"
   ]
  },
  {
   "cell_type": "code",
   "execution_count": null,
   "metadata": {
    "tags": [
     "hide-output"
    ]
   },
   "outputs": [],
   "source": [
    "collections_df = (\n",
    "    datasets_df[[\"collection_id\", \"collection_name\", \"collection_doi\"]]\n",
    "    .drop_duplicates()\n",
    "    .set_index(\"collection_id\")\n",
    ")\n",
    "collections = []\n",
    "for collection_id, row in collections_df.iterrows():\n",
    "    collection = ln.ULabel(\n",
    "        name=row.collection_name,\n",
    "        description=row.collection_doi,\n",
    "        reference=collection_id,\n",
    "        reference_type=\"collection_id\",\n",
    "    )\n",
    "    collections.append(collection)\n",
    "\n",
    "ln.save(collections)\n",
    "\n",
    "is_collection = ln.ULabel(name=\"is_collection\")\n",
    "is_collection.save()\n",
    "is_collection.children.set(collections)"
   ]
  },
  {
   "cell_type": "code",
   "execution_count": null,
   "metadata": {},
   "outputs": [],
   "source": [
    "collections = is_collection.children\n",
    "files = ln.File.filter()"
   ]
  },
  {
   "cell_type": "code",
   "execution_count": null,
   "metadata": {},
   "outputs": [],
   "source": [
    "feature = ln.Feature(name=\"organism\", type=\"category\")\n",
    "feature.save()"
   ]
  },
  {
   "cell_type": "code",
   "execution_count": null,
   "metadata": {},
   "outputs": [],
   "source": [
    "for _, row in datasets_df.iterrows():\n",
    "    file = files.filter(key__endswith=f\"{row.dataset_id}.h5ad\").one()\n",
    "    file.description = f\"{row.dataset_title}|{row.dataset_id}\"\n",
    "    file.save()\n",
    "    file.labels.add(collections.get(reference=row.collection_id), feature)\n",
    "    file.organism.add(lb.settings.organism)"
   ]
  },
  {
   "cell_type": "markdown",
   "metadata": {},
   "source": [
    "## Validate and register genes"
   ]
  },
  {
   "cell_type": "code",
   "execution_count": null,
   "metadata": {},
   "outputs": [],
   "source": [
    "census_data = census[\"census_data\"][human]"
   ]
  },
  {
   "cell_type": "markdown",
   "metadata": {},
   "source": [
    "Gene metadata:"
   ]
  },
  {
   "cell_type": "code",
   "execution_count": null,
   "metadata": {},
   "outputs": [],
   "source": [
    "census_data.ms[rna].var.keys()"
   ]
  },
  {
   "cell_type": "code",
   "execution_count": null,
   "metadata": {},
   "outputs": [],
   "source": [
    "gene_metadata = census_data.ms[rna].var.read().concat().to_pandas()"
   ]
  },
  {
   "cell_type": "code",
   "execution_count": null,
   "metadata": {},
   "outputs": [],
   "source": [
    "gene_metadata.shape"
   ]
  },
  {
   "cell_type": "code",
   "execution_count": null,
   "metadata": {},
   "outputs": [],
   "source": [
    "gene_metadata.head()"
   ]
  },
  {
   "cell_type": "code",
   "execution_count": null,
   "metadata": {},
   "outputs": [],
   "source": [
    "lb.Gene.inspect(gene_metadata[\"feature_id\"], field=lb.Gene.ensembl_gene_id);"
   ]
  },
  {
   "cell_type": "code",
   "execution_count": null,
   "metadata": {
    "tags": [
     "hide-output"
    ]
   },
   "outputs": [],
   "source": [
    "# register genes from bionty\n",
    "gene_records = lb.Gene.from_values(\n",
    "    gene_metadata[\"feature_id\"], field=lb.Gene.ensembl_gene_id\n",
    ")\n",
    "ln.save(gene_records)\n",
    "\n",
    "validated = lb.Gene.validate(gene_metadata[\"feature_id\"], field=lb.Gene.ensembl_gene_id)\n",
    "# register legacy genes manually\n",
    "gene_metadata_id = gene_metadata.set_index(\"feature_id\")\n",
    "records = []\n",
    "for gene_id in gene_metadata[\"feature_id\"][~validated]:\n",
    "    records.append(\n",
    "        lb.Gene(\n",
    "            ensembl_gene_id=gene_id, symbol=gene_metadata_id.loc[gene_id].feature_name\n",
    "        )\n",
    "    )\n",
    "ln.save(records)"
   ]
  },
  {
   "cell_type": "code",
   "execution_count": null,
   "metadata": {},
   "outputs": [],
   "source": [
    "lb.Gene.validate(gene_metadata[\"feature_id\"], field=lb.Gene.ensembl_gene_id);"
   ]
  },
  {
   "cell_type": "markdown",
   "metadata": {},
   "source": [
    "## Observational metadata"
   ]
  },
  {
   "cell_type": "markdown",
   "metadata": {},
   "source": [
    "All available metadata columns:"
   ]
  },
  {
   "cell_type": "code",
   "execution_count": null,
   "metadata": {},
   "outputs": [],
   "source": [
    "census_data.obs.keys()"
   ]
  },
  {
   "cell_type": "markdown",
   "metadata": {},
   "source": [
    "### Register features"
   ]
  },
  {
   "cell_type": "markdown",
   "metadata": {},
   "source": [
    "Register `obs` column names as features:"
   ]
  },
  {
   "cell_type": "code",
   "execution_count": null,
   "metadata": {},
   "outputs": [],
   "source": [
    "features = []\n",
    "for col in census_data.obs.keys():\n",
    "    if col == \"soma_joinid\":\n",
    "        type = \"int\"\n",
    "    elif col == \"is_primary_data\":\n",
    "        type = \"bool\"\n",
    "    else:\n",
    "        type = \"category\"\n",
    "    features.append(ln.Feature(name=col, type=type))\n",
    "\n",
    "ln.save(features)"
   ]
  },
  {
   "cell_type": "code",
   "execution_count": null,
   "metadata": {},
   "outputs": [],
   "source": [
    "features = ln.Feature.lookup(return_field=ln.Feature.name)\n",
    "features_records = ln.Feature.lookup()"
   ]
  },
  {
   "cell_type": "markdown",
   "metadata": {},
   "source": [
    "### Validate and register ontologies"
   ]
  },
  {
   "cell_type": "markdown",
   "metadata": {},
   "source": [
    "Fetch all terms used in census for each ontology:"
   ]
  },
  {
   "cell_type": "code",
   "execution_count": null,
   "metadata": {},
   "outputs": [],
   "source": [
    "dfs = {}\n",
    "\n",
    "for cols in [\n",
    "    (features.assay, features.assay_ontology_term_id),\n",
    "    (features.cell_type, features.cell_type_ontology_term_id),\n",
    "    (features.development_stage, features.development_stage_ontology_term_id),\n",
    "    (features.disease, features.disease_ontology_term_id),\n",
    "    (\n",
    "        features.self_reported_ethnicity,\n",
    "        features.self_reported_ethnicity_ontology_term_id,\n",
    "    ),\n",
    "    (features.sex, features.sex_ontology_term_id),\n",
    "    (features.tissue, features.tissue_ontology_term_id),\n",
    "    (features.tissue_general, features.tissue_general_ontology_term_id),\n",
    "]:\n",
    "    dfs[cols[0]] = (\n",
    "        census_data.obs.read(column_names=[cols[0], cols[1]])\n",
    "        .concat()\n",
    "        .to_pandas()\n",
    "        .drop_duplicates()\n",
    "    )"
   ]
  },
  {
   "cell_type": "code",
   "execution_count": null,
   "metadata": {},
   "outputs": [],
   "source": [
    "dfs[features.assay].head()"
   ]
  },
  {
   "cell_type": "code",
   "execution_count": null,
   "metadata": {},
   "outputs": [],
   "source": [
    "# Note: set parents=True in real-world case\n",
    "def register_ontology(orm, name: str, parents: bool = False, **kwargs):\n",
    "    from lamin_utils import logger\n",
    "\n",
    "    df = dfs[name]\n",
    "    records = orm.from_values(\n",
    "        df[f\"{name}_ontology_term_id\"], field=orm.ontology_id, **kwargs\n",
    "    )\n",
    "    for record in records:\n",
    "        census_name = df[df[f\"{name}_ontology_term_id\"] == record.ontology_id][\n",
    "            name\n",
    "        ].tolist()[0]\n",
    "        if census_name != record.name:\n",
    "            logger.warning(\n",
    "                f\"census name '{census_name}' doesn't match ontology name\"\n",
    "                f\" '{record.name}', adding census name as abbr\\n\"\n",
    "            )\n",
    "            record.set_abbr(census_name)\n",
    "    name_with_schema = orm.__get_name_with_schema__()\n",
    "    feature = ln.Feature.filter(name=name).one()\n",
    "    feature.registries = name_with_schema\n",
    "    feature.save()\n",
    "    feature = ln.Feature.filter(name=f\"{name}_ontology_term_id\").one()\n",
    "    feature.registries = name_with_schema\n",
    "    feature.save()\n",
    "    ln.save(records, parents=parents)"
   ]
  },
  {
   "cell_type": "code",
   "execution_count": null,
   "metadata": {
    "tags": []
   },
   "outputs": [],
   "source": [
    "register_ontology(lb.ExperimentalFactor, features.assay)"
   ]
  },
  {
   "cell_type": "code",
   "execution_count": null,
   "metadata": {
    "tags": [
     "hide-cell"
    ]
   },
   "outputs": [],
   "source": [
    "# add parents for several cell types here\n",
    "lb.CellType.from_bionty(ontology_id=\"CL:0000911\").save()\n",
    "lb.CellType.from_bionty(ontology_id=\"CL:0000910\").save()\n",
    "lb.CellType.from_bionty(ontology_id=\"CL:0001044\").save()\n",
    "lb.CellType.from_bionty(ontology_id=\"CL:0001050\").save()\n",
    "lb.CellType.from_bionty(ontology_id=\"CL:0011025\").save()"
   ]
  },
  {
   "cell_type": "code",
   "execution_count": null,
   "metadata": {
    "tags": [
     "hide-output"
    ]
   },
   "outputs": [],
   "source": [
    "register_ontology(lb.CellType, features.cell_type)"
   ]
  },
  {
   "cell_type": "code",
   "execution_count": null,
   "metadata": {
    "tags": [
     "hide-output"
    ]
   },
   "outputs": [],
   "source": [
    "register_ontology(lb.DevelopmentalStage, features.development_stage)"
   ]
  },
  {
   "cell_type": "code",
   "execution_count": null,
   "metadata": {},
   "outputs": [],
   "source": [
    "lb.DevelopmentalStage(name=\"unknown\").save()"
   ]
  },
  {
   "cell_type": "code",
   "execution_count": null,
   "metadata": {},
   "outputs": [],
   "source": [
    "register_ontology(lb.Disease, features.disease)"
   ]
  },
  {
   "cell_type": "markdown",
   "metadata": {},
   "source": [
    "'PATO:0000461' is a term for \"normal\" from `Phenotype`:"
   ]
  },
  {
   "cell_type": "code",
   "execution_count": null,
   "metadata": {},
   "outputs": [],
   "source": [
    "pato = lb.BiontySource.filter(source=\"pato\").one()\n",
    "normal_record = lb.Phenotype.from_bionty(ontology_id=\"PATO:0000461\", bionty_source=pato)\n",
    "lb.Disease(\n",
    "    name=normal_record.name,\n",
    "    ontology_id=normal_record.ontology_id,\n",
    "    description=normal_record.description,\n",
    "    bionty_source_id=normal_record.bionty_source_id,\n",
    ").save()"
   ]
  },
  {
   "cell_type": "code",
   "execution_count": null,
   "metadata": {},
   "outputs": [],
   "source": [
    "register_ontology(lb.Ethnicity, features.self_reported_ethnicity)"
   ]
  },
  {
   "cell_type": "markdown",
   "metadata": {},
   "source": [
    "Let's manually add two terms to the Ethnicity registry:"
   ]
  },
  {
   "cell_type": "code",
   "execution_count": null,
   "metadata": {},
   "outputs": [],
   "source": [
    "lb.Ethnicity(name=\"multiethnic\").save()\n",
    "lb.Ethnicity(name=\"unknown\").save()"
   ]
  },
  {
   "cell_type": "code",
   "execution_count": null,
   "metadata": {},
   "outputs": [],
   "source": [
    "register_ontology(lb.Phenotype, features.sex, bionty_source=pato)"
   ]
  },
  {
   "cell_type": "code",
   "execution_count": null,
   "metadata": {},
   "outputs": [],
   "source": [
    "lb.Phenotype(name=\"unknown\").save()"
   ]
  },
  {
   "cell_type": "code",
   "execution_count": null,
   "metadata": {},
   "outputs": [],
   "source": [
    "register_ontology(lb.Tissue, features.tissue)\n",
    "register_ontology(lb.Tissue, features.tissue_general)"
   ]
  },
  {
   "cell_type": "markdown",
   "metadata": {},
   "source": [
    "### Validate and register non-ontological metadata"
   ]
  },
  {
   "cell_type": "markdown",
   "metadata": {},
   "source": [
    "\"donor_id\" and \"suspension_type\" are two fields without public ontologies, let's register them using \"ULabel\":"
   ]
  },
  {
   "cell_type": "code",
   "execution_count": null,
   "metadata": {},
   "outputs": [],
   "source": [
    "features_records.donor_id.registries = ln.ULabel.__get_name_with_schema__()\n",
    "features_records.donor_id.save()\n",
    "features_records.suspension_type.registries = ln.ULabel.__get_name_with_schema__()\n",
    "features_records.suspension_type.save()"
   ]
  },
  {
   "cell_type": "code",
   "execution_count": null,
   "metadata": {},
   "outputs": [],
   "source": [
    "donor_ids = (\n",
    "    census_data.obs.read(column_names=[features.donor_id])\n",
    "    .concat()\n",
    "    .to_pandas()\n",
    "    .drop_duplicates()\n",
    ")"
   ]
  },
  {
   "cell_type": "code",
   "execution_count": null,
   "metadata": {},
   "outputs": [],
   "source": [
    "records = []\n",
    "for donor_id in donor_ids[features.donor_id].unique():\n",
    "    record = ln.ULabel(name=donor_id, description=f\"{features.donor_id}: {donor_id}\")\n",
    "    records.append(record)\n",
    "\n",
    "ln.save(records)"
   ]
  },
  {
   "cell_type": "markdown",
   "metadata": {},
   "source": [
    "Construct a parent \"is_donor\" to group these ulabels:"
   ]
  },
  {
   "cell_type": "code",
   "execution_count": null,
   "metadata": {},
   "outputs": [],
   "source": [
    "is_donor = ln.ULabel(name=\"is_donor\", description=\"parent of donor ids\")\n",
    "is_donor.save()\n",
    "is_donor.children.set(records)"
   ]
  },
  {
   "cell_type": "markdown",
   "metadata": {},
   "source": [
    "We do the same for \"suspension_type\":"
   ]
  },
  {
   "cell_type": "code",
   "execution_count": null,
   "metadata": {},
   "outputs": [],
   "source": [
    "suspension_types = (\n",
    "    census_data.obs.read(column_names=[features.suspension_type])\n",
    "    .concat()\n",
    "    .to_pandas()\n",
    "    .drop_duplicates()\n",
    ")\n",
    "\n",
    "records = []\n",
    "for suspension_type in suspension_types[features.suspension_type].unique():\n",
    "    record = ln.ULabel(\n",
    "        name=suspension_type,\n",
    "        description=f\"{features.suspension_type}: {suspension_type}\",\n",
    "    )\n",
    "    records.append(record)\n",
    "\n",
    "ln.save(records)\n",
    "\n",
    "is_suspension_type = ln.ULabel(\n",
    "    name=\"is_suspension_type\", description=\"parent of suspension types\"\n",
    ")\n",
    "is_suspension_type.save()\n",
    "is_suspension_type.children.set(records)"
   ]
  },
  {
   "cell_type": "code",
   "execution_count": null,
   "metadata": {},
   "outputs": [],
   "source": [
    "is_suspension_type.view_parents(with_children=True)"
   ]
  },
  {
   "cell_type": "markdown",
   "metadata": {},
   "source": [
    "Now we have validated all ontological terms in Census metadata!"
   ]
  },
  {
   "cell_type": "markdown",
   "metadata": {},
   "source": [
    "## Link metadata to individual files"
   ]
  },
  {
   "cell_type": "markdown",
   "metadata": {},
   "source": [
    "Here we show how to link a file to its validated metadata records:"
   ]
  },
  {
   "cell_type": "code",
   "execution_count": null,
   "metadata": {},
   "outputs": [],
   "source": [
    "# take the file corresponds to a dataset\n",
    "dataset = datasets_df[\n",
    "    datasets_df[\"dataset_id\"] == \"20d87640-4be8-487f-93d4-dce38378d00f\"\n",
    "].iloc[0]\n",
    "file = files.filter(description__contains=dataset.dataset_id).one()\n",
    "feature_sets = {}"
   ]
  },
  {
   "cell_type": "markdown",
   "metadata": {},
   "source": [
    "obs metadata in the dataset:"
   ]
  },
  {
   "cell_type": "code",
   "execution_count": null,
   "metadata": {},
   "outputs": [],
   "source": [
    "obs = (\n",
    "    census_data.obs.read(value_filter=f\"dataset_id == '{dataset.dataset_id}'\")\n",
    "    .concat()\n",
    "    .to_pandas()\n",
    ")\n",
    "print(obs.shape)\n",
    "\n",
    "feature_set_obs = ln.FeatureSet.from_df(obs.loc[:, ~obs.columns.str.endswith(\"_id\")])\n",
    "feature_sets[\"obs\"] = feature_set_obs"
   ]
  },
  {
   "cell_type": "markdown",
   "metadata": {},
   "source": [
    "genes measured in the dataset:"
   ]
  },
  {
   "cell_type": "code",
   "execution_count": null,
   "metadata": {},
   "outputs": [],
   "source": [
    "presence_matrix = cellxgene_census.get_presence_matrix(\n",
    "    census, organism=human, measurement_name=rna\n",
    ")\n",
    "var_joinid = presence_matrix[dataset.soma_joinid, :].tocoo().col\n",
    "var = gene_metadata.loc[gene_metadata.soma_joinid.isin(var_joinid)]\n",
    "print(var.shape)\n",
    "\n",
    "feature_set_var = ln.FeatureSet.from_values(\n",
    "    var.feature_id,\n",
    "    lb.Gene.ensembl_gene_id,\n",
    "    type=\"number\",\n",
    ")\n",
    "feature_sets[\"var\"] = feature_set_var"
   ]
  },
  {
   "cell_type": "code",
   "execution_count": null,
   "metadata": {},
   "outputs": [],
   "source": [
    "file._feature_sets = feature_sets\n",
    "file.save()"
   ]
  },
  {
   "cell_type": "code",
   "execution_count": null,
   "metadata": {},
   "outputs": [],
   "source": [
    "file.feature_sets.df()"
   ]
  },
  {
   "cell_type": "code",
   "execution_count": null,
   "metadata": {},
   "outputs": [],
   "source": [
    "for feature in feature_set_obs.members:\n",
    "    if feature.type == \"category\":\n",
    "        file.labels.add(obs[feature.name], feature)"
   ]
  },
  {
   "cell_type": "code",
   "execution_count": null,
   "metadata": {},
   "outputs": [],
   "source": [
    "file.describe()"
   ]
  },
  {
   "cell_type": "code",
   "execution_count": null,
   "metadata": {},
   "outputs": [],
   "source": [
    "census.close()"
   ]
  }
 ],
 "metadata": {
  "kernelspec": {
   "display_name": "py39",
   "language": "python",
   "name": "python3"
  },
  "language_info": {
   "codemirror_mode": {
    "name": "ipython",
    "version": 3
   },
   "file_extension": ".py",
   "mimetype": "text/x-python",
   "name": "python",
   "nbconvert_exporter": "python",
   "pygments_lexer": "ipython3",
   "version": "3.9.16"
  },
  "nbproject": {
   "id": "gtphmzTiG8wM",
   "parent": null,
   "pypackage": null,
   "time_init": "2023-09-09T11:54:20.457608+00:00",
   "user_handle": "sunnyosun",
   "user_id": "kmvZDIX9",
   "user_name": "Sunny Sun",
   "version": "0"
  }
 },
 "nbformat": 4,
 "nbformat_minor": 2
}
