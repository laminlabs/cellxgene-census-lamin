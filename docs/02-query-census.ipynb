{
 "cells": [
  {
   "cell_type": "markdown",
   "metadata": {},
   "source": [
    "# Query cellxgene-census using TileDB-SOMA"
   ]
  },
  {
   "cell_type": "markdown",
   "metadata": {},
   "source": [
    "The [first guide](cellxgene-census) queried metadata and h5ad files directly through LaminDB.\n",
    "\n",
    "This guide uses the TileDB-SOMA API to run similar queries."
   ]
  },
  {
   "cell_type": "markdown",
   "metadata": {},
   "source": [
    "## Setup"
   ]
  },
  {
   "cell_type": "markdown",
   "metadata": {},
   "source": [
    "Load your LaminDB instance for storing queried data:"
   ]
  },
  {
   "cell_type": "code",
   "execution_count": null,
   "metadata": {},
   "outputs": [],
   "source": [
    "!lamin load test-cellxgene"
   ]
  },
  {
   "cell_type": "code",
   "execution_count": null,
   "metadata": {},
   "outputs": [],
   "source": [
    "import lamindb as ln\n",
    "import lnschema_bionty as lb\n",
    "import cellxgene_census\n",
    "\n",
    "census_version = \"2023-07-25\""
   ]
  },
  {
   "cell_type": "markdown",
   "metadata": {},
   "source": [
    "## Create lookup objects\n",
    "\n",
    "We use metadata records in the `laminlabs/cellxgene-census` instance to generate lookups:"
   ]
  },
  {
   "cell_type": "code",
   "execution_count": null,
   "metadata": {},
   "outputs": [],
   "source": [
    "source = \"laminlabs/cellxgene\"\n",
    "\n",
    "organisms = lb.Organism.using(source).lookup(return_field=\"scientific_name\")\n",
    "features = ln.Feature.using(source).lookup(return_field=\"name\")\n",
    "assays = lb.ExperimentalFactor.using(source).lookup(return_field=\"name\")\n",
    "cell_types = lb.CellType.using(source).lookup(return_field=\"name\")\n",
    "tissues = lb.Tissue.using(source).lookup(return_field=\"name\")\n",
    "ulabels = ln.ULabel.using(source).lookup()\n",
    "suspension_types = ulabels.is_suspension_type.children.all().lookup(return_field=\"name\")"
   ]
  },
  {
   "cell_type": "markdown",
   "metadata": {},
   "source": [
    "## Query data"
   ]
  },
  {
   "cell_type": "code",
   "execution_count": null,
   "metadata": {},
   "outputs": [],
   "source": [
    "value_filter = (\n",
    "    f'{features.tissue} == \"{tissues.brain}\" and {features.cell_type} in'\n",
    "    f' [\"{cell_types.microglial_cell}\", \"{cell_types.neuron}\"] and'\n",
    "    f' {features.suspension_type} == \"{suspension_types.cell}\" and {features.assay} =='\n",
    "    f' \"{assays.ln_10x_3_v3}\"'\n",
    ")"
   ]
  },
  {
   "cell_type": "code",
   "execution_count": null,
   "metadata": {},
   "outputs": [],
   "source": [
    "value_filter"
   ]
  },
  {
   "cell_type": "code",
   "execution_count": null,
   "metadata": {},
   "outputs": [],
   "source": [
    "%%time\n",
    "\n",
    "with cellxgene_census.open_soma(census_version=census_version) as census:\n",
    "    # Reads SOMADataFrame as a slice\n",
    "    cell_metadata = census[\"census_data\"][organisms.human].obs.read(\n",
    "        value_filter=value_filter\n",
    "    )\n",
    "\n",
    "    # Concatenates results to pyarrow.Table\n",
    "    cell_metadata = cell_metadata.concat()\n",
    "\n",
    "    # Converts to pandas.DataFrame\n",
    "    cell_metadata = cell_metadata.to_pandas()"
   ]
  },
  {
   "cell_type": "code",
   "execution_count": null,
   "metadata": {},
   "outputs": [],
   "source": [
    "cell_metadata.shape"
   ]
  },
  {
   "cell_type": "code",
   "execution_count": null,
   "metadata": {},
   "outputs": [],
   "source": [
    "cell_metadata.head()"
   ]
  },
  {
   "cell_type": "markdown",
   "metadata": {},
   "source": [
    "## Create AnnData"
   ]
  },
  {
   "cell_type": "code",
   "execution_count": null,
   "metadata": {},
   "outputs": [],
   "source": [
    "%%time\n",
    "\n",
    "with cellxgene_census.open_soma(census_version=census_version) as census:\n",
    "    adata = cellxgene_census.get_anndata(\n",
    "        census=census,\n",
    "        organism=organisms.human,\n",
    "        obs_value_filter=value_filter,\n",
    "        column_names={\n",
    "            \"obs\": [\n",
    "                features.assay,\n",
    "                features.assay_ontology_term_id,\n",
    "                features.cell_type,\n",
    "                features.cell_type_ontology_term_id,\n",
    "                features.tissue,\n",
    "                features.tissue_ontology_term_id,\n",
    "                features.disease,\n",
    "                features.disease_ontology_term_id,\n",
    "                features.suspension_type,\n",
    "            ]\n",
    "        },\n",
    "    )"
   ]
  },
  {
   "cell_type": "code",
   "execution_count": null,
   "metadata": {},
   "outputs": [],
   "source": [
    "adata.var = adata.var.set_index(\"feature_id\")"
   ]
  },
  {
   "cell_type": "code",
   "execution_count": null,
   "metadata": {},
   "outputs": [],
   "source": [
    "adata"
   ]
  },
  {
   "cell_type": "code",
   "execution_count": null,
   "metadata": {},
   "outputs": [],
   "source": [
    "adata.var.head()"
   ]
  },
  {
   "cell_type": "code",
   "execution_count": null,
   "metadata": {},
   "outputs": [],
   "source": [
    "adata.obs.head()"
   ]
  },
  {
   "cell_type": "markdown",
   "metadata": {},
   "source": [
    "## Register the queried AnnData"
   ]
  },
  {
   "cell_type": "code",
   "execution_count": null,
   "metadata": {},
   "outputs": [],
   "source": [
    "ln.track()"
   ]
  },
  {
   "cell_type": "markdown",
   "metadata": {},
   "source": [
    "Register the `AnnData` object:"
   ]
  },
  {
   "cell_type": "code",
   "execution_count": null,
   "metadata": {},
   "outputs": [],
   "source": [
    "lb.settings.organism = \"human\"\n",
    "features = ln.Feature.lookup().dict()"
   ]
  },
  {
   "cell_type": "code",
   "execution_count": null,
   "metadata": {},
   "outputs": [],
   "source": [
    "file = ln.File.from_anndata(\n",
    "    adata,\n",
    "    description=(\n",
    "        \"microglial and neuron cell data from 10x 3' v3 in brain queried from Census\"\n",
    "    ),\n",
    "    field=lb.Gene.ensembl_gene_id,\n",
    ")"
   ]
  },
  {
   "cell_type": "code",
   "execution_count": null,
   "metadata": {},
   "outputs": [],
   "source": [
    "file.save()"
   ]
  },
  {
   "cell_type": "markdown",
   "metadata": {},
   "source": [
    "Link validated metadata:"
   ]
  },
  {
   "cell_type": "code",
   "execution_count": null,
   "metadata": {},
   "outputs": [],
   "source": [
    "for col in adata.obs.columns:\n",
    "    if not col.endswith(\"ontology_term_id\"):\n",
    "        file.labels.add(adata.obs[col], features.get(col))"
   ]
  },
  {
   "cell_type": "code",
   "execution_count": null,
   "metadata": {},
   "outputs": [],
   "source": [
    "file.describe()"
   ]
  },
  {
   "cell_type": "code",
   "execution_count": null,
   "metadata": {},
   "outputs": [],
   "source": [
    "file.view_flow()"
   ]
  },
  {
   "cell_type": "code",
   "execution_count": null,
   "metadata": {},
   "outputs": [],
   "source": [
    "# clean up test instance\n",
    "!lamin delete --force test-cellxgene\n",
    "!rm -r ./test-cellxgene"
   ]
  }
 ],
 "metadata": {
  "kernelspec": {
   "display_name": "py39",
   "language": "python",
   "name": "python3"
  },
  "language_info": {
   "codemirror_mode": {
    "name": "ipython",
    "version": 3
   },
   "file_extension": ".py",
   "mimetype": "text/x-python",
   "name": "python",
   "nbconvert_exporter": "python",
   "pygments_lexer": "ipython3",
   "version": "3.9.16"
  },
  "nbproject": {
   "id": "6oq3VJy5yxIU",
   "parent": null,
   "pypackage": null,
   "time_init": "2023-10-20T10:11:29.463150+00:00",
   "user_handle": null,
   "user_id": null,
   "user_name": null,
   "version": "0"
  }
 },
 "nbformat": 4,
 "nbformat_minor": 2
}
