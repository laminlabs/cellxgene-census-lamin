{
 "cells": [
  {
   "cell_type": "markdown",
   "id": "7f26a335-cf1c-4e69-be3b-0c26b154606a",
   "metadata": {},
   "source": [
    "# Query cellxgene-census"
   ]
  },
  {
   "cell_type": "code",
   "execution_count": null,
   "id": "d74e133a",
   "metadata": {},
   "outputs": [],
   "source": [
    "import lamindb as ln\n",
    "import lnschema_bionty as lb\n",
    "import cellxgene_census"
   ]
  },
  {
   "cell_type": "code",
   "execution_count": null,
   "id": "52307011",
   "metadata": {},
   "outputs": [],
   "source": [
    "lb.settings.species = \"human\"\n",
    "species = lb.settings.species.scientific_name"
   ]
  },
  {
   "cell_type": "code",
   "execution_count": null,
   "id": "03a900a1",
   "metadata": {},
   "outputs": [],
   "source": [
    "ln.track()"
   ]
  },
  {
   "cell_type": "markdown",
   "id": "87f70886",
   "metadata": {},
   "source": [
    "## Query datasets by metadata"
   ]
  },
  {
   "cell_type": "code",
   "execution_count": null,
   "id": "9558c57b",
   "metadata": {},
   "outputs": [],
   "source": [
    "modalities = ln.Modality.lookup()\n",
    "features = ln.Feature.lookup(return_field=ln.Feature.name)\n",
    "assays = lb.ExperimentalFactor.lookup(return_field=lb.ExperimentalFactor.name)\n",
    "cell_types = lb.CellType.lookup(return_field=lb.CellType.name)\n",
    "tissues = lb.Tissue.lookup(return_field=lb.Tissue.name)\n",
    "diseases = lb.Disease.lookup(return_field=lb.Disease.name)\n",
    "ulabels = ln.ULabel.lookup()\n",
    "suspension_types = ulabels.is_suspension_type.children.all().lookup(\n",
    "    return_field=ln.ULabel.name\n",
    ")"
   ]
  },
  {
   "cell_type": "code",
   "execution_count": null,
   "id": "e3069a6d",
   "metadata": {},
   "outputs": [],
   "source": [
    "value_filter = (\n",
    "    f'{features.tissue} == \"{tissues.brain}\" and {features.cell_type} in'\n",
    "    f' [\"{cell_types.microglial_cell}\", \"{cell_types.neuron}\"] and'\n",
    "    f' {features.suspension_type} == \"{suspension_types.cell}\" and {features.assay} =='\n",
    "    f' \"{assays.ln_10x_3_v3}\"'\n",
    ")"
   ]
  },
  {
   "cell_type": "code",
   "execution_count": null,
   "id": "0902c443",
   "metadata": {},
   "outputs": [],
   "source": [
    "value_filter"
   ]
  },
  {
   "cell_type": "code",
   "execution_count": null,
   "id": "30a8f66b",
   "metadata": {},
   "outputs": [],
   "source": [
    "with cellxgene_census.open_soma() as census:\n",
    "    # Reads SOMADataFrame as a slice\n",
    "    cell_metadata = census[\"census_data\"][species].obs.read(value_filter=value_filter)\n",
    "\n",
    "    # Concatenates results to pyarrow.Table\n",
    "    cell_metadata = cell_metadata.concat()\n",
    "\n",
    "    # Converts to pandas.DataFrame\n",
    "    cell_metadata = cell_metadata.to_pandas()"
   ]
  },
  {
   "cell_type": "code",
   "execution_count": null,
   "id": "2e7a2b0b",
   "metadata": {},
   "outputs": [],
   "source": [
    "cell_metadata.shape"
   ]
  },
  {
   "cell_type": "code",
   "execution_count": null,
   "id": "ee7a3527",
   "metadata": {},
   "outputs": [],
   "source": [
    "cell_metadata.head()"
   ]
  },
  {
   "cell_type": "code",
   "execution_count": null,
   "id": "959c1911",
   "metadata": {},
   "outputs": [],
   "source": [
    "cell_metadata[\"dataset_id\"].value_counts()"
   ]
  },
  {
   "cell_type": "markdown",
   "id": "dfde8f87",
   "metadata": {},
   "source": [
    "## Fetch the AnnData based on filters"
   ]
  },
  {
   "cell_type": "code",
   "execution_count": null,
   "id": "7ee6a005",
   "metadata": {},
   "outputs": [],
   "source": [
    "with cellxgene_census.open_soma() as census:\n",
    "    adata = cellxgene_census.get_anndata(\n",
    "        census=census,\n",
    "        organism=species,\n",
    "        obs_value_filter=value_filter,\n",
    "        column_names={\n",
    "            \"obs\": [\n",
    "                features.assay,\n",
    "                features.assay_ontology_term_id,\n",
    "                features.cell_type,\n",
    "                features.cell_type_ontology_term_id,\n",
    "                features.tissue,\n",
    "                features.tissue_ontology_term_id,\n",
    "                features.disease,\n",
    "                features.disease_ontology_term_id,\n",
    "                features.suspension_type,\n",
    "            ]\n",
    "        },\n",
    "    )"
   ]
  },
  {
   "cell_type": "code",
   "execution_count": null,
   "id": "8bd1707c",
   "metadata": {},
   "outputs": [],
   "source": [
    "adata.var = adata.var.set_index(\"feature_id\")"
   ]
  },
  {
   "cell_type": "code",
   "execution_count": null,
   "id": "dd203d7e",
   "metadata": {},
   "outputs": [],
   "source": [
    "adata"
   ]
  },
  {
   "cell_type": "code",
   "execution_count": null,
   "id": "26cbb7f2",
   "metadata": {},
   "outputs": [],
   "source": [
    "adata.var.head()"
   ]
  },
  {
   "cell_type": "code",
   "execution_count": null,
   "id": "1210c3c2",
   "metadata": {},
   "outputs": [],
   "source": [
    "adata.obs.head()"
   ]
  },
  {
   "cell_type": "markdown",
   "id": "af9a97ab",
   "metadata": {},
   "source": [
    "## Register the queried data"
   ]
  },
  {
   "cell_type": "markdown",
   "id": "ff1189ed",
   "metadata": {},
   "source": [
    "Register `AnnData`:"
   ]
  },
  {
   "cell_type": "code",
   "execution_count": null,
   "id": "4bacc0d4",
   "metadata": {},
   "outputs": [],
   "source": [
    "file = ln.File.from_anndata(\n",
    "    adata,\n",
    "    description=(\n",
    "        \"microglial and neuron cell data from 10x 3' v3 in brain queried from Census\"\n",
    "    ),\n",
    "    field=lb.Gene.ensembl_gene_id,\n",
    "    modality=modalities.rna,\n",
    ")"
   ]
  },
  {
   "cell_type": "code",
   "execution_count": null,
   "id": "735de862",
   "metadata": {},
   "outputs": [],
   "source": [
    "file.save()"
   ]
  },
  {
   "cell_type": "markdown",
   "id": "2c01d4d9",
   "metadata": {},
   "source": [
    "Link validated metadata:"
   ]
  },
  {
   "cell_type": "code",
   "execution_count": null,
   "id": "18d6fda0",
   "metadata": {},
   "outputs": [],
   "source": [
    "for col in adata.obs.columns:\n",
    "    if not col.endswith(\"ontology_term_id\"):\n",
    "        feature = ln.Feature.filter(name=col).one()\n",
    "        file.labels.add(adata.obs[col], feature)"
   ]
  },
  {
   "cell_type": "code",
   "execution_count": null,
   "id": "4d49ff3a",
   "metadata": {},
   "outputs": [],
   "source": [
    "file.describe()"
   ]
  },
  {
   "cell_type": "code",
   "execution_count": null,
   "id": "c70d37e0",
   "metadata": {
    "tags": [
     "hide-output"
    ]
   },
   "outputs": [],
   "source": [
    "# clean up test instance\n",
    "!lamin delete --force test-census\n",
    "!rm -r ./test-census"
   ]
  }
 ],
 "metadata": {
  "kernelspec": {
   "display_name": "Python 3 (ipykernel)",
   "language": "python",
   "name": "python3"
  },
  "language_info": {
   "codemirror_mode": {
    "name": "ipython",
    "version": 3
   },
   "file_extension": ".py",
   "mimetype": "text/x-python",
   "name": "python",
   "nbconvert_exporter": "python",
   "pygments_lexer": "ipython3",
   "version": "3.9.16"
  },
  "nbproject": {
   "id": "5FUyJ6RkVk0D",
   "parent": null,
   "pypackage": null,
   "time_init": "2023-09-05T14:45:21.919899+00:00",
   "user_handle": "sunnyosun",
   "user_id": "kmvZDIX9",
   "user_name": "Sunny Sun",
   "version": "0"
  }
 },
 "nbformat": 4,
 "nbformat_minor": 5
}
