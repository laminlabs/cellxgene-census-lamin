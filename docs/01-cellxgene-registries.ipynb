{
 "cells": [
  {
   "cell_type": "markdown",
   "metadata": {},
   "source": [
    "# Register the cellxgene metadata\n",
    "\n",
    "In this notebook, we show how to register all CELLxGENE datasets and metadata using LaminDB under 10min.\n",
    "\n",
    "Registered metadata can be readily used for querying, validating, annotating and integrating data, see {doc}`./cellxgene`.\n",
    "\n",
    "For background, see [CELLxGENE Discover API](https://api.cellxgene.cziscience.com/curation/ui/#/), [cellxgene-census tutorials](https://chanzuckerberg.github.io/cellxgene-census/notebooks/api_demo/census_query_extract.html)."
   ]
  },
  {
   "cell_type": "markdown",
   "metadata": {},
   "source": [
    "## Setup"
   ]
  },
  {
   "cell_type": "code",
   "execution_count": null,
   "metadata": {
    "tags": [
     "hide-output"
    ]
   },
   "outputs": [],
   "source": [
    "!lamin init --storage ./test-cellxgene-registries --schema bionty"
   ]
  },
  {
   "cell_type": "code",
   "execution_count": null,
   "metadata": {},
   "outputs": [],
   "source": [
    "import lamindb as ln\n",
    "import bionty as bt\n",
    "import cellxgene_census\n",
    "import pandas as pd"
   ]
  },
  {
   "cell_type": "code",
   "execution_count": null,
   "metadata": {},
   "outputs": [],
   "source": [
    "ln.track()"
   ]
  },
  {
   "cell_type": "markdown",
   "metadata": {},
   "source": [
    "## Register datasets"
   ]
  },
  {
   "cell_type": "code",
   "execution_count": null,
   "metadata": {},
   "outputs": [],
   "source": [
    "census_version = \"2023-07-25\"  # LTS release of Census"
   ]
  },
  {
   "cell_type": "markdown",
   "metadata": {},
   "source": [
    "Get the h5ad artifacts directory on s3 from Census:"
   ]
  },
  {
   "cell_type": "code",
   "execution_count": null,
   "metadata": {},
   "outputs": [],
   "source": [
    "h5ad_dir = (\n",
    "    cellxgene_census.get_census_version_directory()\n",
    "    .get(\"stable\")\n",
    "    .get(\"h5ads\")\n",
    "    .get(\"uri\")\n",
    ")\n",
    "h5ad_dir"
   ]
  },
  {
   "cell_type": "code",
   "execution_count": null,
   "metadata": {},
   "outputs": [],
   "source": [
    "ln.UPath(\"s3://cellxgene-data-public/cell-census/2023-07-25/h5ads\").view_tree()"
   ]
  },
  {
   "cell_type": "code",
   "execution_count": null,
   "metadata": {},
   "outputs": [],
   "source": [
    "artifacts = ln.Artifact.from_dir(\n",
    "    \"s3://cellxgene-data-public/cell-census/2023-07-25/h5ads\"\n",
    ")\n",
    "ln.save(artifacts)"
   ]
  },
  {
   "cell_type": "code",
   "execution_count": null,
   "metadata": {},
   "outputs": [],
   "source": [
    "collection = ln.Collection(artifacts, name=\"cellxgene-census\", version=census_version)\n",
    "collection.save()"
   ]
  },
  {
   "cell_type": "markdown",
   "metadata": {},
   "source": [
    "## Register metadata"
   ]
  },
  {
   "cell_type": "markdown",
   "metadata": {},
   "source": [
    "Get all datasets and associated metadata using cellxgene REST API:"
   ]
  },
  {
   "cell_type": "code",
   "execution_count": null,
   "metadata": {},
   "outputs": [],
   "source": [
    "import requests\n",
    "\n",
    "\n",
    "def get_metadata_from_cxg():\n",
    "    api_url_base = \"https://api.cellxgene.cziscience.com\"\n",
    "    datasets_path = \"/curation/v1/datasets\"\n",
    "    datasets_url = f\"{api_url_base}{datasets_path}\"\n",
    "    headers = {\"Content-Type\": \"application/json\"}\n",
    "    res = requests.get(url=datasets_url, headers=headers)\n",
    "    res.raise_for_status()\n",
    "    cellxgene_meta = res.json()\n",
    "    return cellxgene_meta"
   ]
  },
  {
   "cell_type": "code",
   "execution_count": null,
   "metadata": {},
   "outputs": [],
   "source": [
    "cellxgene_meta = get_metadata_from_cxg()\n",
    "len(cellxgene_meta)"
   ]
  },
  {
   "cell_type": "code",
   "execution_count": null,
   "metadata": {},
   "outputs": [],
   "source": [
    "cellxgene_meta[0].keys()"
   ]
  },
  {
   "cell_type": "markdown",
   "metadata": {},
   "source": [
    "### features"
   ]
  },
  {
   "cell_type": "code",
   "execution_count": null,
   "metadata": {},
   "outputs": [],
   "source": [
    "obs_features = {\n",
    "    \"assay\": \"bionty.ExperimentalFactor\",\n",
    "    \"cell_type\": \"bionty.CellType\",\n",
    "    \"development_stage\": \"bionty.DevelopmentalStage\",\n",
    "    \"disease\": \"bionty.Disease\",\n",
    "    \"donor_id\": \"core.ULabel\",\n",
    "    \"self_reported_ethnicity\": \"bionty.Ethnicity\",\n",
    "    \"sex\": \"bionty.Phenotype\",\n",
    "    \"suspension_type\": \"core.ULabel\",\n",
    "    \"tissue\": \"bionty.Tissue\",\n",
    "}\n",
    "\n",
    "obs_features_records = []\n",
    "for name, registry in obs_features.items():\n",
    "    record = ln.Feature(name=name, type=\"category\", registries=registry)\n",
    "    obs_features_records.append(record)\n",
    "ln.save(obs_features_records)\n",
    "obs_feature_set = ln.FeatureSet(features=obs_features_records, name=\"obs features\")\n",
    "obs_feature_set.save()\n",
    "obs_feature_set.artifacts.set(artifacts, through_defaults={\"slot\": \"obs\"})"
   ]
  },
  {
   "cell_type": "code",
   "execution_count": null,
   "metadata": {},
   "outputs": [],
   "source": [
    "ext_features = {\"organism\": \"bionty.Organism\", \"collection\": \"core.ULabel\"}\n",
    "\n",
    "ext_features_records = []\n",
    "for name, registry in ext_features.items():\n",
    "    record = ln.Feature(name=name, type=\"category\", registries=registry)\n",
    "    ext_features_records.append(record)\n",
    "ln.save(ext_features_records)\n",
    "ext_feature_set = ln.FeatureSet(features=ext_features_records, name=\"external features\")\n",
    "ext_feature_set.save()\n",
    "ext_feature_set.artifacts.set(artifacts, through_defaults={\"slot\": \"external\"})"
   ]
  },
  {
   "cell_type": "markdown",
   "metadata": {},
   "source": [
    "### collections, organisms"
   ]
  },
  {
   "cell_type": "markdown",
   "metadata": {},
   "source": [
    "Register collections:"
   ]
  },
  {
   "cell_type": "code",
   "execution_count": null,
   "metadata": {},
   "outputs": [],
   "source": [
    "is_collection = ln.ULabel(name=\"is_collection\")\n",
    "is_collection.save()\n",
    "\n",
    "collections_meta = set()\n",
    "for dataset_meta in cellxgene_meta:\n",
    "    collections_meta.add(\n",
    "        (\n",
    "            dataset_meta[\"collection_name\"],\n",
    "            dataset_meta[\"collection_doi\"],\n",
    "            dataset_meta[\"collection_id\"],\n",
    "        )\n",
    "    )\n",
    "\n",
    "collections_records = []\n",
    "for collection_name, collection_doi, collection_id in collections_meta:\n",
    "    cellxgene_collection = ln.ULabel(\n",
    "        name=collection_name,\n",
    "        description=collection_doi,\n",
    "        reference=collection_id,\n",
    "        reference_type=\"collection_id\",\n",
    "    )\n",
    "    collections_records.append(cellxgene_collection)\n",
    "ln.save(collections_records)\n",
    "is_collection.children.set(collections_records)"
   ]
  },
  {
   "cell_type": "markdown",
   "metadata": {},
   "source": [
    "Register organisms:"
   ]
  },
  {
   "cell_type": "code",
   "execution_count": null,
   "metadata": {},
   "outputs": [],
   "source": [
    "ncbitaxon_source = bt.PublicSource.filter(source=\"ncbitaxon\").one()\n",
    "\n",
    "organisms_meta = set()\n",
    "for dataset_meta in cellxgene_meta:\n",
    "    organisms_meta.update({i[\"ontology_term_id\"] for i in dataset_meta[\"organism\"]})\n",
    "\n",
    "organisms_records = bt.Organism.from_values(\n",
    "    organisms_meta, field=bt.Organism.ontology_id, public_source=ncbitaxon_source\n",
    ")\n",
    "# rename house mouse to mouse\n",
    "for r in organisms_records:\n",
    "    if r.name == \"house mouse\":\n",
    "        r.name = \"mouse\"\n",
    "ln.save(organisms_records, parents=False)"
   ]
  },
  {
   "cell_type": "markdown",
   "metadata": {},
   "source": [
    "Annotate artifacts with collections and organisms:"
   ]
  },
  {
   "cell_type": "code",
   "execution_count": null,
   "metadata": {},
   "outputs": [],
   "source": [
    "ext_features = ext_feature_set.members.lookup()\n",
    "artifacts = collection.artifacts.all()\n",
    "collections = is_collection.children.all()\n",
    "organisms = bt.Organism.filter().all()\n",
    "\n",
    "for dataset_meta in cellxgene_meta:\n",
    "    # get registered file record based on dataset_id\n",
    "    file = artifacts.filter(key__contains=dataset_meta[\"dataset_id\"]).one_or_none()\n",
    "    if file is None:\n",
    "        continue\n",
    "\n",
    "    # register collection\n",
    "    collection = ln.ULabel.filter(reference=dataset_meta[\"collection_id\"]).one()\n",
    "    file.labels.add(collection, feature=ext_features.collection)\n",
    "\n",
    "    # register organism\n",
    "    organism_ontology_ids = [i[\"ontology_term_id\"] for i in dataset_meta[\"organism\"]]\n",
    "    organism_records = bt.Organism.filter(ontology_id__in=organism_ontology_ids).list()\n",
    "    file.labels.add(organism_records, feature=ext_features.organism)"
   ]
  },
  {
   "cell_type": "markdown",
   "metadata": {},
   "source": [
    "### ontologies"
   ]
  },
  {
   "cell_type": "markdown",
   "metadata": {},
   "source": [
    "Register all ontology ids:"
   ]
  },
  {
   "cell_type": "code",
   "execution_count": null,
   "metadata": {},
   "outputs": [],
   "source": [
    "from typing import Optional\n",
    "from lnschema_bionty.models import Registry\n",
    "from lamindb.dev._feature_manager import get_accessor_by_orm\n",
    "\n",
    "obs_features_records = obs_feature_set.members.lookup()\n",
    "ACCESSORS = get_accessor_by_orm(ln.Artifact)\n",
    "FEATURE_TO_ACCESSOR = {}\n",
    "for name in obs_features.keys():\n",
    "    feature = getattr(obs_features_records, name)\n",
    "    accessor = ACCESSORS.get(feature.registries)\n",
    "    orm = getattr(ln.Artifact, accessor).field.model\n",
    "    # TODO: ulabels are defined in the Artifact model, improve this in LaminDB\n",
    "    if orm == ln.Artifact:\n",
    "        orm = getattr(ln.Artifact, accessor).field.related_model\n",
    "    FEATURE_TO_ACCESSOR[name] = (accessor, orm)\n",
    "\n",
    "\n",
    "def create_ontology_record_from_source(\n",
    "    ontology_id: str,\n",
    "    from_orm: Registry,\n",
    "    target_orm: Registry,\n",
    "    public_source: Optional[bt.PublicSource] = None,\n",
    "):\n",
    "    from_record = from_orm(ontology_id=ontology_id, public_source=public_source)\n",
    "    try:\n",
    "        target_record = target_orm(\n",
    "            name=from_record.name,\n",
    "            description=from_record.description,\n",
    "            ontology_id=from_record.ontology_id,\n",
    "            public_source_id=from_record.public_source_id,\n",
    "        )\n",
    "        return target_record\n",
    "    except Exception:\n",
    "        pass"
   ]
  },
  {
   "cell_type": "code",
   "execution_count": null,
   "metadata": {
    "tags": [
     "hide-output"
    ]
   },
   "outputs": [],
   "source": [
    "# add parents for several cell types here for CI\n",
    "bt.CellType(ontology_id=\"CL:0000911\").save()\n",
    "bt.CellType(ontology_id=\"CL:0000910\").save()\n",
    "bt.CellType(ontology_id=\"CL:0001044\").save()\n",
    "bt.CellType(ontology_id=\"CL:0001050\").save()\n",
    "bt.CellType(ontology_id=\"CL:0011025\").save()"
   ]
  },
  {
   "cell_type": "code",
   "execution_count": null,
   "metadata": {
    "tags": [
     "hide-output"
    ]
   },
   "outputs": [],
   "source": [
    "ln.settings.upon_create_search_names = False\n",
    "\n",
    "ontology_ids = {}\n",
    "for name in obs_features.keys():\n",
    "    if name in [\"donor_id\", \"suspension_type\"]:\n",
    "        continue\n",
    "    allids = set()\n",
    "    for i in cellxgene_meta:\n",
    "        if name in i:\n",
    "            allids.update([(j[\"label\"], j[\"ontology_term_id\"]) for j in i[name]])\n",
    "\n",
    "    ontology_ids[name] = allids\n",
    "\n",
    "public_source_ds_mouse = bt.PublicSource.filter(\n",
    "    entity=\"DevelopmentalStage\", organism=\"mouse\"\n",
    ").one()\n",
    "public_source_pato = bt.PublicSource.filter(source=\"pato\").one()\n",
    "\n",
    "# register all ontology ids\n",
    "for name, terms in ontology_ids.items():\n",
    "    print(f\"registering {name}\")\n",
    "    accessor, orm = FEATURE_TO_ACCESSOR.get(name)\n",
    "    terms_ids = [i[1] for i in terms]\n",
    "    records = orm.from_values(terms_ids, field=\"ontology_id\")\n",
    "    if len(records) > 0:\n",
    "        ln.save(records, parents=False)  # not saving parents for CI\n",
    "    inspect_result = orm.inspect(terms_ids, field=\"ontology_id\", mute=True)\n",
    "    if len(inspect_result.non_validated) > 0:\n",
    "        if name == \"development_stage\":\n",
    "            records = orm.from_values(\n",
    "                inspect_result.non_validated,\n",
    "                field=\"ontology_id\",\n",
    "                public_source=public_source_ds_mouse,\n",
    "            )\n",
    "            records += [\n",
    "                create_ontology_record_from_source(\n",
    "                    ontology_id=term_id, from_orm=bt.Tissue, target_orm=orm\n",
    "                )\n",
    "                for term_id in inspect_result.non_validated\n",
    "                if term_id.startswith(\"UBERON:\")\n",
    "            ]\n",
    "            records += [\n",
    "                orm(name=term_id, ontology_id=term_id)\n",
    "                for term_id in inspect_result.non_validated\n",
    "                if term_id == \"unknown\"\n",
    "            ]\n",
    "        else:\n",
    "            records = [\n",
    "                orm(name=term[0], ontology_id=term[1])\n",
    "                for term in terms\n",
    "                if not term[1].startswith(\"PATO:\")\n",
    "                and term[1] in inspect_result.non_validated\n",
    "            ]\n",
    "            records += [\n",
    "                create_ontology_record_from_source(\n",
    "                    ontology_id=term_id,\n",
    "                    from_orm=bt.Phenotype,\n",
    "                    target_orm=orm,\n",
    "                    public_source=public_source_pato,\n",
    "                )\n",
    "                for term_id in inspect_result.non_validated\n",
    "                if term_id.startswith(\"PATO:\")\n",
    "            ]\n",
    "\n",
    "        if len(records) > 0:\n",
    "            print(f\"registered {len(records)} records: {records}\")\n",
    "            ln.save(records, parents=False)  # not saving parents for CI"
   ]
  },
  {
   "cell_type": "markdown",
   "metadata": {},
   "source": [
    "### donors and suspension_types"
   ]
  },
  {
   "cell_type": "code",
   "execution_count": null,
   "metadata": {},
   "outputs": [],
   "source": [
    "donor_ids = set()\n",
    "suspension_types = set()\n",
    "\n",
    "for i in cellxgene_meta:\n",
    "    if \"donor_id\" in i:\n",
    "        donor_ids.update(i[\"donor_id\"])\n",
    "    if \"suspension_type\" in i:\n",
    "        suspension_types.update(i[\"suspension_type\"])\n",
    "\n",
    "is_donor = ln.ULabel(name=\"is_donor\", description=\"parent of donor ids\")\n",
    "is_donor.save()\n",
    "\n",
    "is_suspension_type = ln.ULabel(\n",
    "    name=\"is_suspension_type\", description=\"parent of suspension types\"\n",
    ")\n",
    "is_suspension_type.save()"
   ]
  },
  {
   "cell_type": "code",
   "execution_count": null,
   "metadata": {},
   "outputs": [],
   "source": [
    "donors = ln.ULabel.filter(name=\"is_donor\").one().children.all()\n",
    "result = donors.inspect(donor_ids, mute=True)\n",
    "new_donors = [ln.ULabel(name=name) for name in result.non_validated]\n",
    "ln.save(new_donors)\n",
    "is_donor = ln.ULabel.filter(name=\"is_donor\").one()\n",
    "is_donor.children.add(*new_donors)\n",
    "\n",
    "stypes = ln.ULabel.filter(name=\"is_suspension_type\").one().children.all()\n",
    "result = stypes.inspect(suspension_types, mute=True)\n",
    "new_stypes = [ln.ULabel(name=name) for name in result.non_validated]\n",
    "ln.save(new_stypes)\n",
    "is_suspension_type = ln.ULabel.filter(name=\"is_suspension_type\").one()\n",
    "is_suspension_type.children.add(*new_stypes)"
   ]
  },
  {
   "cell_type": "markdown",
   "metadata": {},
   "source": [
    "## Annotate artifacts with metadata"
   ]
  },
  {
   "cell_type": "code",
   "execution_count": null,
   "metadata": {
    "tags": [
     "hide-output"
    ]
   },
   "outputs": [],
   "source": [
    "features = ln.Feature.lookup()\n",
    "\n",
    "for idx, dataset_meta in enumerate(cellxgene_meta):\n",
    "    # only runs 1 file\n",
    "    if dataset_meta[\"dataset_id\"] == \"8f98c236-43f0-4dc4-985b-c304499f7b44\":\n",
    "        file = artifacts.filter(key__contains=dataset_meta[\"dataset_id\"]).one_or_none()\n",
    "        if file is None:\n",
    "            continue\n",
    "        for field, terms in dataset_meta.items():\n",
    "            if field not in FEATURE_TO_ACCESSOR:\n",
    "                continue\n",
    "            accessor, orm = FEATURE_TO_ACCESSOR.get(field)\n",
    "            if field in [\"donor_id\", \"suspension_type\"]:\n",
    "                records = orm.from_values(terms, field=\"name\")\n",
    "                if len(records) > 0:\n",
    "                    # stratify by feature so that link tables records are written\n",
    "                    file.labels.add(records, feature=getattr(features, field))\n",
    "            else:\n",
    "                records = orm.from_values(\n",
    "                    [i[\"ontology_term_id\"] for i in terms], field=\"ontology_id\"\n",
    "                )\n",
    "                if len(records) > 0:\n",
    "                    getattr(file, accessor).add(*records)"
   ]
  },
  {
   "cell_type": "markdown",
   "metadata": {},
   "source": [
    "## Validate and register genes"
   ]
  },
  {
   "cell_type": "code",
   "execution_count": null,
   "metadata": {},
   "outputs": [],
   "source": [
    "# register synthetic constructs as a new organism\n",
    "bt.Organism.from_public(\n",
    "    ontology_id=\"NCBITaxon:32630\", public_source=ncbitaxon_source\n",
    ").save(parents=False)\n",
    "\n",
    "# genes artifacts\n",
    "organisms = bt.Organism.lookup(field=bt.Organism.scientific_name)\n",
    "genes_files = {\n",
    "    \"homo_sapiens\": \"https://github.com/chanzuckerberg/single-cell-curation/raw/main/cellxgene_schema_cli/cellxgene_schema/ontology_files/genes_homo_sapiens.csv.gz\",\n",
    "    \"mus_musculus\": \"https://github.com/chanzuckerberg/single-cell-curation/raw/main/cellxgene_schema_cli/cellxgene_schema/ontology_files/genes_mus_musculus.csv.gz\",\n",
    "    \"synthetic_construct\": \"https://github.com/chanzuckerberg/single-cell-curation/raw/main/cellxgene_schema_cli/cellxgene_schema/ontology_files/genes_ercc.csv.gz\",\n",
    "}"
   ]
  },
  {
   "cell_type": "markdown",
   "metadata": {},
   "source": [
    "Register all genes for each organism:"
   ]
  },
  {
   "cell_type": "code",
   "execution_count": null,
   "metadata": {},
   "outputs": [],
   "source": [
    "for organism_name, genes_file in genes_files.items():\n",
    "    print(f\"registering {organism_name} genes\")\n",
    "    df = pd.read_csv(genes_file, header=None, index_col=0)\n",
    "    organism_record = getattr(organisms, organism_name)\n",
    "    gene_records = bt.Gene.from_values(\n",
    "        df.index, field=bt.Gene.ensembl_gene_id, organism=organism_record\n",
    "    )\n",
    "    ln.save(gene_records)\n",
    "    validated = bt.Gene.validate(\n",
    "        df.index, field=bt.Gene.ensembl_gene_id, organism=organism_record\n",
    "    )\n",
    "    # register legacy genes manually\n",
    "    new_records = []\n",
    "    for gene_id in df.index[~validated]:\n",
    "        new_records.append(\n",
    "            bt.Gene(\n",
    "                ensembl_gene_id=gene_id,\n",
    "                symbol=df.loc[gene_id][1],\n",
    "                organism=organism_record,\n",
    "            )\n",
    "        )\n",
    "    ln.save(new_records)\n",
    "\n",
    "    genes_feature_set = ln.FeatureSet(\n",
    "        features=gene_records + new_records, name=f\"all {organism_record.name} genes\"\n",
    "    )\n",
    "    genes_feature_set.save()"
   ]
  },
  {
   "cell_type": "markdown",
   "metadata": {},
   "source": [
    "## Link metadata to individual artifacts"
   ]
  },
  {
   "cell_type": "markdown",
   "metadata": {},
   "source": [
    "Here we show how to link a file to its validated metadata records:"
   ]
  },
  {
   "cell_type": "code",
   "execution_count": null,
   "metadata": {},
   "outputs": [],
   "source": [
    "# take the file corresponds to a dataset\n",
    "file = artifacts.filter(key__contains=\"8f98c236-43f0-4dc4-985b-c304499f7b44.h5ad\").one()\n",
    "feature_sets = {}"
   ]
  },
  {
   "cell_type": "markdown",
   "metadata": {},
   "source": [
    "genes measured in the dataset:"
   ]
  },
  {
   "cell_type": "code",
   "execution_count": null,
   "metadata": {},
   "outputs": [],
   "source": [
    "adata_backed = file.backed()\n",
    "var_names = adata_backed.var_names\n",
    "genes = bt.Gene.from_values(\n",
    "    var_names, field=bt.Gene.ensembl_gene_id, organism=file.organism.first()\n",
    ")\n",
    "\n",
    "if len(var_names[var_names.str.startswith(\"ERCC\")]) > 0:\n",
    "    genes += bt.Gene.from_values(\n",
    "        var_names, field=bt.Gene.ensembl_gene_id, organism=organisms.synthetic_construct\n",
    "    )\n",
    "\n",
    "var_feature_set_file = ln.FeatureSet(genes, type=\"number\")\n",
    "var_feature_set_file.save()\n",
    "file.feature_sets.add(var_feature_set_file, through_defaults={\"slot\": \"var\"})"
   ]
  },
  {
   "cell_type": "code",
   "execution_count": null,
   "metadata": {},
   "outputs": [],
   "source": [
    "file.describe()"
   ]
  },
  {
   "cell_type": "code",
   "execution_count": null,
   "metadata": {
    "tags": [
     "hide-output"
    ]
   },
   "outputs": [],
   "source": [
    "# clean up test instance\n",
    "!lamin delete --force test-cellxgene-registries\n",
    "!rm -r ./test-cellxgene-registries"
   ]
  }
 ],
 "metadata": {
  "kernelspec": {
   "display_name": "py39",
   "language": "python",
   "name": "python3"
  },
  "language_info": {
   "codemirror_mode": {
    "name": "ipython",
    "version": 3
   },
   "file_extension": ".py",
   "mimetype": "text/x-python",
   "name": "python",
   "nbconvert_exporter": "python",
   "pygments_lexer": "ipython3",
   "version": "3.9.16"
  },
  "nbproject": {
   "id": "gtphmzTiG8wM",
   "parent": null,
   "pypackage": null,
   "time_init": "2023-09-09T11:54:20.457608+00:00",
   "user_handle": "sunnyosun",
   "user_id": "kmvZDIX9",
   "user_name": "Sunny Sun",
   "version": "0"
  }
 },
 "nbformat": 4,
 "nbformat_minor": 2
}
