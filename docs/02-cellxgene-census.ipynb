{
 "cells": [
  {
   "cell_type": "markdown",
   "id": "7f26a335-cf1c-4e69-be3b-0c26b154606a",
   "metadata": {},
   "source": [
    "# cellxgene-census"
   ]
  },
  {
   "cell_type": "markdown",
   "id": "47b1fa7f",
   "metadata": {},
   "source": [
    "`cellxgene-census` is a Python client to query the concatenated cellxgene datasets.\n",
    "\n",
    "This notebook shows how to query registered h5ad files from metadata.\n",
    "\n",
    "For more background, see:\n",
    "\n",
    "- [CELLxGENE Census](https://chanzuckerberg.github.io/cellxgene-census/)\n",
    "- [TileDB-SOMA](https://github.com/single-cell-data/TileDB-SOMA)"
   ]
  },
  {
   "cell_type": "markdown",
   "id": "5dde5525",
   "metadata": {},
   "source": [
    "## Setup"
   ]
  },
  {
   "cell_type": "markdown",
   "id": "5a021883",
   "metadata": {},
   "source": [
    "\n",
    "\n",
    "First, load the public instance:"
   ]
  },
  {
   "cell_type": "markdown",
   "id": "f454bbcb",
   "metadata": {},
   "source": [
    "```bash\n",
    "lamin load laminlabs/cellxgene-census\n",
    "```"
   ]
  },
  {
   "cell_type": "code",
   "execution_count": null,
   "id": "d74e133a",
   "metadata": {},
   "outputs": [],
   "source": [
    "import lamindb as ln\n",
    "import lnschema_bionty as lb"
   ]
  },
  {
   "cell_type": "code",
   "execution_count": null,
   "id": "52307011",
   "metadata": {},
   "outputs": [],
   "source": [
    "lb.settings.organism = \"human\""
   ]
  },
  {
   "cell_type": "code",
   "execution_count": null,
   "id": "03a900a1",
   "metadata": {},
   "outputs": [],
   "source": [
    "ln.track()"
   ]
  },
  {
   "cell_type": "markdown",
   "id": "2bb8060e",
   "metadata": {},
   "source": [
    "## Search metadata"
   ]
  },
  {
   "cell_type": "code",
   "execution_count": null,
   "id": "84093aa9",
   "metadata": {},
   "outputs": [],
   "source": [
    "lb.CellType.search(\"effector Tcell\").head()"
   ]
  },
  {
   "cell_type": "code",
   "execution_count": null,
   "id": "9f5c1f0c",
   "metadata": {},
   "outputs": [],
   "source": [
    "ln.Transform.filter().df()"
   ]
  },
  {
   "cell_type": "markdown",
   "id": "b3da2a35",
   "metadata": {},
   "source": [
    "## Ontological hierarchies"
   ]
  },
  {
   "cell_type": "code",
   "execution_count": null,
   "id": "32a56d55",
   "metadata": {},
   "outputs": [],
   "source": [
    "teff = lb.CellType.filter(id=617).one()"
   ]
  },
  {
   "cell_type": "code",
   "execution_count": null,
   "id": "07937c21",
   "metadata": {},
   "outputs": [],
   "source": [
    "teff.view_parents(distance=2, with_children=True)"
   ]
  },
  {
   "cell_type": "code",
   "execution_count": null,
   "id": "1077892b",
   "metadata": {},
   "outputs": [],
   "source": [
    "teff.children.df()"
   ]
  },
  {
   "cell_type": "code",
   "execution_count": null,
   "id": "02798938",
   "metadata": {},
   "outputs": [],
   "source": [
    "teff_with_children = [teff.name] + teff.children.list(\"name\")"
   ]
  },
  {
   "cell_type": "markdown",
   "id": "87f70886",
   "metadata": {},
   "source": [
    "## Query `H5AD` files by metadata"
   ]
  },
  {
   "cell_type": "code",
   "execution_count": null,
   "id": "9558c57b",
   "metadata": {},
   "outputs": [],
   "source": [
    "features = ln.Feature.lookup()\n",
    "assays = lb.ExperimentalFactor.lookup()\n",
    "cell_types = lb.CellType.lookup()\n",
    "tissues = lb.Tissue.lookup()\n",
    "ulabels = ln.ULabel.lookup()\n",
    "suspension_types = ulabels.is_suspension_type.children.all().lookup()"
   ]
  },
  {
   "cell_type": "code",
   "execution_count": null,
   "id": "fa6437ee",
   "metadata": {},
   "outputs": [],
   "source": [
    "%%time\n",
    "\n",
    "ln.File.filter(\n",
    "    organism=lb.settings.organism,\n",
    "    cell_types__name__in=teff_with_children,\n",
    "    tissues=tissues.brain,\n",
    "    ulabels=suspension_types.cell,\n",
    "    experimental_factors=assays.ln_10x_3_v3,\n",
    ").distinct().df()"
   ]
  },
  {
   "cell_type": "markdown",
   "id": "2257b79b",
   "metadata": {},
   "source": [
    "## Access a queried `H5AD` file"
   ]
  },
  {
   "cell_type": "code",
   "execution_count": null,
   "id": "caab747d",
   "metadata": {},
   "outputs": [],
   "source": [
    "file = ln.File.filter(uid=\"uttAfutzAzJLIltepw1l\").one()\n",
    "file"
   ]
  },
  {
   "cell_type": "markdown",
   "id": "a5ba9adc",
   "metadata": {},
   "source": [
    "Optionally, query for a collection you found from https://cellxgene.cziscience.com/collections:\n",
    "\n",
    "```python\n",
    "ln.File.filter(ulabels__name__contains=\"Mapping single-cell transcriptomes in the intra-tumoral and associated territories of kidney cancer\").one()\n",
    "```\n",
    "\n",
    "Note that most recent collections may not have been added yet."
   ]
  },
  {
   "cell_type": "markdown",
   "id": "12ae5dd1",
   "metadata": {},
   "source": [
    "Describe all linked metadata:"
   ]
  },
  {
   "cell_type": "code",
   "execution_count": null,
   "id": "a79c1292",
   "metadata": {},
   "outputs": [],
   "source": [
    "file.describe()"
   ]
  },
  {
   "cell_type": "markdown",
   "id": "13be8b41",
   "metadata": {},
   "source": [
    "Check the corresponding collection/publication:"
   ]
  },
  {
   "cell_type": "code",
   "execution_count": null,
   "id": "41df0fb0",
   "metadata": {},
   "outputs": [],
   "source": [
    "collection = file.labels.get(features.collection).one()\n",
    "collection"
   ]
  },
  {
   "cell_type": "markdown",
   "id": "122bd432",
   "metadata": {},
   "source": [
    "```{tip}\n",
    "\n",
    "Use `dataset.backed()`, `dataset.stage()`, `dataset.load()` to access the underlying `h5ad` file.\n",
    "\n",
    "See {class}`~lamindb.Dataset` for details.\n",
    "```"
   ]
  },
  {
   "cell_type": "markdown",
   "id": "6bd94803",
   "metadata": {},
   "source": [
    "If you are interested in how the human part of the instance was created: see {doc}`census-registries`.\n",
    "\n",
    "If you are interested in querying from `cellxgene-census` using LaminDB registries: see {doc}`query-census`.\n",
    "\n",
    "If you want to see the full docs, see [here](https://cellxgene-census-lamin-c192.netlify.app/notebooks).\n",
    "\n",
    "```{toctree}\n",
    ":maxdepth: 1\n",
    ":hidden:\n",
    "\n",
    "census-registries\n",
    "query-census\n",
    "```"
   ]
  }
 ],
 "metadata": {
  "kernelspec": {
   "display_name": "Python 3 (ipykernel)",
   "language": "python",
   "name": "python3"
  },
  "language_info": {
   "codemirror_mode": {
    "name": "ipython",
    "version": 3
   },
   "file_extension": ".py",
   "mimetype": "text/x-python",
   "name": "python",
   "nbconvert_exporter": "python",
   "pygments_lexer": "ipython3",
   "version": "3.9.16"
  },
  "nbproject": {
   "id": "5FUyJ6RkVk0D",
   "parent": null,
   "pypackage": null,
   "time_init": "2023-09-05T14:45:21.919899+00:00",
   "user_handle": "sunnyosun",
   "user_id": "kmvZDIX9",
   "user_name": "Sunny Sun",
   "version": "0"
  }
 },
 "nbformat": 4,
 "nbformat_minor": 5
}
