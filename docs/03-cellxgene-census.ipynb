{
 "cells": [
  {
   "cell_type": "markdown",
   "id": "c71502b7",
   "metadata": {},
   "source": [
    "[![Jupyter Notebook](https://img.shields.io/badge/Jupyter%20Notebook-orange)](https://github.com/laminlabs/cellxgene-census-lamin/blob/main/docs/03-cellxgene-census.ipynb)\n",
    "[![census](https://img.shields.io/badge/laminlabs/cellxgene--census-mediumseagreen)](https://lamin.ai/laminlabs/cellxgene-census)"
   ]
  },
  {
   "cell_type": "markdown",
   "id": "7f26a335-cf1c-4e69-be3b-0c26b154606a",
   "metadata": {},
   "source": [
    "# CELLxGENE: scRNA-seq datasets"
   ]
  },
  {
   "cell_type": "markdown",
   "id": "47b1fa7f",
   "metadata": {},
   "source": [
    "[CELLxGENE Census](https://chanzuckerberg.github.io/cellxgene-census) is a versioned data release from [CZ CELLxGENE Discover](https://cellxgene.cziscience.com/) and a [TileDB-SOMA](https://github.com/single-cell-data/TileDB-SOMA) API to query it.\n",
    "\n",
    "LaminDB makes it easy to integrate the Census data with in-house data of any kind, from omics & phenotypic data, to pdfs, notebooks & ML models.\n",
    "\n",
    "You can use Census in three ways:\n",
    "\n",
    "1. In the current guide, you'll see how to query the data in `.h5ad` format by validated metadata.\n",
    "2. In the [transfer guide](docs:transfer), you'll see how to transfer data & metadata into your LaminDB instance.\n",
    "3. In the [SOMA guide](query-census), you'll see how to use LaminDB's registries to write SOMA queries with auto-complete.\n",
    "\n",
    "If you are interested in building on to Census or building similar data assets:\n",
    "\n",
    "1. See the [scRNA guide](docs:scrna) for how to create a growing versioned queryable scRNA-seq dataset.\n",
    "2. See the [validation](docs:validate) & [validator](docs:faq/validator) guides for how to validate & write validators based on ontologies.\n",
    "3. [Reach out](https://lamin.ai/contact) if you are interested in a full zero-copy clone of `laminlabs/cellxgene-census` to kick-start your in-house LaminDB instances. \n",
    "4. See the [registration guide](census-registries) for how the `laminlabs/cellxgene-census` instance was created.\n"
   ]
  },
  {
   "cell_type": "markdown",
   "id": "5dde5525",
   "metadata": {},
   "source": [
    "## Setup"
   ]
  },
  {
   "cell_type": "markdown",
   "id": "5a021883",
   "metadata": {},
   "source": [
    "Load the public LaminDB instance that mirrors cellxgene-census on the CLI:"
   ]
  },
  {
   "cell_type": "code",
   "execution_count": null,
   "id": "df1d93a7",
   "metadata": {},
   "outputs": [],
   "source": [
    "!lamin load laminlabs/cellxgene-census"
   ]
  },
  {
   "cell_type": "code",
   "execution_count": null,
   "id": "d74e133a",
   "metadata": {},
   "outputs": [],
   "source": [
    "import lamindb as ln\n",
    "import lnschema_bionty as lb"
   ]
  },
  {
   "cell_type": "markdown",
   "id": "2bb8060e",
   "metadata": {},
   "source": [
    "## Search & look up metadata"
   ]
  },
  {
   "cell_type": "markdown",
   "id": "d3c676db",
   "metadata": {},
   "source": [
    "Let us search for a cell type:"
   ]
  },
  {
   "cell_type": "code",
   "execution_count": null,
   "id": "84093aa9",
   "metadata": {},
   "outputs": [],
   "source": [
    "lb.CellType.search(\"effector T cell\").head()"
   ]
  },
  {
   "cell_type": "markdown",
   "id": "7dbed617",
   "metadata": {},
   "source": [
    "Let's use the persistent universal `uid` to access the metadata record:"
   ]
  },
  {
   "cell_type": "code",
   "execution_count": null,
   "id": "32a56d55",
   "metadata": {},
   "outputs": [],
   "source": [
    "t_eff = lb.CellType.filter(uid=\"yvHkIrVI\").one()"
   ]
  },
  {
   "cell_type": "code",
   "execution_count": null,
   "id": "4fec213d",
   "metadata": {},
   "outputs": [],
   "source": [
    "t_eff"
   ]
  },
  {
   "cell_type": "markdown",
   "id": "c380296b",
   "metadata": {},
   "source": [
    "Alternatively, we can use auto-complete based on a look-up object:\n",
    "\n",
    "\n",
    "<img src=\"https://lamin-site-assets.s3.amazonaws.com/.lamindb/lgRNHNtMxjU0y8nIagt7.png\" width=\"400px\">"
   ]
  },
  {
   "cell_type": "code",
   "execution_count": null,
   "id": "83069463",
   "metadata": {},
   "outputs": [],
   "source": [
    "cell_types = lb.CellType.lookup()\n",
    "cell_types.effector_t_cell"
   ]
  },
  {
   "cell_type": "markdown",
   "id": "c639e444",
   "metadata": {},
   "source": [
    "You can create look-up objects for any registry in LaminDB, including [basic biological entities](docs:lnschema-bionty) and things like users or storage locations.\n",
    "\n",
    "You can also arbitrarily combine queries & search results and convert them into lookups:"
   ]
  },
  {
   "cell_type": "code",
   "execution_count": null,
   "id": "eb81f096",
   "metadata": {},
   "outputs": [],
   "source": [
    "organisms = lb.Organism.lookup()\n",
    "genes = lb.Gene.filter(organism=organisms.human).lookup()  # just human genes\n",
    "features = ln.Feature.lookup()\n",
    "assays = lb.ExperimentalFactor.lookup()\n",
    "tissues = lb.Tissue.lookup()\n",
    "ulabels = ln.ULabel.lookup()\n",
    "suspension_types = ulabels.is_suspension_type.children.all().lookup()"
   ]
  },
  {
   "cell_type": "markdown",
   "id": "b3da2a35",
   "metadata": {},
   "source": [
    "## Understand ontologies"
   ]
  },
  {
   "cell_type": "markdown",
   "id": "0851981a",
   "metadata": {},
   "source": [
    "Understand the surrounding ontology terms: "
   ]
  },
  {
   "cell_type": "code",
   "execution_count": null,
   "id": "07937c21",
   "metadata": {},
   "outputs": [],
   "source": [
    "t_eff.view_parents(distance=2, with_children=True)"
   ]
  },
  {
   "cell_type": "markdown",
   "id": "d8b3d075",
   "metadata": {},
   "source": [
    "Or access them programmatically:"
   ]
  },
  {
   "cell_type": "code",
   "execution_count": null,
   "id": "1077892b",
   "metadata": {},
   "outputs": [],
   "source": [
    "t_eff.children.df()"
   ]
  },
  {
   "cell_type": "markdown",
   "id": "87f70886",
   "metadata": {},
   "source": [
    "## Query data"
   ]
  },
  {
   "cell_type": "markdown",
   "id": "c2384c0e",
   "metadata": {},
   "source": [
    "Unlike in the [SOMA guide](query-census), here, we'll query sets of `h5ad` files, which correspond to `AnnData` objects.\n",
    "\n",
    "To access them, we query the {class}`~lamindb.Dataset` record that links the latest versioned set of h5ad files:"
   ]
  },
  {
   "cell_type": "code",
   "execution_count": null,
   "id": "0884ba0a",
   "metadata": {},
   "outputs": [],
   "source": [
    "census_version = \"2023-07-25\"\n",
    "dataset = ln.Dataset.filter(name=\"cellxgene-census\", version=census_version).one()\n",
    "\n",
    "dataset"
   ]
  },
  {
   "cell_type": "markdown",
   "id": "16d0415a",
   "metadata": {},
   "source": [
    "(Dataset is an abstraction over different ways of storing datasets from array stores to file or path collections.)"
   ]
  },
  {
   "cell_type": "markdown",
   "id": "8fa78cce",
   "metadata": {},
   "source": [
    "You can get all linked files as a dataframe - there are 850 files in version `2023-07-25`."
   ]
  },
  {
   "cell_type": "code",
   "execution_count": null,
   "id": "bd413016",
   "metadata": {},
   "outputs": [],
   "source": [
    "dataset.files.df().head()"
   ]
  },
  {
   "cell_type": "markdown",
   "id": "9ef4133d",
   "metadata": {},
   "source": [
    "You can also query all files by arbitrary metadata combinations, for instance:"
   ]
  },
  {
   "cell_type": "code",
   "execution_count": null,
   "id": "fa6437ee",
   "metadata": {},
   "outputs": [],
   "source": [
    "query = (\n",
    "    dataset.files.filter(\n",
    "        organism=organisms.human,\n",
    "        cell_types__in=[cell_types.dendritic_cell, cell_types.neutrophil],\n",
    "        tissues=tissues.kidney,\n",
    "        ulabels=suspension_types.cell,\n",
    "        experimental_factors=assays.ln_10x_3_v2,\n",
    "    )\n",
    "    .order_by(\"size\")  # order by size\n",
    "    .distinct()  # drop duplicated query results\n",
    ")"
   ]
  },
  {
   "cell_type": "markdown",
   "id": "e248ae3d",
   "metadata": {},
   "source": [
    "Display query result as a `DataFrame`:"
   ]
  },
  {
   "cell_type": "code",
   "execution_count": null,
   "id": "1b444bad",
   "metadata": {},
   "outputs": [],
   "source": [
    "query.df()"
   ]
  },
  {
   "cell_type": "markdown",
   "id": "8299ecdc",
   "metadata": {},
   "source": [
    "Alternatively, \n",
    "\n",
    "- [you can search a file on the LaminHub UI](https://lamin.ai/laminlabs/cellxgene-census/records/core/File) and fetch it through: \n",
    "`ln.File.filter(uid=\"...\").one()`\n",
    "- or query for a collection you found on [CZ CELLxGENE Discover](https://cellxgene.cziscience.com/collections)"
   ]
  },
  {
   "cell_type": "markdown",
   "id": "19f32e23",
   "metadata": {},
   "source": [
    "Each collection is stored as a {class}`~lamindb.File` record with an underlying `h5ad` file:"
   ]
  },
  {
   "cell_type": "code",
   "execution_count": null,
   "id": "744ca3d8",
   "metadata": {},
   "outputs": [],
   "source": [
    "ln.File.filter(ulabels__name=\"Spatiotemporal immune zonation of the human kidney\").df()"
   ]
  },
  {
   "cell_type": "markdown",
   "id": "2257b79b",
   "metadata": {},
   "source": [
    "## Load data"
   ]
  },
  {
   "cell_type": "markdown",
   "id": "ff9ce04c",
   "metadata": {},
   "source": [
    "Access and describe an individual file:"
   ]
  },
  {
   "cell_type": "code",
   "execution_count": null,
   "id": "caab747d",
   "metadata": {},
   "outputs": [],
   "source": [
    "file = query.first()  # get the first file in the query result\n",
    "file.describe()"
   ]
  },
  {
   "cell_type": "markdown",
   "id": "df94cc45",
   "metadata": {},
   "source": [
    "You can also access its features alone:"
   ]
  },
  {
   "cell_type": "code",
   "execution_count": null,
   "id": "6dbb046e",
   "metadata": {},
   "outputs": [],
   "source": [
    "file.features"
   ]
  },
  {
   "cell_type": "markdown",
   "id": "717707b9",
   "metadata": {},
   "source": [
    "Or get labels given a feature:"
   ]
  },
  {
   "cell_type": "code",
   "execution_count": null,
   "id": "83ba2f9b",
   "metadata": {},
   "outputs": [],
   "source": [
    "file.labels.get(features.tissue).df()"
   ]
  },
  {
   "cell_type": "code",
   "execution_count": null,
   "id": "41df0fb0",
   "metadata": {},
   "outputs": [],
   "source": [
    "file.labels.get(features.collection).one()"
   ]
  },
  {
   "cell_type": "markdown",
   "id": "b0374173",
   "metadata": {},
   "source": [
    "If you're sure that you want to load these data, you have three options:\n",
    "1. Load them directly into memory via `file.load() -> AnnData`\n",
    "2. Stage them locally on disk `file.stage() -> Path`\n",
    "3. Access a backed object and stream data from the cloud `file.backed() -> AnnDataAccessor`\n",
    "\n",
    "All 3 options will run much faster if you run them close to the data (AWS S3 on the US West Coast, consider logging into hosted compute in that region)."
   ]
  },
  {
   "cell_type": "code",
   "execution_count": null,
   "id": "d1d21217",
   "metadata": {},
   "outputs": [],
   "source": [
    "file.backed()"
   ]
  },
  {
   "cell_type": "code",
   "execution_count": null,
   "id": "e11da9af",
   "metadata": {},
   "outputs": [],
   "source": [
    "file.load()"
   ]
  },
  {
   "cell_type": "markdown",
   "id": "6bd94803",
   "metadata": {},
   "source": [
    "```{toctree}\n",
    ":maxdepth: 1\n",
    ":hidden:\n",
    "\n",
    "census-registries\n",
    "query-census\n",
    "```"
   ]
  }
 ],
 "metadata": {
  "kernelspec": {
   "display_name": "Python 3 (ipykernel)",
   "language": "python",
   "name": "python3"
  },
  "language_info": {
   "codemirror_mode": {
    "name": "ipython",
    "version": 3
   },
   "file_extension": ".py",
   "mimetype": "text/x-python",
   "name": "python",
   "nbconvert_exporter": "python",
   "pygments_lexer": "ipython3",
   "version": "3.9.16"
  },
  "nbproject": {
   "id": "5FUyJ6RkVk0D",
   "parent": null,
   "pypackage": null,
   "time_init": "2023-09-05T14:45:21.919899+00:00",
   "user_handle": "sunnyosun",
   "user_id": "kmvZDIX9",
   "user_name": "Sunny Sun",
   "version": "0"
  }
 },
 "nbformat": 4,
 "nbformat_minor": 5
}
