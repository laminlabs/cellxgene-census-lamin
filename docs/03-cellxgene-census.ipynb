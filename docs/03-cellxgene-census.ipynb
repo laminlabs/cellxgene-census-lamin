{
 "cells": [
  {
   "cell_type": "markdown",
   "id": "c71502b7",
   "metadata": {},
   "source": [
    "[![Jupyter Notebook](https://img.shields.io/badge/Jupyter%20Notebook-orange)](https://github.com/laminlabs/cellxgene-census-lamin/blob/main/docs/03-cellxgene-census.ipynb)\n",
    "[![census](https://img.shields.io/badge/laminlabs/cellxgene--census-mediumseagreen)](https://lamin.ai/laminlabs/cellxgene-census)"
   ]
  },
  {
   "cell_type": "markdown",
   "id": "7f26a335-cf1c-4e69-be3b-0c26b154606a",
   "metadata": {},
   "source": [
    "# CELLxGENE: scRNA-seq datasets"
   ]
  },
  {
   "cell_type": "markdown",
   "id": "47b1fa7f",
   "metadata": {},
   "source": [
    "[CELLxGENE Census](https://chanzuckerberg.github.io/cellxgene-census) is a versioned data release from [CZ CELLxGENE Discover](https://cellxgene.cziscience.com/) and a [TileDB-SOMA](https://github.com/single-cell-data/TileDB-SOMA) API to query it.\n",
    "\n",
    "LaminDB makes it easy to integrate the Census data with in-house data of any kind, from omics & phenotypic data, to pdfs, notebooks & ML models.\n",
    "\n",
    "You can use Census in three ways:\n",
    "\n",
    "1. In the current guide, you'll see how to query the data in `.h5ad` format by validated metadata.\n",
    "2. In the [transfer guide](docs:transfer), you'll see how to transfer data & metadata into your LaminDB instance.\n",
    "3. In the [SOMA guide](query-census), you'll see how to use LaminDB's registries to write SOMA queries with auto-complete.\n",
    "\n",
    "If you are interested in building on to Census or building similar data assets:\n",
    "\n",
    "1. See the [scRNA guide](docs:scrna) for how to create a growing versioned queryable scRNA-seq dataset.\n",
    "2. See the [validation](docs:validate) & [validator](docs:faq/validator) guides for how to validate & write validators based on ontologies.\n",
    "3. [Reach out](https://lamin.ai/contact) if you are interested in a full zero-copy clone of `laminlabs/cellxgene-census` to kick-start your in-house LaminDB instances. \n",
    "4. See the [registration guide](census-registries) for how the `laminlabs/cellxgene-census` instance was created.\n"
   ]
  },
  {
   "cell_type": "markdown",
   "id": "5dde5525",
   "metadata": {},
   "source": [
    "## Setup"
   ]
  },
  {
   "cell_type": "markdown",
   "id": "5a021883",
   "metadata": {},
   "source": [
    "Load the public LaminDB instance that mirrors cellxgene-census on the CLI:"
   ]
  },
  {
   "cell_type": "code",
   "execution_count": null,
   "id": "df1d93a7",
   "metadata": {},
   "outputs": [],
   "source": [
    "!lamin load laminlabs/cellxgene-census"
   ]
  },
  {
   "cell_type": "code",
   "execution_count": null,
   "id": "d74e133a",
   "metadata": {},
   "outputs": [],
   "source": [
    "import lamindb as ln\n",
    "import lnschema_bionty as lb"
   ]
  },
  {
   "cell_type": "markdown",
   "id": "2bb8060e",
   "metadata": {},
   "source": [
    "## Search & look up metadata"
   ]
  },
  {
   "cell_type": "markdown",
   "id": "d3c676db",
   "metadata": {},
   "source": [
    "Let us search for a cell type:"
   ]
  },
  {
   "cell_type": "code",
   "execution_count": null,
   "id": "84093aa9",
   "metadata": {},
   "outputs": [],
   "source": [
    "lb.CellType.search(\"effector T cell\").head()"
   ]
  },
  {
   "cell_type": "markdown",
   "id": "7dbed617",
   "metadata": {},
   "source": [
    "Let's use the persistent universal `uid` to access the metadata record:"
   ]
  },
  {
   "cell_type": "code",
   "execution_count": null,
   "id": "32a56d55",
   "metadata": {},
   "outputs": [],
   "source": [
    "t_eff = lb.CellType.filter(uid=\"yvHkIrVI\").one()"
   ]
  },
  {
   "cell_type": "code",
   "execution_count": null,
   "id": "4fec213d",
   "metadata": {},
   "outputs": [],
   "source": [
    "t_eff"
   ]
  },
  {
   "cell_type": "markdown",
   "id": "c380296b",
   "metadata": {},
   "source": [
    "Alternatively, we can use auto-complete based on a look-up object:\n",
    "\n",
    "\n",
    "<img src=\"https://lamin-site-assets.s3.amazonaws.com/.lamindb/lgRNHNtMxjU0y8nIagt7.png\" width=\"400px\">"
   ]
  },
  {
   "cell_type": "code",
   "execution_count": null,
   "id": "83069463",
   "metadata": {},
   "outputs": [],
   "source": [
    "cell_types = lb.CellType.lookup()\n",
    "cell_types.effector_t_cell"
   ]
  },
  {
   "cell_type": "markdown",
   "id": "c639e444",
   "metadata": {},
   "source": [
    "You can create look-up objects for any registry in LaminDB, including [basic biological entities](docs:lnschema-bionty) and things like users or storage locations.\n",
    "\n",
    "You can also arbitrarily combine queries & search results and convert them into lookups:"
   ]
  },
  {
   "cell_type": "code",
   "execution_count": null,
   "id": "eb81f096",
   "metadata": {},
   "outputs": [],
   "source": [
    "organisms = lb.Organism.lookup()  # species\n",
    "genes = lb.Gene.filter(organism=organisms.human).lookup()  # ~60k human genes\n",
    "features = ln.Feature.lookup()  # non-gene features, like `cell_type`, `assay`, etc.\n",
    "experimental_factors = lb.ExperimentalFactor.lookup()  # labels for experimental factors\n",
    "tissues = lb.Tissue.lookup()  # tissue labels\n",
    "ulabels = ln.ULabel.lookup()  # universal labels, e.g. dataset collections\n",
    "suspension_types = (\n",
    "    ulabels.is_suspension_type.children.all().lookup()\n",
    ")  # suspension types"
   ]
  },
  {
   "cell_type": "markdown",
   "id": "b3da2a35",
   "metadata": {},
   "source": [
    "## Understand ontologies"
   ]
  },
  {
   "cell_type": "markdown",
   "id": "0851981a",
   "metadata": {},
   "source": [
    "Understand the surrounding ontology terms: "
   ]
  },
  {
   "cell_type": "code",
   "execution_count": null,
   "id": "07937c21",
   "metadata": {},
   "outputs": [],
   "source": [
    "t_eff.view_parents(distance=2, with_children=True)"
   ]
  },
  {
   "cell_type": "markdown",
   "id": "d8b3d075",
   "metadata": {},
   "source": [
    "Or access them programmatically:"
   ]
  },
  {
   "cell_type": "code",
   "execution_count": null,
   "id": "1077892b",
   "metadata": {},
   "outputs": [],
   "source": [
    "t_eff.children.df()"
   ]
  },
  {
   "cell_type": "markdown",
   "id": "87f70886",
   "metadata": {},
   "source": [
    "## Query data"
   ]
  },
  {
   "cell_type": "markdown",
   "id": "c2384c0e",
   "metadata": {},
   "source": [
    "Unlike in the [SOMA guide](query-census), here, we'll query sets of `h5ad` files, which correspond to `AnnData` objects.\n",
    "\n",
    "To access them, we query the {class}`~lamindb.Dataset` record that links the latest LTS set of h5ad files:"
   ]
  },
  {
   "cell_type": "code",
   "execution_count": null,
   "id": "0884ba0a",
   "metadata": {},
   "outputs": [],
   "source": [
    "census_version = \"2023-07-25\"\n",
    "dataset = ln.Dataset.filter(name=\"cellxgene-census\", version=census_version).one()\n",
    "\n",
    "dataset"
   ]
  },
  {
   "cell_type": "markdown",
   "id": "16d0415a",
   "metadata": {},
   "source": [
    "(Dataset is an abstraction over different ways of storing datasets from array stores to file or path collections.)"
   ]
  },
  {
   "cell_type": "markdown",
   "id": "8fa78cce",
   "metadata": {},
   "source": [
    "You can get all linked files as a dataframe - there are 850 files in version `2023-07-25`."
   ]
  },
  {
   "cell_type": "code",
   "execution_count": null,
   "id": "bd413016",
   "metadata": {},
   "outputs": [],
   "source": [
    "dataset.files.df().head()"
   ]
  },
  {
   "cell_type": "markdown",
   "id": "9ef4133d",
   "metadata": {},
   "source": [
    "You can also query all files by arbitrary metadata combinations, for instance:"
   ]
  },
  {
   "cell_type": "code",
   "execution_count": null,
   "id": "fa6437ee",
   "metadata": {},
   "outputs": [],
   "source": [
    "query = dataset.files.filter(\n",
    "    organism=organisms.human,\n",
    "    cell_types__in=[cell_types.dendritic_cell, cell_types.neutrophil],\n",
    "    tissues=tissues.kidney,\n",
    "    ulabels=suspension_types.cell,\n",
    "    experimental_factors=experimental_factors.ln_10x_3_v2,\n",
    ")"
   ]
  },
  {
   "cell_type": "markdown",
   "id": "e248ae3d",
   "metadata": {},
   "source": [
    "Display query result as a `DataFrame`:"
   ]
  },
  {
   "cell_type": "code",
   "execution_count": null,
   "id": "1b444bad",
   "metadata": {},
   "outputs": [],
   "source": [
    "query = query.order_by(\"size\").distinct()  # drop duplicates\n",
    "query.df().head()"
   ]
  },
  {
   "cell_type": "markdown",
   "id": "c7d1ee67",
   "metadata": {},
   "source": [
    "## Load an entire array"
   ]
  },
  {
   "cell_type": "markdown",
   "id": "ba8914bc",
   "metadata": {},
   "source": [
    "Each file stores an array in form of an annotated data matrix, an `AnnData` object.\n",
    "\n",
    "Let's look at the first array and retrieve all metadata using `.describe()`:"
   ]
  },
  {
   "cell_type": "code",
   "execution_count": null,
   "id": "524ed16e",
   "metadata": {},
   "outputs": [],
   "source": [
    "file = query.first()\n",
    "file.describe()"
   ]
  },
  {
   "cell_type": "markdown",
   "id": "3e53f2fd",
   "metadata": {},
   "source": [
    ":::{dropdown} More ways of accessing metadata\n",
    "\n",
    "Access just features:\n",
    "\n",
    "```\n",
    "file.features\n",
    "```\n",
    "\n",
    "Or get labels given a feature:\n",
    "\n",
    "```\n",
    "file.labels.get(features.tissue).df()\n",
    "```\n",
    "\n",
    "```\n",
    "file.labels.get(features.collection).one()\n",
    "```\n",
    "\n",
    ":::\n",
    "\n"
   ]
  },
  {
   "cell_type": "markdown",
   "id": "7e0e9d16",
   "metadata": {},
   "source": [
    "If you're sure that you want to load the array, you have three options:\n",
    "1. Load it directly into memory via `file.load() -> AnnData`, this automatically caches the h5ad on disk, so that you only download once\n",
    "2. Stage it locally on disk `file.stage() -> Path` in a cache\n",
    "3. Stream data from the cloud through a backed object `file.backed() -> AnnDataAccessor`\n",
    "\n",
    "All 3 options will run much faster if you run them close to the data (AWS S3 on the US West Coast, consider logging into hosted compute there)."
   ]
  },
  {
   "cell_type": "markdown",
   "id": "e3b104c9",
   "metadata": {},
   "source": [
    "## Load an array slice"
   ]
  },
  {
   "cell_type": "markdown",
   "id": "b8974508",
   "metadata": {},
   "source": [
    "Let us first work with an object in memory:"
   ]
  },
  {
   "cell_type": "code",
   "execution_count": null,
   "id": "271f05ea",
   "metadata": {},
   "outputs": [],
   "source": [
    "adata = file.load()\n",
    "adata"
   ]
  },
  {
   "cell_type": "markdown",
   "id": "9290545c",
   "metadata": {},
   "source": [
    "Now we have an `AnnData` object, which stores observation annotations matching our file-level query in the `.obs` slot:\n",
    "\n",
    "If we'd like to subset a slice, we can use the same query we used to retrieve the file:\n",
    "\n",
    ":::{dropdown} See the file-level query for comparison\n",
    "\n",
    "```\n",
    "query = dataset.files.filter(\n",
    "    organism=organisms.human,\n",
    "    cell_types__in=[cell_types.dendritic_cell, cell_types.neutrophil],\n",
    "    tissues=tissues.kidney,\n",
    "    ulabels=suspension_types.cell,\n",
    "    experimental_factors=experimental_factors.ln_10x_3_v2,\n",
    ")\n",
    "```\n",
    "\n",
    "`AnnData` uses pandas to manage metadata and the syntax differs slightly, while the same metadata reference records are used.\n",
    "\n",
    ":::"
   ]
  },
  {
   "cell_type": "code",
   "execution_count": null,
   "id": "1a1e25c5",
   "metadata": {},
   "outputs": [],
   "source": [
    "adata_slice = adata[\n",
    "    adata.obs.cell_type.isin(\n",
    "        [cell_types.dendritic_cell.name, cell_types.neutrophil.name]\n",
    "    )\n",
    "    & (adata.obs.tissue == tissues.kidney.name)\n",
    "    & (adata.obs.suspension_type == suspension_types.cell.name)\n",
    "    & (adata.obs.assay == experimental_factors.ln_10x_3_v2.name)\n",
    "]\n",
    "adata_slice"
   ]
  },
  {
   "cell_type": "markdown",
   "id": "12aeb162",
   "metadata": {},
   "source": [
    "If we want to aggregate these individual file-level slices, we can loop over all files and concatenate the results."
   ]
  },
  {
   "cell_type": "markdown",
   "id": "618aea87",
   "metadata": {},
   "source": [
    "## Stream an array slice"
   ]
  },
  {
   "cell_type": "markdown",
   "id": "ff667e7c",
   "metadata": {},
   "source": [
    "Depending on the use case, we might prefer to directly stream the slice without downloading the entire file.\n",
    "\n",
    "Here's how to do it:"
   ]
  },
  {
   "cell_type": "code",
   "execution_count": null,
   "id": "963f51c0",
   "metadata": {},
   "outputs": [],
   "source": [
    "adata_backed = file.backed()\n",
    "adata_backed"
   ]
  },
  {
   "cell_type": "markdown",
   "id": "53cb9209",
   "metadata": {},
   "source": [
    "The `AnnDataAccessor` behaves largely in the same way as `AnnData`, and hence, the query looks the same:"
   ]
  },
  {
   "cell_type": "code",
   "execution_count": null,
   "id": "34dd9231",
   "metadata": {},
   "outputs": [],
   "source": [
    "adata_slice = adata_backed[\n",
    "    adata_backed.obs.cell_type.isin(\n",
    "        [cell_types.dendritic_cell.name, cell_types.neutrophil.name]\n",
    "    )\n",
    "    & (adata_backed.obs.tissue == tissues.kidney.name)\n",
    "    & (adata_backed.obs.suspension_type == suspension_types.cell.name)\n",
    "    & (adata_backed.obs.assay == experimental_factors.ln_10x_3_v2.name)\n",
    "]\n",
    "\n",
    "adata_slice"
   ]
  },
  {
   "cell_type": "markdown",
   "id": "0d40b93e",
   "metadata": {},
   "source": [
    "## Exploring data by collection"
   ]
  },
  {
   "cell_type": "markdown",
   "id": "8299ecdc",
   "metadata": {},
   "source": [
    "Alternatively, \n",
    "\n",
    "- [you can search a file on the LaminHub UI](https://lamin.ai/laminlabs/cellxgene-census/records/core/File) and fetch it through: \n",
    "`ln.File.filter(uid=\"...\").one()`\n",
    "- or query for a collection you found on [CZ CELLxGENE Discover](https://cellxgene.cziscience.com/collections)"
   ]
  },
  {
   "cell_type": "markdown",
   "id": "8b537df8",
   "metadata": {},
   "source": [
    "Let's search the collections from CELLxGENE:"
   ]
  },
  {
   "cell_type": "code",
   "execution_count": null,
   "id": "3710084a",
   "metadata": {},
   "outputs": [],
   "source": [
    "ulabels.is_collection.search(\"immune zonation of the human kidney\", limit=10)"
   ]
  },
  {
   "cell_type": "markdown",
   "id": "0a707588",
   "metadata": {},
   "source": [
    "Let's get the full metadata record of the top hit collection:"
   ]
  },
  {
   "cell_type": "code",
   "execution_count": null,
   "id": "c49c302d",
   "metadata": {},
   "outputs": [],
   "source": [
    "collection_13BWB722 = ln.ULabel.filter(uid=\"13BWB722\").one()\n",
    "\n",
    "collection_13BWB722"
   ]
  },
  {
   "cell_type": "markdown",
   "id": "5a36be6f",
   "metadata": {},
   "source": [
    "We see it's a Science paper and we could find more information using the [DOI](https://doi.org/10.1126/science.aat5031) or CELLxGENE [collection id](https://cellxgene.cziscience.com/collections/120e86b4-1195-48c5-845b-b98054105eec)."
   ]
  },
  {
   "cell_type": "markdown",
   "id": "19f32e23",
   "metadata": {},
   "source": [
    "Each collection has at least one {class}`~lamindb.File` file associated to it. Let's query them for this collection:"
   ]
  },
  {
   "cell_type": "code",
   "execution_count": null,
   "id": "744ca3d8",
   "metadata": {},
   "outputs": [],
   "source": [
    "ln.File.filter(ulabels=collection_13BWB722).df()"
   ]
  },
  {
   "cell_type": "markdown",
   "id": "6bd94803",
   "metadata": {},
   "source": [
    "```{toctree}\n",
    ":maxdepth: 1\n",
    ":hidden:\n",
    "\n",
    "census-registries\n",
    "query-census\n",
    "```"
   ]
  }
 ],
 "metadata": {
  "kernelspec": {
   "display_name": "Python 3 (ipykernel)",
   "language": "python",
   "name": "python3"
  },
  "language_info": {
   "codemirror_mode": {
    "name": "ipython",
    "version": 3
   },
   "file_extension": ".py",
   "mimetype": "text/x-python",
   "name": "python",
   "nbconvert_exporter": "python",
   "pygments_lexer": "ipython3",
   "version": "3.10.13"
  },
  "nbproject": {
   "id": "5FUyJ6RkVk0D",
   "parent": null,
   "pypackage": null,
   "time_init": "2023-09-05T14:45:21.919899+00:00",
   "user_handle": "sunnyosun",
   "user_id": "kmvZDIX9",
   "user_name": "Sunny Sun",
   "version": "0"
  }
 },
 "nbformat": 4,
 "nbformat_minor": 5
}
