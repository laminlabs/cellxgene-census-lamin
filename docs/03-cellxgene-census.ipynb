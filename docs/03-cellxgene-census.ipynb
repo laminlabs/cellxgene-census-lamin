{
 "cells": [
  {
   "cell_type": "markdown",
   "id": "c71502b7",
   "metadata": {},
   "source": [
    "[![Jupyter Notebook](https://img.shields.io/badge/Jupyter%20Notebook-orange)](https://github.com/laminlabs/cellxgene-census-lamin/blob/main/docs/03-cellxgene-census.ipynb)\n",
    "[![census](https://img.shields.io/badge/laminlabs/cellxgene--census-mediumseagreen)](https://lamin.ai/laminlabs/cellxgene-census)"
   ]
  },
  {
   "cell_type": "markdown",
   "id": "7f26a335-cf1c-4e69-be3b-0c26b154606a",
   "metadata": {},
   "source": [
    "# cellxgene-census"
   ]
  },
  {
   "cell_type": "markdown",
   "id": "47b1fa7f",
   "metadata": {},
   "source": [
    "`cellxgene-census` is a Python client to query the concatenated cellxgene datasets.\n",
    "\n",
    "This notebook shows how to query registered h5ad files from metadata.\n",
    "\n",
    "For more background, see:\n",
    "\n",
    "- [CELLxGENE Census](https://chanzuckerberg.github.io/cellxgene-census/)\n",
    "- [TileDB-SOMA](https://github.com/single-cell-data/TileDB-SOMA)"
   ]
  },
  {
   "cell_type": "markdown",
   "id": "5dde5525",
   "metadata": {},
   "source": [
    "## Setup"
   ]
  },
  {
   "cell_type": "markdown",
   "id": "5a021883",
   "metadata": {},
   "source": [
    "\n",
    "\n",
    "First, load the public instance:"
   ]
  },
  {
   "cell_type": "code",
   "execution_count": 1,
   "id": "df1d93a7",
   "metadata": {},
   "outputs": [
    {
     "name": "stdout",
     "output_type": "stream",
     "text": [
      "💡 loaded instance: laminlabs/cellxgene-census\n",
      "\u001b[0m"
     ]
    }
   ],
   "source": [
    "!lamin load laminlabs/cellxgene-census"
   ]
  },
  {
   "cell_type": "code",
   "execution_count": 2,
   "id": "d74e133a",
   "metadata": {},
   "outputs": [
    {
     "name": "stdout",
     "output_type": "stream",
     "text": [
      "💡 loaded instance: laminlabs/cellxgene-census (lamindb 0.57.2)\n"
     ]
    }
   ],
   "source": [
    "import lamindb as ln\n",
    "import lnschema_bionty as lb"
   ]
  },
  {
   "cell_type": "code",
   "execution_count": 3,
   "id": "52307011",
   "metadata": {},
   "outputs": [],
   "source": [
    "lb.settings.organism = \"human\""
   ]
  },
  {
   "cell_type": "markdown",
   "id": "2bb8060e",
   "metadata": {},
   "source": [
    "## Search metadata"
   ]
  },
  {
   "cell_type": "code",
   "execution_count": 4,
   "id": "84093aa9",
   "metadata": {},
   "outputs": [
    {
     "data": {
      "text/html": [
       "<div>\n",
       "<style scoped>\n",
       "    .dataframe tbody tr th:only-of-type {\n",
       "        vertical-align: middle;\n",
       "    }\n",
       "\n",
       "    .dataframe tbody tr th {\n",
       "        vertical-align: top;\n",
       "    }\n",
       "\n",
       "    .dataframe thead th {\n",
       "        text-align: right;\n",
       "    }\n",
       "</style>\n",
       "<table border=\"1\" class=\"dataframe\">\n",
       "  <thead>\n",
       "    <tr style=\"text-align: right;\">\n",
       "      <th></th>\n",
       "      <th>uid</th>\n",
       "      <th>synonyms</th>\n",
       "      <th>score</th>\n",
       "    </tr>\n",
       "    <tr>\n",
       "      <th>name</th>\n",
       "      <th></th>\n",
       "      <th></th>\n",
       "      <th></th>\n",
       "    </tr>\n",
       "  </thead>\n",
       "  <tbody>\n",
       "    <tr>\n",
       "      <th>effector T cell</th>\n",
       "      <td>yvHkIrVI</td>\n",
       "      <td>effector T-lymphocyte|effector T-cell|effector...</td>\n",
       "      <td>96.6</td>\n",
       "    </tr>\n",
       "    <tr>\n",
       "      <th>cell</th>\n",
       "      <td>Ry0JGwSD</td>\n",
       "      <td></td>\n",
       "      <td>90.0</td>\n",
       "    </tr>\n",
       "    <tr>\n",
       "      <th>CD8-positive, alpha-beta cytokine secreting effector T cell</th>\n",
       "      <td>pam4JjkW</td>\n",
       "      <td>CD8-positive, alpha-beta cytokine secreting ef...</td>\n",
       "      <td>85.5</td>\n",
       "    </tr>\n",
       "    <tr>\n",
       "      <th>effector CD4-positive, alpha-beta T cell</th>\n",
       "      <td>tQZFurra</td>\n",
       "      <td>effector CD4-positive, alpha-beta T-lymphocyte...</td>\n",
       "      <td>85.5</td>\n",
       "    </tr>\n",
       "    <tr>\n",
       "      <th>effector CD8-positive, alpha-beta T cell</th>\n",
       "      <td>o9T53Uso</td>\n",
       "      <td>effector CD8-positive, alpha-beta T-lymphocyte...</td>\n",
       "      <td>85.5</td>\n",
       "    </tr>\n",
       "  </tbody>\n",
       "</table>\n",
       "</div>"
      ],
      "text/plain": [
       "                                                         uid  \\\n",
       "name                                                           \n",
       "effector T cell                                     yvHkIrVI   \n",
       "cell                                                Ry0JGwSD   \n",
       "CD8-positive, alpha-beta cytokine secreting eff...  pam4JjkW   \n",
       "effector CD4-positive, alpha-beta T cell            tQZFurra   \n",
       "effector CD8-positive, alpha-beta T cell            o9T53Uso   \n",
       "\n",
       "                                                                                             synonyms  \\\n",
       "name                                                                                                    \n",
       "effector T cell                                     effector T-lymphocyte|effector T-cell|effector...   \n",
       "cell                                                                                                    \n",
       "CD8-positive, alpha-beta cytokine secreting eff...  CD8-positive, alpha-beta cytokine secreting ef...   \n",
       "effector CD4-positive, alpha-beta T cell            effector CD4-positive, alpha-beta T-lymphocyte...   \n",
       "effector CD8-positive, alpha-beta T cell            effector CD8-positive, alpha-beta T-lymphocyte...   \n",
       "\n",
       "                                                    score  \n",
       "name                                                       \n",
       "effector T cell                                      96.6  \n",
       "cell                                                 90.0  \n",
       "CD8-positive, alpha-beta cytokine secreting eff...   85.5  \n",
       "effector CD4-positive, alpha-beta T cell             85.5  \n",
       "effector CD8-positive, alpha-beta T cell             85.5  "
      ]
     },
     "execution_count": 4,
     "metadata": {},
     "output_type": "execute_result"
    }
   ],
   "source": [
    "lb.CellType.search(\"effector Tcell\").head()"
   ]
  },
  {
   "cell_type": "markdown",
   "id": "b3da2a35",
   "metadata": {},
   "source": [
    "## Ontological hierarchies"
   ]
  },
  {
   "cell_type": "code",
   "execution_count": 5,
   "id": "32a56d55",
   "metadata": {},
   "outputs": [],
   "source": [
    "teff = lb.CellType.filter(uid=\"yvHkIrVI\").one()"
   ]
  },
  {
   "cell_type": "code",
   "execution_count": 6,
   "id": "07937c21",
   "metadata": {},
   "outputs": [
    {
     "data": {
      "image/svg+xml": [
       "<?xml version=\"1.0\" encoding=\"UTF-8\" standalone=\"no\"?>\n",
       "<!DOCTYPE svg PUBLIC \"-//W3C//DTD SVG 1.1//EN\"\n",
       " \"http://www.w3.org/Graphics/SVG/1.1/DTD/svg11.dtd\">\n",
       "<!-- Generated by graphviz version 9.0.0 (20230911.1827)\n",
       " -->\n",
       "<!-- Title: yvHkIrVI Pages: 1 -->\n",
       "<svg width=\"613pt\" height=\"260pt\"\n",
       " viewBox=\"0.00 0.00 613.00 260.00\" xmlns=\"http://www.w3.org/2000/svg\" xmlns:xlink=\"http://www.w3.org/1999/xlink\">\n",
       "<g id=\"graph0\" class=\"graph\" transform=\"scale(1 1) rotate(0) translate(4 256)\">\n",
       "<title>yvHkIrVI</title>\n",
       "<polygon fill=\"white\" stroke=\"none\" points=\"-4,4 -4,-256 609,-256 609,4 -4,4\"/>\n",
       "<!-- yvHkIrVI -->\n",
       "<g id=\"node1\" class=\"node\">\n",
       "<title>yvHkIrVI</title>\n",
       "<path fill=\"#10b981\" stroke=\"#065f46\" d=\"M334,-108C334,-108 270,-108 270,-108 264,-108 258,-102 258,-96 258,-96 258,-84 258,-84 258,-78 264,-72 270,-72 270,-72 334,-72 334,-72 340,-72 346,-78 346,-84 346,-84 346,-96 346,-96 346,-102 340,-108 334,-108\"/>\n",
       "<text text-anchor=\"start\" x=\"272\" y=\"-91.5\" font-family=\"Helvetica,sans-Serif\" font-size=\"10.00\">effector T cell</text>\n",
       "<text text-anchor=\"start\" x=\"266\" y=\"-81.5\" font-family=\"Monospace\" font-size=\"10.00\" fill=\"GREY\">uid=yvHkIrVI</text>\n",
       "</g>\n",
       "<!-- 7roaTzhI -->\n",
       "<g id=\"node4\" class=\"node\">\n",
       "<title>7roaTzhI</title>\n",
       "<path fill=\"honeydew\" stroke=\"#065f46\" d=\"M76,-36C76,-36 12,-36 12,-36 6,-36 0,-30 0,-24 0,-24 0,-12 0,-12 0,-6 6,0 12,0 12,0 76,0 76,0 82,0 88,-6 88,-12 88,-12 88,-24 88,-24 88,-30 82,-36 76,-36\"/>\n",
       "<text text-anchor=\"start\" x=\"8\" y=\"-19.5\" font-family=\"Helvetica,sans-Serif\" font-size=\"10.00\">exhausted T cell</text>\n",
       "<text text-anchor=\"start\" x=\"8\" y=\"-9.5\" font-family=\"Monospace\" font-size=\"10.00\" fill=\"GREY\">uid=7roaTzhI</text>\n",
       "</g>\n",
       "<!-- yvHkIrVI&#45;&gt;7roaTzhI -->\n",
       "<g id=\"edge3\" class=\"edge\">\n",
       "<title>yvHkIrVI&#45;&gt;7roaTzhI</title>\n",
       "<path fill=\"none\" stroke=\"dimgrey\" d=\"M257.81,-78.35C216.16,-68.13 152.09,-51.94 97,-36 96.22,-35.77 95.43,-35.54 94.63,-35.31\"/>\n",
       "<polygon fill=\"dimgrey\" stroke=\"dimgrey\" points=\"95.22,-33.66 89.93,-33.9 94.22,-37.01 95.22,-33.66\"/>\n",
       "</g>\n",
       "<!-- o9T53Uso -->\n",
       "<g id=\"node5\" class=\"node\">\n",
       "<title>o9T53Uso</title>\n",
       "<path fill=\"honeydew\" stroke=\"#065f46\" d=\"M281.5,-36C281.5,-36 118.5,-36 118.5,-36 112.5,-36 106.5,-30 106.5,-24 106.5,-24 106.5,-12 106.5,-12 106.5,-6 112.5,0 118.5,0 118.5,0 281.5,0 281.5,0 287.5,0 293.5,-6 293.5,-12 293.5,-12 293.5,-24 293.5,-24 293.5,-30 287.5,-36 281.5,-36\"/>\n",
       "<text text-anchor=\"start\" x=\"114.5\" y=\"-19.5\" font-family=\"Helvetica,sans-Serif\" font-size=\"10.00\">effector CD8&#45;positive, alpha&#45;beta T cell</text>\n",
       "<text text-anchor=\"start\" x=\"164\" y=\"-9.5\" font-family=\"Monospace\" font-size=\"10.00\" fill=\"GREY\">uid=o9T53Uso</text>\n",
       "</g>\n",
       "<!-- yvHkIrVI&#45;&gt;o9T53Uso -->\n",
       "<g id=\"edge4\" class=\"edge\">\n",
       "<title>yvHkIrVI&#45;&gt;o9T53Uso</title>\n",
       "<path fill=\"none\" stroke=\"dimgrey\" d=\"M276.52,-71.52C262.55,-61.92 245.12,-49.96 230.43,-39.88\"/>\n",
       "<polygon fill=\"dimgrey\" stroke=\"dimgrey\" points=\"231.51,-38.5 226.4,-37.12 229.53,-41.39 231.51,-38.5\"/>\n",
       "</g>\n",
       "<!-- tQZFurra -->\n",
       "<g id=\"node6\" class=\"node\">\n",
       "<title>tQZFurra</title>\n",
       "<path fill=\"honeydew\" stroke=\"#065f46\" d=\"M486.5,-36C486.5,-36 323.5,-36 323.5,-36 317.5,-36 311.5,-30 311.5,-24 311.5,-24 311.5,-12 311.5,-12 311.5,-6 317.5,0 323.5,0 323.5,0 486.5,0 486.5,0 492.5,0 498.5,-6 498.5,-12 498.5,-12 498.5,-24 498.5,-24 498.5,-30 492.5,-36 486.5,-36\"/>\n",
       "<text text-anchor=\"start\" x=\"319.5\" y=\"-19.5\" font-family=\"Helvetica,sans-Serif\" font-size=\"10.00\">effector CD4&#45;positive, alpha&#45;beta T cell</text>\n",
       "<text text-anchor=\"start\" x=\"369\" y=\"-9.5\" font-family=\"Monospace\" font-size=\"10.00\" fill=\"GREY\">uid=tQZFurra</text>\n",
       "</g>\n",
       "<!-- yvHkIrVI&#45;&gt;tQZFurra -->\n",
       "<g id=\"edge5\" class=\"edge\">\n",
       "<title>yvHkIrVI&#45;&gt;tQZFurra</title>\n",
       "<path fill=\"none\" stroke=\"dimgrey\" d=\"M327.73,-71.52C341.84,-61.92 359.44,-49.96 374.27,-39.88\"/>\n",
       "<polygon fill=\"dimgrey\" stroke=\"dimgrey\" points=\"375.2,-41.37 378.35,-37.11 373.23,-38.47 375.2,-41.37\"/>\n",
       "</g>\n",
       "<!-- OxsmyL44 -->\n",
       "<g id=\"node7\" class=\"node\">\n",
       "<title>OxsmyL44</title>\n",
       "<path fill=\"honeydew\" stroke=\"#065f46\" d=\"M593,-36C593,-36 529,-36 529,-36 523,-36 517,-30 517,-24 517,-24 517,-12 517,-12 517,-6 523,0 529,0 529,0 593,0 593,0 599,0 605,-6 605,-12 605,-12 605,-24 605,-24 605,-30 599,-36 593,-36\"/>\n",
       "<text text-anchor=\"start\" x=\"527.62\" y=\"-19.5\" font-family=\"Helvetica,sans-Serif\" font-size=\"10.00\">cytotoxic T cell</text>\n",
       "<text text-anchor=\"start\" x=\"525\" y=\"-9.5\" font-family=\"Monospace\" font-size=\"10.00\" fill=\"GREY\">uid=OxsmyL44</text>\n",
       "</g>\n",
       "<!-- yvHkIrVI&#45;&gt;OxsmyL44 -->\n",
       "<g id=\"edge6\" class=\"edge\">\n",
       "<title>yvHkIrVI&#45;&gt;OxsmyL44</title>\n",
       "<path fill=\"none\" stroke=\"dimgrey\" d=\"M346.41,-78.37C388.26,-68.17 452.65,-51.98 508,-36 508.78,-35.77 509.57,-35.54 510.37,-35.31\"/>\n",
       "<polygon fill=\"dimgrey\" stroke=\"dimgrey\" points=\"510.78,-37.01 515.07,-33.91 509.78,-33.66 510.78,-37.01\"/>\n",
       "</g>\n",
       "<!-- BxNjby0x -->\n",
       "<g id=\"node2\" class=\"node\">\n",
       "<title>BxNjby0x</title>\n",
       "<path fill=\"honeydew\" stroke=\"#065f46\" d=\"M334,-252C334,-252 270,-252 270,-252 264,-252 258,-246 258,-240 258,-240 258,-228 258,-228 258,-222 264,-216 270,-216 270,-216 334,-216 334,-216 340,-216 346,-222 346,-228 346,-228 346,-240 346,-240 346,-246 340,-252 334,-252\"/>\n",
       "<text text-anchor=\"start\" x=\"290\" y=\"-235.5\" font-family=\"Helvetica,sans-Serif\" font-size=\"10.00\">T cell</text>\n",
       "<text text-anchor=\"start\" x=\"266\" y=\"-225.5\" font-family=\"Monospace\" font-size=\"10.00\" fill=\"GREY\">uid=BxNjby0x</text>\n",
       "</g>\n",
       "<!-- 2C5PhwrW -->\n",
       "<g id=\"node3\" class=\"node\">\n",
       "<title>2C5PhwrW</title>\n",
       "<path fill=\"honeydew\" stroke=\"#065f46\" d=\"M334,-180C334,-180 270,-180 270,-180 264,-180 258,-174 258,-168 258,-168 258,-156 258,-156 258,-150 264,-144 270,-144 270,-144 334,-144 334,-144 340,-144 346,-150 346,-156 346,-156 346,-168 346,-168 346,-174 340,-180 334,-180\"/>\n",
       "<text text-anchor=\"start\" x=\"273.5\" y=\"-163.5\" font-family=\"Helvetica,sans-Serif\" font-size=\"10.00\">mature T cell</text>\n",
       "<text text-anchor=\"start\" x=\"266\" y=\"-153.5\" font-family=\"Monospace\" font-size=\"10.00\" fill=\"GREY\">uid=2C5PhwrW</text>\n",
       "</g>\n",
       "<!-- BxNjby0x&#45;&gt;2C5PhwrW -->\n",
       "<g id=\"edge1\" class=\"edge\">\n",
       "<title>BxNjby0x&#45;&gt;2C5PhwrW</title>\n",
       "<path fill=\"none\" stroke=\"dimgrey\" d=\"M302,-215.7C302,-206.88 302,-196.03 302,-186.47\"/>\n",
       "<polygon fill=\"dimgrey\" stroke=\"dimgrey\" points=\"303.75,-186.62 302,-181.62 300.25,-186.62 303.75,-186.62\"/>\n",
       "</g>\n",
       "<!-- 2C5PhwrW&#45;&gt;yvHkIrVI -->\n",
       "<g id=\"edge2\" class=\"edge\">\n",
       "<title>2C5PhwrW&#45;&gt;yvHkIrVI</title>\n",
       "<path fill=\"none\" stroke=\"dimgrey\" d=\"M302,-143.7C302,-134.88 302,-124.03 302,-114.47\"/>\n",
       "<polygon fill=\"dimgrey\" stroke=\"dimgrey\" points=\"303.75,-114.62 302,-109.62 300.25,-114.62 303.75,-114.62\"/>\n",
       "</g>\n",
       "</g>\n",
       "</svg>\n"
      ],
      "text/plain": [
       "<graphviz.graphs.Digraph at 0x1081cefe0>"
      ]
     },
     "metadata": {},
     "output_type": "display_data"
    }
   ],
   "source": [
    "teff.view_parents(distance=2, with_children=True)"
   ]
  },
  {
   "cell_type": "code",
   "execution_count": 7,
   "id": "1077892b",
   "metadata": {},
   "outputs": [
    {
     "data": {
      "text/html": [
       "<div>\n",
       "<style scoped>\n",
       "    .dataframe tbody tr th:only-of-type {\n",
       "        vertical-align: middle;\n",
       "    }\n",
       "\n",
       "    .dataframe tbody tr th {\n",
       "        vertical-align: top;\n",
       "    }\n",
       "\n",
       "    .dataframe thead th {\n",
       "        text-align: right;\n",
       "    }\n",
       "</style>\n",
       "<table border=\"1\" class=\"dataframe\">\n",
       "  <thead>\n",
       "    <tr style=\"text-align: right;\">\n",
       "      <th></th>\n",
       "      <th>uid</th>\n",
       "      <th>name</th>\n",
       "      <th>ontology_id</th>\n",
       "      <th>abbr</th>\n",
       "      <th>synonyms</th>\n",
       "      <th>description</th>\n",
       "      <th>bionty_source_id</th>\n",
       "      <th>updated_at</th>\n",
       "      <th>created_by_id</th>\n",
       "    </tr>\n",
       "    <tr>\n",
       "      <th>id</th>\n",
       "      <th></th>\n",
       "      <th></th>\n",
       "      <th></th>\n",
       "      <th></th>\n",
       "      <th></th>\n",
       "      <th></th>\n",
       "      <th></th>\n",
       "      <th></th>\n",
       "      <th></th>\n",
       "    </tr>\n",
       "  </thead>\n",
       "  <tbody>\n",
       "    <tr>\n",
       "      <th>4</th>\n",
       "      <td>7roaTzhI</td>\n",
       "      <td>exhausted T cell</td>\n",
       "      <td>CL:0011025</td>\n",
       "      <td>None</td>\n",
       "      <td>An effector T cell that displays impaired effe...</td>\n",
       "      <td>None</td>\n",
       "      <td>20</td>\n",
       "      <td>2023-10-16 17:05:25</td>\n",
       "      <td>1</td>\n",
       "    </tr>\n",
       "    <tr>\n",
       "      <th>278</th>\n",
       "      <td>o9T53Uso</td>\n",
       "      <td>effector CD8-positive, alpha-beta T cell</td>\n",
       "      <td>CL:0001050</td>\n",
       "      <td>None</td>\n",
       "      <td>effector CD8-positive, alpha-beta T-lymphocyte...</td>\n",
       "      <td>A Cd8-Positive, Alpha-Beta T Cell With The Phe...</td>\n",
       "      <td>20</td>\n",
       "      <td>2023-10-16 17:05:25</td>\n",
       "      <td>1</td>\n",
       "    </tr>\n",
       "    <tr>\n",
       "      <th>317</th>\n",
       "      <td>tQZFurra</td>\n",
       "      <td>effector CD4-positive, alpha-beta T cell</td>\n",
       "      <td>CL:0001044</td>\n",
       "      <td>None</td>\n",
       "      <td>effector CD4-positive, alpha-beta T-lymphocyte...</td>\n",
       "      <td>A Cd4-Positive, Alpha-Beta T Cell With The Phe...</td>\n",
       "      <td>20</td>\n",
       "      <td>2023-10-16 17:05:25</td>\n",
       "      <td>1</td>\n",
       "    </tr>\n",
       "    <tr>\n",
       "      <th>437</th>\n",
       "      <td>OxsmyL44</td>\n",
       "      <td>cytotoxic T cell</td>\n",
       "      <td>CL:0000910</td>\n",
       "      <td>None</td>\n",
       "      <td>cytotoxic T lymphocyte|cytotoxic T-lymphocyte|...</td>\n",
       "      <td>A Mature T Cell That Differentiated And Acquir...</td>\n",
       "      <td>20</td>\n",
       "      <td>2023-10-16 17:05:25</td>\n",
       "      <td>1</td>\n",
       "    </tr>\n",
       "  </tbody>\n",
       "</table>\n",
       "</div>"
      ],
      "text/plain": [
       "          uid                                      name ontology_id  abbr  \\\n",
       "id                                                                          \n",
       "4    7roaTzhI                          exhausted T cell  CL:0011025  None   \n",
       "278  o9T53Uso  effector CD8-positive, alpha-beta T cell  CL:0001050  None   \n",
       "317  tQZFurra  effector CD4-positive, alpha-beta T cell  CL:0001044  None   \n",
       "437  OxsmyL44                          cytotoxic T cell  CL:0000910  None   \n",
       "\n",
       "                                              synonyms  \\\n",
       "id                                                       \n",
       "4    An effector T cell that displays impaired effe...   \n",
       "278  effector CD8-positive, alpha-beta T-lymphocyte...   \n",
       "317  effector CD4-positive, alpha-beta T-lymphocyte...   \n",
       "437  cytotoxic T lymphocyte|cytotoxic T-lymphocyte|...   \n",
       "\n",
       "                                           description  bionty_source_id  \\\n",
       "id                                                                         \n",
       "4                                                 None                20   \n",
       "278  A Cd8-Positive, Alpha-Beta T Cell With The Phe...                20   \n",
       "317  A Cd4-Positive, Alpha-Beta T Cell With The Phe...                20   \n",
       "437  A Mature T Cell That Differentiated And Acquir...                20   \n",
       "\n",
       "              updated_at  created_by_id  \n",
       "id                                       \n",
       "4    2023-10-16 17:05:25              1  \n",
       "278  2023-10-16 17:05:25              1  \n",
       "317  2023-10-16 17:05:25              1  \n",
       "437  2023-10-16 17:05:25              1  "
      ]
     },
     "execution_count": 7,
     "metadata": {},
     "output_type": "execute_result"
    }
   ],
   "source": [
    "teff.children.df()"
   ]
  },
  {
   "cell_type": "markdown",
   "id": "87f70886",
   "metadata": {},
   "source": [
    "## Query h5ad files by metadata"
   ]
  },
  {
   "cell_type": "code",
   "execution_count": 8,
   "id": "9558c57b",
   "metadata": {},
   "outputs": [],
   "source": [
    "features = ln.Feature.lookup()\n",
    "assays = lb.ExperimentalFactor.lookup()\n",
    "cell_types = lb.CellType.lookup()\n",
    "tissues = lb.Tissue.lookup()\n",
    "ulabels = ln.ULabel.lookup()\n",
    "suspension_types = ulabels.is_suspension_type.children.all().lookup()"
   ]
  },
  {
   "cell_type": "code",
   "execution_count": 9,
   "id": "0884ba0a",
   "metadata": {},
   "outputs": [
    {
     "data": {
      "text/plain": [
       "Dataset(uid='EAUF1AaT4kOVyHYnZsUJ', name='cellxgene-census', version='2023-07-25', hash='pEJ9uvIeTLvHkZW2TBT5', updated_at=2023-10-24 16:00:07, transform_id=1, run_id=9, created_by_id=2)"
      ]
     },
     "execution_count": 9,
     "metadata": {},
     "output_type": "execute_result"
    }
   ],
   "source": [
    "census_version = \"2023-07-25\"\n",
    "dataset = ln.Dataset.filter(name=\"cellxgene-census\", version=census_version).one()\n",
    "dataset"
   ]
  },
  {
   "cell_type": "code",
   "execution_count": 14,
   "id": "fa6437ee",
   "metadata": {},
   "outputs": [],
   "source": [
    "query = (\n",
    "    dataset.files.filter(\n",
    "        organism=lb.settings.organism,\n",
    "        cell_types__in=[cell_types.dendritic_cell, cell_types.neutrophil],\n",
    "        tissues=tissues.kidney,\n",
    "        ulabels=suspension_types.cell,\n",
    "        experimental_factors=assays.ln_10x_3_v2,\n",
    "    )\n",
    "    .order_by(\"size\")\n",
    "    .distinct()\n",
    ")"
   ]
  },
  {
   "cell_type": "markdown",
   "id": "e248ae3d",
   "metadata": {},
   "source": [
    "Display all search result as a `DataFrame`:"
   ]
  },
  {
   "cell_type": "code",
   "execution_count": 15,
   "id": "1b444bad",
   "metadata": {},
   "outputs": [
    {
     "data": {
      "text/html": [
       "<div>\n",
       "<style scoped>\n",
       "    .dataframe tbody tr th:only-of-type {\n",
       "        vertical-align: middle;\n",
       "    }\n",
       "\n",
       "    .dataframe tbody tr th {\n",
       "        vertical-align: top;\n",
       "    }\n",
       "\n",
       "    .dataframe thead th {\n",
       "        text-align: right;\n",
       "    }\n",
       "</style>\n",
       "<table border=\"1\" class=\"dataframe\">\n",
       "  <thead>\n",
       "    <tr style=\"text-align: right;\">\n",
       "      <th></th>\n",
       "      <th>uid</th>\n",
       "      <th>storage_id</th>\n",
       "      <th>key</th>\n",
       "      <th>suffix</th>\n",
       "      <th>accessor</th>\n",
       "      <th>description</th>\n",
       "      <th>version</th>\n",
       "      <th>size</th>\n",
       "      <th>hash</th>\n",
       "      <th>hash_type</th>\n",
       "      <th>transform_id</th>\n",
       "      <th>run_id</th>\n",
       "      <th>initial_version_id</th>\n",
       "      <th>updated_at</th>\n",
       "      <th>created_by_id</th>\n",
       "    </tr>\n",
       "    <tr>\n",
       "      <th>id</th>\n",
       "      <th></th>\n",
       "      <th></th>\n",
       "      <th></th>\n",
       "      <th></th>\n",
       "      <th></th>\n",
       "      <th></th>\n",
       "      <th></th>\n",
       "      <th></th>\n",
       "      <th></th>\n",
       "      <th></th>\n",
       "      <th></th>\n",
       "      <th></th>\n",
       "      <th></th>\n",
       "      <th></th>\n",
       "      <th></th>\n",
       "    </tr>\n",
       "  </thead>\n",
       "  <tbody>\n",
       "    <tr>\n",
       "      <th>847</th>\n",
       "      <td>BEndTAjLN1oFOgn84cpM</td>\n",
       "      <td>2</td>\n",
       "      <td>cell-census/2023-07-25/h5ads/20d87640-4be8-487...</td>\n",
       "      <td>.h5ad</td>\n",
       "      <td>AnnData</td>\n",
       "      <td>Mature kidney dataset: immune|20d87640-4be8-48...</td>\n",
       "      <td>None</td>\n",
       "      <td>44647761</td>\n",
       "      <td>dAApZI2IZr64F5b1jDMgtA-6</td>\n",
       "      <td>md5-n</td>\n",
       "      <td>1</td>\n",
       "      <td>1</td>\n",
       "      <td>None</td>\n",
       "      <td>2023-10-16 17:04:08</td>\n",
       "      <td>1</td>\n",
       "    </tr>\n",
       "    <tr>\n",
       "      <th>27</th>\n",
       "      <td>uzMa01sM040ZZ4mJqHjI</td>\n",
       "      <td>2</td>\n",
       "      <td>cell-census/2023-07-25/h5ads/2d31c0ca-0233-41c...</td>\n",
       "      <td>.h5ad</td>\n",
       "      <td>AnnData</td>\n",
       "      <td>Fetal kidney dataset: immune|2d31c0ca-0233-41c...</td>\n",
       "      <td>None</td>\n",
       "      <td>64056560</td>\n",
       "      <td>YjLm7iPkIFIEYimgQEfJSA-8</td>\n",
       "      <td>md5-n</td>\n",
       "      <td>1</td>\n",
       "      <td>1</td>\n",
       "      <td>None</td>\n",
       "      <td>2023-10-16 17:04:08</td>\n",
       "      <td>1</td>\n",
       "    </tr>\n",
       "    <tr>\n",
       "      <th>32</th>\n",
       "      <td>6DepavbfBwYO2T54viZr</td>\n",
       "      <td>2</td>\n",
       "      <td>cell-census/2023-07-25/h5ads/9ea768a2-87ab-46b...</td>\n",
       "      <td>.h5ad</td>\n",
       "      <td>AnnData</td>\n",
       "      <td>Mature kidney dataset: full|9ea768a2-87ab-46b6...</td>\n",
       "      <td>None</td>\n",
       "      <td>192484358</td>\n",
       "      <td>odAyLe_6uoRCQV5eJRijqQ-23</td>\n",
       "      <td>md5-n</td>\n",
       "      <td>1</td>\n",
       "      <td>1</td>\n",
       "      <td>None</td>\n",
       "      <td>2023-10-16 17:04:08</td>\n",
       "      <td>1</td>\n",
       "    </tr>\n",
       "    <tr>\n",
       "      <th>119</th>\n",
       "      <td>VpfQuZTloenoMKmoJCYR</td>\n",
       "      <td>2</td>\n",
       "      <td>cell-census/2023-07-25/h5ads/105c7dad-0468-462...</td>\n",
       "      <td>.h5ad</td>\n",
       "      <td>AnnData</td>\n",
       "      <td>mature|105c7dad-0468-4628-a5be-2bb42c6a8ae4</td>\n",
       "      <td>None</td>\n",
       "      <td>232722706</td>\n",
       "      <td>3yOOhI-gP3TlpyLcDNUTBA-28</td>\n",
       "      <td>md5-n</td>\n",
       "      <td>1</td>\n",
       "      <td>1</td>\n",
       "      <td>None</td>\n",
       "      <td>2023-10-16 17:04:08</td>\n",
       "      <td>1</td>\n",
       "    </tr>\n",
       "    <tr>\n",
       "      <th>673</th>\n",
       "      <td>8vDeVtPTdjqALZvivlJ9</td>\n",
       "      <td>2</td>\n",
       "      <td>cell-census/2023-07-25/h5ads/d7dcfd8f-2ee7-438...</td>\n",
       "      <td>.h5ad</td>\n",
       "      <td>AnnData</td>\n",
       "      <td>Fetal kidney dataset: full|d7dcfd8f-2ee7-4385-...</td>\n",
       "      <td>None</td>\n",
       "      <td>341214674</td>\n",
       "      <td>R8-G4h5ztVfX29r58T4g_Q-41</td>\n",
       "      <td>md5-n</td>\n",
       "      <td>1</td>\n",
       "      <td>1</td>\n",
       "      <td>None</td>\n",
       "      <td>2023-10-16 17:04:08</td>\n",
       "      <td>1</td>\n",
       "    </tr>\n",
       "    <tr>\n",
       "      <th>84</th>\n",
       "      <td>cuDo9He04Jkcb7jp6i1N</td>\n",
       "      <td>2</td>\n",
       "      <td>cell-census/2023-07-25/h5ads/a51c6ece-5731-412...</td>\n",
       "      <td>.h5ad</td>\n",
       "      <td>AnnData</td>\n",
       "      <td>fetal|a51c6ece-5731-4128-8c1e-5060e80c69e4</td>\n",
       "      <td>None</td>\n",
       "      <td>355416375</td>\n",
       "      <td>ZnFXcJVMpydqZ4IUoH1WuQ-43</td>\n",
       "      <td>md5-n</td>\n",
       "      <td>1</td>\n",
       "      <td>1</td>\n",
       "      <td>None</td>\n",
       "      <td>2023-10-16 17:04:08</td>\n",
       "      <td>1</td>\n",
       "    </tr>\n",
       "    <tr>\n",
       "      <th>716</th>\n",
       "      <td>KkdXjqamofV2ccSDzZdx</td>\n",
       "      <td>2</td>\n",
       "      <td>cell-census/2023-07-25/h5ads/2aa1c93c-4ef3-4e9...</td>\n",
       "      <td>.h5ad</td>\n",
       "      <td>AnnData</td>\n",
       "      <td>Myeloid cells|2aa1c93c-4ef3-4e9a-98e7-0bd37933...</td>\n",
       "      <td>None</td>\n",
       "      <td>2384772006</td>\n",
       "      <td>MDY4TNmLdD-GQdzNkYEknQ-285</td>\n",
       "      <td>md5-n</td>\n",
       "      <td>1</td>\n",
       "      <td>1</td>\n",
       "      <td>None</td>\n",
       "      <td>2023-10-16 17:04:08</td>\n",
       "      <td>1</td>\n",
       "    </tr>\n",
       "    <tr>\n",
       "      <th>755</th>\n",
       "      <td>N6Yoh8IOLjnjSqsXxdAc</td>\n",
       "      <td>2</td>\n",
       "      <td>cell-census/2023-07-25/h5ads/48101fa2-1a63-451...</td>\n",
       "      <td>.h5ad</td>\n",
       "      <td>AnnData</td>\n",
       "      <td>HSC/immune cells (all hematopoietic-derived ce...</td>\n",
       "      <td>None</td>\n",
       "      <td>6214230662</td>\n",
       "      <td>1MB5sW58f0xb3o5D4SQs5Q-741</td>\n",
       "      <td>md5-n</td>\n",
       "      <td>1</td>\n",
       "      <td>1</td>\n",
       "      <td>None</td>\n",
       "      <td>2023-10-16 17:04:08</td>\n",
       "      <td>1</td>\n",
       "    </tr>\n",
       "    <tr>\n",
       "      <th>161</th>\n",
       "      <td>ffkuSnH5crI4qUTezTab</td>\n",
       "      <td>2</td>\n",
       "      <td>cell-census/2023-07-25/h5ads/fd072bc3-2dfb-46f...</td>\n",
       "      <td>.h5ad</td>\n",
       "      <td>AnnData</td>\n",
       "      <td>Full dataset of single-cell RNA-seq profiles f...</td>\n",
       "      <td>None</td>\n",
       "      <td>9582395846</td>\n",
       "      <td>vn2qUt-U428uhKIsz-T5ZA-1143</td>\n",
       "      <td>md5-n</td>\n",
       "      <td>1</td>\n",
       "      <td>1</td>\n",
       "      <td>None</td>\n",
       "      <td>2023-10-16 17:04:08</td>\n",
       "      <td>1</td>\n",
       "    </tr>\n",
       "  </tbody>\n",
       "</table>\n",
       "</div>"
      ],
      "text/plain": [
       "                      uid  storage_id  \\\n",
       "id                                      \n",
       "847  BEndTAjLN1oFOgn84cpM           2   \n",
       "27   uzMa01sM040ZZ4mJqHjI           2   \n",
       "32   6DepavbfBwYO2T54viZr           2   \n",
       "119  VpfQuZTloenoMKmoJCYR           2   \n",
       "673  8vDeVtPTdjqALZvivlJ9           2   \n",
       "84   cuDo9He04Jkcb7jp6i1N           2   \n",
       "716  KkdXjqamofV2ccSDzZdx           2   \n",
       "755  N6Yoh8IOLjnjSqsXxdAc           2   \n",
       "161  ffkuSnH5crI4qUTezTab           2   \n",
       "\n",
       "                                                   key suffix accessor  \\\n",
       "id                                                                       \n",
       "847  cell-census/2023-07-25/h5ads/20d87640-4be8-487...  .h5ad  AnnData   \n",
       "27   cell-census/2023-07-25/h5ads/2d31c0ca-0233-41c...  .h5ad  AnnData   \n",
       "32   cell-census/2023-07-25/h5ads/9ea768a2-87ab-46b...  .h5ad  AnnData   \n",
       "119  cell-census/2023-07-25/h5ads/105c7dad-0468-462...  .h5ad  AnnData   \n",
       "673  cell-census/2023-07-25/h5ads/d7dcfd8f-2ee7-438...  .h5ad  AnnData   \n",
       "84   cell-census/2023-07-25/h5ads/a51c6ece-5731-412...  .h5ad  AnnData   \n",
       "716  cell-census/2023-07-25/h5ads/2aa1c93c-4ef3-4e9...  .h5ad  AnnData   \n",
       "755  cell-census/2023-07-25/h5ads/48101fa2-1a63-451...  .h5ad  AnnData   \n",
       "161  cell-census/2023-07-25/h5ads/fd072bc3-2dfb-46f...  .h5ad  AnnData   \n",
       "\n",
       "                                           description version        size  \\\n",
       "id                                                                           \n",
       "847  Mature kidney dataset: immune|20d87640-4be8-48...    None    44647761   \n",
       "27   Fetal kidney dataset: immune|2d31c0ca-0233-41c...    None    64056560   \n",
       "32   Mature kidney dataset: full|9ea768a2-87ab-46b6...    None   192484358   \n",
       "119        mature|105c7dad-0468-4628-a5be-2bb42c6a8ae4    None   232722706   \n",
       "673  Fetal kidney dataset: full|d7dcfd8f-2ee7-4385-...    None   341214674   \n",
       "84          fetal|a51c6ece-5731-4128-8c1e-5060e80c69e4    None   355416375   \n",
       "716  Myeloid cells|2aa1c93c-4ef3-4e9a-98e7-0bd37933...    None  2384772006   \n",
       "755  HSC/immune cells (all hematopoietic-derived ce...    None  6214230662   \n",
       "161  Full dataset of single-cell RNA-seq profiles f...    None  9582395846   \n",
       "\n",
       "                            hash hash_type  transform_id  run_id  \\\n",
       "id                                                                 \n",
       "847     dAApZI2IZr64F5b1jDMgtA-6     md5-n             1       1   \n",
       "27      YjLm7iPkIFIEYimgQEfJSA-8     md5-n             1       1   \n",
       "32     odAyLe_6uoRCQV5eJRijqQ-23     md5-n             1       1   \n",
       "119    3yOOhI-gP3TlpyLcDNUTBA-28     md5-n             1       1   \n",
       "673    R8-G4h5ztVfX29r58T4g_Q-41     md5-n             1       1   \n",
       "84     ZnFXcJVMpydqZ4IUoH1WuQ-43     md5-n             1       1   \n",
       "716   MDY4TNmLdD-GQdzNkYEknQ-285     md5-n             1       1   \n",
       "755   1MB5sW58f0xb3o5D4SQs5Q-741     md5-n             1       1   \n",
       "161  vn2qUt-U428uhKIsz-T5ZA-1143     md5-n             1       1   \n",
       "\n",
       "    initial_version_id           updated_at  created_by_id  \n",
       "id                                                          \n",
       "847               None  2023-10-16 17:04:08              1  \n",
       "27                None  2023-10-16 17:04:08              1  \n",
       "32                None  2023-10-16 17:04:08              1  \n",
       "119               None  2023-10-16 17:04:08              1  \n",
       "673               None  2023-10-16 17:04:08              1  \n",
       "84                None  2023-10-16 17:04:08              1  \n",
       "716               None  2023-10-16 17:04:08              1  \n",
       "755               None  2023-10-16 17:04:08              1  \n",
       "161               None  2023-10-16 17:04:08              1  "
      ]
     },
     "execution_count": 15,
     "metadata": {},
     "output_type": "execute_result"
    }
   ],
   "source": [
    "query.df()"
   ]
  },
  {
   "cell_type": "markdown",
   "id": "2257b79b",
   "metadata": {},
   "source": [
    "## Access a queried h5ad file"
   ]
  },
  {
   "cell_type": "code",
   "execution_count": 16,
   "id": "caab747d",
   "metadata": {},
   "outputs": [
    {
     "data": {
      "text/plain": [
       "File(uid='BEndTAjLN1oFOgn84cpM', key='cell-census/2023-07-25/h5ads/20d87640-4be8-487f-93d4-dce38378d00f.h5ad', suffix='.h5ad', accessor='AnnData', description='Mature kidney dataset: immune|20d87640-4be8-487f-93d4-dce38378d00f', size=44647761, hash='dAApZI2IZr64F5b1jDMgtA-6', hash_type='md5-n', updated_at=2023-10-16 15:04:08, storage_id=2, transform_id=1, run_id=1, created_by_id=1)"
      ]
     },
     "execution_count": 16,
     "metadata": {},
     "output_type": "execute_result"
    }
   ],
   "source": [
    "file = query.first()\n",
    "file"
   ]
  },
  {
   "cell_type": "markdown",
   "id": "e2c5595c",
   "metadata": {},
   "source": [
    "Optionally, [search a file on the UI](https://lamin.ai/laminlabs/cellxgene-census/records/core/File) and fetch it through uid: \n",
    "`ln.File.filter(uid=\"...\").one()`"
   ]
  },
  {
   "cell_type": "markdown",
   "id": "a5ba9adc",
   "metadata": {},
   "source": [
    "Or, query for a collection you found on [CZ CELLxGENE Discover](https://cellxgene.cziscience.com/collections):\n",
    "\n",
    "Note that most recent collections may not have been added yet."
   ]
  },
  {
   "cell_type": "code",
   "execution_count": null,
   "id": "ce37cb04",
   "metadata": {},
   "outputs": [],
   "source": [
    "ln.File.filter(ulabels__name=\"Spatiotemporal immune zonation of the human kidney\").df()"
   ]
  },
  {
   "cell_type": "markdown",
   "id": "12ae5dd1",
   "metadata": {},
   "source": [
    "Describe all linked metadata:"
   ]
  },
  {
   "cell_type": "code",
   "execution_count": null,
   "id": "a79c1292",
   "metadata": {},
   "outputs": [],
   "source": [
    "file.describe()"
   ]
  },
  {
   "cell_type": "markdown",
   "id": "df94cc45",
   "metadata": {},
   "source": [
    "Access all registered features (standardized obs columns):"
   ]
  },
  {
   "cell_type": "code",
   "execution_count": null,
   "id": "6dbb046e",
   "metadata": {},
   "outputs": [],
   "source": [
    "file.features"
   ]
  },
  {
   "cell_type": "markdown",
   "id": "717707b9",
   "metadata": {},
   "source": [
    "Get labels from a feature:"
   ]
  },
  {
   "cell_type": "code",
   "execution_count": null,
   "id": "1e114827",
   "metadata": {},
   "outputs": [],
   "source": [
    "features = ln.Feature.lookup()"
   ]
  },
  {
   "cell_type": "code",
   "execution_count": null,
   "id": "83ba2f9b",
   "metadata": {},
   "outputs": [],
   "source": [
    "# tissues\n",
    "file.labels.get(features.tissue).df()"
   ]
  },
  {
   "cell_type": "code",
   "execution_count": null,
   "id": "41df0fb0",
   "metadata": {},
   "outputs": [],
   "source": [
    "# check the corresponding collection/publication\n",
    "file.labels.get(features.collection).one()"
   ]
  },
  {
   "cell_type": "markdown",
   "id": "bd260497",
   "metadata": {},
   "source": [
    "Use `file.backed()`, `file.load()` to access the underlying `h5ad` file:\n",
    "\n",
    "See {class}`~lamindb.File` for details."
   ]
  },
  {
   "cell_type": "code",
   "execution_count": null,
   "id": "d1d21217",
   "metadata": {},
   "outputs": [],
   "source": [
    "file.backed()"
   ]
  },
  {
   "cell_type": "code",
   "execution_count": null,
   "id": "e11da9af",
   "metadata": {},
   "outputs": [],
   "source": [
    "adata = file.load()"
   ]
  },
  {
   "cell_type": "code",
   "execution_count": null,
   "id": "542e9ba7",
   "metadata": {},
   "outputs": [],
   "source": [
    "adata"
   ]
  },
  {
   "cell_type": "markdown",
   "id": "6bd94803",
   "metadata": {},
   "source": [
    "If you are interested in how the human part of the instance was created: see {doc}`census-registries`.\n",
    "\n",
    "If you are interested in querying from `cellxgene-census` using LaminDB registries: see {doc}`query-census`.\n",
    "\n",
    "If you want to see the full docs, see [here](https://cellxgene-census-lamin-c192.netlify.app/notebooks).\n",
    "\n",
    "```{toctree}\n",
    ":maxdepth: 1\n",
    ":hidden:\n",
    "\n",
    "census-registries\n",
    "query-census\n",
    "```"
   ]
  }
 ],
 "metadata": {
  "kernelspec": {
   "display_name": "Python 3 (ipykernel)",
   "language": "python",
   "name": "python3"
  },
  "language_info": {
   "codemirror_mode": {
    "name": "ipython",
    "version": 3
   },
   "file_extension": ".py",
   "mimetype": "text/x-python",
   "name": "python",
   "nbconvert_exporter": "python",
   "pygments_lexer": "ipython3",
   "version": "3.10.13"
  },
  "nbproject": {
   "id": "5FUyJ6RkVk0D",
   "parent": null,
   "pypackage": null,
   "time_init": "2023-09-05T14:45:21.919899+00:00",
   "user_handle": "sunnyosun",
   "user_id": "kmvZDIX9",
   "user_name": "Sunny Sun",
   "version": "0"
  }
 },
 "nbformat": 4,
 "nbformat_minor": 5
}
