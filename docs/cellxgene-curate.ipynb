{
 "cells": [
  {
   "cell_type": "markdown",
   "id": "1d2cd769",
   "metadata": {},
   "source": [
    "# Curate `AnnData` based on the CELLxGENE schema\n",
    "\n",
    "This guide shows how to curate an AnnData object with the help of [`laminlabs/cellxgene`](https://lamin.ai/laminlabs/cellxgene) against the [CELLxGENE schema v5.1.0](https://github.com/chanzuckerberg/single-cell-curation/blob/main/schema/5.1.0/schema.md)."
   ]
  },
  {
   "cell_type": "markdown",
   "id": "cbe9ae41",
   "metadata": {},
   "source": [
    "Load your instance where you want to register the curated AnnData object:"
   ]
  },
  {
   "cell_type": "code",
   "execution_count": 1,
   "id": "74008c61",
   "metadata": {
    "tags": [
     "hide-output"
    ]
   },
   "outputs": [
    {
     "name": "stdout",
     "output_type": "stream",
     "text": [
      "\u001b[92m→\u001b[0m connected lamindb: zethson/test-cellxgene-curate\n"
     ]
    }
   ],
   "source": [
    "# !pip install 'lamindb[bionty,jupyter]' cellxgene-lamin\n",
    "# cellxgene-schema has pinned dependencies. Therefore we recommend installing it into a separate environment using `uv` or `pipx`\n",
    "# uv tool install cellxgene-schema==5.1.0\n",
    "!lamin init --storage ./test-cellxgene-curate --name test-cellxgene-curate --schema bionty"
   ]
  },
  {
   "cell_type": "code",
   "execution_count": 4,
   "id": "a691aae0",
   "metadata": {},
   "outputs": [
    {
     "name": "stdout",
     "output_type": "stream",
     "text": [
      "\u001b[92m→\u001b[0m connected lamindb: zethson/test-cellxgene-curate\n"
     ]
    }
   ],
   "source": [
    "import lamindb as ln\n",
    "import cellxgene_lamin as cxg"
   ]
  },
  {
   "cell_type": "markdown",
   "id": "52bbbac2",
   "metadata": {},
   "source": [
    "Let's start with an AnnData object that we'd like to inspect and curate.\n",
    "We are writing it to disk to run [CZI's cellxgene-schema CLI tool](https://github.com/chanzuckerberg/single-cell-curation) which verifies whether an on-disk h5ad dataset adheres to the cellxgene schema."
   ]
  },
  {
   "cell_type": "code",
   "execution_count": 5,
   "id": "9cec7bf7",
   "metadata": {
    "tags": [
     "hide-output"
    ]
   },
   "outputs": [
    {
     "data": {
      "text/plain": [
       "AnnData object with n_obs × n_vars = 1626 × 36503\n",
       "    obs: 'donor', 'tissue', 'cell_type', 'assay', 'sex_ontology_term_id', 'organism', 'sex'\n",
       "    var: 'feature_is_filtered'\n",
       "    uns: 'default_embedding'\n",
       "    obsm: 'X_umap'"
      ]
     },
     "execution_count": 5,
     "metadata": {},
     "output_type": "execute_result"
    }
   ],
   "source": [
    "adata = cxg.datasets.anndata_human_immune_cells()\n",
    "adata.write_h5ad(\"anndata_human_immune_cells.h5ad\")\n",
    "adata"
   ]
  },
  {
   "cell_type": "markdown",
   "id": "c72018c0",
   "metadata": {},
   "source": [
    "Initially, the cellxgene-schema validator of CZI does not pass and we need to curate the dataset."
   ]
  },
  {
   "cell_type": "code",
   "execution_count": 6,
   "id": "de5788f8",
   "metadata": {
    "tags": [
     "hide-output"
    ]
   },
   "outputs": [
    {
     "name": "stdout",
     "output_type": "stream",
     "text": [
      "Loading dependencies\n",
      "Loading validator modules\n",
      "Starting validation...\n",
      "Unable to open 'anndata_human_immune_cells.h5ad' with AnnData\n"
     ]
    }
   ],
   "source": [
    "!MPLBACKEND=agg uvx cellxgene-schema validate anndata_human_immune_cells.h5ad || exit 1"
   ]
  },
  {
   "cell_type": "markdown",
   "id": "946a3371",
   "metadata": {},
   "source": [
    "## Validate and curate metadata"
   ]
  },
  {
   "cell_type": "markdown",
   "id": "acdb45d8",
   "metadata": {},
   "source": [
    "We create a `Curate` object that references the `AnnData` object.\n",
    "During instantiation, any :class:`~lamindb.Feature` records are saved."
   ]
  },
  {
   "cell_type": "code",
   "execution_count": 5,
   "id": "9ee9cd17",
   "metadata": {
    "tags": [
     "hide-output"
    ]
   },
   "outputs": [
    {
     "name": "stdout",
     "output_type": "stream",
     "text": [
      "\u001b[93m!\u001b[0m source schema has additional modules: {'ourprojects'}\n",
      "consider mounting these schema modules to transfer all metadata\n",
      "\u001b[93m!\u001b[0m source schema has additional modules: {'ourprojects'}\n",
      "consider mounting these schema modules to transfer all metadata\n",
      "\u001b[93m!\u001b[0m source schema has additional modules: {'ourprojects'}\n",
      "consider mounting these schema modules to transfer all metadata\n",
      "\u001b[93m!\u001b[0m source schema has additional modules: {'ourprojects'}\n",
      "consider mounting these schema modules to transfer all metadata\n",
      "\u001b[93m!\u001b[0m source schema has additional modules: {'ourprojects'}\n",
      "consider mounting these schema modules to transfer all metadata\n"
     ]
    }
   ],
   "source": [
    "curator = cxg.Curator(adata, organism=\"human\", schema_version=\"5.1.0\")"
   ]
  },
  {
   "cell_type": "markdown",
   "id": "a257d96f",
   "metadata": {},
   "source": [
    "Let's fix the \"donor_id\" column name:"
   ]
  },
  {
   "cell_type": "code",
   "execution_count": 6,
   "id": "5ceae892",
   "metadata": {},
   "outputs": [],
   "source": [
    "adata.obs.rename(columns={\"donor\": \"donor_id\"}, inplace=True)"
   ]
  },
  {
   "cell_type": "code",
   "execution_count": 7,
   "id": "0eb2bdf2",
   "metadata": {},
   "outputs": [
    {
     "name": "stdout",
     "output_type": "stream",
     "text": [
      "\u001b[91m✗\u001b[0m missing required obs columns development_stage, disease, self_reported_ethnicity, suspension_type, tissue_type\n",
      "\u001b[94m•\u001b[0m consider initializing a Curate object like 'Curate(adata, defaults=cxg.CellxGeneFields.OBS_FIELD_DEFAULTS)'to automatically add these columns with default values.\n"
     ]
    }
   ],
   "source": [
    "validated = curator.validate()"
   ]
  },
  {
   "cell_type": "markdown",
   "id": "5119f1a5",
   "metadata": {},
   "source": [
    "For the missing columns, we can pass default values suggested from CELLxGENE which will automatically add them to the AnnData object:"
   ]
  },
  {
   "cell_type": "code",
   "execution_count": 8,
   "id": "dc154b39",
   "metadata": {
    "tags": [
     "hide-output"
    ]
   },
   "outputs": [
    {
     "data": {
      "text/plain": [
       "{'cell_type': 'unknown',\n",
       " 'development_stage': 'unknown',\n",
       " 'disease': 'normal',\n",
       " 'donor_id': 'unknown',\n",
       " 'self_reported_ethnicity': 'unknown',\n",
       " 'sex': 'unknown',\n",
       " 'suspension_type': 'cell',\n",
       " 'tissue_type': 'tissue'}"
      ]
     },
     "execution_count": 8,
     "metadata": {},
     "output_type": "execute_result"
    }
   ],
   "source": [
    "cxg.CellxGeneFields.OBS_FIELD_DEFAULTS"
   ]
  },
  {
   "cell_type": "markdown",
   "id": "c6837005",
   "metadata": {},
   "source": [
    "```{note}\n",
    "CELLxGENE requires columns `tissue`, `organism`, and `assay` to have existing values from the ontologies.\n",
    "Therefore, these columns need to be added and populated manually.\n",
    "```"
   ]
  },
  {
   "cell_type": "code",
   "execution_count": 9,
   "id": "15137652",
   "metadata": {
    "tags": [
     "hide-output"
    ]
   },
   "outputs": [
    {
     "name": "stdout",
     "output_type": "stream",
     "text": [
      "\u001b[92m→\u001b[0m added default value 'unknown' to the adata.obs['development_stage']\n"
     ]
    },
    {
     "name": "stdout",
     "output_type": "stream",
     "text": [
      "\u001b[92m→\u001b[0m added default value 'normal' to the adata.obs['disease']\n",
      "\u001b[92m→\u001b[0m added default value 'unknown' to the adata.obs['self_reported_ethnicity']\n",
      "\u001b[92m→\u001b[0m added default value 'cell' to the adata.obs['suspension_type']\n",
      "\u001b[92m→\u001b[0m added default value 'tissue' to the adata.obs['tissue_type']\n",
      "\u001b[93m!\u001b[0m source schema has additional modules: {'ourprojects'}\n",
      "consider mounting these schema modules to transfer all metadata\n",
      "\u001b[93m!\u001b[0m source schema has additional modules: {'ourprojects'}\n",
      "consider mounting these schema modules to transfer all metadata\n",
      "\u001b[93m!\u001b[0m source schema has additional modules: {'ourprojects'}\n",
      "consider mounting these schema modules to transfer all metadata\n",
      "\u001b[93m!\u001b[0m source schema has additional modules: {'ourprojects'}\n",
      "consider mounting these schema modules to transfer all metadata\n",
      "\u001b[93m!\u001b[0m source schema has additional modules: {'ourprojects'}\n",
      "consider mounting these schema modules to transfer all metadata\n",
      "\u001b[93m!\u001b[0m source schema has additional modules: {'ourprojects'}\n",
      "consider mounting these schema modules to transfer all metadata\n",
      "\u001b[93m!\u001b[0m source schema has additional modules: {'ourprojects'}\n",
      "consider mounting these schema modules to transfer all metadata\n",
      "\u001b[93m!\u001b[0m source schema has additional modules: {'ourprojects'}\n",
      "consider mounting these schema modules to transfer all metadata\n"
     ]
    }
   ],
   "source": [
    "curator = cxg.Curator(adata, defaults=cxg.CellxGeneFields.OBS_FIELD_DEFAULTS, organism=\"human\", schema_version=\"5.1.0\")"
   ]
  },
  {
   "cell_type": "code",
   "execution_count": 10,
   "id": "24e00633",
   "metadata": {
    "tags": [
     "hide-output"
    ]
   },
   "outputs": [
    {
     "name": "stdout",
     "output_type": "stream",
     "text": [
      "\u001b[92m→\u001b[0m validating metadata using registries of instance \u001b[3mlaminlabs/cellxgene\u001b[0m\n",
      "\u001b[93m!\u001b[0m source schema has additional modules: {'ourprojects'}\n",
      "consider mounting these schema modules to transfer all metadata\n",
      "\u001b[94m•\u001b[0m mapping \"var_index\" on \u001b[3mGene.ensembl_gene_id\u001b[0m\n",
      "\u001b[93m!\u001b[0m   \u001b[1;91m113 terms\u001b[0m are not validated: \u001b[1;91m'ENSG00000269933', 'ENSG00000261737', 'ENSG00000259834', 'ENSG00000256374', 'ENSG00000263464', 'ENSG00000203812', 'ENSG00000272196', 'ENSG00000272880', 'ENSG00000270188', 'ENSG00000287116', 'ENSG00000237133', 'ENSG00000224739', 'ENSG00000227902', 'ENSG00000239467', 'ENSG00000272551', 'ENSG00000280374', 'ENSG00000236886', 'ENSG00000229352', 'ENSG00000286601', 'ENSG00000227021', ...\u001b[0m\n",
      "    → fix typos, remove non-existent values, or save terms via \u001b[1;96m.add_new_from_var_index()\u001b[0m\n",
      "\u001b[92m✓\u001b[0m \"assay\" is validated against \u001b[3mExperimentalFactor.name\u001b[0m\n",
      "\u001b[92m✓\u001b[0m \"cell_type\" is validated against \u001b[3mCellType.name\u001b[0m\n",
      "\u001b[92m✓\u001b[0m \"development_stage\" is validated against \u001b[3mDevelopmentalStage.name\u001b[0m\n",
      "\u001b[92m✓\u001b[0m \"disease\" is validated against \u001b[3mDisease.name\u001b[0m\n",
      "\u001b[92m✓\u001b[0m \"donor_id\" is validated against \u001b[3mULabel.name\u001b[0m\n",
      "\u001b[92m✓\u001b[0m \"self_reported_ethnicity\" is validated against \u001b[3mEthnicity.name\u001b[0m\n",
      "\u001b[92m✓\u001b[0m \"sex_ontology_term_id\" is validated against \u001b[3mPhenotype.ontology_id\u001b[0m\n",
      "\u001b[92m✓\u001b[0m \"suspension_type\" is validated against \u001b[3mULabel.name\u001b[0m\n",
      "\u001b[93m!\u001b[0m source schema has additional modules: {'ourprojects'}\n",
      "consider mounting these schema modules to transfer all metadata\n",
      "\u001b[94m•\u001b[0m mapping \"tissue\" on \u001b[3mTissue.name\u001b[0m\n",
      "\u001b[93m!\u001b[0m   \u001b[1;91m1 term\u001b[0m is not validated: \u001b[1;91m'lungg'\u001b[0m\n",
      "    → fix typos, remove non-existent values, or save terms via \u001b[1;96m.add_new_from(\"tissue\")\u001b[0m\n",
      "\u001b[92m✓\u001b[0m \"tissue_type\" is validated against \u001b[3mULabel.name\u001b[0m\n",
      "\u001b[92m✓\u001b[0m \"organism\" is validated against \u001b[3mOrganism.name\u001b[0m\n"
     ]
    },
    {
     "data": {
      "text/plain": [
       "False"
      ]
     },
     "execution_count": 10,
     "metadata": {},
     "output_type": "execute_result"
    }
   ],
   "source": [
    "validated = curator.validate()\n",
    "validated"
   ]
  },
  {
   "cell_type": "markdown",
   "id": "19d016a6",
   "metadata": {},
   "source": [
    "## Remove unvalidated values"
   ]
  },
  {
   "cell_type": "markdown",
   "id": "d55bbb62",
   "metadata": {},
   "source": [
    "We remove all unvalidated genes.\n",
    "These genes may exist in a different release of ensembl but are not valid for the ensembl version of cellxgene schema 5.0.0 (ensembl release 110)."
   ]
  },
  {
   "cell_type": "code",
   "execution_count": 11,
   "id": "99372d42",
   "metadata": {},
   "outputs": [],
   "source": [
    "adata = adata[:, ~adata.var.index.isin(curator.non_validated[\"var_index\"])].copy()\n",
    "if adata.raw is not None:\n",
    "    raw_data = adata.raw.to_adata()\n",
    "    raw_data = raw_data[\n",
    "         :, ~raw_data.var_names.isin(curator.non_validated[\"var_index\"])\n",
    "    ].copy()\n",
    "    adata.raw = raw_data"
   ]
  },
  {
   "cell_type": "code",
   "execution_count": 12,
   "id": "c56d1fef",
   "metadata": {},
   "outputs": [
    {
     "name": "stdout",
     "output_type": "stream",
     "text": [
      "\u001b[93m!\u001b[0m source schema has additional modules: {'ourprojects'}\n",
      "consider mounting these schema modules to transfer all metadata\n",
      "\u001b[93m!\u001b[0m source schema has additional modules: {'ourprojects'}\n",
      "consider mounting these schema modules to transfer all metadata\n",
      "\u001b[93m!\u001b[0m source schema has additional modules: {'ourprojects'}\n",
      "consider mounting these schema modules to transfer all metadata\n",
      "\u001b[93m!\u001b[0m source schema has additional modules: {'ourprojects'}\n",
      "consider mounting these schema modules to transfer all metadata\n",
      "\u001b[93m!\u001b[0m source schema has additional modules: {'ourprojects'}\n",
      "consider mounting these schema modules to transfer all metadata\n",
      "\u001b[93m!\u001b[0m source schema has additional modules: {'ourprojects'}\n",
      "consider mounting these schema modules to transfer all metadata\n",
      "\u001b[93m!\u001b[0m source schema has additional modules: {'ourprojects'}\n",
      "consider mounting these schema modules to transfer all metadata\n",
      "\u001b[93m!\u001b[0m source schema has additional modules: {'ourprojects'}\n",
      "consider mounting these schema modules to transfer all metadata\n"
     ]
    }
   ],
   "source": [
    "# We must create the Curate object again to ensure that it references the correct AnnData object\n",
    "curator = cxg.Curator(adata, organism=\"human\", schema_version=\"5.1.0\")"
   ]
  },
  {
   "cell_type": "markdown",
   "id": "7c157df6",
   "metadata": {},
   "source": [
    "## Register new metadata labels\n",
    "\n",
    "Following the suggestions above to register genes and labels that aren't present in the current instance:\n",
    "\n",
    "(Note that our instance is rather empty. Once you filled up the registries, registering new labels won't be frequently needed)"
   ]
  },
  {
   "cell_type": "markdown",
   "id": "9d30cf05",
   "metadata": {},
   "source": [
    "For donors, we register the new labels:"
   ]
  },
  {
   "cell_type": "code",
   "execution_count": 13,
   "id": "5c1453b0",
   "metadata": {
    "tags": [
     "hide-output"
    ]
   },
   "outputs": [],
   "source": [
    "curator.add_new_from(\"donor_id\")"
   ]
  },
  {
   "cell_type": "markdown",
   "id": "0861e207",
   "metadata": {},
   "source": [
    "An error is shown for the tissue label \"lungg\", which is a typo, should be \"lung\". Let's fix it:"
   ]
  },
  {
   "cell_type": "code",
   "execution_count": 14,
   "id": "ba61e42a",
   "metadata": {
    "tags": [
     "hide-output"
    ]
   },
   "outputs": [
    {
     "name": "stdout",
     "output_type": "stream",
     "text": [
      "\u001b[93m!\u001b[0m source schema has additional modules: {'ourprojects'}\n",
      "consider mounting these schema modules to transfer all metadata\n"
     ]
    },
    {
     "data": {
      "text/plain": [
       "Tissue(uid='7Tt4iEKc', name='lung', ontology_id='UBERON:0002048', synonyms='pulmo', description='Respiration Organ That Develops As An Outpocketing Of The Esophagus.', created_by_id=1, source_id=47, created_at=2023-11-28 22:50:53 UTC)"
      ]
     },
     "execution_count": 14,
     "metadata": {},
     "output_type": "execute_result"
    }
   ],
   "source": [
    "tissues = curator.lookup().tissue\n",
    "tissues.lung"
   ]
  },
  {
   "cell_type": "code",
   "execution_count": 15,
   "id": "daeb0568",
   "metadata": {
    "tags": [
     "hide-output"
    ]
   },
   "outputs": [],
   "source": [
    "adata.obs[\"tissue\"] = adata.obs[\"tissue\"].cat.rename_categories(\n",
    "    {\"lungg\": tissues.lung.name}\n",
    ")"
   ]
  },
  {
   "cell_type": "markdown",
   "id": "1f3cd3a9",
   "metadata": {},
   "source": [
    "Let's validate the object again:"
   ]
  },
  {
   "cell_type": "code",
   "execution_count": 16,
   "id": "1a90599b",
   "metadata": {
    "tags": [
     "hide-output"
    ]
   },
   "outputs": [
    {
     "name": "stdout",
     "output_type": "stream",
     "text": [
      "\u001b[92m→\u001b[0m validating metadata using registries of instance \u001b[3mlaminlabs/cellxgene\u001b[0m\n",
      "\u001b[92m✓\u001b[0m \"var_index\" is validated against \u001b[3mGene.ensembl_gene_id\u001b[0m\n",
      "\u001b[92m✓\u001b[0m \"assay\" is validated against \u001b[3mExperimentalFactor.name\u001b[0m\n",
      "\u001b[92m✓\u001b[0m \"cell_type\" is validated against \u001b[3mCellType.name\u001b[0m\n",
      "\u001b[92m✓\u001b[0m \"development_stage\" is validated against \u001b[3mDevelopmentalStage.name\u001b[0m\n",
      "\u001b[92m✓\u001b[0m \"disease\" is validated against \u001b[3mDisease.name\u001b[0m\n",
      "\u001b[92m✓\u001b[0m \"donor_id\" is validated against \u001b[3mULabel.name\u001b[0m\n",
      "\u001b[92m✓\u001b[0m \"self_reported_ethnicity\" is validated against \u001b[3mEthnicity.name\u001b[0m\n",
      "\u001b[92m✓\u001b[0m \"sex_ontology_term_id\" is validated against \u001b[3mPhenotype.ontology_id\u001b[0m\n",
      "\u001b[92m✓\u001b[0m \"suspension_type\" is validated against \u001b[3mULabel.name\u001b[0m\n",
      "\u001b[92m✓\u001b[0m \"tissue\" is validated against \u001b[3mTissue.name\u001b[0m\n",
      "\u001b[92m✓\u001b[0m \"tissue_type\" is validated against \u001b[3mULabel.name\u001b[0m\n",
      "\u001b[92m✓\u001b[0m \"organism\" is validated against \u001b[3mOrganism.name\u001b[0m\n"
     ]
    },
    {
     "data": {
      "text/plain": [
       "True"
      ]
     },
     "execution_count": 16,
     "metadata": {},
     "output_type": "execute_result"
    }
   ],
   "source": [
    "validated = curator.validate()\n",
    "validated"
   ]
  },
  {
   "cell_type": "code",
   "execution_count": 17,
   "id": "7200420f",
   "metadata": {
    "tags": [
     "hide-output"
    ]
   },
   "outputs": [
    {
     "data": {
      "text/html": [
       "<div>\n",
       "<style scoped>\n",
       "    .dataframe tbody tr th:only-of-type {\n",
       "        vertical-align: middle;\n",
       "    }\n",
       "\n",
       "    .dataframe tbody tr th {\n",
       "        vertical-align: top;\n",
       "    }\n",
       "\n",
       "    .dataframe thead th {\n",
       "        text-align: right;\n",
       "    }\n",
       "</style>\n",
       "<table border=\"1\" class=\"dataframe\">\n",
       "  <thead>\n",
       "    <tr style=\"text-align: right;\">\n",
       "      <th></th>\n",
       "      <th>donor_id</th>\n",
       "      <th>tissue</th>\n",
       "      <th>cell_type</th>\n",
       "      <th>assay</th>\n",
       "      <th>sex_ontology_term_id</th>\n",
       "      <th>organism</th>\n",
       "      <th>sex</th>\n",
       "      <th>development_stage</th>\n",
       "      <th>disease</th>\n",
       "      <th>self_reported_ethnicity</th>\n",
       "      <th>suspension_type</th>\n",
       "      <th>tissue_type</th>\n",
       "    </tr>\n",
       "  </thead>\n",
       "  <tbody>\n",
       "    <tr>\n",
       "      <th>CZINY-0109_CTGGTCTAGTCTGTAC</th>\n",
       "      <td>D496-1</td>\n",
       "      <td>blood</td>\n",
       "      <td>classical monocyte</td>\n",
       "      <td>10x 3' v3</td>\n",
       "      <td>PATO:0000384</td>\n",
       "      <td>human</td>\n",
       "      <td>unknown</td>\n",
       "      <td>unknown</td>\n",
       "      <td>normal</td>\n",
       "      <td>unknown</td>\n",
       "      <td>cell</td>\n",
       "      <td>tissue</td>\n",
       "    </tr>\n",
       "    <tr>\n",
       "      <th>CZI-IA10244332+CZI-IA10244434_CCTTCGACATACTCTT</th>\n",
       "      <td>621B-1</td>\n",
       "      <td>thoracic lymph node</td>\n",
       "      <td>T follicular helper cell</td>\n",
       "      <td>10x 5' v2</td>\n",
       "      <td>PATO:0000384</td>\n",
       "      <td>human</td>\n",
       "      <td>unknown</td>\n",
       "      <td>unknown</td>\n",
       "      <td>normal</td>\n",
       "      <td>unknown</td>\n",
       "      <td>cell</td>\n",
       "      <td>tissue</td>\n",
       "    </tr>\n",
       "    <tr>\n",
       "      <th>Pan_T7935491_CTGGTCTGTACATGTC</th>\n",
       "      <td>A29-1</td>\n",
       "      <td>spleen</td>\n",
       "      <td>memory B cell</td>\n",
       "      <td>10x 5' v1</td>\n",
       "      <td>PATO:0000384</td>\n",
       "      <td>human</td>\n",
       "      <td>unknown</td>\n",
       "      <td>unknown</td>\n",
       "      <td>normal</td>\n",
       "      <td>unknown</td>\n",
       "      <td>cell</td>\n",
       "      <td>tissue</td>\n",
       "    </tr>\n",
       "    <tr>\n",
       "      <th>Pan_T7980367_GGGCATCCAGGTGGAT</th>\n",
       "      <td>A36-1</td>\n",
       "      <td>lung</td>\n",
       "      <td>alveolar macrophage</td>\n",
       "      <td>10x 5' v1</td>\n",
       "      <td>PATO:0000384</td>\n",
       "      <td>human</td>\n",
       "      <td>unknown</td>\n",
       "      <td>unknown</td>\n",
       "      <td>normal</td>\n",
       "      <td>unknown</td>\n",
       "      <td>cell</td>\n",
       "      <td>tissue</td>\n",
       "    </tr>\n",
       "    <tr>\n",
       "      <th>Pan_T7935494_ATCATGGTCTACCTGC</th>\n",
       "      <td>A29-1</td>\n",
       "      <td>mesenteric lymph node</td>\n",
       "      <td>naive thymus-derived CD4-positive, alpha-beta ...</td>\n",
       "      <td>10x 5' v1</td>\n",
       "      <td>PATO:0000384</td>\n",
       "      <td>human</td>\n",
       "      <td>unknown</td>\n",
       "      <td>unknown</td>\n",
       "      <td>normal</td>\n",
       "      <td>unknown</td>\n",
       "      <td>cell</td>\n",
       "      <td>tissue</td>\n",
       "    </tr>\n",
       "  </tbody>\n",
       "</table>\n",
       "</div>"
      ],
      "text/plain": [
       "                                               donor_id  \\\n",
       "CZINY-0109_CTGGTCTAGTCTGTAC                      D496-1   \n",
       "CZI-IA10244332+CZI-IA10244434_CCTTCGACATACTCTT   621B-1   \n",
       "Pan_T7935491_CTGGTCTGTACATGTC                     A29-1   \n",
       "Pan_T7980367_GGGCATCCAGGTGGAT                     A36-1   \n",
       "Pan_T7935494_ATCATGGTCTACCTGC                     A29-1   \n",
       "\n",
       "                                                               tissue  \\\n",
       "CZINY-0109_CTGGTCTAGTCTGTAC                                     blood   \n",
       "CZI-IA10244332+CZI-IA10244434_CCTTCGACATACTCTT    thoracic lymph node   \n",
       "Pan_T7935491_CTGGTCTGTACATGTC                                  spleen   \n",
       "Pan_T7980367_GGGCATCCAGGTGGAT                                    lung   \n",
       "Pan_T7935494_ATCATGGTCTACCTGC                   mesenteric lymph node   \n",
       "\n",
       "                                                                                        cell_type  \\\n",
       "CZINY-0109_CTGGTCTAGTCTGTAC                                                    classical monocyte   \n",
       "CZI-IA10244332+CZI-IA10244434_CCTTCGACATACTCTT                           T follicular helper cell   \n",
       "Pan_T7935491_CTGGTCTGTACATGTC                                                       memory B cell   \n",
       "Pan_T7980367_GGGCATCCAGGTGGAT                                                 alveolar macrophage   \n",
       "Pan_T7935494_ATCATGGTCTACCTGC                   naive thymus-derived CD4-positive, alpha-beta ...   \n",
       "\n",
       "                                                    assay  \\\n",
       "CZINY-0109_CTGGTCTAGTCTGTAC                     10x 3' v3   \n",
       "CZI-IA10244332+CZI-IA10244434_CCTTCGACATACTCTT  10x 5' v2   \n",
       "Pan_T7935491_CTGGTCTGTACATGTC                   10x 5' v1   \n",
       "Pan_T7980367_GGGCATCCAGGTGGAT                   10x 5' v1   \n",
       "Pan_T7935494_ATCATGGTCTACCTGC                   10x 5' v1   \n",
       "\n",
       "                                               sex_ontology_term_id organism  \\\n",
       "CZINY-0109_CTGGTCTAGTCTGTAC                            PATO:0000384    human   \n",
       "CZI-IA10244332+CZI-IA10244434_CCTTCGACATACTCTT         PATO:0000384    human   \n",
       "Pan_T7935491_CTGGTCTGTACATGTC                          PATO:0000384    human   \n",
       "Pan_T7980367_GGGCATCCAGGTGGAT                          PATO:0000384    human   \n",
       "Pan_T7935494_ATCATGGTCTACCTGC                          PATO:0000384    human   \n",
       "\n",
       "                                                    sex development_stage  \\\n",
       "CZINY-0109_CTGGTCTAGTCTGTAC                     unknown           unknown   \n",
       "CZI-IA10244332+CZI-IA10244434_CCTTCGACATACTCTT  unknown           unknown   \n",
       "Pan_T7935491_CTGGTCTGTACATGTC                   unknown           unknown   \n",
       "Pan_T7980367_GGGCATCCAGGTGGAT                   unknown           unknown   \n",
       "Pan_T7935494_ATCATGGTCTACCTGC                   unknown           unknown   \n",
       "\n",
       "                                               disease  \\\n",
       "CZINY-0109_CTGGTCTAGTCTGTAC                     normal   \n",
       "CZI-IA10244332+CZI-IA10244434_CCTTCGACATACTCTT  normal   \n",
       "Pan_T7935491_CTGGTCTGTACATGTC                   normal   \n",
       "Pan_T7980367_GGGCATCCAGGTGGAT                   normal   \n",
       "Pan_T7935494_ATCATGGTCTACCTGC                   normal   \n",
       "\n",
       "                                               self_reported_ethnicity  \\\n",
       "CZINY-0109_CTGGTCTAGTCTGTAC                                    unknown   \n",
       "CZI-IA10244332+CZI-IA10244434_CCTTCGACATACTCTT                 unknown   \n",
       "Pan_T7935491_CTGGTCTGTACATGTC                                  unknown   \n",
       "Pan_T7980367_GGGCATCCAGGTGGAT                                  unknown   \n",
       "Pan_T7935494_ATCATGGTCTACCTGC                                  unknown   \n",
       "\n",
       "                                               suspension_type tissue_type  \n",
       "CZINY-0109_CTGGTCTAGTCTGTAC                               cell      tissue  \n",
       "CZI-IA10244332+CZI-IA10244434_CCTTCGACATACTCTT            cell      tissue  \n",
       "Pan_T7935491_CTGGTCTGTACATGTC                             cell      tissue  \n",
       "Pan_T7980367_GGGCATCCAGGTGGAT                             cell      tissue  \n",
       "Pan_T7935494_ATCATGGTCTACCTGC                             cell      tissue  "
      ]
     },
     "execution_count": 17,
     "metadata": {},
     "output_type": "execute_result"
    }
   ],
   "source": [
    "adata.obs.head()"
   ]
  },
  {
   "cell_type": "markdown",
   "id": "38a30170",
   "metadata": {},
   "source": [
    "## Save artifact"
   ]
  },
  {
   "cell_type": "code",
   "execution_count": 18,
   "id": "7a43d9b8",
   "metadata": {
    "tags": [
     "hide-output"
    ]
   },
   "outputs": [
    {
     "name": "stdout",
     "output_type": "stream",
     "text": [
      "\u001b[93m!\u001b[0m no run & transform got linked, call `ln.track()` & re-run\n",
      "\u001b[92m→\u001b[0m returning existing artifact with same hash: Artifact(uid='ZI5uEYLi3fDDDzoM0000', is_latest=True, description='dataset curated against cellxgene schema 5.1.0', suffix='.h5ad', type='dataset', size=54670616, hash='VYhEnkViOhtD-7kN2odUGw', n_observations=1626, _hash_type='sha1-fl', _accessor='AnnData', visibility=1, _key_is_virtual=True, storage_id=1, created_by_id=1, created_at=2025-01-10 13:30:15 UTC)\n",
      "\u001b[93m!\u001b[0m run input wasn't tracked, call `ln.track()` and re-run\n"
     ]
    }
   ],
   "source": [
    "artifact = curator.save_artifact(description=f\"dataset curated against cellxgene schema {curator.schema_version}\")"
   ]
  },
  {
   "cell_type": "code",
   "execution_count": 19,
   "id": "f12ec345",
   "metadata": {
    "tags": [
     "hide-output"
    ]
   },
   "outputs": [
    {
     "data": {
      "text/html": [
       "<pre style=\"white-space:pre;overflow-x:auto;line-height:normal;font-family:Menlo,'DejaVu Sans Mono',consolas,'Courier New',monospace\"><span style=\"font-weight: bold\">Artifact</span><span style=\"color: #7f7f7f; text-decoration-color: #7f7f7f; font-weight: bold\"> .h5ad/AnnData</span>\n",
       "<span style=\"color: #7f7f7f; text-decoration-color: #7f7f7f\">├── </span><span style=\"color: #00ffff; text-decoration-color: #00ffff; font-weight: bold\">General</span>\n",
       "<span style=\"color: #7f7f7f; text-decoration-color: #7f7f7f\">│   ├── </span>.uid = 'ZI5uEYLi3fDDDzoM0000'\n",
       "<span style=\"color: #7f7f7f; text-decoration-color: #7f7f7f\">│   ├── </span>.size = 54670616\n",
       "<span style=\"color: #7f7f7f; text-decoration-color: #7f7f7f\">│   ├── </span>.hash = 'VYhEnkViOhtD-7kN2odUGw'\n",
       "<span style=\"color: #7f7f7f; text-decoration-color: #7f7f7f\">│   ├── </span>.n_observations = 1626\n",
       "<span style=\"color: #7f7f7f; text-decoration-color: #7f7f7f\">│   ├── </span>.path = <span style=\"color: #7f7f7f; text-decoration-color: #7f7f7f\">/home/lukas/code/cellxgene-lamin/docs/test-cellxgene-curate</span>/.lamindb/ZI5uEYLi3fDDDzoM0000.h5ad\n",
       "<span style=\"color: #7f7f7f; text-decoration-color: #7f7f7f\">│   ├── </span>.created_by = zethson (Lukas Heumos)\n",
       "<span style=\"color: #7f7f7f; text-decoration-color: #7f7f7f\">│   └── </span>.created_at = <span style=\"color: #7f7f7f; text-decoration-color: #7f7f7f\">2025-01-10 14:30:15</span>\n",
       "<span style=\"color: #7f7f7f; text-decoration-color: #7f7f7f\">├── </span><span style=\"color: #ff00ff; text-decoration-color: #ff00ff; font-weight: bold\">Dataset features</span><span style=\"color: #7f7f7f; text-decoration-color: #7f7f7f\">/</span><span style=\"color: #7f7f7f; text-decoration-color: #7f7f7f; font-weight: bold\">.feature_sets</span>\n",
       "<span style=\"color: #7f7f7f; text-decoration-color: #7f7f7f\">│   ├── </span><span style=\"color: #d787ff; text-decoration-color: #d787ff; font-weight: bold\">var</span><span style=\"color: #7f7f7f; text-decoration-color: #7f7f7f; font-weight: bold\"> • </span><span style=\"color: #ffafd7; text-decoration-color: #ffafd7; font-weight: bold\">36390</span><span style=\"font-weight: bold\">                 </span><span style=\"color: #ffafd7; text-decoration-color: #ffafd7; font-weight: bold\">[bionty.Gene]</span><span style=\"font-weight: bold\">                                                       </span>\n",
       "<span style=\"color: #7f7f7f; text-decoration-color: #7f7f7f\">│   │   </span>MIR1302-2HG                <span style=\"color: #7f7f7f; text-decoration-color: #7f7f7f\"> float                     </span>                                          \n",
       "<span style=\"color: #7f7f7f; text-decoration-color: #7f7f7f\">│   │   </span>FAM138A                    <span style=\"color: #7f7f7f; text-decoration-color: #7f7f7f\"> float                     </span>                                          \n",
       "<span style=\"color: #7f7f7f; text-decoration-color: #7f7f7f\">│   │   </span>OR4F5                      <span style=\"color: #7f7f7f; text-decoration-color: #7f7f7f\"> float                     </span>                                          \n",
       "<span style=\"color: #7f7f7f; text-decoration-color: #7f7f7f\">│   │   </span>OR4F29                     <span style=\"color: #7f7f7f; text-decoration-color: #7f7f7f\"> float                     </span>                                          \n",
       "<span style=\"color: #7f7f7f; text-decoration-color: #7f7f7f\">│   │   </span>OR4F16                     <span style=\"color: #7f7f7f; text-decoration-color: #7f7f7f\"> float                     </span>                                          \n",
       "<span style=\"color: #7f7f7f; text-decoration-color: #7f7f7f\">│   │   </span>LINC01409                  <span style=\"color: #7f7f7f; text-decoration-color: #7f7f7f\"> float                     </span>                                          \n",
       "<span style=\"color: #7f7f7f; text-decoration-color: #7f7f7f\">│   │   </span>FAM87B                     <span style=\"color: #7f7f7f; text-decoration-color: #7f7f7f\"> float                     </span>                                          \n",
       "<span style=\"color: #7f7f7f; text-decoration-color: #7f7f7f\">│   │   </span>LINC01128                  <span style=\"color: #7f7f7f; text-decoration-color: #7f7f7f\"> float                     </span>                                          \n",
       "<span style=\"color: #7f7f7f; text-decoration-color: #7f7f7f\">│   │   </span>LINC00115                  <span style=\"color: #7f7f7f; text-decoration-color: #7f7f7f\"> float                     </span>                                          \n",
       "<span style=\"color: #7f7f7f; text-decoration-color: #7f7f7f\">│   │   </span>FAM41C                     <span style=\"color: #7f7f7f; text-decoration-color: #7f7f7f\"> float                     </span>                                          \n",
       "<span style=\"color: #7f7f7f; text-decoration-color: #7f7f7f\">│   └── </span><span style=\"color: #d787ff; text-decoration-color: #d787ff; font-weight: bold\">obs</span><span style=\"color: #7f7f7f; text-decoration-color: #7f7f7f; font-weight: bold\"> • </span><span style=\"color: #ffafd7; text-decoration-color: #ffafd7; font-weight: bold\">12</span><span style=\"font-weight: bold\">                    </span><span style=\"color: #ffafd7; text-decoration-color: #ffafd7; font-weight: bold\">[Feature]</span><span style=\"font-weight: bold\">                                                           </span>\n",
       "<span style=\"color: #7f7f7f; text-decoration-color: #7f7f7f\">│       </span>assay                      <span style=\"color: #7f7f7f; text-decoration-color: #7f7f7f\"> cat[bionty.ExperimentalF… </span> 10x 3' v3, 10x 5' v1, 10x 5' v2          \n",
       "<span style=\"color: #7f7f7f; text-decoration-color: #7f7f7f\">│       </span>cell_type                  <span style=\"color: #7f7f7f; text-decoration-color: #7f7f7f\"> cat[bionty.CellType]      </span> CD16-negative, CD56-bright natural kille…\n",
       "<span style=\"color: #7f7f7f; text-decoration-color: #7f7f7f\">│       </span>development_stage          <span style=\"color: #7f7f7f; text-decoration-color: #7f7f7f\"> cat[bionty.Developmental… </span> unknown                                  \n",
       "<span style=\"color: #7f7f7f; text-decoration-color: #7f7f7f\">│       </span>disease                    <span style=\"color: #7f7f7f; text-decoration-color: #7f7f7f\"> cat[bionty.Disease]       </span> normal                                   \n",
       "<span style=\"color: #7f7f7f; text-decoration-color: #7f7f7f\">│       </span>donor_id                   <span style=\"color: #7f7f7f; text-decoration-color: #7f7f7f\"> cat[ULabel]               </span> 582C-1, 621B-1, 637C-1, 640C-1, A29-1, A…\n",
       "<span style=\"color: #7f7f7f; text-decoration-color: #7f7f7f\">│       </span>organism                   <span style=\"color: #7f7f7f; text-decoration-color: #7f7f7f\"> cat[bionty.Organism]      </span> human                                    \n",
       "<span style=\"color: #7f7f7f; text-decoration-color: #7f7f7f\">│       </span>self_reported_ethnicity    <span style=\"color: #7f7f7f; text-decoration-color: #7f7f7f\"> cat[bionty.Ethnicity]     </span> unknown                                  \n",
       "<span style=\"color: #7f7f7f; text-decoration-color: #7f7f7f\">│       </span>sex_ontology_term_id       <span style=\"color: #7f7f7f; text-decoration-color: #7f7f7f\"> cat[bionty.Phenotype]     </span> male                                     \n",
       "<span style=\"color: #7f7f7f; text-decoration-color: #7f7f7f\">│       </span>suspension_type            <span style=\"color: #7f7f7f; text-decoration-color: #7f7f7f\"> cat[ULabel]               </span> cell                                     \n",
       "<span style=\"color: #7f7f7f; text-decoration-color: #7f7f7f\">│       </span>tissue                     <span style=\"color: #7f7f7f; text-decoration-color: #7f7f7f\"> cat[bionty.Tissue]        </span> blood, bone marrow, caecum, duodenum, il…\n",
       "<span style=\"color: #7f7f7f; text-decoration-color: #7f7f7f\">│       </span>tissue_type                <span style=\"color: #7f7f7f; text-decoration-color: #7f7f7f\"> cat[ULabel]               </span> tissue                                   \n",
       "<span style=\"color: #7f7f7f; text-decoration-color: #7f7f7f\">│       </span>sex                        <span style=\"color: #7f7f7f; text-decoration-color: #7f7f7f\"> cat[bionty.Phenotype]     </span>                                          \n",
       "<span style=\"color: #7f7f7f; text-decoration-color: #7f7f7f\">└── </span><span style=\"color: #afff00; text-decoration-color: #afff00; font-weight: bold\">Labels</span>\n",
       "<span style=\"color: #7f7f7f; text-decoration-color: #7f7f7f\">    └── </span>.organisms                 <span style=\"color: #7f7f7f; text-decoration-color: #7f7f7f\"> bionty.Organism           </span> human                                    \n",
       "<span style=\"color: #7f7f7f; text-decoration-color: #7f7f7f\">        </span>.tissues                   <span style=\"color: #7f7f7f; text-decoration-color: #7f7f7f\"> bionty.Tissue             </span> blood, lamina propria, thoracic lymph no…\n",
       "<span style=\"color: #7f7f7f; text-decoration-color: #7f7f7f\">        </span>.cell_types                <span style=\"color: #7f7f7f; text-decoration-color: #7f7f7f\"> bionty.CellType           </span> alveolar macrophage, alpha-beta T cell, …\n",
       "<span style=\"color: #7f7f7f; text-decoration-color: #7f7f7f\">        </span>.diseases                  <span style=\"color: #7f7f7f; text-decoration-color: #7f7f7f\"> bionty.Disease            </span> normal                                   \n",
       "<span style=\"color: #7f7f7f; text-decoration-color: #7f7f7f\">        </span>.phenotypes                <span style=\"color: #7f7f7f; text-decoration-color: #7f7f7f\"> bionty.Phenotype          </span> male                                     \n",
       "<span style=\"color: #7f7f7f; text-decoration-color: #7f7f7f\">        </span>.experimental_factors      <span style=\"color: #7f7f7f; text-decoration-color: #7f7f7f\"> bionty.ExperimentalFactor </span> 10x 5' v2, 10x 5' v1, 10x 3' v3          \n",
       "<span style=\"color: #7f7f7f; text-decoration-color: #7f7f7f\">        </span>.developmental_stages      <span style=\"color: #7f7f7f; text-decoration-color: #7f7f7f\"> bionty.DevelopmentalStage </span> unknown                                  \n",
       "<span style=\"color: #7f7f7f; text-decoration-color: #7f7f7f\">        </span>.ethnicities               <span style=\"color: #7f7f7f; text-decoration-color: #7f7f7f\"> bionty.Ethnicity          </span> unknown                                  \n",
       "<span style=\"color: #7f7f7f; text-decoration-color: #7f7f7f\">        </span>.ulabels                   <span style=\"color: #7f7f7f; text-decoration-color: #7f7f7f\"> ULabel                    </span> cell, tissue, D503-1, 582C-1, 621B-1, A3…\n",
       "</pre>\n"
      ],
      "text/plain": [
       "\u001b[1mArtifact\u001b[0m\u001b[1;2m .h5ad/AnnData\u001b[0m\n",
       "\u001b[2m├── \u001b[0m\u001b[1;96mGeneral\u001b[0m\n",
       "\u001b[2m│   \u001b[0m\u001b[2m├── \u001b[0m.uid = 'ZI5uEYLi3fDDDzoM0000'\n",
       "\u001b[2m│   \u001b[0m\u001b[2m├── \u001b[0m.size = 54670616\n",
       "\u001b[2m│   \u001b[0m\u001b[2m├── \u001b[0m.hash = 'VYhEnkViOhtD-7kN2odUGw'\n",
       "\u001b[2m│   \u001b[0m\u001b[2m├── \u001b[0m.n_observations = 1626\n",
       "\u001b[2m│   \u001b[0m\u001b[2m├── \u001b[0m.path = \u001b[2m/home/lukas/code/cellxgene-lamin/docs/test-cellxgene-curate\u001b[0m/.lamindb/ZI5uEYLi3fDDDzoM0000.h5ad\n",
       "\u001b[2m│   \u001b[0m\u001b[2m├── \u001b[0m.created_by = zethson (Lukas Heumos)\n",
       "\u001b[2m│   \u001b[0m\u001b[2m└── \u001b[0m.created_at = \u001b[2m2025-01-10 14:30:15\u001b[0m\n",
       "\u001b[2m├── \u001b[0m\u001b[1;95mDataset features\u001b[0m\u001b[2m/\u001b[0m\u001b[1;2m.feature_sets\u001b[0m\n",
       "\u001b[2m│   \u001b[0m\u001b[2m├── \u001b[0m\u001b[1;38;5;177mvar\u001b[0m\u001b[1;2m • \u001b[0m\u001b[1;38;5;218m36390\u001b[0m\u001b[1m               \u001b[0m\u001b[1m \u001b[0m\u001b[1m \u001b[0m\u001b[1;38;5;218m[bionty.Gene]\u001b[0m\u001b[1m            \u001b[0m\u001b[1m \u001b[0m\u001b[1m \u001b[0m\u001b[1m                                         \u001b[0m\n",
       "\u001b[2m│   \u001b[0m\u001b[2m│   \u001b[0mMIR1302-2HG                \u001b[2m \u001b[0m\u001b[2mfloat                    \u001b[0m\u001b[2m \u001b[0m                                          \n",
       "\u001b[2m│   \u001b[0m\u001b[2m│   \u001b[0mFAM138A                    \u001b[2m \u001b[0m\u001b[2mfloat                    \u001b[0m\u001b[2m \u001b[0m                                          \n",
       "\u001b[2m│   \u001b[0m\u001b[2m│   \u001b[0mOR4F5                      \u001b[2m \u001b[0m\u001b[2mfloat                    \u001b[0m\u001b[2m \u001b[0m                                          \n",
       "\u001b[2m│   \u001b[0m\u001b[2m│   \u001b[0mOR4F29                     \u001b[2m \u001b[0m\u001b[2mfloat                    \u001b[0m\u001b[2m \u001b[0m                                          \n",
       "\u001b[2m│   \u001b[0m\u001b[2m│   \u001b[0mOR4F16                     \u001b[2m \u001b[0m\u001b[2mfloat                    \u001b[0m\u001b[2m \u001b[0m                                          \n",
       "\u001b[2m│   \u001b[0m\u001b[2m│   \u001b[0mLINC01409                  \u001b[2m \u001b[0m\u001b[2mfloat                    \u001b[0m\u001b[2m \u001b[0m                                          \n",
       "\u001b[2m│   \u001b[0m\u001b[2m│   \u001b[0mFAM87B                     \u001b[2m \u001b[0m\u001b[2mfloat                    \u001b[0m\u001b[2m \u001b[0m                                          \n",
       "\u001b[2m│   \u001b[0m\u001b[2m│   \u001b[0mLINC01128                  \u001b[2m \u001b[0m\u001b[2mfloat                    \u001b[0m\u001b[2m \u001b[0m                                          \n",
       "\u001b[2m│   \u001b[0m\u001b[2m│   \u001b[0mLINC00115                  \u001b[2m \u001b[0m\u001b[2mfloat                    \u001b[0m\u001b[2m \u001b[0m                                          \n",
       "\u001b[2m│   \u001b[0m\u001b[2m│   \u001b[0mFAM41C                     \u001b[2m \u001b[0m\u001b[2mfloat                    \u001b[0m\u001b[2m \u001b[0m                                          \n",
       "\u001b[2m│   \u001b[0m\u001b[2m└── \u001b[0m\u001b[1;38;5;177mobs\u001b[0m\u001b[1;2m • \u001b[0m\u001b[1;38;5;218m12\u001b[0m\u001b[1m                  \u001b[0m\u001b[1m \u001b[0m\u001b[1m \u001b[0m\u001b[1;38;5;218m[Feature]\u001b[0m\u001b[1m                \u001b[0m\u001b[1m \u001b[0m\u001b[1m \u001b[0m\u001b[1m                                         \u001b[0m\n",
       "\u001b[2m│   \u001b[0m\u001b[2m    \u001b[0massay                      \u001b[2m \u001b[0m\u001b[2mcat[bionty.ExperimentalF…\u001b[0m\u001b[2m \u001b[0m 10x 3' v3, 10x 5' v1, 10x 5' v2          \n",
       "\u001b[2m│   \u001b[0m\u001b[2m    \u001b[0mcell_type                  \u001b[2m \u001b[0m\u001b[2mcat[bionty.CellType]     \u001b[0m\u001b[2m \u001b[0m CD16-negative, CD56-bright natural kille…\n",
       "\u001b[2m│   \u001b[0m\u001b[2m    \u001b[0mdevelopment_stage          \u001b[2m \u001b[0m\u001b[2mcat[bionty.Developmental…\u001b[0m\u001b[2m \u001b[0m unknown                                  \n",
       "\u001b[2m│   \u001b[0m\u001b[2m    \u001b[0mdisease                    \u001b[2m \u001b[0m\u001b[2mcat[bionty.Disease]      \u001b[0m\u001b[2m \u001b[0m normal                                   \n",
       "\u001b[2m│   \u001b[0m\u001b[2m    \u001b[0mdonor_id                   \u001b[2m \u001b[0m\u001b[2mcat[ULabel]              \u001b[0m\u001b[2m \u001b[0m 582C-1, 621B-1, 637C-1, 640C-1, A29-1, A…\n",
       "\u001b[2m│   \u001b[0m\u001b[2m    \u001b[0morganism                   \u001b[2m \u001b[0m\u001b[2mcat[bionty.Organism]     \u001b[0m\u001b[2m \u001b[0m human                                    \n",
       "\u001b[2m│   \u001b[0m\u001b[2m    \u001b[0mself_reported_ethnicity    \u001b[2m \u001b[0m\u001b[2mcat[bionty.Ethnicity]    \u001b[0m\u001b[2m \u001b[0m unknown                                  \n",
       "\u001b[2m│   \u001b[0m\u001b[2m    \u001b[0msex_ontology_term_id       \u001b[2m \u001b[0m\u001b[2mcat[bionty.Phenotype]    \u001b[0m\u001b[2m \u001b[0m male                                     \n",
       "\u001b[2m│   \u001b[0m\u001b[2m    \u001b[0msuspension_type            \u001b[2m \u001b[0m\u001b[2mcat[ULabel]              \u001b[0m\u001b[2m \u001b[0m cell                                     \n",
       "\u001b[2m│   \u001b[0m\u001b[2m    \u001b[0mtissue                     \u001b[2m \u001b[0m\u001b[2mcat[bionty.Tissue]       \u001b[0m\u001b[2m \u001b[0m blood, bone marrow, caecum, duodenum, il…\n",
       "\u001b[2m│   \u001b[0m\u001b[2m    \u001b[0mtissue_type                \u001b[2m \u001b[0m\u001b[2mcat[ULabel]              \u001b[0m\u001b[2m \u001b[0m tissue                                   \n",
       "\u001b[2m│   \u001b[0m\u001b[2m    \u001b[0msex                        \u001b[2m \u001b[0m\u001b[2mcat[bionty.Phenotype]    \u001b[0m\u001b[2m \u001b[0m                                          \n",
       "\u001b[2m└── \u001b[0m\u001b[1;38;5;154mLabels\u001b[0m\n",
       "\u001b[2m    \u001b[0m\u001b[2m└── \u001b[0m.organisms                 \u001b[2m \u001b[0m\u001b[2mbionty.Organism          \u001b[0m\u001b[2m \u001b[0m human                                    \n",
       "\u001b[2m    \u001b[0m\u001b[2m    \u001b[0m.tissues                   \u001b[2m \u001b[0m\u001b[2mbionty.Tissue            \u001b[0m\u001b[2m \u001b[0m blood, lamina propria, thoracic lymph no…\n",
       "\u001b[2m    \u001b[0m\u001b[2m    \u001b[0m.cell_types                \u001b[2m \u001b[0m\u001b[2mbionty.CellType          \u001b[0m\u001b[2m \u001b[0m alveolar macrophage, alpha-beta T cell, …\n",
       "\u001b[2m    \u001b[0m\u001b[2m    \u001b[0m.diseases                  \u001b[2m \u001b[0m\u001b[2mbionty.Disease           \u001b[0m\u001b[2m \u001b[0m normal                                   \n",
       "\u001b[2m    \u001b[0m\u001b[2m    \u001b[0m.phenotypes                \u001b[2m \u001b[0m\u001b[2mbionty.Phenotype         \u001b[0m\u001b[2m \u001b[0m male                                     \n",
       "\u001b[2m    \u001b[0m\u001b[2m    \u001b[0m.experimental_factors      \u001b[2m \u001b[0m\u001b[2mbionty.ExperimentalFactor\u001b[0m\u001b[2m \u001b[0m 10x 5' v2, 10x 5' v1, 10x 3' v3          \n",
       "\u001b[2m    \u001b[0m\u001b[2m    \u001b[0m.developmental_stages      \u001b[2m \u001b[0m\u001b[2mbionty.DevelopmentalStage\u001b[0m\u001b[2m \u001b[0m unknown                                  \n",
       "\u001b[2m    \u001b[0m\u001b[2m    \u001b[0m.ethnicities               \u001b[2m \u001b[0m\u001b[2mbionty.Ethnicity         \u001b[0m\u001b[2m \u001b[0m unknown                                  \n",
       "\u001b[2m    \u001b[0m\u001b[2m    \u001b[0m.ulabels                   \u001b[2m \u001b[0m\u001b[2mULabel                   \u001b[0m\u001b[2m \u001b[0m cell, tissue, D503-1, 582C-1, 621B-1, A3…\n"
      ]
     },
     "metadata": {},
     "output_type": "display_data"
    }
   ],
   "source": [
    "artifact.describe()"
   ]
  },
  {
   "cell_type": "markdown",
   "id": "3cf67f90",
   "metadata": {},
   "source": [
    "The below is optional -- it mimics the way cellxgene creates collections of `AnnData` objects to link them to studies."
   ]
  },
  {
   "cell_type": "code",
   "execution_count": 20,
   "id": "8940e83c",
   "metadata": {
    "tags": [
     "hide-output"
    ]
   },
   "outputs": [
    {
     "name": "stdout",
     "output_type": "stream",
     "text": [
      "\u001b[93m!\u001b[0m no run & transform got linked, call `ln.track()` & re-run\n",
      "\u001b[93m!\u001b[0m returning existing collection with same hash: Collection(uid='KjJVvmu6aOEtxisK0000', is_latest=True, name='Cross-tissue immune cell analysis reveals tissue-specific features in humans (for test demo only)', description='10.1126/science.abl5197', hash='A8JQoolQ3UhcVU1i1JLItw', reference='E-MTAB-11536', reference_type='ArrayExpress', visibility=1, created_by_id=1, created_at=2025-01-10 13:30:18 UTC)\n",
      "\u001b[93m!\u001b[0m run input wasn't tracked, call `ln.track()` and re-run\n"
     ]
    }
   ],
   "source": [
    "# register a new collection\n",
    "title = \"Cross-tissue immune cell analysis reveals tissue-specific features in humans (for test demo only)\"\n",
    "collection = ln.Collection(\n",
    "    [artifact],  # registered artifact above, can also pass a list of artifacts\n",
    "    name=title,  # title of the publication\n",
    "    description=\"10.1126/science.abl5197\",  # DOI of the publication\n",
    "    reference=\"E-MTAB-11536\",  # accession number (e.g. GSE#, E-MTAB#, etc.)\n",
    "    reference_type=\"ArrayExpress\",  # source type (e.g. GEO, ArrayExpress, SRA, etc.)\n",
    ").save()"
   ]
  },
  {
   "cell_type": "markdown",
   "id": "9eea92a2",
   "metadata": {},
   "source": [
    "## Return an input h5ad file for cellxgene-schema"
   ]
  },
  {
   "cell_type": "code",
   "execution_count": 21,
   "id": "bced90a1",
   "metadata": {
    "tags": [
     "hide-output"
    ]
   },
   "outputs": [
    {
     "name": "stdout",
     "output_type": "stream",
     "text": [
      "\u001b[93m!\u001b[0m source schema has additional modules: {'ourprojects'}\n",
      "consider mounting these schema modules to transfer all metadata\n",
      "\u001b[93m!\u001b[0m source schema has additional modules: {'ourprojects'}\n",
      "consider mounting these schema modules to transfer all metadata\n",
      "\u001b[93m!\u001b[0m source schema has additional modules: {'ourprojects'}\n",
      "consider mounting these schema modules to transfer all metadata\n",
      "\u001b[93m!\u001b[0m source schema has additional modules: {'ourprojects'}\n",
      "consider mounting these schema modules to transfer all metadata\n",
      "\u001b[93m!\u001b[0m source schema has additional modules: {'ourprojects'}\n",
      "consider mounting these schema modules to transfer all metadata\n",
      "\u001b[93m!\u001b[0m source schema has additional modules: {'ourprojects'}\n",
      "consider mounting these schema modules to transfer all metadata\n",
      "\u001b[93m!\u001b[0m source schema has additional modules: {'ourprojects'}\n",
      "consider mounting these schema modules to transfer all metadata\n"
     ]
    },
    {
     "data": {
      "text/plain": [
       "AnnData object with n_obs × n_vars = 1626 × 36390\n",
       "    obs: 'donor_id', 'sex_ontology_term_id', 'suspension_type', 'tissue_type', 'tissue_ontology_term_id', 'cell_type_ontology_term_id', 'assay_ontology_term_id', 'organism_ontology_term_id', 'development_stage_ontology_term_id', 'disease_ontology_term_id', 'self_reported_ethnicity_ontology_term_id', 'is_primary_data'\n",
       "    var: 'feature_is_filtered'\n",
       "    uns: 'default_embedding', 'title', 'cxg_lamin_schema_reference', 'cxg_lamin_schema_version'\n",
       "    obsm: 'X_umap'"
      ]
     },
     "execution_count": 21,
     "metadata": {},
     "output_type": "execute_result"
    }
   ],
   "source": [
    "adata_cxg = curator.to_cellxgene_anndata(is_primary_data=True, title=title)\n",
    "adata_cxg"
   ]
  },
  {
   "cell_type": "code",
   "execution_count": 22,
   "id": "85d32f4c",
   "metadata": {},
   "outputs": [],
   "source": [
    "adata_cxg.write_h5ad(\"anndata_human_immune_cells_cxg.h5ad\")"
   ]
  },
  {
   "cell_type": "code",
   "execution_count": 23,
   "id": "c0b222ca",
   "metadata": {
    "tags": [
     "hide-output"
    ]
   },
   "outputs": [
    {
     "name": "stdout",
     "output_type": "stream",
     "text": [
      "Loading dependencies\n",
      "Loading validator modules\n",
      "Starting validation...\n",
      "Unable to open 'anndata_human_immune_cells_cxg.h5ad' with AnnData\n"
     ]
    }
   ],
   "source": [
    "!MPLBACKEND=agg uvx cellxgene-schema validate anndata_human_immune_cells_cxg.h5ad || exit 1"
   ]
  },
  {
   "cell_type": "markdown",
   "id": "a91245ad",
   "metadata": {},
   "source": [
    "```{note}\n",
    "\n",
    "The Curate class is designed to validate all metadata for adherence to ontologies.\n",
    "It does not reimplement all rules of the cellxgene schema and we therefore recommend running the [cellxgene-schema](https://github.com/chanzuckerberg/single-cell-curation) if full adherence beyond metadata is a necessity.\n",
    "```"
   ]
  }
 ],
 "metadata": {
  "kernelspec": {
   "display_name": "lamindb",
   "language": "python",
   "name": "python3"
  },
  "language_info": {
   "codemirror_mode": {
    "name": "ipython",
    "version": 3
   },
   "file_extension": ".py",
   "mimetype": "text/x-python",
   "name": "python",
   "nbconvert_exporter": "python",
   "pygments_lexer": "ipython3",
   "version": "3.12.8"
  },
  "nbproject": {
   "id": "WOK3vP0bNGLx",
   "parent": null,
   "pypackage": null,
   "time_init": "2023-12-20T04:27:49.536493+00:00",
   "user_handle": null,
   "user_id": null,
   "user_name": null,
   "version": "0"
  }
 },
 "nbformat": 4,
 "nbformat_minor": 5
}
