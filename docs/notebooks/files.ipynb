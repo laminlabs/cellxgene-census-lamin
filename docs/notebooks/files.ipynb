{
 "cells": [
  {
   "cell_type": "markdown",
   "metadata": {},
   "source": [
    "![](https://img.shields.io/badge/1/4-lightgrey)"
   ]
  },
  {
   "cell_type": "markdown",
   "metadata": {},
   "source": [
    "# Register h5ad files of cellxgene-census"
   ]
  },
  {
   "cell_type": "markdown",
   "metadata": {},
   "source": [
    "## Setup"
   ]
  },
  {
   "cell_type": "code",
   "execution_count": null,
   "metadata": {},
   "outputs": [],
   "source": [
    "# !lamin init --storage s3://lamindata --name cellxgene-census --schema bionty\n",
    "# !lamin close"
   ]
  },
  {
   "cell_type": "code",
   "execution_count": null,
   "metadata": {},
   "outputs": [],
   "source": [
    "!lamin load laminlabs/cellxgene-census"
   ]
  },
  {
   "cell_type": "code",
   "execution_count": null,
   "metadata": {},
   "outputs": [],
   "source": [
    "import lamindb as ln\n",
    "import lnschema_bionty as lb\n",
    "import cellxgene_census"
   ]
  },
  {
   "cell_type": "code",
   "execution_count": null,
   "metadata": {},
   "outputs": [],
   "source": [
    "ln.track()"
   ]
  },
  {
   "cell_type": "code",
   "execution_count": null,
   "metadata": {},
   "outputs": [],
   "source": [
    "census_version = \"2023-07-25\""
   ]
  },
  {
   "cell_type": "markdown",
   "metadata": {},
   "source": [
    "## Register datasets"
   ]
  },
  {
   "cell_type": "code",
   "execution_count": null,
   "metadata": {},
   "outputs": [],
   "source": [
    "census = cellxgene_census.open_soma(census_version=census_version)"
   ]
  },
  {
   "cell_type": "code",
   "execution_count": null,
   "metadata": {},
   "outputs": [],
   "source": [
    "census"
   ]
  },
  {
   "cell_type": "code",
   "execution_count": null,
   "metadata": {},
   "outputs": [],
   "source": [
    "census[\"census_data\"]"
   ]
  },
  {
   "cell_type": "code",
   "execution_count": null,
   "metadata": {},
   "outputs": [],
   "source": [
    "census[\"census_info\"]"
   ]
  },
  {
   "cell_type": "code",
   "execution_count": null,
   "metadata": {},
   "outputs": [],
   "source": [
    "datasets_df = census[\"census_info\"][\"datasets\"].read().concat().to_pandas()\n",
    "datasets_df.shape"
   ]
  },
  {
   "cell_type": "code",
   "execution_count": null,
   "metadata": {},
   "outputs": [],
   "source": [
    "datasets_df.head()"
   ]
  },
  {
   "cell_type": "code",
   "execution_count": null,
   "metadata": {},
   "outputs": [],
   "source": [
    "files = ln.File.from_dir(\"s3://cellxgene-data-public/cell-census/2023-07-25/h5ads\")\n",
    "ln.save(files)"
   ]
  },
  {
   "cell_type": "code",
   "execution_count": null,
   "metadata": {},
   "outputs": [],
   "source": [
    "dataset = ln.Dataset(files, name=\"cellxgene-census\", version=census_version)"
   ]
  },
  {
   "cell_type": "code",
   "execution_count": null,
   "metadata": {},
   "outputs": [],
   "source": [
    "dataset.save()"
   ]
  },
  {
   "cell_type": "code",
   "execution_count": null,
   "metadata": {},
   "outputs": [],
   "source": [
    "collections_df = (\n",
    "    datasets_df[[\"collection_id\", \"collection_name\", \"collection_doi\"]]\n",
    "    .drop_duplicates()\n",
    "    .set_index(\"collection_id\")\n",
    ")\n",
    "collections = []\n",
    "for collection_id, row in collections_df.iterrows():\n",
    "    collection = ln.ULabel(\n",
    "        name=row.collection_name,\n",
    "        description=row.collection_doi,\n",
    "        reference=collection_id,\n",
    "        reference_type=\"collection_id\",\n",
    "    )\n",
    "    collections.append(collection)\n",
    "\n",
    "ln.save(collections)\n",
    "\n",
    "is_collection = ln.ULabel(name=\"is_collection\")\n",
    "is_collection.save()\n",
    "is_collection.children.set(collections)"
   ]
  },
  {
   "cell_type": "code",
   "execution_count": null,
   "metadata": {},
   "outputs": [],
   "source": [
    "collections = is_collection.children\n",
    "files = ln.File.filter()"
   ]
  },
  {
   "cell_type": "code",
   "execution_count": null,
   "metadata": {},
   "outputs": [],
   "source": [
    "feature_collection = ln.Feature(name=\"collection\", type=\"category\")\n",
    "feature_collection.save()"
   ]
  },
  {
   "cell_type": "code",
   "execution_count": null,
   "metadata": {},
   "outputs": [],
   "source": [
    "for _, row in datasets_df.iterrows():\n",
    "    file = files.filter(key__endswith=f\"{row.dataset_id}.h5ad\").one()\n",
    "    file.description = f\"{row.dataset_title}|{row.dataset_id}\"\n",
    "    file.save()\n",
    "    file.labels.add(collections.get(reference=row.collection_id), feature_collection)"
   ]
  },
  {
   "cell_type": "markdown",
   "metadata": {},
   "source": [
    "## Annotate with species"
   ]
  },
  {
   "cell_type": "code",
   "execution_count": null,
   "metadata": {},
   "outputs": [],
   "source": [
    "feature_organism = ln.Feature(name=\"organism\", type=\"category\")\n",
    "feature_organism.save()"
   ]
  },
  {
   "cell_type": "code",
   "execution_count": null,
   "metadata": {},
   "outputs": [],
   "source": [
    "files = ln.File.filter()"
   ]
  },
  {
   "cell_type": "code",
   "execution_count": null,
   "metadata": {},
   "outputs": [],
   "source": [
    "lb.settings.organism = \"human\"\n",
    "\n",
    "human_datasets = (\n",
    "    census[\"census_data\"][lb.settings.organism.scientific_name]\n",
    "    .obs.read(column_names=[\"dataset_id\"])\n",
    "    .concat()\n",
    "    .to_pandas()\n",
    "    .drop_duplicates()\n",
    ")\n",
    "print(human_datasets.shape)\n",
    "\n",
    "for dataset_id in human_datasets.dataset_id:\n",
    "    file = files.filter(description__contains=dataset_id).one()\n",
    "    file.labels.add(lb.settings.organism, feature_organism)"
   ]
  },
  {
   "cell_type": "code",
   "execution_count": null,
   "metadata": {},
   "outputs": [],
   "source": [
    "lb.settings.organism = \"mouse\"\n",
    "\n",
    "mouse_datasets = (\n",
    "    census[\"census_data\"][lb.settings.organism.scientific_name]\n",
    "    .obs.read(column_names=[\"dataset_id\"])\n",
    "    .concat()\n",
    "    .to_pandas()\n",
    "    .drop_duplicates()\n",
    ")\n",
    "print(mouse_datasets.shape)\n",
    "\n",
    "for dataset_id in mouse_datasets.dataset_id:\n",
    "    file = files.filter(description__contains=dataset_id).one()\n",
    "    file.labels.add(lb.settings.organism, feature_organism)"
   ]
  },
  {
   "cell_type": "code",
   "execution_count": null,
   "metadata": {},
   "outputs": [],
   "source": [
    "file.describe()"
   ]
  },
  {
   "cell_type": "code",
   "execution_count": null,
   "metadata": {},
   "outputs": [],
   "source": [
    "census.close()"
   ]
  }
 ],
 "metadata": {
  "kernelspec": {
   "display_name": "py39",
   "language": "python",
   "name": "python3"
  },
  "language_info": {
   "codemirror_mode": {
    "name": "ipython",
    "version": 3
   },
   "file_extension": ".py",
   "mimetype": "text/x-python",
   "name": "python",
   "nbconvert_exporter": "python",
   "pygments_lexer": "ipython3",
   "version": "3.10.13"
  },
  "nbproject": {
   "id": "nhGTqlIHEyn7",
   "parent": null,
   "pypackage": null,
   "time_init": "2023-09-19T13:16:43.147615+00:00",
   "user_handle": null,
   "user_id": null,
   "user_name": null,
   "version": "1"
  }
 },
 "nbformat": 4,
 "nbformat_minor": 2
}
