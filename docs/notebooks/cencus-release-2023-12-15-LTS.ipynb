{
 "cells": [
  {
   "cell_type": "markdown",
   "id": "3e3a6087-4dac-48a6-b0e4-a75ee4378dd9",
   "metadata": {},
   "source": [
    "# Census release 2023-12-15 (LTS)"
   ]
  },
  {
   "cell_type": "code",
   "execution_count": null,
   "id": "bfa4b664-dcea-4215-a559-c92b37617b31",
   "metadata": {
    "tags": []
   },
   "outputs": [],
   "source": [
    "import lamindb as ln\n",
    "import lnschema_bionty as lb\n",
    "from cellxgene_lamin import get_datasets_from_cxg, get_collections_from_cxg\n",
    "\n",
    "ln.settings.verbosity = \"hint\""
   ]
  },
  {
   "cell_type": "code",
   "execution_count": null,
   "id": "1c5de4ab-ba6a-4e11-ae16-49826c074bd0",
   "metadata": {
    "tags": []
   },
   "outputs": [],
   "source": [
    "census_version = \"2023-12-15\""
   ]
  },
  {
   "cell_type": "code",
   "execution_count": null,
   "id": "94744efd-ed8b-464e-ac46-2f14f543fa69",
   "metadata": {
    "tags": []
   },
   "outputs": [],
   "source": [
    "s3path = f\"s3://cellxgene-data-public/cell-census/{census_version}/h5ads\"\n",
    "ln.UPath(s3path)"
   ]
  },
  {
   "cell_type": "code",
   "execution_count": null,
   "id": "d8026fcb-6fe6-40e5-8794-60ea7ce22876",
   "metadata": {},
   "outputs": [],
   "source": [
    "ln.UPath(s3path).view_tree()"
   ]
  },
  {
   "cell_type": "code",
   "execution_count": null,
   "id": "6c903126-b7b6-4af2-8056-e147b1038a4a",
   "metadata": {
    "tags": []
   },
   "outputs": [],
   "source": [
    "ln.track()"
   ]
  },
  {
   "cell_type": "markdown",
   "id": "af01c5b5-7b77-44af-88ff-d19459be380e",
   "metadata": {},
   "source": [
    "Get all datasets and associated metadata using cellxgene REST API:"
   ]
  },
  {
   "cell_type": "code",
   "execution_count": null,
   "id": "9f5ec28f-f2fc-4374-8f7d-2194c89149ac",
   "metadata": {
    "tags": []
   },
   "outputs": [],
   "source": [
    "cxg_datasets = get_datasets_from_cxg()\n",
    "len(cxg_datasets)"
   ]
  },
  {
   "cell_type": "code",
   "execution_count": null,
   "id": "5963c7ce-52d0-4dc8-8217-b278fd96afa3",
   "metadata": {
    "tags": []
   },
   "outputs": [],
   "source": [
    "cxg_datasets[0].keys()"
   ]
  },
  {
   "cell_type": "markdown",
   "id": "dabd3ba1-134d-49fe-a0ae-50a3d2f15195",
   "metadata": {},
   "source": [
    "## Register artifacts"
   ]
  },
  {
   "cell_type": "code",
   "execution_count": null,
   "id": "84610aaf-191a-46f3-9987-7579eb3f266e",
   "metadata": {
    "tags": []
   },
   "outputs": [],
   "source": [
    "artifacts = ln.Artifact.from_dir(s3path)\n",
    "ln.save(artifacts)"
   ]
  },
  {
   "cell_type": "code",
   "execution_count": null,
   "id": "af381d5d-7f61-4871-9846-fe32ad9f3be7",
   "metadata": {
    "tags": []
   },
   "outputs": [],
   "source": [
    "artifacts = ln.Artifact.filter(key__contains=census_version).all()\n",
    "len(artifacts)"
   ]
  },
  {
   "cell_type": "code",
   "execution_count": null,
   "id": "d46fed53",
   "metadata": {},
   "outputs": [],
   "source": [
    "artifacts.update(version=census_version)"
   ]
  },
  {
   "cell_type": "code",
   "execution_count": null,
   "id": "873accaa-6402-4030-88d7-3b4528480dc1",
   "metadata": {
    "tags": []
   },
   "outputs": [],
   "source": [
    "for cxg_dataset in cxg_datasets:\n",
    "    artifact = artifacts.filter(key__contains=cxg_dataset[\"dataset_id\"]).one_or_none()\n",
    "    if artifact is not None:\n",
    "        artifact.n_observations = cxg_dataset[\"cell_count\"]\n",
    "        artifact.description = cxg_dataset[\"title\"]\n",
    "        artifact.save()"
   ]
  },
  {
   "cell_type": "code",
   "execution_count": null,
   "id": "d78b97fd",
   "metadata": {},
   "outputs": [],
   "source": [
    "artifacts_20230725 = ln.Artifact.filter(key__contains=\"2023-07-25\").all()\n",
    "artifacts_20230725.count()"
   ]
  },
  {
   "cell_type": "code",
   "execution_count": null,
   "id": "7dfb385a",
   "metadata": {
    "tags": [
     "hide-output"
    ]
   },
   "outputs": [],
   "source": [
    "for artifact in artifacts:\n",
    "    dataset_id = artifact.key.split(\"/\")[-1]\n",
    "    artifact_20230725 = artifacts_20230725.filter(\n",
    "        key__endswith=dataset_id\n",
    "    ).one_or_none()\n",
    "    if artifact_20230725 is not None:\n",
    "        artifact.add_to_version_family(artifact_20230725, version=census_version)"
   ]
  },
  {
   "cell_type": "markdown",
   "id": "53cd99ea-6cea-40ec-a7a9-08e2b1ccd2c7",
   "metadata": {
    "tags": []
   },
   "source": [
    "## Register metadata"
   ]
  },
  {
   "cell_type": "markdown",
   "id": "c45998cf-43cc-4181-8fe5-0f2db507c1c7",
   "metadata": {},
   "source": [
    "### Register new features and parent labels"
   ]
  },
  {
   "cell_type": "code",
   "execution_count": null,
   "id": "b3caeb16-444e-4dc9-996c-fdc6ad6280e8",
   "metadata": {},
   "outputs": [],
   "source": [
    "from cellxgene_lamin._features import OBS_FEATURES, EXT_FEATURES, register_feature_set"
   ]
  },
  {
   "cell_type": "code",
   "execution_count": null,
   "id": "1ffec9e8-9143-439c-8c99-7f57a093da3d",
   "metadata": {},
   "outputs": [],
   "source": [
    "obs_feature_set = ln.FeatureSet.filter(name=\"obs features\").one_or_none()\n",
    "if obs_feature_set is None:\n",
    "    obs_feature_set = register_feature_set(artifacts, \"obs\")\n",
    "\n",
    "ext_feature_set = ln.FeatureSet.filter(name=\"external metadata\").one_or_none()\n",
    "if ext_feature_set is None:\n",
    "    ext_feature_set = register_feature_set(artifacts, \"ext\")"
   ]
  },
  {
   "cell_type": "code",
   "execution_count": null,
   "id": "891b8f8f-d4b5-4417-aa33-efe3718d4268",
   "metadata": {
    "tags": []
   },
   "outputs": [],
   "source": [
    "features = ln.Feature.lookup()"
   ]
  },
  {
   "cell_type": "markdown",
   "id": "1acd350f-c54f-4020-a7e9-d4b4dae1ac71",
   "metadata": {},
   "source": [
    "## organisms"
   ]
  },
  {
   "cell_type": "code",
   "execution_count": null,
   "id": "e1c83467-4bc9-40f5-832d-d2a54cc0d3db",
   "metadata": {},
   "outputs": [],
   "source": [
    "from cellxgene_lamin._organism import register_organisms, annotate_organisms"
   ]
  },
  {
   "cell_type": "code",
   "execution_count": null,
   "id": "ee44032d-ce23-428b-95ab-2bd02917ba63",
   "metadata": {},
   "outputs": [],
   "source": [
    "register_organisms(cxg_datasets)"
   ]
  },
  {
   "cell_type": "markdown",
   "id": "253a26f5-b2fd-4edb-a72f-a1208e558f6f",
   "metadata": {},
   "source": [
    "Link collections and organisms to artifacts:"
   ]
  },
  {
   "cell_type": "code",
   "execution_count": null,
   "id": "619930f6-07d2-47b5-965c-f247214ed985",
   "metadata": {},
   "outputs": [],
   "source": [
    "annotate_organisms(artifacts, cxg_datasets)"
   ]
  },
  {
   "cell_type": "markdown",
   "id": "ec98e4b9-683a-4eb2-aa35-bf3d15c63d71",
   "metadata": {},
   "source": [
    "## ontologies"
   ]
  },
  {
   "cell_type": "markdown",
   "id": "58ebf172-368e-4b4c-8dbd-73b91472fbd2",
   "metadata": {},
   "source": [
    "Register all ontology ids:"
   ]
  },
  {
   "cell_type": "code",
   "execution_count": null,
   "id": "fbcc9eb0-4a17-4936-81e2-c0deea6bb27d",
   "metadata": {},
   "outputs": [],
   "source": [
    "from cellxgene_lamin._ontology import register_ontology_ids"
   ]
  },
  {
   "cell_type": "code",
   "execution_count": null,
   "id": "6ec7357d-e15a-4066-938e-4948805faad0",
   "metadata": {
    "editable": true,
    "jupyter": {
     "outputs_hidden": true
    },
    "slideshow": {
     "slide_type": ""
    },
    "tags": [
     "hide-output"
    ]
   },
   "outputs": [],
   "source": [
    "register_ontology_ids(cxg_datasets)"
   ]
  },
  {
   "cell_type": "markdown",
   "id": "19776fb7-d87f-4eca-8f7d-c2d88ffbaf1b",
   "metadata": {},
   "source": [
    "## donors and suspension_types"
   ]
  },
  {
   "cell_type": "code",
   "execution_count": null,
   "id": "74f4d1ca-6e4b-4b77-ba62-0b131e728b96",
   "metadata": {
    "editable": true,
    "slideshow": {
     "slide_type": ""
    },
    "tags": []
   },
   "outputs": [],
   "source": [
    "from cellxgene_lamin._labels import register_ulabels"
   ]
  },
  {
   "cell_type": "code",
   "execution_count": null,
   "id": "1f4863c1-ee4a-4a1b-b418-e80fc7086dcf",
   "metadata": {
    "editable": true,
    "slideshow": {
     "slide_type": ""
    },
    "tags": []
   },
   "outputs": [],
   "source": [
    "register_ulabels(cxg_datasets, \"donor_id\")"
   ]
  },
  {
   "cell_type": "code",
   "execution_count": null,
   "id": "db2eb57c-d78b-4bbd-9254-59eec3e46352",
   "metadata": {},
   "outputs": [],
   "source": [
    "register_ulabels(cxg_datasets, \"suspension_type\")"
   ]
  },
  {
   "cell_type": "markdown",
   "id": "7a4c9d2b-3331-4901-b986-d2523597d20f",
   "metadata": {},
   "source": [
    "## Annotate artifacts with obs metadata"
   ]
  },
  {
   "cell_type": "code",
   "execution_count": null,
   "id": "5297b500-0053-4730-a064-2de81ef5319b",
   "metadata": {},
   "outputs": [],
   "source": [
    "from cellxgene_lamin._features import FEATURE_TO_ACCESSOR"
   ]
  },
  {
   "cell_type": "code",
   "execution_count": null,
   "id": "72a1457c-d4d7-45ae-bf20-87fd405c3a63",
   "metadata": {
    "editable": true,
    "slideshow": {
     "slide_type": ""
    },
    "tags": []
   },
   "outputs": [],
   "source": [
    "features = ln.Feature.lookup()\n",
    "\n",
    "for idx, cxg_dataset in enumerate(cxg_datasets):\n",
    "    if idx % 100 == 0:\n",
    "        print(f\"annotating dataset {idx} of {len(cxg_datasets)}\")\n",
    "    artifact = artifacts.filter(key__contains=cxg_dataset[\"dataset_id\"]).one_or_none()\n",
    "    if artifact is None:\n",
    "        continue\n",
    "    for field, terms in cxg_dataset.items():\n",
    "        if field not in FEATURE_TO_ACCESSOR:\n",
    "            continue\n",
    "        accessor, orm = FEATURE_TO_ACCESSOR.get(field)\n",
    "        if field in [\"donor_id\", \"suspension_type\", \"tissue_type\"]:\n",
    "            records = orm.from_values(terms, field=\"name\")\n",
    "            if len(records) > 0:\n",
    "                # stratify by feature so that link tables records are written\n",
    "                artifact.labels.add(records, feature=getattr(features, field))\n",
    "        else:\n",
    "            records = orm.from_values(\n",
    "                [i[\"ontology_term_id\"] for i in terms], field=\"ontology_id\"\n",
    "            )\n",
    "            if len(records) > 0:\n",
    "                getattr(artifact, accessor).add(*records)\n",
    "\n",
    "# clean up the 2 \"unknowns\" in DevelopmentalStage\n",
    "lb.DevelopmentalStage.filter(name=\"unknown\").exclude(ontology_id=\"unknown\").delete()"
   ]
  },
  {
   "cell_type": "markdown",
   "id": "83ec7780-4ab5-42e3-8765-3f4df04f43fc",
   "metadata": {},
   "source": [
    "## Validate and register genes"
   ]
  },
  {
   "cell_type": "code",
   "execution_count": null,
   "id": "66badfcf-0385-4086-a7c8-642501cf7684",
   "metadata": {},
   "outputs": [],
   "source": [
    "from cellxgene_lamin._gene import register_genes"
   ]
  },
  {
   "cell_type": "markdown",
   "id": "60dbb11e-da6d-495c-a437-79a956136afa",
   "metadata": {
    "editable": true,
    "slideshow": {
     "slide_type": ""
    },
    "tags": []
   },
   "source": [
    "Register all genes for each organism:"
   ]
  },
  {
   "cell_type": "code",
   "execution_count": null,
   "id": "2ac2f759-8de1-47de-be1f-7e96ab7f8540",
   "metadata": {
    "editable": true,
    "slideshow": {
     "slide_type": ""
    },
    "tags": []
   },
   "outputs": [],
   "source": [
    "register_genes()"
   ]
  },
  {
   "cell_type": "markdown",
   "id": "91941817-2afa-403a-8494-0759b1ef8e16",
   "metadata": {},
   "source": [
    "## Link metadata to individual artifacts"
   ]
  },
  {
   "cell_type": "markdown",
   "id": "d49b511a-0960-488a-95c4-0d09c829e481",
   "metadata": {},
   "source": [
    "annotate with genes measured in each artifact:"
   ]
  },
  {
   "cell_type": "code",
   "execution_count": null,
   "id": "5cf186a6-fd8e-448d-8dbc-02096c89b6ab",
   "metadata": {
    "tags": []
   },
   "outputs": [],
   "source": [
    "organisms = lb.Organism.lookup(field=lb.Organism.scientific_name)"
   ]
  },
  {
   "cell_type": "code",
   "execution_count": null,
   "id": "85cc438e-4cb9-4611-a058-861b8979b9f2",
   "metadata": {
    "jupyter": {
     "outputs_hidden": true
    },
    "tags": [
     "hide-output"
    ]
   },
   "outputs": [],
   "source": [
    "for idx, artifact in enumerate(artifacts):\n",
    "    if idx % 100 == 0:\n",
    "        print(f\"annotating dataset {idx} of {len(artifacts)}\")\n",
    "\n",
    "    adata_backed = artifact.backed()\n",
    "    var_names = adata_backed.var_names\n",
    "    organism_record = artifact.organism.first()\n",
    "    if organism_record is None:\n",
    "        print(f\"No organism found for artifact: {artifact}\")\n",
    "        continue\n",
    "    genes = lb.Gene.from_values(\n",
    "        var_names, field=lb.Gene.ensembl_gene_id, organism=organism_record\n",
    "    )\n",
    "\n",
    "    if len(genes) == 0 and var_names[0].startswith(\"ENSG\"):\n",
    "        genes += lb.Gene.from_values(\n",
    "            var_names, field=lb.Gene.ensembl_gene_id, organism=\"human\"\n",
    "        )\n",
    "\n",
    "    if len(var_names[var_names.str.startswith(\"ERCC\")]) > 0:\n",
    "        genes += lb.Gene.from_values(\n",
    "            var_names,\n",
    "            field=lb.Gene.ensembl_gene_id,\n",
    "            organism=organisms.synthetic_construct,\n",
    "        )\n",
    "    if len(var_names[var_names.str.startswith(\"ENSSASG\")]) > 0:\n",
    "        genes += lb.Gene.from_values(\n",
    "            var_names,\n",
    "            field=lb.Gene.ensembl_gene_id,\n",
    "            organism=organisms.severe_acute_respiratory_syndrome_coronavirus_2,\n",
    "        )\n",
    "\n",
    "    var_feature_set_artifact = ln.FeatureSet(genes, type=\"number\")\n",
    "    var_feature_set_artifact.save()\n",
    "    artifact.feature_sets.add(\n",
    "        var_feature_set_artifact, through_defaults={\"slot\": \"var\"}\n",
    "    )"
   ]
  },
  {
   "cell_type": "code",
   "execution_count": null,
   "id": "778d2386-957d-41c8-b400-0c7ae0819318",
   "metadata": {
    "editable": true,
    "slideshow": {
     "slide_type": ""
    },
    "tags": []
   },
   "outputs": [],
   "source": [
    "artifact.describe()"
   ]
  },
  {
   "cell_type": "markdown",
   "id": "2774691c-ecca-4114-a3aa-b9e2bfa0bec3",
   "metadata": {},
   "source": [
    "## Annotate tissue_type\n",
    "\n",
    "Before CxG schema 4.0, tissue_type column was not annotated, instead \"cell culture\" or \"organoid\" was added to the record ontology_id."
   ]
  },
  {
   "cell_type": "code",
   "execution_count": null,
   "id": "4145a622-e238-408d-9f66-abc5eb585254",
   "metadata": {
    "editable": true,
    "slideshow": {
     "slide_type": ""
    },
    "tags": []
   },
   "outputs": [],
   "source": [
    "register_ulabels(cxg_datasets, \"tissue_type\")"
   ]
  },
  {
   "cell_type": "code",
   "execution_count": null,
   "id": "e11ff0b6-3579-4b11-aba6-34c22bec3702",
   "metadata": {
    "tags": []
   },
   "outputs": [],
   "source": [
    "is_tissue_type = ln.ULabel.filter(name=\"is_tissue_type\").one()\n",
    "tissue_types = is_tissue_type.children.lookup()\n",
    "features = ln.Feature.lookup()"
   ]
  },
  {
   "cell_type": "code",
   "execution_count": null,
   "id": "51dea280-3add-4685-933f-42f43cd17c0e",
   "metadata": {
    "tags": []
   },
   "outputs": [],
   "source": [
    "organoids = lb.Tissue.filter(ontology_id__contains=\"organoid\").all()\n",
    "organoids.df()"
   ]
  },
  {
   "cell_type": "code",
   "execution_count": null,
   "id": "6c16797d-6e09-4f85-92a5-475164bf384b",
   "metadata": {
    "tags": []
   },
   "outputs": [],
   "source": [
    "for record in organoids:\n",
    "    print(record.name)\n",
    "    ontology_id = record.ontology_id.split(\" \")[0]\n",
    "    tissue_record = lb.Tissue.from_bionty(ontology_id=ontology_id)\n",
    "    if tissue_record._state.adding:\n",
    "        tissue_record.save()\n",
    "    for f in tissue_record.artifacts.all():\n",
    "        f.labels.add(tissue_types.organoid, features.tissue_type)"
   ]
  },
  {
   "cell_type": "code",
   "execution_count": null,
   "id": "6619c458-b688-4f8d-b2c6-ec9916c286c6",
   "metadata": {
    "tags": []
   },
   "outputs": [],
   "source": [
    "organoids.delete()"
   ]
  },
  {
   "cell_type": "code",
   "execution_count": null,
   "id": "5c2f0338-3a26-40cc-adce-7bbf718fd8ac",
   "metadata": {
    "tags": []
   },
   "outputs": [],
   "source": [
    "cell_cultures = lb.Tissue.filter(ontology_id__contains=\"cell culture\").all()\n",
    "cell_cultures.df()"
   ]
  },
  {
   "cell_type": "code",
   "execution_count": null,
   "id": "9000350d-3cf5-4045-813b-c56dea3ae90d",
   "metadata": {
    "tags": []
   },
   "outputs": [],
   "source": [
    "for record in cell_cultures:\n",
    "    print(record.name)\n",
    "    ontology_id = record.ontology_id.split(\" \")[0]\n",
    "    tissue_record = lb.CellType.from_bionty(ontology_id=ontology_id)\n",
    "    if tissue_record._state.adding:\n",
    "        tissue_record.save()\n",
    "    for f in tissue_record.artifacts.all():\n",
    "        f.labels.add(tissue_types.cell_culture, features.tissue_type)"
   ]
  },
  {
   "cell_type": "code",
   "execution_count": null,
   "id": "67a30e60-7ba9-4f89-8e8f-95d1d8bc49cc",
   "metadata": {
    "tags": []
   },
   "outputs": [],
   "source": [
    "cell_cultures.delete()"
   ]
  },
  {
   "cell_type": "markdown",
   "id": "b165eacb",
   "metadata": {},
   "source": [
    "## Register collections"
   ]
  },
  {
   "cell_type": "code",
   "execution_count": null,
   "id": "ed7a0e25",
   "metadata": {},
   "outputs": [],
   "source": [
    "collection = ln.Collection(\n",
    "    artifacts,\n",
    "    name=\"cellxgene-census\",\n",
    "    version=census_version,\n",
    "    is_new_version_of=ln.Collection.filter(\n",
    "        name=\"cellxgene-census\", version=\"2023-07-25\"\n",
    "    ).one(),\n",
    ")\n",
    "collection.save()"
   ]
  },
  {
   "cell_type": "code",
   "execution_count": null,
   "id": "323d7139",
   "metadata": {},
   "outputs": [],
   "source": [
    "cxg_collections = get_collections_from_cxg()"
   ]
  },
  {
   "cell_type": "code",
   "execution_count": null,
   "id": "77f296b9",
   "metadata": {},
   "outputs": [],
   "source": [
    "for collection_meta in cxg_collections:\n",
    "    keys = [\n",
    "        f'cell-census/{census_version}/h5ads/{dataset[\"dataset_id\"]}.h5ad'\n",
    "        for dataset in collection_meta[\"datasets\"]\n",
    "    ]\n",
    "    collection_artifacts = artifacts.filter(key__in=keys).all()\n",
    "    if collection_artifacts.count() > 0:\n",
    "        kwargs = dict(\n",
    "            name=collection_meta[\"name\"],\n",
    "            description=collection_meta[\"doi\"],\n",
    "            reference=collection_meta[\"collection_id\"],\n",
    "            reference_type=\"CELLxGENE Collection ID\",\n",
    "            version=census_version,\n",
    "        )\n",
    "        collection_record = ln.Collection(\n",
    "            collection_artifacts,\n",
    "            **kwargs,\n",
    "        )\n",
    "        # if is needed here as .save() errors if collection is already saved\n",
    "        if collection_record._state.adding:\n",
    "            collection_record.save()"
   ]
  },
  {
   "cell_type": "markdown",
   "id": "eaf89882",
   "metadata": {},
   "source": [
    "Add existing collections to their corresponding version families:"
   ]
  },
  {
   "cell_type": "code",
   "execution_count": null,
   "id": "9c0cfed3",
   "metadata": {},
   "outputs": [],
   "source": [
    "collections = ln.Collection.filter(version=census_version).all()\n",
    "collections.count()"
   ]
  },
  {
   "cell_type": "code",
   "execution_count": null,
   "id": "a4f54103",
   "metadata": {},
   "outputs": [],
   "source": [
    "collections_20230725 = ln.Collection.filter(version=\"2023-07-25\").all()\n",
    "collections_20230725.count()"
   ]
  },
  {
   "cell_type": "code",
   "execution_count": null,
   "id": "39f24a6a",
   "metadata": {
    "tags": [
     "hide-output"
    ]
   },
   "outputs": [],
   "source": [
    "for collection in collections:\n",
    "    collection_20230725 = collections_20230725.filter(\n",
    "        reference=collection.reference\n",
    "    ).one_or_none()\n",
    "    if collection_20230725 is not None:\n",
    "        collection.add_to_version_family(collection_20230725, version=census_version)"
   ]
  },
  {
   "cell_type": "markdown",
   "id": "2b20b41f-aa18-4db6-8a19-7d0c60d43a23",
   "metadata": {},
   "source": [
    "## Link metadata to collection"
   ]
  },
  {
   "cell_type": "code",
   "execution_count": null,
   "id": "7ace2a15-f081-4ba8-8af9-7ba4e1d23933",
   "metadata": {
    "tags": []
   },
   "outputs": [],
   "source": [
    "collection = ln.Collection.filter(name=\"cellxgene-census\", version=census_version).one()"
   ]
  },
  {
   "cell_type": "markdown",
   "id": "86aacbcd-0136-4790-991a-4f42aa42b0d4",
   "metadata": {},
   "source": [
    "feature sets:"
   ]
  },
  {
   "cell_type": "code",
   "execution_count": null,
   "id": "971b3afb-5368-467a-aab9-bb180e360e07",
   "metadata": {
    "tags": []
   },
   "outputs": [],
   "source": [
    "collection.feature_sets.add(\n",
    "    ln.FeatureSet.filter(name__contains=\"obs\").one(), through_defaults={\"slot\": \"obs\"}\n",
    ")\n",
    "collection.feature_sets.add(\n",
    "    ln.FeatureSet.filter(name__contains=\"ext\").one(),\n",
    "    through_defaults={\"slot\": \"external\"},\n",
    ")"
   ]
  },
  {
   "cell_type": "code",
   "execution_count": null,
   "id": "73598a4d-2a27-4bd8-b903-22258a10a21a",
   "metadata": {
    "tags": []
   },
   "outputs": [],
   "source": [
    "collection.describe()"
   ]
  }
 ],
 "metadata": {
  "availableInstances": [
   {
    "_defaultOrder": 0,
    "_isFastLaunch": true,
    "category": "General purpose",
    "gpuNum": 0,
    "hideHardwareSpecs": false,
    "memoryGiB": 4,
    "name": "ml.t3.medium",
    "vcpuNum": 2
   },
   {
    "_defaultOrder": 1,
    "_isFastLaunch": false,
    "category": "General purpose",
    "gpuNum": 0,
    "hideHardwareSpecs": false,
    "memoryGiB": 8,
    "name": "ml.t3.large",
    "vcpuNum": 2
   },
   {
    "_defaultOrder": 2,
    "_isFastLaunch": false,
    "category": "General purpose",
    "gpuNum": 0,
    "hideHardwareSpecs": false,
    "memoryGiB": 16,
    "name": "ml.t3.xlarge",
    "vcpuNum": 4
   },
   {
    "_defaultOrder": 3,
    "_isFastLaunch": false,
    "category": "General purpose",
    "gpuNum": 0,
    "hideHardwareSpecs": false,
    "memoryGiB": 32,
    "name": "ml.t3.2xlarge",
    "vcpuNum": 8
   },
   {
    "_defaultOrder": 4,
    "_isFastLaunch": true,
    "category": "General purpose",
    "gpuNum": 0,
    "hideHardwareSpecs": false,
    "memoryGiB": 8,
    "name": "ml.m5.large",
    "vcpuNum": 2
   },
   {
    "_defaultOrder": 5,
    "_isFastLaunch": false,
    "category": "General purpose",
    "gpuNum": 0,
    "hideHardwareSpecs": false,
    "memoryGiB": 16,
    "name": "ml.m5.xlarge",
    "vcpuNum": 4
   },
   {
    "_defaultOrder": 6,
    "_isFastLaunch": false,
    "category": "General purpose",
    "gpuNum": 0,
    "hideHardwareSpecs": false,
    "memoryGiB": 32,
    "name": "ml.m5.2xlarge",
    "vcpuNum": 8
   },
   {
    "_defaultOrder": 7,
    "_isFastLaunch": false,
    "category": "General purpose",
    "gpuNum": 0,
    "hideHardwareSpecs": false,
    "memoryGiB": 64,
    "name": "ml.m5.4xlarge",
    "vcpuNum": 16
   },
   {
    "_defaultOrder": 8,
    "_isFastLaunch": false,
    "category": "General purpose",
    "gpuNum": 0,
    "hideHardwareSpecs": false,
    "memoryGiB": 128,
    "name": "ml.m5.8xlarge",
    "vcpuNum": 32
   },
   {
    "_defaultOrder": 9,
    "_isFastLaunch": false,
    "category": "General purpose",
    "gpuNum": 0,
    "hideHardwareSpecs": false,
    "memoryGiB": 192,
    "name": "ml.m5.12xlarge",
    "vcpuNum": 48
   },
   {
    "_defaultOrder": 10,
    "_isFastLaunch": false,
    "category": "General purpose",
    "gpuNum": 0,
    "hideHardwareSpecs": false,
    "memoryGiB": 256,
    "name": "ml.m5.16xlarge",
    "vcpuNum": 64
   },
   {
    "_defaultOrder": 11,
    "_isFastLaunch": false,
    "category": "General purpose",
    "gpuNum": 0,
    "hideHardwareSpecs": false,
    "memoryGiB": 384,
    "name": "ml.m5.24xlarge",
    "vcpuNum": 96
   },
   {
    "_defaultOrder": 12,
    "_isFastLaunch": false,
    "category": "General purpose",
    "gpuNum": 0,
    "hideHardwareSpecs": false,
    "memoryGiB": 8,
    "name": "ml.m5d.large",
    "vcpuNum": 2
   },
   {
    "_defaultOrder": 13,
    "_isFastLaunch": false,
    "category": "General purpose",
    "gpuNum": 0,
    "hideHardwareSpecs": false,
    "memoryGiB": 16,
    "name": "ml.m5d.xlarge",
    "vcpuNum": 4
   },
   {
    "_defaultOrder": 14,
    "_isFastLaunch": false,
    "category": "General purpose",
    "gpuNum": 0,
    "hideHardwareSpecs": false,
    "memoryGiB": 32,
    "name": "ml.m5d.2xlarge",
    "vcpuNum": 8
   },
   {
    "_defaultOrder": 15,
    "_isFastLaunch": false,
    "category": "General purpose",
    "gpuNum": 0,
    "hideHardwareSpecs": false,
    "memoryGiB": 64,
    "name": "ml.m5d.4xlarge",
    "vcpuNum": 16
   },
   {
    "_defaultOrder": 16,
    "_isFastLaunch": false,
    "category": "General purpose",
    "gpuNum": 0,
    "hideHardwareSpecs": false,
    "memoryGiB": 128,
    "name": "ml.m5d.8xlarge",
    "vcpuNum": 32
   },
   {
    "_defaultOrder": 17,
    "_isFastLaunch": false,
    "category": "General purpose",
    "gpuNum": 0,
    "hideHardwareSpecs": false,
    "memoryGiB": 192,
    "name": "ml.m5d.12xlarge",
    "vcpuNum": 48
   },
   {
    "_defaultOrder": 18,
    "_isFastLaunch": false,
    "category": "General purpose",
    "gpuNum": 0,
    "hideHardwareSpecs": false,
    "memoryGiB": 256,
    "name": "ml.m5d.16xlarge",
    "vcpuNum": 64
   },
   {
    "_defaultOrder": 19,
    "_isFastLaunch": false,
    "category": "General purpose",
    "gpuNum": 0,
    "hideHardwareSpecs": false,
    "memoryGiB": 384,
    "name": "ml.m5d.24xlarge",
    "vcpuNum": 96
   },
   {
    "_defaultOrder": 20,
    "_isFastLaunch": false,
    "category": "General purpose",
    "gpuNum": 0,
    "hideHardwareSpecs": true,
    "memoryGiB": 0,
    "name": "ml.geospatial.interactive",
    "supportedImageNames": [
     "sagemaker-geospatial-v1-0"
    ],
    "vcpuNum": 0
   },
   {
    "_defaultOrder": 21,
    "_isFastLaunch": true,
    "category": "Compute optimized",
    "gpuNum": 0,
    "hideHardwareSpecs": false,
    "memoryGiB": 4,
    "name": "ml.c5.large",
    "vcpuNum": 2
   },
   {
    "_defaultOrder": 22,
    "_isFastLaunch": false,
    "category": "Compute optimized",
    "gpuNum": 0,
    "hideHardwareSpecs": false,
    "memoryGiB": 8,
    "name": "ml.c5.xlarge",
    "vcpuNum": 4
   },
   {
    "_defaultOrder": 23,
    "_isFastLaunch": false,
    "category": "Compute optimized",
    "gpuNum": 0,
    "hideHardwareSpecs": false,
    "memoryGiB": 16,
    "name": "ml.c5.2xlarge",
    "vcpuNum": 8
   },
   {
    "_defaultOrder": 24,
    "_isFastLaunch": false,
    "category": "Compute optimized",
    "gpuNum": 0,
    "hideHardwareSpecs": false,
    "memoryGiB": 32,
    "name": "ml.c5.4xlarge",
    "vcpuNum": 16
   },
   {
    "_defaultOrder": 25,
    "_isFastLaunch": false,
    "category": "Compute optimized",
    "gpuNum": 0,
    "hideHardwareSpecs": false,
    "memoryGiB": 72,
    "name": "ml.c5.9xlarge",
    "vcpuNum": 36
   },
   {
    "_defaultOrder": 26,
    "_isFastLaunch": false,
    "category": "Compute optimized",
    "gpuNum": 0,
    "hideHardwareSpecs": false,
    "memoryGiB": 96,
    "name": "ml.c5.12xlarge",
    "vcpuNum": 48
   },
   {
    "_defaultOrder": 27,
    "_isFastLaunch": false,
    "category": "Compute optimized",
    "gpuNum": 0,
    "hideHardwareSpecs": false,
    "memoryGiB": 144,
    "name": "ml.c5.18xlarge",
    "vcpuNum": 72
   },
   {
    "_defaultOrder": 28,
    "_isFastLaunch": false,
    "category": "Compute optimized",
    "gpuNum": 0,
    "hideHardwareSpecs": false,
    "memoryGiB": 192,
    "name": "ml.c5.24xlarge",
    "vcpuNum": 96
   },
   {
    "_defaultOrder": 29,
    "_isFastLaunch": true,
    "category": "Accelerated computing",
    "gpuNum": 1,
    "hideHardwareSpecs": false,
    "memoryGiB": 16,
    "name": "ml.g4dn.xlarge",
    "vcpuNum": 4
   },
   {
    "_defaultOrder": 30,
    "_isFastLaunch": false,
    "category": "Accelerated computing",
    "gpuNum": 1,
    "hideHardwareSpecs": false,
    "memoryGiB": 32,
    "name": "ml.g4dn.2xlarge",
    "vcpuNum": 8
   },
   {
    "_defaultOrder": 31,
    "_isFastLaunch": false,
    "category": "Accelerated computing",
    "gpuNum": 1,
    "hideHardwareSpecs": false,
    "memoryGiB": 64,
    "name": "ml.g4dn.4xlarge",
    "vcpuNum": 16
   },
   {
    "_defaultOrder": 32,
    "_isFastLaunch": false,
    "category": "Accelerated computing",
    "gpuNum": 1,
    "hideHardwareSpecs": false,
    "memoryGiB": 128,
    "name": "ml.g4dn.8xlarge",
    "vcpuNum": 32
   },
   {
    "_defaultOrder": 33,
    "_isFastLaunch": false,
    "category": "Accelerated computing",
    "gpuNum": 4,
    "hideHardwareSpecs": false,
    "memoryGiB": 192,
    "name": "ml.g4dn.12xlarge",
    "vcpuNum": 48
   },
   {
    "_defaultOrder": 34,
    "_isFastLaunch": false,
    "category": "Accelerated computing",
    "gpuNum": 1,
    "hideHardwareSpecs": false,
    "memoryGiB": 256,
    "name": "ml.g4dn.16xlarge",
    "vcpuNum": 64
   },
   {
    "_defaultOrder": 35,
    "_isFastLaunch": false,
    "category": "Accelerated computing",
    "gpuNum": 1,
    "hideHardwareSpecs": false,
    "memoryGiB": 61,
    "name": "ml.p3.2xlarge",
    "vcpuNum": 8
   },
   {
    "_defaultOrder": 36,
    "_isFastLaunch": false,
    "category": "Accelerated computing",
    "gpuNum": 4,
    "hideHardwareSpecs": false,
    "memoryGiB": 244,
    "name": "ml.p3.8xlarge",
    "vcpuNum": 32
   },
   {
    "_defaultOrder": 37,
    "_isFastLaunch": false,
    "category": "Accelerated computing",
    "gpuNum": 8,
    "hideHardwareSpecs": false,
    "memoryGiB": 488,
    "name": "ml.p3.16xlarge",
    "vcpuNum": 64
   },
   {
    "_defaultOrder": 38,
    "_isFastLaunch": false,
    "category": "Accelerated computing",
    "gpuNum": 8,
    "hideHardwareSpecs": false,
    "memoryGiB": 768,
    "name": "ml.p3dn.24xlarge",
    "vcpuNum": 96
   },
   {
    "_defaultOrder": 39,
    "_isFastLaunch": false,
    "category": "Memory Optimized",
    "gpuNum": 0,
    "hideHardwareSpecs": false,
    "memoryGiB": 16,
    "name": "ml.r5.large",
    "vcpuNum": 2
   },
   {
    "_defaultOrder": 40,
    "_isFastLaunch": false,
    "category": "Memory Optimized",
    "gpuNum": 0,
    "hideHardwareSpecs": false,
    "memoryGiB": 32,
    "name": "ml.r5.xlarge",
    "vcpuNum": 4
   },
   {
    "_defaultOrder": 41,
    "_isFastLaunch": false,
    "category": "Memory Optimized",
    "gpuNum": 0,
    "hideHardwareSpecs": false,
    "memoryGiB": 64,
    "name": "ml.r5.2xlarge",
    "vcpuNum": 8
   },
   {
    "_defaultOrder": 42,
    "_isFastLaunch": false,
    "category": "Memory Optimized",
    "gpuNum": 0,
    "hideHardwareSpecs": false,
    "memoryGiB": 128,
    "name": "ml.r5.4xlarge",
    "vcpuNum": 16
   },
   {
    "_defaultOrder": 43,
    "_isFastLaunch": false,
    "category": "Memory Optimized",
    "gpuNum": 0,
    "hideHardwareSpecs": false,
    "memoryGiB": 256,
    "name": "ml.r5.8xlarge",
    "vcpuNum": 32
   },
   {
    "_defaultOrder": 44,
    "_isFastLaunch": false,
    "category": "Memory Optimized",
    "gpuNum": 0,
    "hideHardwareSpecs": false,
    "memoryGiB": 384,
    "name": "ml.r5.12xlarge",
    "vcpuNum": 48
   },
   {
    "_defaultOrder": 45,
    "_isFastLaunch": false,
    "category": "Memory Optimized",
    "gpuNum": 0,
    "hideHardwareSpecs": false,
    "memoryGiB": 512,
    "name": "ml.r5.16xlarge",
    "vcpuNum": 64
   },
   {
    "_defaultOrder": 46,
    "_isFastLaunch": false,
    "category": "Memory Optimized",
    "gpuNum": 0,
    "hideHardwareSpecs": false,
    "memoryGiB": 768,
    "name": "ml.r5.24xlarge",
    "vcpuNum": 96
   },
   {
    "_defaultOrder": 47,
    "_isFastLaunch": false,
    "category": "Accelerated computing",
    "gpuNum": 1,
    "hideHardwareSpecs": false,
    "memoryGiB": 16,
    "name": "ml.g5.xlarge",
    "vcpuNum": 4
   },
   {
    "_defaultOrder": 48,
    "_isFastLaunch": false,
    "category": "Accelerated computing",
    "gpuNum": 1,
    "hideHardwareSpecs": false,
    "memoryGiB": 32,
    "name": "ml.g5.2xlarge",
    "vcpuNum": 8
   },
   {
    "_defaultOrder": 49,
    "_isFastLaunch": false,
    "category": "Accelerated computing",
    "gpuNum": 1,
    "hideHardwareSpecs": false,
    "memoryGiB": 64,
    "name": "ml.g5.4xlarge",
    "vcpuNum": 16
   },
   {
    "_defaultOrder": 50,
    "_isFastLaunch": false,
    "category": "Accelerated computing",
    "gpuNum": 1,
    "hideHardwareSpecs": false,
    "memoryGiB": 128,
    "name": "ml.g5.8xlarge",
    "vcpuNum": 32
   },
   {
    "_defaultOrder": 51,
    "_isFastLaunch": false,
    "category": "Accelerated computing",
    "gpuNum": 1,
    "hideHardwareSpecs": false,
    "memoryGiB": 256,
    "name": "ml.g5.16xlarge",
    "vcpuNum": 64
   },
   {
    "_defaultOrder": 52,
    "_isFastLaunch": false,
    "category": "Accelerated computing",
    "gpuNum": 4,
    "hideHardwareSpecs": false,
    "memoryGiB": 192,
    "name": "ml.g5.12xlarge",
    "vcpuNum": 48
   },
   {
    "_defaultOrder": 53,
    "_isFastLaunch": false,
    "category": "Accelerated computing",
    "gpuNum": 4,
    "hideHardwareSpecs": false,
    "memoryGiB": 384,
    "name": "ml.g5.24xlarge",
    "vcpuNum": 96
   },
   {
    "_defaultOrder": 54,
    "_isFastLaunch": false,
    "category": "Accelerated computing",
    "gpuNum": 8,
    "hideHardwareSpecs": false,
    "memoryGiB": 768,
    "name": "ml.g5.48xlarge",
    "vcpuNum": 192
   },
   {
    "_defaultOrder": 55,
    "_isFastLaunch": false,
    "category": "Accelerated computing",
    "gpuNum": 8,
    "hideHardwareSpecs": false,
    "memoryGiB": 1152,
    "name": "ml.p4d.24xlarge",
    "vcpuNum": 96
   },
   {
    "_defaultOrder": 56,
    "_isFastLaunch": false,
    "category": "Accelerated computing",
    "gpuNum": 8,
    "hideHardwareSpecs": false,
    "memoryGiB": 1152,
    "name": "ml.p4de.24xlarge",
    "vcpuNum": 96
   },
   {
    "_defaultOrder": 57,
    "_isFastLaunch": false,
    "category": "Accelerated computing",
    "gpuNum": 0,
    "hideHardwareSpecs": false,
    "memoryGiB": 32,
    "name": "ml.trn1.2xlarge",
    "vcpuNum": 8
   },
   {
    "_defaultOrder": 58,
    "_isFastLaunch": false,
    "category": "Accelerated computing",
    "gpuNum": 0,
    "hideHardwareSpecs": false,
    "memoryGiB": 512,
    "name": "ml.trn1.32xlarge",
    "vcpuNum": 128
   },
   {
    "_defaultOrder": 59,
    "_isFastLaunch": false,
    "category": "Accelerated computing",
    "gpuNum": 0,
    "hideHardwareSpecs": false,
    "memoryGiB": 512,
    "name": "ml.trn1n.32xlarge",
    "vcpuNum": 128
   }
  ],
  "instance_type": "ml.t3.medium",
  "kernelspec": {
   "display_name": "Python 3 (ipykernel)",
   "language": "python",
   "name": "python3"
  },
  "language_info": {
   "codemirror_mode": {
    "name": "ipython",
    "version": 3
   },
   "file_extension": ".py",
   "mimetype": "text/x-python",
   "name": "python",
   "nbconvert_exporter": "python",
   "pygments_lexer": "ipython3",
   "version": "3.10.13"
  },
  "nbproject": {
   "id": "G69jtgzKO0eJ",
   "parent": null,
   "pypackage": null,
   "time_init": "2024-01-11T09:33:10.726436+00:00",
   "user_handle": null,
   "user_id": null,
   "user_name": null,
   "version": "1"
  }
 },
 "nbformat": 4,
 "nbformat_minor": 5
}
