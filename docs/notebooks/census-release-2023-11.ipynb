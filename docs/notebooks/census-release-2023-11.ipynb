{
 "cells": [
  {
   "cell_type": "markdown",
   "metadata": {},
   "source": [
    "# Register files from Census release 2023-11-13"
   ]
  },
  {
   "cell_type": "code",
   "execution_count": 1,
   "metadata": {
    "tags": []
   },
   "outputs": [
    {
     "name": "stderr",
     "output_type": "stream",
     "text": [
      "2023-11-21 09:29:02,200:INFO - NumExpr defaulting to 2 threads.\n"
     ]
    },
    {
     "name": "stdout",
     "output_type": "stream",
     "text": [
      "💡 lamindb instance: theislab/nicheformer\n"
     ]
    }
   ],
   "source": [
    "import lamindb as ln\n",
    "import lnschema_bionty as lb\n",
    "\n",
    "ln.settings.verbosity = \"hint\""
   ]
  },
  {
   "cell_type": "code",
   "execution_count": 2,
   "metadata": {
    "tags": []
   },
   "outputs": [],
   "source": [
    "census_version = \"2023-11-13\""
   ]
  },
  {
   "cell_type": "code",
   "execution_count": 3,
   "metadata": {
    "tags": []
   },
   "outputs": [
    {
     "name": "stdout",
     "output_type": "stream",
     "text": [
      "h5ads (0 sub-directories & 1122 files with suffixes '.h5ad'): \n",
      "├── 00099d5e-154f-4a7a-aa8d-fa30c8c0c43c.h5ad\n",
      "├── 0041b9c3-6a49-4bf7-8514-9bc7190067a7.h5ad\n",
      "├── 00476f9f-ebc1-4b72-b541-32f912ce36ea.h5ad\n",
      "├── 00e5dedd-b9b7-43be-8c28-b0e5c6414a62.h5ad\n",
      "├── 00ff600e-6e2e-4d76-846f-0eec4f0ae417.h5ad\n",
      "├── 01209dce-3575-4bed-b1df-129f57fbc031.h5ad\n",
      "...\n"
     ]
    }
   ],
   "source": [
    "s3path = f\"s3://cellxgene-data-public/cell-census/{census_version}/h5ads\"\n",
    "ln.UPath(s3path).view_tree()"
   ]
  },
  {
   "cell_type": "code",
   "execution_count": 5,
   "metadata": {
    "tags": []
   },
   "outputs": [
    {
     "name": "stdout",
     "output_type": "stream",
     "text": [
      "💡 Assuming editor is Jupyter Lab.\n",
      "💡 notebook imports: lamindb==0.62.0 lnschema_bionty==0.35.1 requests==2.31.0\n",
      "💡 loaded: Transform(uid='4hbVFAINneXCz8', name='Register files from Census release 2023-11-13', short_name='census-release-2023-11', version='0', type='notebook', updated_at=2023-11-20 21:25:20 UTC, created_by_id=1)\n",
      "💡 loaded: Run(uid='6ZcVntFiofyv226ywRDL', run_at=2023-11-21 09:29:07 UTC, transform_id=18, created_by_id=1)\n"
     ]
    }
   ],
   "source": [
    "# on sagemaker\n",
    "ln.track(notebook_path=\"/root/cellxgene-census-lamin/docs/notebooks/census-release-2023-11.ipynb\")"
   ]
  },
  {
   "cell_type": "markdown",
   "metadata": {},
   "source": [
    "## Register files"
   ]
  },
  {
   "cell_type": "code",
   "execution_count": 5,
   "metadata": {},
   "outputs": [
    {
     "name": "stdout",
     "output_type": "stream",
     "text": [
      "✅ created 1122 files from directory using storage s3://cellxgene-data-public and key = cell-census/2023-11-13/h5ads/\n"
     ]
    }
   ],
   "source": [
    "files = ln.File.from_dir(s3path)\n",
    "ln.save(files)"
   ]
  },
  {
   "cell_type": "code",
   "execution_count": 6,
   "metadata": {},
   "outputs": [
    {
     "name": "stdout",
     "output_type": "stream",
     "text": [
      "💡 initializing versioning for this dataset! create future versions of it using ln.Dataset(..., is_new_version_of=old_dataset)\n"
     ]
    }
   ],
   "source": [
    "dataset = ln.Dataset(files, name=\"cellxgene-census\", version=census_version)\n",
    "dataset.save()"
   ]
  },
  {
   "cell_type": "markdown",
   "metadata": {
    "tags": []
   },
   "source": [
    "## Register metadata"
   ]
  },
  {
   "cell_type": "markdown",
   "metadata": {},
   "source": [
    "Get all datasets and associated metadata using cellxgene REST API:"
   ]
  },
  {
   "cell_type": "code",
   "execution_count": 7,
   "metadata": {
    "tags": []
   },
   "outputs": [],
   "source": [
    "import requests\n",
    "\n",
    "def get_datasets_df_from_cxg():\n",
    "    domain_name = \"cellxgene.cziscience.com\"\n",
    "    site_url = f\"https://{domain_name}\"\n",
    "    api_url_base = f\"https://api.{domain_name}\"\n",
    "    datasets_path = \"/curation/v1/datasets\"\n",
    "    datasets_url = f\"{api_url_base}{datasets_path}\"\n",
    "    headers = {\"Content-Type\": \"application/json\"}\n",
    "    res = requests.get(url=datasets_url, headers=headers)\n",
    "    res.raise_for_status()\n",
    "    res_content = res.json()\n",
    "    return res_content"
   ]
  },
  {
   "cell_type": "code",
   "execution_count": 8,
   "metadata": {
    "tags": []
   },
   "outputs": [],
   "source": [
    "res_content = get_datasets_df_from_cxg()"
   ]
  },
  {
   "cell_type": "code",
   "execution_count": 10,
   "metadata": {
    "tags": []
   },
   "outputs": [
    {
     "data": {
      "text/plain": [
       "1130"
      ]
     },
     "execution_count": 10,
     "metadata": {},
     "output_type": "execute_result"
    }
   ],
   "source": [
    "len(res_content)"
   ]
  },
  {
   "cell_type": "code",
   "execution_count": 33,
   "metadata": {
    "tags": []
   },
   "outputs": [],
   "source": [
    "features = ln.Feature.lookup()\n",
    "files = ln.File.filter(key__contains=census_version).all()"
   ]
  },
  {
   "cell_type": "code",
   "execution_count": 35,
   "metadata": {
    "tags": []
   },
   "outputs": [
    {
     "data": {
      "text/plain": [
       "File(uid='STPpBkpPyWE2Dw6hUNMn', key='cell-census/2023-11-13/h5ads/00099d5e-154f-4a7a-aa8d-fa30c8c0c43c.h5ad', suffix='.h5ad', accessor='AnnData', size=15445978, hash='-fz6gvPyTayFcsmM5cEqOw-2', hash_type='md5-n', visibility=0, key_is_virtual=False, updated_at=2023-11-20 21:45:21 UTC, storage_id=2, transform_id=18, run_id=18, created_by_id=1)"
      ]
     },
     "execution_count": 35,
     "metadata": {},
     "output_type": "execute_result"
    }
   ],
   "source": [
    "files[0]"
   ]
  },
  {
   "cell_type": "code",
   "execution_count": null,
   "metadata": {},
   "outputs": [],
   "source": [
    "for dataset"
   ]
  },
  {
   "cell_type": "code",
   "execution_count": 11,
   "metadata": {
    "tags": []
   },
   "outputs": [
    {
     "data": {
      "text/plain": [
       "dict_keys(['assay', 'assets', 'cell_count', 'cell_type', 'collection_doi', 'collection_id', 'collection_name', 'collection_version_id', 'dataset_id', 'dataset_version_id', 'development_stage', 'disease', 'donor_id', 'explorer_url', 'is_primary_data', 'mean_genes_per_cell', 'organism', 'primary_cell_count', 'processing_status', 'published_at', 'revised_at', 'schema_version', 'self_reported_ethnicity', 'sex', 'suspension_type', 'tissue', 'title', 'tombstone', 'x_approximate_distribution'])"
      ]
     },
     "execution_count": 11,
     "metadata": {},
     "output_type": "execute_result"
    }
   ],
   "source": [
    "res_content[0].keys()"
   ]
  },
  {
   "cell_type": "code",
   "execution_count": 31,
   "metadata": {
    "tags": []
   },
   "outputs": [
    {
     "data": {
      "text/plain": [
       "[{'label': 'European', 'ontology_term_id': 'HANCESTRO:0005'},\n",
       " {'label': 'Hispanic or Latin American', 'ontology_term_id': 'HANCESTRO:0014'}]"
      ]
     },
     "execution_count": 31,
     "metadata": {},
     "output_type": "execute_result"
    }
   ],
   "source": [
    "res_content[0][\"self_reported_ethnicity\"]"
   ]
  },
  {
   "cell_type": "code",
   "execution_count": 5,
   "metadata": {},
   "outputs": [],
   "source": [
    "dataset = ln.Dataset.filter(version=census_version).one()"
   ]
  },
  {
   "cell_type": "code",
   "execution_count": 6,
   "metadata": {},
   "outputs": [],
   "source": [
    "file = dataset.files.first()"
   ]
  },
  {
   "cell_type": "code",
   "execution_count": 7,
   "metadata": {},
   "outputs": [],
   "source": [
    "adata_backed = file.backed()"
   ]
  },
  {
   "cell_type": "code",
   "execution_count": 8,
   "metadata": {},
   "outputs": [],
   "source": [
    "features = ln.Feature.lookup()"
   ]
  },
  {
   "cell_type": "code",
   "execution_count": 9,
   "metadata": {},
   "outputs": [
    {
     "data": {
      "text/plain": [
       "'Spatial transcriptomics in mouse: Puck_191206_04'"
      ]
     },
     "execution_count": 9,
     "metadata": {},
     "output_type": "execute_result"
    }
   ],
   "source": [
    "adata_backed.uns[\"title\"]"
   ]
  },
  {
   "cell_type": "code",
   "execution_count": 13,
   "metadata": {},
   "outputs": [],
   "source": [
    "import requests"
   ]
  },
  {
   "cell_type": "code",
   "execution_count": null,
   "metadata": {},
   "outputs": [],
   "source": [
    "requests.get(\"\")"
   ]
  },
  {
   "cell_type": "code",
   "execution_count": 6,
   "metadata": {},
   "outputs": [
    {
     "data": {
      "text/html": [
       "<div>\n",
       "<style scoped>\n",
       "    .dataframe tbody tr th:only-of-type {\n",
       "        vertical-align: middle;\n",
       "    }\n",
       "\n",
       "    .dataframe tbody tr th {\n",
       "        vertical-align: top;\n",
       "    }\n",
       "\n",
       "    .dataframe thead th {\n",
       "        text-align: right;\n",
       "    }\n",
       "</style>\n",
       "<table border=\"1\" class=\"dataframe\">\n",
       "  <thead>\n",
       "    <tr style=\"text-align: right;\">\n",
       "      <th></th>\n",
       "      <th>uid</th>\n",
       "      <th>synonyms</th>\n",
       "      <th>score</th>\n",
       "    </tr>\n",
       "    <tr>\n",
       "      <th>name</th>\n",
       "      <th></th>\n",
       "      <th></th>\n",
       "      <th></th>\n",
       "    </tr>\n",
       "  </thead>\n",
       "  <tbody>\n",
       "    <tr>\n",
       "      <th>gamma-delta T cell</th>\n",
       "      <td>64kIG7So</td>\n",
       "      <td>gamma-delta T lymphocyte|gamma-delta T-lymphoc...</td>\n",
       "      <td>100.0</td>\n",
       "    </tr>\n",
       "    <tr>\n",
       "      <th>mature gamma-delta T cell</th>\n",
       "      <td>ZcvAPnLl</td>\n",
       "      <td>mature gamma-delta T-cell|mature gamma-delta T...</td>\n",
       "      <td>83.7</td>\n",
       "    </tr>\n",
       "    <tr>\n",
       "      <th>alpha-beta T cell</th>\n",
       "      <td>nkJI55X0</td>\n",
       "      <td>alpha-beta T-cell|alpha-beta T-lymphocyte|alph...</td>\n",
       "      <td>74.3</td>\n",
       "    </tr>\n",
       "    <tr>\n",
       "      <th>gamma-delta intraepithelial T cell</th>\n",
       "      <td>dMbVABW2</td>\n",
       "      <td>gamma-delta intraepithelial T-cell|gamma-delta...</td>\n",
       "      <td>69.2</td>\n",
       "    </tr>\n",
       "    <tr>\n",
       "      <th>immature T cell</th>\n",
       "      <td>7yftEdeR</td>\n",
       "      <td>immature T-cell</td>\n",
       "      <td>66.7</td>\n",
       "    </tr>\n",
       "    <tr>\n",
       "      <th>pancreatic D cell</th>\n",
       "      <td>RE9i1A9O</td>\n",
       "      <td>delta cell of pancreatic islet|D-cell of pancr...</td>\n",
       "      <td>66.7</td>\n",
       "    </tr>\n",
       "    <tr>\n",
       "      <th>vasa recta cell</th>\n",
       "      <td>wp4PbtJ0</td>\n",
       "      <td></td>\n",
       "      <td>66.7</td>\n",
       "    </tr>\n",
       "    <tr>\n",
       "      <th>stem cell</th>\n",
       "      <td>p0pUUB75</td>\n",
       "      <td>animal stem cell</td>\n",
       "      <td>64.7</td>\n",
       "    </tr>\n",
       "    <tr>\n",
       "      <th>mature T cell</th>\n",
       "      <td>2C5PhwrW</td>\n",
       "      <td>mature T-cell|CD3e-positive T cell</td>\n",
       "      <td>64.5</td>\n",
       "    </tr>\n",
       "  </tbody>\n",
       "</table>\n",
       "</div>"
      ],
      "text/plain": [
       "                                         uid  \\\n",
       "name                                           \n",
       "gamma-delta T cell                  64kIG7So   \n",
       "mature gamma-delta T cell           ZcvAPnLl   \n",
       "alpha-beta T cell                   nkJI55X0   \n",
       "gamma-delta intraepithelial T cell  dMbVABW2   \n",
       "immature T cell                     7yftEdeR   \n",
       "pancreatic D cell                   RE9i1A9O   \n",
       "vasa recta cell                     wp4PbtJ0   \n",
       "stem cell                           p0pUUB75   \n",
       "mature T cell                       2C5PhwrW   \n",
       "\n",
       "                                                                             synonyms  \\\n",
       "name                                                                                    \n",
       "gamma-delta T cell                  gamma-delta T lymphocyte|gamma-delta T-lymphoc...   \n",
       "mature gamma-delta T cell           mature gamma-delta T-cell|mature gamma-delta T...   \n",
       "alpha-beta T cell                   alpha-beta T-cell|alpha-beta T-lymphocyte|alph...   \n",
       "gamma-delta intraepithelial T cell  gamma-delta intraepithelial T-cell|gamma-delta...   \n",
       "immature T cell                                                       immature T-cell   \n",
       "pancreatic D cell                   delta cell of pancreatic islet|D-cell of pancr...   \n",
       "vasa recta cell                                                                         \n",
       "stem cell                                                            animal stem cell   \n",
       "mature T cell                                      mature T-cell|CD3e-positive T cell   \n",
       "\n",
       "                                    score  \n",
       "name                                       \n",
       "gamma-delta T cell                  100.0  \n",
       "mature gamma-delta T cell            83.7  \n",
       "alpha-beta T cell                    74.3  \n",
       "gamma-delta intraepithelial T cell   69.2  \n",
       "immature T cell                      66.7  \n",
       "pancreatic D cell                    66.7  \n",
       "vasa recta cell                      66.7  \n",
       "stem cell                            64.7  \n",
       "mature T cell                        64.5  "
      ]
     },
     "execution_count": 6,
     "metadata": {},
     "output_type": "execute_result"
    }
   ],
   "source": [
    "lb.CellType.search(\"gamma delta T cell\")"
   ]
  },
  {
   "cell_type": "code",
   "execution_count": 7,
   "metadata": {},
   "outputs": [],
   "source": [
    "lookup = lb.CellType.lookup()\n",
    "lookup.hema"
   ]
  },
  {
   "cell_type": "code",
   "execution_count": null,
   "metadata": {},
   "outputs": [],
   "source": []
  },
  {
   "cell_type": "code",
   "execution_count": null,
   "metadata": {},
   "outputs": [],
   "source": []
  },
  {
   "cell_type": "code",
   "execution_count": null,
   "metadata": {},
   "outputs": [],
   "source": []
  },
  {
   "cell_type": "code",
   "execution_count": 11,
   "metadata": {},
   "outputs": [
    {
     "data": {
      "text/plain": [
       "<QuerySet []>"
      ]
     },
     "execution_count": 11,
     "metadata": {},
     "output_type": "execute_result"
    }
   ],
   "source": [
    "ln.ULabel.filter(name=\"Spatial transcriptomics in mouse: Puck_191206_04\")"
   ]
  },
  {
   "cell_type": "code",
   "execution_count": 10,
   "metadata": {},
   "outputs": [
    {
     "data": {
      "text/plain": [
       "Index(['assay_ontology_term_id', 'self_reported_ethnicity_ontology_term_id',\n",
       "       'is_primary_data', 'organism_ontology_term_id', 'sample',\n",
       "       'tissue_ontology_term_id', 'disease_state', 'sex_ontology_term_id',\n",
       "       'genotype', 'development_stage_ontology_term_id', 'author_cell_type',\n",
       "       'cell_type_ontology_term_id', 'disease_ontology_term_id', 'donor_id',\n",
       "       'suspension_type', 'cell_type', 'assay', 'disease', 'organism', 'sex',\n",
       "       'tissue', 'self_reported_ethnicity', 'development_stage'],\n",
       "      dtype='object')"
      ]
     },
     "execution_count": 10,
     "metadata": {},
     "output_type": "execute_result"
    }
   ],
   "source": [
    "adata_backed.obs.columns"
   ]
  },
  {
   "cell_type": "code",
   "execution_count": 17,
   "metadata": {},
   "outputs": [
    {
     "data": {
      "text/plain": [
       "Index(['na'], dtype='object')"
      ]
     },
     "execution_count": 17,
     "metadata": {},
     "output_type": "execute_result"
    }
   ],
   "source": [
    "adata_backed.obs.suspension_type.cat.categories"
   ]
  },
  {
   "cell_type": "code",
   "execution_count": 12,
   "metadata": {},
   "outputs": [
    {
     "data": {
      "text/html": [
       "<div>\n",
       "<style scoped>\n",
       "    .dataframe tbody tr th:only-of-type {\n",
       "        vertical-align: middle;\n",
       "    }\n",
       "\n",
       "    .dataframe tbody tr th {\n",
       "        vertical-align: top;\n",
       "    }\n",
       "\n",
       "    .dataframe thead th {\n",
       "        text-align: right;\n",
       "    }\n",
       "</style>\n",
       "<table border=\"1\" class=\"dataframe\">\n",
       "  <thead>\n",
       "    <tr style=\"text-align: right;\">\n",
       "      <th></th>\n",
       "      <th>assay_ontology_term_id</th>\n",
       "      <th>self_reported_ethnicity_ontology_term_id</th>\n",
       "      <th>is_primary_data</th>\n",
       "      <th>organism_ontology_term_id</th>\n",
       "      <th>sample</th>\n",
       "      <th>tissue_ontology_term_id</th>\n",
       "      <th>disease_state</th>\n",
       "      <th>sex_ontology_term_id</th>\n",
       "      <th>genotype</th>\n",
       "      <th>development_stage_ontology_term_id</th>\n",
       "      <th>...</th>\n",
       "      <th>donor_id</th>\n",
       "      <th>suspension_type</th>\n",
       "      <th>cell_type</th>\n",
       "      <th>assay</th>\n",
       "      <th>disease</th>\n",
       "      <th>organism</th>\n",
       "      <th>sex</th>\n",
       "      <th>tissue</th>\n",
       "      <th>self_reported_ethnicity</th>\n",
       "      <th>development_stage</th>\n",
       "    </tr>\n",
       "  </thead>\n",
       "  <tbody>\n",
       "    <tr>\n",
       "      <th>AAAAAAGCGCTTCG</th>\n",
       "      <td>EFO:0030062</td>\n",
       "      <td>na</td>\n",
       "      <td>True</td>\n",
       "      <td>NCBITaxon:10090</td>\n",
       "      <td>BTBR-ob/ob-3g</td>\n",
       "      <td>UBERON:0002113</td>\n",
       "      <td>early diabetic kidney disease</td>\n",
       "      <td>PATO:0000384</td>\n",
       "      <td>BTBR-ob/ob</td>\n",
       "      <td>MmusDv:0000057</td>\n",
       "      <td>...</td>\n",
       "      <td>BTBR-ob/ob-3</td>\n",
       "      <td>na</td>\n",
       "      <td>kidney proximal convoluted tubule epithelial cell</td>\n",
       "      <td>Slide-seqV2</td>\n",
       "      <td>diabetic kidney disease</td>\n",
       "      <td>Mus musculus</td>\n",
       "      <td>male</td>\n",
       "      <td>kidney</td>\n",
       "      <td>na</td>\n",
       "      <td>13 weeks</td>\n",
       "    </tr>\n",
       "    <tr>\n",
       "      <th>AAAAACCCGCGGTG</th>\n",
       "      <td>EFO:0030062</td>\n",
       "      <td>na</td>\n",
       "      <td>True</td>\n",
       "      <td>NCBITaxon:10090</td>\n",
       "      <td>BTBR-ob/ob-3g</td>\n",
       "      <td>UBERON:0002113</td>\n",
       "      <td>early diabetic kidney disease</td>\n",
       "      <td>PATO:0000384</td>\n",
       "      <td>BTBR-ob/ob</td>\n",
       "      <td>MmusDv:0000057</td>\n",
       "      <td>...</td>\n",
       "      <td>BTBR-ob/ob-3</td>\n",
       "      <td>na</td>\n",
       "      <td>kidney proximal convoluted tubule epithelial cell</td>\n",
       "      <td>Slide-seqV2</td>\n",
       "      <td>diabetic kidney disease</td>\n",
       "      <td>Mus musculus</td>\n",
       "      <td>male</td>\n",
       "      <td>kidney</td>\n",
       "      <td>na</td>\n",
       "      <td>13 weeks</td>\n",
       "    </tr>\n",
       "    <tr>\n",
       "      <th>AAAAACGAATGCGA</th>\n",
       "      <td>EFO:0030062</td>\n",
       "      <td>na</td>\n",
       "      <td>True</td>\n",
       "      <td>NCBITaxon:10090</td>\n",
       "      <td>BTBR-ob/ob-3g</td>\n",
       "      <td>UBERON:0002113</td>\n",
       "      <td>early diabetic kidney disease</td>\n",
       "      <td>PATO:0000384</td>\n",
       "      <td>BTBR-ob/ob</td>\n",
       "      <td>MmusDv:0000057</td>\n",
       "      <td>...</td>\n",
       "      <td>BTBR-ob/ob-3</td>\n",
       "      <td>na</td>\n",
       "      <td>kidney proximal convoluted tubule epithelial cell</td>\n",
       "      <td>Slide-seqV2</td>\n",
       "      <td>diabetic kidney disease</td>\n",
       "      <td>Mus musculus</td>\n",
       "      <td>male</td>\n",
       "      <td>kidney</td>\n",
       "      <td>na</td>\n",
       "      <td>13 weeks</td>\n",
       "    </tr>\n",
       "    <tr>\n",
       "      <th>AAAAACGTGCCGCG</th>\n",
       "      <td>EFO:0030062</td>\n",
       "      <td>na</td>\n",
       "      <td>True</td>\n",
       "      <td>NCBITaxon:10090</td>\n",
       "      <td>BTBR-ob/ob-3g</td>\n",
       "      <td>UBERON:0002113</td>\n",
       "      <td>early diabetic kidney disease</td>\n",
       "      <td>PATO:0000384</td>\n",
       "      <td>BTBR-ob/ob</td>\n",
       "      <td>MmusDv:0000057</td>\n",
       "      <td>...</td>\n",
       "      <td>BTBR-ob/ob-3</td>\n",
       "      <td>na</td>\n",
       "      <td>kidney proximal convoluted tubule epithelial cell</td>\n",
       "      <td>Slide-seqV2</td>\n",
       "      <td>diabetic kidney disease</td>\n",
       "      <td>Mus musculus</td>\n",
       "      <td>male</td>\n",
       "      <td>kidney</td>\n",
       "      <td>na</td>\n",
       "      <td>13 weeks</td>\n",
       "    </tr>\n",
       "    <tr>\n",
       "      <th>AAAAACTTTGTGTG</th>\n",
       "      <td>EFO:0030062</td>\n",
       "      <td>na</td>\n",
       "      <td>True</td>\n",
       "      <td>NCBITaxon:10090</td>\n",
       "      <td>BTBR-ob/ob-3g</td>\n",
       "      <td>UBERON:0002113</td>\n",
       "      <td>early diabetic kidney disease</td>\n",
       "      <td>PATO:0000384</td>\n",
       "      <td>BTBR-ob/ob</td>\n",
       "      <td>MmusDv:0000057</td>\n",
       "      <td>...</td>\n",
       "      <td>BTBR-ob/ob-3</td>\n",
       "      <td>na</td>\n",
       "      <td>kidney proximal convoluted tubule epithelial cell</td>\n",
       "      <td>Slide-seqV2</td>\n",
       "      <td>diabetic kidney disease</td>\n",
       "      <td>Mus musculus</td>\n",
       "      <td>male</td>\n",
       "      <td>kidney</td>\n",
       "      <td>na</td>\n",
       "      <td>13 weeks</td>\n",
       "    </tr>\n",
       "    <tr>\n",
       "      <th>...</th>\n",
       "      <td>...</td>\n",
       "      <td>...</td>\n",
       "      <td>...</td>\n",
       "      <td>...</td>\n",
       "      <td>...</td>\n",
       "      <td>...</td>\n",
       "      <td>...</td>\n",
       "      <td>...</td>\n",
       "      <td>...</td>\n",
       "      <td>...</td>\n",
       "      <td>...</td>\n",
       "      <td>...</td>\n",
       "      <td>...</td>\n",
       "      <td>...</td>\n",
       "      <td>...</td>\n",
       "      <td>...</td>\n",
       "      <td>...</td>\n",
       "      <td>...</td>\n",
       "      <td>...</td>\n",
       "      <td>...</td>\n",
       "      <td>...</td>\n",
       "    </tr>\n",
       "    <tr>\n",
       "      <th>TTTCGGAACCCGAG</th>\n",
       "      <td>EFO:0030062</td>\n",
       "      <td>na</td>\n",
       "      <td>True</td>\n",
       "      <td>NCBITaxon:10090</td>\n",
       "      <td>BTBR-ob/ob-3g</td>\n",
       "      <td>UBERON:0002113</td>\n",
       "      <td>early diabetic kidney disease</td>\n",
       "      <td>PATO:0000384</td>\n",
       "      <td>BTBR-ob/ob</td>\n",
       "      <td>MmusDv:0000057</td>\n",
       "      <td>...</td>\n",
       "      <td>BTBR-ob/ob-3</td>\n",
       "      <td>na</td>\n",
       "      <td>leukocyte</td>\n",
       "      <td>Slide-seqV2</td>\n",
       "      <td>diabetic kidney disease</td>\n",
       "      <td>Mus musculus</td>\n",
       "      <td>male</td>\n",
       "      <td>kidney</td>\n",
       "      <td>na</td>\n",
       "      <td>13 weeks</td>\n",
       "    </tr>\n",
       "    <tr>\n",
       "      <th>TTTCGTCTCCAACA</th>\n",
       "      <td>EFO:0030062</td>\n",
       "      <td>na</td>\n",
       "      <td>True</td>\n",
       "      <td>NCBITaxon:10090</td>\n",
       "      <td>BTBR-ob/ob-3g</td>\n",
       "      <td>UBERON:0002113</td>\n",
       "      <td>early diabetic kidney disease</td>\n",
       "      <td>PATO:0000384</td>\n",
       "      <td>BTBR-ob/ob</td>\n",
       "      <td>MmusDv:0000057</td>\n",
       "      <td>...</td>\n",
       "      <td>BTBR-ob/ob-3</td>\n",
       "      <td>na</td>\n",
       "      <td>leukocyte</td>\n",
       "      <td>Slide-seqV2</td>\n",
       "      <td>diabetic kidney disease</td>\n",
       "      <td>Mus musculus</td>\n",
       "      <td>male</td>\n",
       "      <td>kidney</td>\n",
       "      <td>na</td>\n",
       "      <td>13 weeks</td>\n",
       "    </tr>\n",
       "    <tr>\n",
       "      <th>TTTGGACTACAACA</th>\n",
       "      <td>EFO:0030062</td>\n",
       "      <td>na</td>\n",
       "      <td>True</td>\n",
       "      <td>NCBITaxon:10090</td>\n",
       "      <td>BTBR-ob/ob-3g</td>\n",
       "      <td>UBERON:0002113</td>\n",
       "      <td>early diabetic kidney disease</td>\n",
       "      <td>PATO:0000384</td>\n",
       "      <td>BTBR-ob/ob</td>\n",
       "      <td>MmusDv:0000057</td>\n",
       "      <td>...</td>\n",
       "      <td>BTBR-ob/ob-3</td>\n",
       "      <td>na</td>\n",
       "      <td>leukocyte</td>\n",
       "      <td>Slide-seqV2</td>\n",
       "      <td>diabetic kidney disease</td>\n",
       "      <td>Mus musculus</td>\n",
       "      <td>male</td>\n",
       "      <td>kidney</td>\n",
       "      <td>na</td>\n",
       "      <td>13 weeks</td>\n",
       "    </tr>\n",
       "    <tr>\n",
       "      <th>TTTTCGGCATGGGC</th>\n",
       "      <td>EFO:0030062</td>\n",
       "      <td>na</td>\n",
       "      <td>True</td>\n",
       "      <td>NCBITaxon:10090</td>\n",
       "      <td>BTBR-ob/ob-3g</td>\n",
       "      <td>UBERON:0002113</td>\n",
       "      <td>early diabetic kidney disease</td>\n",
       "      <td>PATO:0000384</td>\n",
       "      <td>BTBR-ob/ob</td>\n",
       "      <td>MmusDv:0000057</td>\n",
       "      <td>...</td>\n",
       "      <td>BTBR-ob/ob-3</td>\n",
       "      <td>na</td>\n",
       "      <td>leukocyte</td>\n",
       "      <td>Slide-seqV2</td>\n",
       "      <td>diabetic kidney disease</td>\n",
       "      <td>Mus musculus</td>\n",
       "      <td>male</td>\n",
       "      <td>kidney</td>\n",
       "      <td>na</td>\n",
       "      <td>13 weeks</td>\n",
       "    </tr>\n",
       "    <tr>\n",
       "      <th>TTTTTAGCCCCAGG</th>\n",
       "      <td>EFO:0030062</td>\n",
       "      <td>na</td>\n",
       "      <td>True</td>\n",
       "      <td>NCBITaxon:10090</td>\n",
       "      <td>BTBR-ob/ob-3g</td>\n",
       "      <td>UBERON:0002113</td>\n",
       "      <td>early diabetic kidney disease</td>\n",
       "      <td>PATO:0000384</td>\n",
       "      <td>BTBR-ob/ob</td>\n",
       "      <td>MmusDv:0000057</td>\n",
       "      <td>...</td>\n",
       "      <td>BTBR-ob/ob-3</td>\n",
       "      <td>na</td>\n",
       "      <td>leukocyte</td>\n",
       "      <td>Slide-seqV2</td>\n",
       "      <td>diabetic kidney disease</td>\n",
       "      <td>Mus musculus</td>\n",
       "      <td>male</td>\n",
       "      <td>kidney</td>\n",
       "      <td>na</td>\n",
       "      <td>13 weeks</td>\n",
       "    </tr>\n",
       "  </tbody>\n",
       "</table>\n",
       "<p>26239 rows × 23 columns</p>\n",
       "</div>"
      ],
      "text/plain": [
       "               assay_ontology_term_id  \\\n",
       "AAAAAAGCGCTTCG            EFO:0030062   \n",
       "AAAAACCCGCGGTG            EFO:0030062   \n",
       "AAAAACGAATGCGA            EFO:0030062   \n",
       "AAAAACGTGCCGCG            EFO:0030062   \n",
       "AAAAACTTTGTGTG            EFO:0030062   \n",
       "...                               ...   \n",
       "TTTCGGAACCCGAG            EFO:0030062   \n",
       "TTTCGTCTCCAACA            EFO:0030062   \n",
       "TTTGGACTACAACA            EFO:0030062   \n",
       "TTTTCGGCATGGGC            EFO:0030062   \n",
       "TTTTTAGCCCCAGG            EFO:0030062   \n",
       "\n",
       "               self_reported_ethnicity_ontology_term_id  is_primary_data  \\\n",
       "AAAAAAGCGCTTCG                                       na             True   \n",
       "AAAAACCCGCGGTG                                       na             True   \n",
       "AAAAACGAATGCGA                                       na             True   \n",
       "AAAAACGTGCCGCG                                       na             True   \n",
       "AAAAACTTTGTGTG                                       na             True   \n",
       "...                                                 ...              ...   \n",
       "TTTCGGAACCCGAG                                       na             True   \n",
       "TTTCGTCTCCAACA                                       na             True   \n",
       "TTTGGACTACAACA                                       na             True   \n",
       "TTTTCGGCATGGGC                                       na             True   \n",
       "TTTTTAGCCCCAGG                                       na             True   \n",
       "\n",
       "               organism_ontology_term_id         sample  \\\n",
       "AAAAAAGCGCTTCG           NCBITaxon:10090  BTBR-ob/ob-3g   \n",
       "AAAAACCCGCGGTG           NCBITaxon:10090  BTBR-ob/ob-3g   \n",
       "AAAAACGAATGCGA           NCBITaxon:10090  BTBR-ob/ob-3g   \n",
       "AAAAACGTGCCGCG           NCBITaxon:10090  BTBR-ob/ob-3g   \n",
       "AAAAACTTTGTGTG           NCBITaxon:10090  BTBR-ob/ob-3g   \n",
       "...                                  ...            ...   \n",
       "TTTCGGAACCCGAG           NCBITaxon:10090  BTBR-ob/ob-3g   \n",
       "TTTCGTCTCCAACA           NCBITaxon:10090  BTBR-ob/ob-3g   \n",
       "TTTGGACTACAACA           NCBITaxon:10090  BTBR-ob/ob-3g   \n",
       "TTTTCGGCATGGGC           NCBITaxon:10090  BTBR-ob/ob-3g   \n",
       "TTTTTAGCCCCAGG           NCBITaxon:10090  BTBR-ob/ob-3g   \n",
       "\n",
       "               tissue_ontology_term_id                  disease_state  \\\n",
       "AAAAAAGCGCTTCG          UBERON:0002113  early diabetic kidney disease   \n",
       "AAAAACCCGCGGTG          UBERON:0002113  early diabetic kidney disease   \n",
       "AAAAACGAATGCGA          UBERON:0002113  early diabetic kidney disease   \n",
       "AAAAACGTGCCGCG          UBERON:0002113  early diabetic kidney disease   \n",
       "AAAAACTTTGTGTG          UBERON:0002113  early diabetic kidney disease   \n",
       "...                                ...                            ...   \n",
       "TTTCGGAACCCGAG          UBERON:0002113  early diabetic kidney disease   \n",
       "TTTCGTCTCCAACA          UBERON:0002113  early diabetic kidney disease   \n",
       "TTTGGACTACAACA          UBERON:0002113  early diabetic kidney disease   \n",
       "TTTTCGGCATGGGC          UBERON:0002113  early diabetic kidney disease   \n",
       "TTTTTAGCCCCAGG          UBERON:0002113  early diabetic kidney disease   \n",
       "\n",
       "               sex_ontology_term_id    genotype  \\\n",
       "AAAAAAGCGCTTCG         PATO:0000384  BTBR-ob/ob   \n",
       "AAAAACCCGCGGTG         PATO:0000384  BTBR-ob/ob   \n",
       "AAAAACGAATGCGA         PATO:0000384  BTBR-ob/ob   \n",
       "AAAAACGTGCCGCG         PATO:0000384  BTBR-ob/ob   \n",
       "AAAAACTTTGTGTG         PATO:0000384  BTBR-ob/ob   \n",
       "...                             ...         ...   \n",
       "TTTCGGAACCCGAG         PATO:0000384  BTBR-ob/ob   \n",
       "TTTCGTCTCCAACA         PATO:0000384  BTBR-ob/ob   \n",
       "TTTGGACTACAACA         PATO:0000384  BTBR-ob/ob   \n",
       "TTTTCGGCATGGGC         PATO:0000384  BTBR-ob/ob   \n",
       "TTTTTAGCCCCAGG         PATO:0000384  BTBR-ob/ob   \n",
       "\n",
       "               development_stage_ontology_term_id  ...      donor_id  \\\n",
       "AAAAAAGCGCTTCG                     MmusDv:0000057  ...  BTBR-ob/ob-3   \n",
       "AAAAACCCGCGGTG                     MmusDv:0000057  ...  BTBR-ob/ob-3   \n",
       "AAAAACGAATGCGA                     MmusDv:0000057  ...  BTBR-ob/ob-3   \n",
       "AAAAACGTGCCGCG                     MmusDv:0000057  ...  BTBR-ob/ob-3   \n",
       "AAAAACTTTGTGTG                     MmusDv:0000057  ...  BTBR-ob/ob-3   \n",
       "...                                           ...  ...           ...   \n",
       "TTTCGGAACCCGAG                     MmusDv:0000057  ...  BTBR-ob/ob-3   \n",
       "TTTCGTCTCCAACA                     MmusDv:0000057  ...  BTBR-ob/ob-3   \n",
       "TTTGGACTACAACA                     MmusDv:0000057  ...  BTBR-ob/ob-3   \n",
       "TTTTCGGCATGGGC                     MmusDv:0000057  ...  BTBR-ob/ob-3   \n",
       "TTTTTAGCCCCAGG                     MmusDv:0000057  ...  BTBR-ob/ob-3   \n",
       "\n",
       "               suspension_type  \\\n",
       "AAAAAAGCGCTTCG              na   \n",
       "AAAAACCCGCGGTG              na   \n",
       "AAAAACGAATGCGA              na   \n",
       "AAAAACGTGCCGCG              na   \n",
       "AAAAACTTTGTGTG              na   \n",
       "...                        ...   \n",
       "TTTCGGAACCCGAG              na   \n",
       "TTTCGTCTCCAACA              na   \n",
       "TTTGGACTACAACA              na   \n",
       "TTTTCGGCATGGGC              na   \n",
       "TTTTTAGCCCCAGG              na   \n",
       "\n",
       "                                                        cell_type  \\\n",
       "AAAAAAGCGCTTCG  kidney proximal convoluted tubule epithelial cell   \n",
       "AAAAACCCGCGGTG  kidney proximal convoluted tubule epithelial cell   \n",
       "AAAAACGAATGCGA  kidney proximal convoluted tubule epithelial cell   \n",
       "AAAAACGTGCCGCG  kidney proximal convoluted tubule epithelial cell   \n",
       "AAAAACTTTGTGTG  kidney proximal convoluted tubule epithelial cell   \n",
       "...                                                           ...   \n",
       "TTTCGGAACCCGAG                                          leukocyte   \n",
       "TTTCGTCTCCAACA                                          leukocyte   \n",
       "TTTGGACTACAACA                                          leukocyte   \n",
       "TTTTCGGCATGGGC                                          leukocyte   \n",
       "TTTTTAGCCCCAGG                                          leukocyte   \n",
       "\n",
       "                      assay                  disease      organism   sex  \\\n",
       "AAAAAAGCGCTTCG  Slide-seqV2  diabetic kidney disease  Mus musculus  male   \n",
       "AAAAACCCGCGGTG  Slide-seqV2  diabetic kidney disease  Mus musculus  male   \n",
       "AAAAACGAATGCGA  Slide-seqV2  diabetic kidney disease  Mus musculus  male   \n",
       "AAAAACGTGCCGCG  Slide-seqV2  diabetic kidney disease  Mus musculus  male   \n",
       "AAAAACTTTGTGTG  Slide-seqV2  diabetic kidney disease  Mus musculus  male   \n",
       "...                     ...                      ...           ...   ...   \n",
       "TTTCGGAACCCGAG  Slide-seqV2  diabetic kidney disease  Mus musculus  male   \n",
       "TTTCGTCTCCAACA  Slide-seqV2  diabetic kidney disease  Mus musculus  male   \n",
       "TTTGGACTACAACA  Slide-seqV2  diabetic kidney disease  Mus musculus  male   \n",
       "TTTTCGGCATGGGC  Slide-seqV2  diabetic kidney disease  Mus musculus  male   \n",
       "TTTTTAGCCCCAGG  Slide-seqV2  diabetic kidney disease  Mus musculus  male   \n",
       "\n",
       "                tissue self_reported_ethnicity development_stage  \n",
       "AAAAAAGCGCTTCG  kidney                      na          13 weeks  \n",
       "AAAAACCCGCGGTG  kidney                      na          13 weeks  \n",
       "AAAAACGAATGCGA  kidney                      na          13 weeks  \n",
       "AAAAACGTGCCGCG  kidney                      na          13 weeks  \n",
       "AAAAACTTTGTGTG  kidney                      na          13 weeks  \n",
       "...                ...                     ...               ...  \n",
       "TTTCGGAACCCGAG  kidney                      na          13 weeks  \n",
       "TTTCGTCTCCAACA  kidney                      na          13 weeks  \n",
       "TTTGGACTACAACA  kidney                      na          13 weeks  \n",
       "TTTTCGGCATGGGC  kidney                      na          13 weeks  \n",
       "TTTTTAGCCCCAGG  kidney                      na          13 weeks  \n",
       "\n",
       "[26239 rows x 23 columns]"
      ]
     },
     "execution_count": 12,
     "metadata": {},
     "output_type": "execute_result"
    }
   ],
   "source": [
    "adata_backed.obs"
   ]
  },
  {
   "cell_type": "code",
   "execution_count": null,
   "metadata": {},
   "outputs": [],
   "source": [
    "def validate_register_obs_metadata(file):\n",
    "    adata_backed = file.backed()\n",
    "    obs = adata_backed.obs"
   ]
  },
  {
   "cell_type": "markdown",
   "metadata": {},
   "source": [
    "## Couldn't get metadata from Census"
   ]
  },
  {
   "cell_type": "code",
   "execution_count": 14,
   "metadata": {},
   "outputs": [],
   "source": [
    "census = cellxgene_census.open_soma(census_version=census_version)"
   ]
  },
  {
   "cell_type": "code",
   "execution_count": 19,
   "metadata": {},
   "outputs": [
    {
     "data": {
      "text/plain": [
       "<Collection 's3://cellxgene-data-public/cell-census/2023-11-13/soma/census_info' (open for 'r') (3 items)\n",
       "    'summary': 's3://cellxgene-data-public/cell-census/2023-11-13/soma/census_info/summary' (unopened)\n",
       "    'summary_cell_counts': 's3://cellxgene-data-public/cell-census/2023-11-13/soma/census_info/summary_cell_counts' (unopened)\n",
       "    'datasets': 's3://cellxgene-data-public/cell-census/2023-11-13/soma/census_info/datasets' (unopened)>"
      ]
     },
     "execution_count": 19,
     "metadata": {},
     "output_type": "execute_result"
    }
   ],
   "source": [
    "census[\"census_info\"]"
   ]
  },
  {
   "cell_type": "code",
   "execution_count": 34,
   "metadata": {},
   "outputs": [
    {
     "ename": "TileDBError",
     "evalue": "[TileDB::Array] Error: [TileDB::StorageManager] Error: ArraySchema: Failed to deserialize array schema: incompatible format version: got 19; expected <= 18",
     "output_type": "error",
     "traceback": [
      "\u001b[0;31m---------------------------------------------------------------------------\u001b[0m",
      "\u001b[0;31mTileDBError\u001b[0m                               Traceback (most recent call last)",
      "\u001b[1;32m/Users/sunnysun/Documents/repos.nosync/cellxgene-census-lamin/docs/notebooks/census-release-2023-11.ipynb Cell 12\u001b[0m line \u001b[0;36m1\n\u001b[0;32m----> <a href='vscode-notebook-cell:/Users/sunnysun/Documents/repos.nosync/cellxgene-census-lamin/docs/notebooks/census-release-2023-11.ipynb#X42sZmlsZQ%3D%3D?line=0'>1</a>\u001b[0m datasets_df \u001b[39m=\u001b[39m census[\u001b[39m\"\u001b[39;49m\u001b[39mcensus_info\u001b[39;49m\u001b[39m\"\u001b[39;49m][\u001b[39m\"\u001b[39;49m\u001b[39mdatasets\u001b[39;49m\u001b[39m\"\u001b[39;49m]\u001b[39m.\u001b[39mread()\u001b[39m.\u001b[39mconcat()\u001b[39m.\u001b[39mto_pandas()\n\u001b[1;32m      <a href='vscode-notebook-cell:/Users/sunnysun/Documents/repos.nosync/cellxgene-census-lamin/docs/notebooks/census-release-2023-11.ipynb#X42sZmlsZQ%3D%3D?line=1'>2</a>\u001b[0m datasets_df\u001b[39m.\u001b[39mshape\n",
      "File \u001b[0;32m/opt/miniconda3/envs/py39/lib/python3.9/site-packages/tiledbsoma/_collection.py:429\u001b[0m, in \u001b[0;36mCollectionBase.__getitem__\u001b[0;34m(self, key)\u001b[0m\n\u001b[1;32m    426\u001b[0m \u001b[39mif\u001b[39;00m entry\u001b[39m.\u001b[39msoma \u001b[39mis\u001b[39;00m \u001b[39mNone\u001b[39;00m:\n\u001b[1;32m    427\u001b[0m     \u001b[39mfrom\u001b[39;00m \u001b[39m.\u001b[39;00m \u001b[39mimport\u001b[39;00m _factory  \u001b[39m# Delayed binding to resolve circular import.\u001b[39;00m\n\u001b[0;32m--> 429\u001b[0m     entry\u001b[39m.\u001b[39msoma \u001b[39m=\u001b[39m _factory\u001b[39m.\u001b[39;49m_open_internal(\n\u001b[1;32m    430\u001b[0m         entry\u001b[39m.\u001b[39;49mentry\u001b[39m.\u001b[39;49mwrapper_type\u001b[39m.\u001b[39;49mopen,\n\u001b[1;32m    431\u001b[0m         entry\u001b[39m.\u001b[39;49mentry\u001b[39m.\u001b[39;49muri,\n\u001b[1;32m    432\u001b[0m         \u001b[39mself\u001b[39;49m\u001b[39m.\u001b[39;49mmode,\n\u001b[1;32m    433\u001b[0m         \u001b[39mself\u001b[39;49m\u001b[39m.\u001b[39;49mcontext,\n\u001b[1;32m    434\u001b[0m         \u001b[39mself\u001b[39;49m\u001b[39m.\u001b[39;49mtiledb_timestamp_ms,\n\u001b[1;32m    435\u001b[0m     )\n\u001b[1;32m    436\u001b[0m     \u001b[39m# Since we just opened this object, we own it and should close it.\u001b[39;00m\n\u001b[1;32m    437\u001b[0m     \u001b[39mself\u001b[39m\u001b[39m.\u001b[39m_close_stack\u001b[39m.\u001b[39menter_context(entry\u001b[39m.\u001b[39msoma)\n",
      "File \u001b[0;32m/opt/miniconda3/envs/py39/lib/python3.9/site-packages/tiledbsoma/_factory.py:143\u001b[0m, in \u001b[0;36m_open_internal\u001b[0;34m(opener, uri, mode, context, timestamp)\u001b[0m\n\u001b[1;32m    133\u001b[0m \u001b[39mdef\u001b[39;00m \u001b[39m_open_internal\u001b[39m(\n\u001b[1;32m    134\u001b[0m     opener: Callable[\n\u001b[1;32m    135\u001b[0m         [\u001b[39mstr\u001b[39m, options\u001b[39m.\u001b[39mOpenMode, SOMATileDBContext, Optional[OpenTimestamp]], _Wrapper\n\u001b[0;32m   (...)\u001b[0m\n\u001b[1;32m    140\u001b[0m     timestamp: Optional[OpenTimestamp],\n\u001b[1;32m    141\u001b[0m ) \u001b[39m-\u001b[39m\u001b[39m>\u001b[39m \u001b[39m\"\u001b[39m\u001b[39m_tiledb_object.TileDBObject[_Wrapper]\u001b[39m\u001b[39m\"\u001b[39m:\n\u001b[1;32m    142\u001b[0m \u001b[39m    \u001b[39m\u001b[39m\"\"\"Lower-level open function for internal use only.\"\"\"\u001b[39;00m\n\u001b[0;32m--> 143\u001b[0m     handle \u001b[39m=\u001b[39m opener(uri, mode, context, timestamp)\n\u001b[1;32m    144\u001b[0m     \u001b[39mtry\u001b[39;00m:\n\u001b[1;32m    145\u001b[0m         \u001b[39mreturn\u001b[39;00m _reify_handle(handle)\n",
      "File \u001b[0;32m/opt/miniconda3/envs/py39/lib/python3.9/site-packages/tiledbsoma/_tdb_handles.py:85\u001b[0m, in \u001b[0;36mWrapper.open\u001b[0;34m(cls, uri, mode, context, timestamp)\u001b[0m\n\u001b[1;32m     83\u001b[0m timestamp_ms \u001b[39m=\u001b[39m context\u001b[39m.\u001b[39m_open_timestamp_ms(timestamp)\n\u001b[1;32m     84\u001b[0m \u001b[39mtry\u001b[39;00m:\n\u001b[0;32m---> 85\u001b[0m     tdb \u001b[39m=\u001b[39m \u001b[39mcls\u001b[39;49m\u001b[39m.\u001b[39;49m_opener(uri, mode, context, timestamp_ms)\n\u001b[1;32m     86\u001b[0m     handle \u001b[39m=\u001b[39m \u001b[39mcls\u001b[39m(uri, mode, context, timestamp_ms, tdb)\n\u001b[1;32m     87\u001b[0m     \u001b[39mif\u001b[39;00m mode \u001b[39m==\u001b[39m \u001b[39m\"\u001b[39m\u001b[39mw\u001b[39m\u001b[39m\"\u001b[39m:\n",
      "File \u001b[0;32m/opt/miniconda3/envs/py39/lib/python3.9/site-packages/tiledbsoma/_tdb_handles.py:186\u001b[0m, in \u001b[0;36mArrayWrapper._opener\u001b[0;34m(cls, uri, mode, context, timestamp)\u001b[0m\n\u001b[1;32m    178\u001b[0m \u001b[39m@classmethod\u001b[39m\n\u001b[1;32m    179\u001b[0m \u001b[39mdef\u001b[39;00m \u001b[39m_opener\u001b[39m(\n\u001b[1;32m    180\u001b[0m     \u001b[39mcls\u001b[39m,\n\u001b[0;32m   (...)\u001b[0m\n\u001b[1;32m    184\u001b[0m     timestamp: \u001b[39mint\u001b[39m,\n\u001b[1;32m    185\u001b[0m ) \u001b[39m-\u001b[39m\u001b[39m>\u001b[39m tiledb\u001b[39m.\u001b[39mArray:\n\u001b[0;32m--> 186\u001b[0m     \u001b[39mreturn\u001b[39;00m tiledb\u001b[39m.\u001b[39;49mopen(\n\u001b[1;32m    187\u001b[0m         uri,\n\u001b[1;32m    188\u001b[0m         mode,\n\u001b[1;32m    189\u001b[0m         timestamp\u001b[39m=\u001b[39;49mtimestamp,\n\u001b[1;32m    190\u001b[0m         ctx\u001b[39m=\u001b[39;49mcontext\u001b[39m.\u001b[39;49mtiledb_ctx,\n\u001b[1;32m    191\u001b[0m     )\n",
      "File \u001b[0;32m/opt/miniconda3/envs/py39/lib/python3.9/site-packages/tiledb/highlevel.py:22\u001b[0m, in \u001b[0;36mopen\u001b[0;34m(uri, mode, key, attr, config, timestamp, ctx)\u001b[0m\n\u001b[1;32m      8\u001b[0m \u001b[39mdef\u001b[39;00m \u001b[39mopen\u001b[39m(uri, mode\u001b[39m=\u001b[39m\u001b[39m\"\u001b[39m\u001b[39mr\u001b[39m\u001b[39m\"\u001b[39m, key\u001b[39m=\u001b[39m\u001b[39mNone\u001b[39;00m, attr\u001b[39m=\u001b[39m\u001b[39mNone\u001b[39;00m, config\u001b[39m=\u001b[39m\u001b[39mNone\u001b[39;00m, timestamp\u001b[39m=\u001b[39m\u001b[39mNone\u001b[39;00m, ctx\u001b[39m=\u001b[39m\u001b[39mNone\u001b[39;00m):\n\u001b[1;32m      9\u001b[0m \u001b[39m    \u001b[39m\u001b[39m\"\"\"\u001b[39;00m\n\u001b[1;32m     10\u001b[0m \u001b[39m    Open a TileDB array at the given URI\u001b[39;00m\n\u001b[1;32m     11\u001b[0m \n\u001b[0;32m   (...)\u001b[0m\n\u001b[1;32m     20\u001b[0m \u001b[39m    :return: open TileDB {Sparse,Dense}Array object\u001b[39;00m\n\u001b[1;32m     21\u001b[0m \u001b[39m    \"\"\"\u001b[39;00m\n\u001b[0;32m---> 22\u001b[0m     \u001b[39mreturn\u001b[39;00m tiledb\u001b[39m.\u001b[39;49mArray\u001b[39m.\u001b[39;49mload_typed(\n\u001b[1;32m     23\u001b[0m         uri,\n\u001b[1;32m     24\u001b[0m         mode\u001b[39m=\u001b[39;49mmode,\n\u001b[1;32m     25\u001b[0m         key\u001b[39m=\u001b[39;49mkey,\n\u001b[1;32m     26\u001b[0m         timestamp\u001b[39m=\u001b[39;49mtimestamp,\n\u001b[1;32m     27\u001b[0m         attr\u001b[39m=\u001b[39;49mattr,\n\u001b[1;32m     28\u001b[0m         ctx\u001b[39m=\u001b[39;49m_get_ctx(ctx, config),\n\u001b[1;32m     29\u001b[0m     )\n",
      "File \u001b[0;32mtiledb/libtiledb.pyx:1019\u001b[0m, in \u001b[0;36mtiledb.libtiledb.Array.load_typed\u001b[0;34m()\u001b[0m\n",
      "File \u001b[0;32mtiledb/libtiledb.pyx:842\u001b[0m, in \u001b[0;36mtiledb.libtiledb.preload_array\u001b[0;34m()\u001b[0m\n",
      "File \u001b[0;32mtiledb/libtiledb.pyx:368\u001b[0m, in \u001b[0;36mtiledb.libtiledb._raise_ctx_err\u001b[0;34m()\u001b[0m\n",
      "File \u001b[0;32mtiledb/libtiledb.pyx:353\u001b[0m, in \u001b[0;36mtiledb.libtiledb._raise_tiledb_error\u001b[0;34m()\u001b[0m\n",
      "\u001b[0;31mTileDBError\u001b[0m: [TileDB::Array] Error: [TileDB::StorageManager] Error: ArraySchema: Failed to deserialize array schema: incompatible format version: got 19; expected <= 18"
     ]
    }
   ],
   "source": [
    "datasets_df = census[\"census_info\"][\"datasets\"].read().concat().to_pandas()"
   ]
  },
  {
   "cell_type": "code",
   "execution_count": null,
   "metadata": {},
   "outputs": [],
   "source": [
    "collections_df = (\n",
    "    datasets_df[[\"collection_id\", \"collection_name\", \"collection_doi\"]]\n",
    "    .drop_duplicates()\n",
    "    .set_index(\"collection_id\")\n",
    ")\n",
    "collections = []\n",
    "for collection_id, row in collections_df.iterrows():\n",
    "    collection = ln.ULabel(\n",
    "        name=row.collection_name,\n",
    "        description=row.collection_doi,\n",
    "        reference=collection_id,\n",
    "        reference_type=\"collection_id\",\n",
    "    )\n",
    "    collections.append(collection)\n",
    "\n",
    "ln.save(collections)\n",
    "\n",
    "is_collection = ln.ULabel(name=\"is_collection\")\n",
    "is_collection.save()\n",
    "is_collection.children.set(collections)"
   ]
  },
  {
   "cell_type": "code",
   "execution_count": 8,
   "metadata": {},
   "outputs": [
    {
     "data": {
      "text/plain": [
       "<Experiment 's3://cellxgene-data-public/cell-census/2023-11-13/soma/census_data/homo_sapiens' (open for 'r') (2 items)\n",
       "    'obs': 's3://cellxgene-data-public/cell-census/2023-11-13/soma/census_data/homo_sapiens/obs' (unopened)\n",
       "    'ms': 's3://cellxgene-data-public/cell-census/2023-11-13/soma/census_data/homo_sapiens/ms' (unopened)>"
      ]
     },
     "execution_count": 8,
     "metadata": {},
     "output_type": "execute_result"
    }
   ],
   "source": [
    "census[\"census_data\"][lb.settings.organism.scientific_name]"
   ]
  },
  {
   "cell_type": "code",
   "execution_count": 7,
   "metadata": {},
   "outputs": [
    {
     "ename": "TileDBError",
     "evalue": "[TileDB::Array] Error: [TileDB::StorageManager] Error: ArraySchema: Failed to deserialize array schema: incompatible format version: got 19; expected <= 18",
     "output_type": "error",
     "traceback": [
      "\u001b[0;31m---------------------------------------------------------------------------\u001b[0m",
      "\u001b[0;31mTileDBError\u001b[0m                               Traceback (most recent call last)",
      "\u001b[1;32m/Users/sunnysun/Documents/repos.nosync/cellxgene-census-lamin/docs/notebooks/census-release-2023-11.ipynb Cell 13\u001b[0m line \u001b[0;36m4\n\u001b[1;32m      <a href='vscode-notebook-cell:/Users/sunnysun/Documents/repos.nosync/cellxgene-census-lamin/docs/notebooks/census-release-2023-11.ipynb#W5sZmlsZQ%3D%3D?line=0'>1</a>\u001b[0m lb\u001b[39m.\u001b[39msettings\u001b[39m.\u001b[39morganism \u001b[39m=\u001b[39m \u001b[39m\"\u001b[39m\u001b[39mhuman\u001b[39m\u001b[39m\"\u001b[39m\n\u001b[1;32m      <a href='vscode-notebook-cell:/Users/sunnysun/Documents/repos.nosync/cellxgene-census-lamin/docs/notebooks/census-release-2023-11.ipynb#W5sZmlsZQ%3D%3D?line=2'>3</a>\u001b[0m human_datasets \u001b[39m=\u001b[39m (\n\u001b[0;32m----> <a href='vscode-notebook-cell:/Users/sunnysun/Documents/repos.nosync/cellxgene-census-lamin/docs/notebooks/census-release-2023-11.ipynb#W5sZmlsZQ%3D%3D?line=3'>4</a>\u001b[0m     census[\u001b[39m\"\u001b[39;49m\u001b[39mcensus_data\u001b[39;49m\u001b[39m\"\u001b[39;49m][lb\u001b[39m.\u001b[39;49msettings\u001b[39m.\u001b[39;49morganism\u001b[39m.\u001b[39;49mscientific_name]\n\u001b[1;32m      <a href='vscode-notebook-cell:/Users/sunnysun/Documents/repos.nosync/cellxgene-census-lamin/docs/notebooks/census-release-2023-11.ipynb#W5sZmlsZQ%3D%3D?line=4'>5</a>\u001b[0m     \u001b[39m.\u001b[39;49mobs\u001b[39m.\u001b[39mread(column_names\u001b[39m=\u001b[39m[\u001b[39m\"\u001b[39m\u001b[39mdataset_id\u001b[39m\u001b[39m\"\u001b[39m])\n\u001b[1;32m      <a href='vscode-notebook-cell:/Users/sunnysun/Documents/repos.nosync/cellxgene-census-lamin/docs/notebooks/census-release-2023-11.ipynb#W5sZmlsZQ%3D%3D?line=5'>6</a>\u001b[0m     \u001b[39m.\u001b[39mconcat()\n\u001b[1;32m      <a href='vscode-notebook-cell:/Users/sunnysun/Documents/repos.nosync/cellxgene-census-lamin/docs/notebooks/census-release-2023-11.ipynb#W5sZmlsZQ%3D%3D?line=6'>7</a>\u001b[0m     \u001b[39m.\u001b[39mto_pandas()\n\u001b[1;32m      <a href='vscode-notebook-cell:/Users/sunnysun/Documents/repos.nosync/cellxgene-census-lamin/docs/notebooks/census-release-2023-11.ipynb#W5sZmlsZQ%3D%3D?line=7'>8</a>\u001b[0m     \u001b[39m.\u001b[39mdrop_duplicates()\n\u001b[1;32m      <a href='vscode-notebook-cell:/Users/sunnysun/Documents/repos.nosync/cellxgene-census-lamin/docs/notebooks/census-release-2023-11.ipynb#W5sZmlsZQ%3D%3D?line=8'>9</a>\u001b[0m )\n\u001b[1;32m     <a href='vscode-notebook-cell:/Users/sunnysun/Documents/repos.nosync/cellxgene-census-lamin/docs/notebooks/census-release-2023-11.ipynb#W5sZmlsZQ%3D%3D?line=9'>10</a>\u001b[0m \u001b[39mprint\u001b[39m(human_datasets\u001b[39m.\u001b[39mshape)\n",
      "File \u001b[0;32m/opt/miniconda3/envs/py39/lib/python3.9/site-packages/somacore/_mixin.py:71\u001b[0m, in \u001b[0;36mitem.__get__\u001b[0;34m(***failed resolving arguments***)\u001b[0m\n\u001b[1;32m     68\u001b[0m \u001b[39massert\u001b[39;00m \u001b[39mself\u001b[39m\u001b[39m.\u001b[39mitem_name \u001b[39mis\u001b[39;00m \u001b[39mnot\u001b[39;00m \u001b[39mNone\u001b[39;00m\n\u001b[1;32m     69\u001b[0m \u001b[39mtry\u001b[39;00m:\n\u001b[1;32m     70\u001b[0m     \u001b[39m# TODO: Type-check params/returns?\u001b[39;00m\n\u001b[0;32m---> 71\u001b[0m     \u001b[39mreturn\u001b[39;00m inst[\u001b[39mself\u001b[39;49m\u001b[39m.\u001b[39;49mitem_name]\n\u001b[1;32m     72\u001b[0m \u001b[39mexcept\u001b[39;00m \u001b[39mKeyError\u001b[39;00m \u001b[39mas\u001b[39;00m ke:\n\u001b[1;32m     73\u001b[0m     \u001b[39mraise\u001b[39;00m \u001b[39mAttributeError\u001b[39;00m(\n\u001b[1;32m     74\u001b[0m         \u001b[39mf\u001b[39m\u001b[39m\"\u001b[39m\u001b[39m{\u001b[39;00m_typename(inst)\u001b[39m!r}\u001b[39;00m\u001b[39m object has no attribute \u001b[39m\u001b[39m{\u001b[39;00m\u001b[39mself\u001b[39m\u001b[39m.\u001b[39mfield_name\u001b[39m!r}\u001b[39;00m\u001b[39m\"\u001b[39m\n\u001b[1;32m     75\u001b[0m     ) \u001b[39mfrom\u001b[39;00m \u001b[39mke\u001b[39;00m\n",
      "File \u001b[0;32m/opt/miniconda3/envs/py39/lib/python3.9/site-packages/tiledbsoma/_collection.py:429\u001b[0m, in \u001b[0;36mCollectionBase.__getitem__\u001b[0;34m(self, key)\u001b[0m\n\u001b[1;32m    426\u001b[0m \u001b[39mif\u001b[39;00m entry\u001b[39m.\u001b[39msoma \u001b[39mis\u001b[39;00m \u001b[39mNone\u001b[39;00m:\n\u001b[1;32m    427\u001b[0m     \u001b[39mfrom\u001b[39;00m \u001b[39m.\u001b[39;00m \u001b[39mimport\u001b[39;00m _factory  \u001b[39m# Delayed binding to resolve circular import.\u001b[39;00m\n\u001b[0;32m--> 429\u001b[0m     entry\u001b[39m.\u001b[39msoma \u001b[39m=\u001b[39m _factory\u001b[39m.\u001b[39;49m_open_internal(\n\u001b[1;32m    430\u001b[0m         entry\u001b[39m.\u001b[39;49mentry\u001b[39m.\u001b[39;49mwrapper_type\u001b[39m.\u001b[39;49mopen,\n\u001b[1;32m    431\u001b[0m         entry\u001b[39m.\u001b[39;49mentry\u001b[39m.\u001b[39;49muri,\n\u001b[1;32m    432\u001b[0m         \u001b[39mself\u001b[39;49m\u001b[39m.\u001b[39;49mmode,\n\u001b[1;32m    433\u001b[0m         \u001b[39mself\u001b[39;49m\u001b[39m.\u001b[39;49mcontext,\n\u001b[1;32m    434\u001b[0m         \u001b[39mself\u001b[39;49m\u001b[39m.\u001b[39;49mtiledb_timestamp_ms,\n\u001b[1;32m    435\u001b[0m     )\n\u001b[1;32m    436\u001b[0m     \u001b[39m# Since we just opened this object, we own it and should close it.\u001b[39;00m\n\u001b[1;32m    437\u001b[0m     \u001b[39mself\u001b[39m\u001b[39m.\u001b[39m_close_stack\u001b[39m.\u001b[39menter_context(entry\u001b[39m.\u001b[39msoma)\n",
      "File \u001b[0;32m/opt/miniconda3/envs/py39/lib/python3.9/site-packages/tiledbsoma/_factory.py:143\u001b[0m, in \u001b[0;36m_open_internal\u001b[0;34m(opener, uri, mode, context, timestamp)\u001b[0m\n\u001b[1;32m    133\u001b[0m \u001b[39mdef\u001b[39;00m \u001b[39m_open_internal\u001b[39m(\n\u001b[1;32m    134\u001b[0m     opener: Callable[\n\u001b[1;32m    135\u001b[0m         [\u001b[39mstr\u001b[39m, options\u001b[39m.\u001b[39mOpenMode, SOMATileDBContext, Optional[OpenTimestamp]], _Wrapper\n\u001b[0;32m   (...)\u001b[0m\n\u001b[1;32m    140\u001b[0m     timestamp: Optional[OpenTimestamp],\n\u001b[1;32m    141\u001b[0m ) \u001b[39m-\u001b[39m\u001b[39m>\u001b[39m \u001b[39m\"\u001b[39m\u001b[39m_tiledb_object.TileDBObject[_Wrapper]\u001b[39m\u001b[39m\"\u001b[39m:\n\u001b[1;32m    142\u001b[0m \u001b[39m    \u001b[39m\u001b[39m\"\"\"Lower-level open function for internal use only.\"\"\"\u001b[39;00m\n\u001b[0;32m--> 143\u001b[0m     handle \u001b[39m=\u001b[39m opener(uri, mode, context, timestamp)\n\u001b[1;32m    144\u001b[0m     \u001b[39mtry\u001b[39;00m:\n\u001b[1;32m    145\u001b[0m         \u001b[39mreturn\u001b[39;00m _reify_handle(handle)\n",
      "File \u001b[0;32m/opt/miniconda3/envs/py39/lib/python3.9/site-packages/tiledbsoma/_tdb_handles.py:85\u001b[0m, in \u001b[0;36mWrapper.open\u001b[0;34m(cls, uri, mode, context, timestamp)\u001b[0m\n\u001b[1;32m     83\u001b[0m timestamp_ms \u001b[39m=\u001b[39m context\u001b[39m.\u001b[39m_open_timestamp_ms(timestamp)\n\u001b[1;32m     84\u001b[0m \u001b[39mtry\u001b[39;00m:\n\u001b[0;32m---> 85\u001b[0m     tdb \u001b[39m=\u001b[39m \u001b[39mcls\u001b[39;49m\u001b[39m.\u001b[39;49m_opener(uri, mode, context, timestamp_ms)\n\u001b[1;32m     86\u001b[0m     handle \u001b[39m=\u001b[39m \u001b[39mcls\u001b[39m(uri, mode, context, timestamp_ms, tdb)\n\u001b[1;32m     87\u001b[0m     \u001b[39mif\u001b[39;00m mode \u001b[39m==\u001b[39m \u001b[39m\"\u001b[39m\u001b[39mw\u001b[39m\u001b[39m\"\u001b[39m:\n",
      "File \u001b[0;32m/opt/miniconda3/envs/py39/lib/python3.9/site-packages/tiledbsoma/_tdb_handles.py:186\u001b[0m, in \u001b[0;36mArrayWrapper._opener\u001b[0;34m(cls, uri, mode, context, timestamp)\u001b[0m\n\u001b[1;32m    178\u001b[0m \u001b[39m@classmethod\u001b[39m\n\u001b[1;32m    179\u001b[0m \u001b[39mdef\u001b[39;00m \u001b[39m_opener\u001b[39m(\n\u001b[1;32m    180\u001b[0m     \u001b[39mcls\u001b[39m,\n\u001b[0;32m   (...)\u001b[0m\n\u001b[1;32m    184\u001b[0m     timestamp: \u001b[39mint\u001b[39m,\n\u001b[1;32m    185\u001b[0m ) \u001b[39m-\u001b[39m\u001b[39m>\u001b[39m tiledb\u001b[39m.\u001b[39mArray:\n\u001b[0;32m--> 186\u001b[0m     \u001b[39mreturn\u001b[39;00m tiledb\u001b[39m.\u001b[39;49mopen(\n\u001b[1;32m    187\u001b[0m         uri,\n\u001b[1;32m    188\u001b[0m         mode,\n\u001b[1;32m    189\u001b[0m         timestamp\u001b[39m=\u001b[39;49mtimestamp,\n\u001b[1;32m    190\u001b[0m         ctx\u001b[39m=\u001b[39;49mcontext\u001b[39m.\u001b[39;49mtiledb_ctx,\n\u001b[1;32m    191\u001b[0m     )\n",
      "File \u001b[0;32m/opt/miniconda3/envs/py39/lib/python3.9/site-packages/tiledb/highlevel.py:22\u001b[0m, in \u001b[0;36mopen\u001b[0;34m(uri, mode, key, attr, config, timestamp, ctx)\u001b[0m\n\u001b[1;32m      8\u001b[0m \u001b[39mdef\u001b[39;00m \u001b[39mopen\u001b[39m(uri, mode\u001b[39m=\u001b[39m\u001b[39m\"\u001b[39m\u001b[39mr\u001b[39m\u001b[39m\"\u001b[39m, key\u001b[39m=\u001b[39m\u001b[39mNone\u001b[39;00m, attr\u001b[39m=\u001b[39m\u001b[39mNone\u001b[39;00m, config\u001b[39m=\u001b[39m\u001b[39mNone\u001b[39;00m, timestamp\u001b[39m=\u001b[39m\u001b[39mNone\u001b[39;00m, ctx\u001b[39m=\u001b[39m\u001b[39mNone\u001b[39;00m):\n\u001b[1;32m      9\u001b[0m \u001b[39m    \u001b[39m\u001b[39m\"\"\"\u001b[39;00m\n\u001b[1;32m     10\u001b[0m \u001b[39m    Open a TileDB array at the given URI\u001b[39;00m\n\u001b[1;32m     11\u001b[0m \n\u001b[0;32m   (...)\u001b[0m\n\u001b[1;32m     20\u001b[0m \u001b[39m    :return: open TileDB {Sparse,Dense}Array object\u001b[39;00m\n\u001b[1;32m     21\u001b[0m \u001b[39m    \"\"\"\u001b[39;00m\n\u001b[0;32m---> 22\u001b[0m     \u001b[39mreturn\u001b[39;00m tiledb\u001b[39m.\u001b[39;49mArray\u001b[39m.\u001b[39;49mload_typed(\n\u001b[1;32m     23\u001b[0m         uri,\n\u001b[1;32m     24\u001b[0m         mode\u001b[39m=\u001b[39;49mmode,\n\u001b[1;32m     25\u001b[0m         key\u001b[39m=\u001b[39;49mkey,\n\u001b[1;32m     26\u001b[0m         timestamp\u001b[39m=\u001b[39;49mtimestamp,\n\u001b[1;32m     27\u001b[0m         attr\u001b[39m=\u001b[39;49mattr,\n\u001b[1;32m     28\u001b[0m         ctx\u001b[39m=\u001b[39;49m_get_ctx(ctx, config),\n\u001b[1;32m     29\u001b[0m     )\n",
      "File \u001b[0;32mtiledb/libtiledb.pyx:1019\u001b[0m, in \u001b[0;36mtiledb.libtiledb.Array.load_typed\u001b[0;34m()\u001b[0m\n",
      "File \u001b[0;32mtiledb/libtiledb.pyx:842\u001b[0m, in \u001b[0;36mtiledb.libtiledb.preload_array\u001b[0;34m()\u001b[0m\n",
      "File \u001b[0;32mtiledb/libtiledb.pyx:368\u001b[0m, in \u001b[0;36mtiledb.libtiledb._raise_ctx_err\u001b[0;34m()\u001b[0m\n",
      "File \u001b[0;32mtiledb/libtiledb.pyx:353\u001b[0m, in \u001b[0;36mtiledb.libtiledb._raise_tiledb_error\u001b[0;34m()\u001b[0m\n",
      "\u001b[0;31mTileDBError\u001b[0m: [TileDB::Array] Error: [TileDB::StorageManager] Error: ArraySchema: Failed to deserialize array schema: incompatible format version: got 19; expected <= 18"
     ]
    }
   ],
   "source": [
    "lb.settings.organism = \"human\"\n",
    "\n",
    "human_datasets = (\n",
    "    census[\"census_data\"][lb.settings.organism.scientific_name]\n",
    "    .obs.read(column_names=[\"dataset_id\"])\n",
    "    .concat()\n",
    "    .to_pandas()\n",
    "    .drop_duplicates()\n",
    ")\n",
    "print(human_datasets.shape)"
   ]
  },
  {
   "cell_type": "code",
   "execution_count": null,
   "metadata": {},
   "outputs": [],
   "source": []
  }
 ],
 "metadata": {
  "availableInstances": [
   {
    "_defaultOrder": 0,
    "_isFastLaunch": true,
    "category": "General purpose",
    "gpuNum": 0,
    "hideHardwareSpecs": false,
    "memoryGiB": 4,
    "name": "ml.t3.medium",
    "vcpuNum": 2
   },
   {
    "_defaultOrder": 1,
    "_isFastLaunch": false,
    "category": "General purpose",
    "gpuNum": 0,
    "hideHardwareSpecs": false,
    "memoryGiB": 8,
    "name": "ml.t3.large",
    "vcpuNum": 2
   },
   {
    "_defaultOrder": 2,
    "_isFastLaunch": false,
    "category": "General purpose",
    "gpuNum": 0,
    "hideHardwareSpecs": false,
    "memoryGiB": 16,
    "name": "ml.t3.xlarge",
    "vcpuNum": 4
   },
   {
    "_defaultOrder": 3,
    "_isFastLaunch": false,
    "category": "General purpose",
    "gpuNum": 0,
    "hideHardwareSpecs": false,
    "memoryGiB": 32,
    "name": "ml.t3.2xlarge",
    "vcpuNum": 8
   },
   {
    "_defaultOrder": 4,
    "_isFastLaunch": true,
    "category": "General purpose",
    "gpuNum": 0,
    "hideHardwareSpecs": false,
    "memoryGiB": 8,
    "name": "ml.m5.large",
    "vcpuNum": 2
   },
   {
    "_defaultOrder": 5,
    "_isFastLaunch": false,
    "category": "General purpose",
    "gpuNum": 0,
    "hideHardwareSpecs": false,
    "memoryGiB": 16,
    "name": "ml.m5.xlarge",
    "vcpuNum": 4
   },
   {
    "_defaultOrder": 6,
    "_isFastLaunch": false,
    "category": "General purpose",
    "gpuNum": 0,
    "hideHardwareSpecs": false,
    "memoryGiB": 32,
    "name": "ml.m5.2xlarge",
    "vcpuNum": 8
   },
   {
    "_defaultOrder": 7,
    "_isFastLaunch": false,
    "category": "General purpose",
    "gpuNum": 0,
    "hideHardwareSpecs": false,
    "memoryGiB": 64,
    "name": "ml.m5.4xlarge",
    "vcpuNum": 16
   },
   {
    "_defaultOrder": 8,
    "_isFastLaunch": false,
    "category": "General purpose",
    "gpuNum": 0,
    "hideHardwareSpecs": false,
    "memoryGiB": 128,
    "name": "ml.m5.8xlarge",
    "vcpuNum": 32
   },
   {
    "_defaultOrder": 9,
    "_isFastLaunch": false,
    "category": "General purpose",
    "gpuNum": 0,
    "hideHardwareSpecs": false,
    "memoryGiB": 192,
    "name": "ml.m5.12xlarge",
    "vcpuNum": 48
   },
   {
    "_defaultOrder": 10,
    "_isFastLaunch": false,
    "category": "General purpose",
    "gpuNum": 0,
    "hideHardwareSpecs": false,
    "memoryGiB": 256,
    "name": "ml.m5.16xlarge",
    "vcpuNum": 64
   },
   {
    "_defaultOrder": 11,
    "_isFastLaunch": false,
    "category": "General purpose",
    "gpuNum": 0,
    "hideHardwareSpecs": false,
    "memoryGiB": 384,
    "name": "ml.m5.24xlarge",
    "vcpuNum": 96
   },
   {
    "_defaultOrder": 12,
    "_isFastLaunch": false,
    "category": "General purpose",
    "gpuNum": 0,
    "hideHardwareSpecs": false,
    "memoryGiB": 8,
    "name": "ml.m5d.large",
    "vcpuNum": 2
   },
   {
    "_defaultOrder": 13,
    "_isFastLaunch": false,
    "category": "General purpose",
    "gpuNum": 0,
    "hideHardwareSpecs": false,
    "memoryGiB": 16,
    "name": "ml.m5d.xlarge",
    "vcpuNum": 4
   },
   {
    "_defaultOrder": 14,
    "_isFastLaunch": false,
    "category": "General purpose",
    "gpuNum": 0,
    "hideHardwareSpecs": false,
    "memoryGiB": 32,
    "name": "ml.m5d.2xlarge",
    "vcpuNum": 8
   },
   {
    "_defaultOrder": 15,
    "_isFastLaunch": false,
    "category": "General purpose",
    "gpuNum": 0,
    "hideHardwareSpecs": false,
    "memoryGiB": 64,
    "name": "ml.m5d.4xlarge",
    "vcpuNum": 16
   },
   {
    "_defaultOrder": 16,
    "_isFastLaunch": false,
    "category": "General purpose",
    "gpuNum": 0,
    "hideHardwareSpecs": false,
    "memoryGiB": 128,
    "name": "ml.m5d.8xlarge",
    "vcpuNum": 32
   },
   {
    "_defaultOrder": 17,
    "_isFastLaunch": false,
    "category": "General purpose",
    "gpuNum": 0,
    "hideHardwareSpecs": false,
    "memoryGiB": 192,
    "name": "ml.m5d.12xlarge",
    "vcpuNum": 48
   },
   {
    "_defaultOrder": 18,
    "_isFastLaunch": false,
    "category": "General purpose",
    "gpuNum": 0,
    "hideHardwareSpecs": false,
    "memoryGiB": 256,
    "name": "ml.m5d.16xlarge",
    "vcpuNum": 64
   },
   {
    "_defaultOrder": 19,
    "_isFastLaunch": false,
    "category": "General purpose",
    "gpuNum": 0,
    "hideHardwareSpecs": false,
    "memoryGiB": 384,
    "name": "ml.m5d.24xlarge",
    "vcpuNum": 96
   },
   {
    "_defaultOrder": 20,
    "_isFastLaunch": false,
    "category": "General purpose",
    "gpuNum": 0,
    "hideHardwareSpecs": true,
    "memoryGiB": 0,
    "name": "ml.geospatial.interactive",
    "supportedImageNames": [
     "sagemaker-geospatial-v1-0"
    ],
    "vcpuNum": 0
   },
   {
    "_defaultOrder": 21,
    "_isFastLaunch": true,
    "category": "Compute optimized",
    "gpuNum": 0,
    "hideHardwareSpecs": false,
    "memoryGiB": 4,
    "name": "ml.c5.large",
    "vcpuNum": 2
   },
   {
    "_defaultOrder": 22,
    "_isFastLaunch": false,
    "category": "Compute optimized",
    "gpuNum": 0,
    "hideHardwareSpecs": false,
    "memoryGiB": 8,
    "name": "ml.c5.xlarge",
    "vcpuNum": 4
   },
   {
    "_defaultOrder": 23,
    "_isFastLaunch": false,
    "category": "Compute optimized",
    "gpuNum": 0,
    "hideHardwareSpecs": false,
    "memoryGiB": 16,
    "name": "ml.c5.2xlarge",
    "vcpuNum": 8
   },
   {
    "_defaultOrder": 24,
    "_isFastLaunch": false,
    "category": "Compute optimized",
    "gpuNum": 0,
    "hideHardwareSpecs": false,
    "memoryGiB": 32,
    "name": "ml.c5.4xlarge",
    "vcpuNum": 16
   },
   {
    "_defaultOrder": 25,
    "_isFastLaunch": false,
    "category": "Compute optimized",
    "gpuNum": 0,
    "hideHardwareSpecs": false,
    "memoryGiB": 72,
    "name": "ml.c5.9xlarge",
    "vcpuNum": 36
   },
   {
    "_defaultOrder": 26,
    "_isFastLaunch": false,
    "category": "Compute optimized",
    "gpuNum": 0,
    "hideHardwareSpecs": false,
    "memoryGiB": 96,
    "name": "ml.c5.12xlarge",
    "vcpuNum": 48
   },
   {
    "_defaultOrder": 27,
    "_isFastLaunch": false,
    "category": "Compute optimized",
    "gpuNum": 0,
    "hideHardwareSpecs": false,
    "memoryGiB": 144,
    "name": "ml.c5.18xlarge",
    "vcpuNum": 72
   },
   {
    "_defaultOrder": 28,
    "_isFastLaunch": false,
    "category": "Compute optimized",
    "gpuNum": 0,
    "hideHardwareSpecs": false,
    "memoryGiB": 192,
    "name": "ml.c5.24xlarge",
    "vcpuNum": 96
   },
   {
    "_defaultOrder": 29,
    "_isFastLaunch": true,
    "category": "Accelerated computing",
    "gpuNum": 1,
    "hideHardwareSpecs": false,
    "memoryGiB": 16,
    "name": "ml.g4dn.xlarge",
    "vcpuNum": 4
   },
   {
    "_defaultOrder": 30,
    "_isFastLaunch": false,
    "category": "Accelerated computing",
    "gpuNum": 1,
    "hideHardwareSpecs": false,
    "memoryGiB": 32,
    "name": "ml.g4dn.2xlarge",
    "vcpuNum": 8
   },
   {
    "_defaultOrder": 31,
    "_isFastLaunch": false,
    "category": "Accelerated computing",
    "gpuNum": 1,
    "hideHardwareSpecs": false,
    "memoryGiB": 64,
    "name": "ml.g4dn.4xlarge",
    "vcpuNum": 16
   },
   {
    "_defaultOrder": 32,
    "_isFastLaunch": false,
    "category": "Accelerated computing",
    "gpuNum": 1,
    "hideHardwareSpecs": false,
    "memoryGiB": 128,
    "name": "ml.g4dn.8xlarge",
    "vcpuNum": 32
   },
   {
    "_defaultOrder": 33,
    "_isFastLaunch": false,
    "category": "Accelerated computing",
    "gpuNum": 4,
    "hideHardwareSpecs": false,
    "memoryGiB": 192,
    "name": "ml.g4dn.12xlarge",
    "vcpuNum": 48
   },
   {
    "_defaultOrder": 34,
    "_isFastLaunch": false,
    "category": "Accelerated computing",
    "gpuNum": 1,
    "hideHardwareSpecs": false,
    "memoryGiB": 256,
    "name": "ml.g4dn.16xlarge",
    "vcpuNum": 64
   },
   {
    "_defaultOrder": 35,
    "_isFastLaunch": false,
    "category": "Accelerated computing",
    "gpuNum": 1,
    "hideHardwareSpecs": false,
    "memoryGiB": 61,
    "name": "ml.p3.2xlarge",
    "vcpuNum": 8
   },
   {
    "_defaultOrder": 36,
    "_isFastLaunch": false,
    "category": "Accelerated computing",
    "gpuNum": 4,
    "hideHardwareSpecs": false,
    "memoryGiB": 244,
    "name": "ml.p3.8xlarge",
    "vcpuNum": 32
   },
   {
    "_defaultOrder": 37,
    "_isFastLaunch": false,
    "category": "Accelerated computing",
    "gpuNum": 8,
    "hideHardwareSpecs": false,
    "memoryGiB": 488,
    "name": "ml.p3.16xlarge",
    "vcpuNum": 64
   },
   {
    "_defaultOrder": 38,
    "_isFastLaunch": false,
    "category": "Accelerated computing",
    "gpuNum": 8,
    "hideHardwareSpecs": false,
    "memoryGiB": 768,
    "name": "ml.p3dn.24xlarge",
    "vcpuNum": 96
   },
   {
    "_defaultOrder": 39,
    "_isFastLaunch": false,
    "category": "Memory Optimized",
    "gpuNum": 0,
    "hideHardwareSpecs": false,
    "memoryGiB": 16,
    "name": "ml.r5.large",
    "vcpuNum": 2
   },
   {
    "_defaultOrder": 40,
    "_isFastLaunch": false,
    "category": "Memory Optimized",
    "gpuNum": 0,
    "hideHardwareSpecs": false,
    "memoryGiB": 32,
    "name": "ml.r5.xlarge",
    "vcpuNum": 4
   },
   {
    "_defaultOrder": 41,
    "_isFastLaunch": false,
    "category": "Memory Optimized",
    "gpuNum": 0,
    "hideHardwareSpecs": false,
    "memoryGiB": 64,
    "name": "ml.r5.2xlarge",
    "vcpuNum": 8
   },
   {
    "_defaultOrder": 42,
    "_isFastLaunch": false,
    "category": "Memory Optimized",
    "gpuNum": 0,
    "hideHardwareSpecs": false,
    "memoryGiB": 128,
    "name": "ml.r5.4xlarge",
    "vcpuNum": 16
   },
   {
    "_defaultOrder": 43,
    "_isFastLaunch": false,
    "category": "Memory Optimized",
    "gpuNum": 0,
    "hideHardwareSpecs": false,
    "memoryGiB": 256,
    "name": "ml.r5.8xlarge",
    "vcpuNum": 32
   },
   {
    "_defaultOrder": 44,
    "_isFastLaunch": false,
    "category": "Memory Optimized",
    "gpuNum": 0,
    "hideHardwareSpecs": false,
    "memoryGiB": 384,
    "name": "ml.r5.12xlarge",
    "vcpuNum": 48
   },
   {
    "_defaultOrder": 45,
    "_isFastLaunch": false,
    "category": "Memory Optimized",
    "gpuNum": 0,
    "hideHardwareSpecs": false,
    "memoryGiB": 512,
    "name": "ml.r5.16xlarge",
    "vcpuNum": 64
   },
   {
    "_defaultOrder": 46,
    "_isFastLaunch": false,
    "category": "Memory Optimized",
    "gpuNum": 0,
    "hideHardwareSpecs": false,
    "memoryGiB": 768,
    "name": "ml.r5.24xlarge",
    "vcpuNum": 96
   },
   {
    "_defaultOrder": 47,
    "_isFastLaunch": false,
    "category": "Accelerated computing",
    "gpuNum": 1,
    "hideHardwareSpecs": false,
    "memoryGiB": 16,
    "name": "ml.g5.xlarge",
    "vcpuNum": 4
   },
   {
    "_defaultOrder": 48,
    "_isFastLaunch": false,
    "category": "Accelerated computing",
    "gpuNum": 1,
    "hideHardwareSpecs": false,
    "memoryGiB": 32,
    "name": "ml.g5.2xlarge",
    "vcpuNum": 8
   },
   {
    "_defaultOrder": 49,
    "_isFastLaunch": false,
    "category": "Accelerated computing",
    "gpuNum": 1,
    "hideHardwareSpecs": false,
    "memoryGiB": 64,
    "name": "ml.g5.4xlarge",
    "vcpuNum": 16
   },
   {
    "_defaultOrder": 50,
    "_isFastLaunch": false,
    "category": "Accelerated computing",
    "gpuNum": 1,
    "hideHardwareSpecs": false,
    "memoryGiB": 128,
    "name": "ml.g5.8xlarge",
    "vcpuNum": 32
   },
   {
    "_defaultOrder": 51,
    "_isFastLaunch": false,
    "category": "Accelerated computing",
    "gpuNum": 1,
    "hideHardwareSpecs": false,
    "memoryGiB": 256,
    "name": "ml.g5.16xlarge",
    "vcpuNum": 64
   },
   {
    "_defaultOrder": 52,
    "_isFastLaunch": false,
    "category": "Accelerated computing",
    "gpuNum": 4,
    "hideHardwareSpecs": false,
    "memoryGiB": 192,
    "name": "ml.g5.12xlarge",
    "vcpuNum": 48
   },
   {
    "_defaultOrder": 53,
    "_isFastLaunch": false,
    "category": "Accelerated computing",
    "gpuNum": 4,
    "hideHardwareSpecs": false,
    "memoryGiB": 384,
    "name": "ml.g5.24xlarge",
    "vcpuNum": 96
   },
   {
    "_defaultOrder": 54,
    "_isFastLaunch": false,
    "category": "Accelerated computing",
    "gpuNum": 8,
    "hideHardwareSpecs": false,
    "memoryGiB": 768,
    "name": "ml.g5.48xlarge",
    "vcpuNum": 192
   },
   {
    "_defaultOrder": 55,
    "_isFastLaunch": false,
    "category": "Accelerated computing",
    "gpuNum": 8,
    "hideHardwareSpecs": false,
    "memoryGiB": 1152,
    "name": "ml.p4d.24xlarge",
    "vcpuNum": 96
   },
   {
    "_defaultOrder": 56,
    "_isFastLaunch": false,
    "category": "Accelerated computing",
    "gpuNum": 8,
    "hideHardwareSpecs": false,
    "memoryGiB": 1152,
    "name": "ml.p4de.24xlarge",
    "vcpuNum": 96
   },
   {
    "_defaultOrder": 57,
    "_isFastLaunch": false,
    "category": "Accelerated computing",
    "gpuNum": 0,
    "hideHardwareSpecs": false,
    "memoryGiB": 32,
    "name": "ml.trn1.2xlarge",
    "vcpuNum": 8
   },
   {
    "_defaultOrder": 58,
    "_isFastLaunch": false,
    "category": "Accelerated computing",
    "gpuNum": 0,
    "hideHardwareSpecs": false,
    "memoryGiB": 512,
    "name": "ml.trn1.32xlarge",
    "vcpuNum": 128
   },
   {
    "_defaultOrder": 59,
    "_isFastLaunch": false,
    "category": "Accelerated computing",
    "gpuNum": 0,
    "hideHardwareSpecs": false,
    "memoryGiB": 512,
    "name": "ml.trn1n.32xlarge",
    "vcpuNum": 128
   }
  ],
  "instance_type": "ml.m5.large",
  "kernelspec": {
   "display_name": "Python 3 (Data Science 3.0)",
   "language": "python",
   "name": "python3__SAGEMAKER_INTERNAL__arn:aws:sagemaker:us-west-2:236514542706:image/sagemaker-data-science-310-v1"
  },
  "language_info": {
   "codemirror_mode": {
    "name": "ipython",
    "version": 3
   },
   "file_extension": ".py",
   "mimetype": "text/x-python",
   "name": "python",
   "nbconvert_exporter": "python",
   "pygments_lexer": "ipython3",
   "version": "3.10.6"
  },
  "nbproject": {
   "id": "4hbVFAINneXC",
   "parent": null,
   "pypackage": null,
   "time_init": "2023-11-20T21:25:14.338427+00:00",
   "user_handle": null,
   "user_id": null,
   "user_name": null,
   "version": "0"
  }
 },
 "nbformat": 4,
 "nbformat_minor": 4
}
