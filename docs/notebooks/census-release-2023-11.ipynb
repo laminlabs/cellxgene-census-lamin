{
 "cells": [
  {
   "cell_type": "markdown",
   "metadata": {},
   "source": [
    "# Register files from Census release 2023-11-13"
   ]
  },
  {
   "cell_type": "code",
   "execution_count": 1,
   "metadata": {
    "tags": []
   },
   "outputs": [
    {
     "name": "stdout",
     "output_type": "stream",
     "text": [
      "💡 lamindb instance: theislab/nicheformer\n"
     ]
    }
   ],
   "source": [
    "import lamindb as ln\n",
    "import lnschema_bionty as lb"
   ]
  },
  {
   "cell_type": "code",
   "execution_count": 2,
   "metadata": {
    "tags": []
   },
   "outputs": [],
   "source": [
    "census_version = \"2023-11-13\""
   ]
  },
  {
   "cell_type": "code",
   "execution_count": 3,
   "metadata": {
    "tags": []
   },
   "outputs": [
    {
     "name": "stdout",
     "output_type": "stream",
     "text": [
      "h5ads (0 sub-directories & 1122 files with suffixes '.h5ad'): \n",
      "├── 00099d5e-154f-4a7a-aa8d-fa30c8c0c43c.h5ad\n",
      "├── 0041b9c3-6a49-4bf7-8514-9bc7190067a7.h5ad\n",
      "├── 00476f9f-ebc1-4b72-b541-32f912ce36ea.h5ad\n",
      "├── 00e5dedd-b9b7-43be-8c28-b0e5c6414a62.h5ad\n",
      "├── 00ff600e-6e2e-4d76-846f-0eec4f0ae417.h5ad\n",
      "├── 01209dce-3575-4bed-b1df-129f57fbc031.h5ad\n",
      "...\n"
     ]
    }
   ],
   "source": [
    "s3path = f\"s3://cellxgene-data-public/cell-census/{census_version}/h5ads\"\n",
    "ln.UPath(s3path).view_tree()"
   ]
  },
  {
   "cell_type": "code",
   "execution_count": 4,
   "metadata": {
    "tags": []
   },
   "outputs": [
    {
     "name": "stdout",
     "output_type": "stream",
     "text": [
      "💡 notebook imports: lamindb==0.61.0 lnschema_bionty==0.34.0 requests==2.31.0\n",
      "💡 loaded: Transform(uid='4hbVFAINneXCz8', name='Register files from Census release 2023-11-13', short_name='census-release-2023-11', version='0', type='notebook', updated_at=2023-11-20 21:25:20 UTC, created_by_id=1)\n",
      "💡 loaded: Run(uid='6ZcVntFiofyv226ywRDL', run_at=2023-11-21 20:58:33 UTC, transform_id=18, created_by_id=1)\n"
     ]
    }
   ],
   "source": [
    "ln.track()"
   ]
  },
  {
   "cell_type": "markdown",
   "metadata": {},
   "source": [
    "## Register files"
   ]
  },
  {
   "cell_type": "code",
   "execution_count": 5,
   "metadata": {},
   "outputs": [
    {
     "name": "stdout",
     "output_type": "stream",
     "text": [
      "✅ created 1122 files from directory using storage s3://cellxgene-data-public and key = cell-census/2023-11-13/h5ads/\n"
     ]
    }
   ],
   "source": [
    "files = ln.File.from_dir(s3path)\n",
    "ln.save(files)"
   ]
  },
  {
   "cell_type": "code",
   "execution_count": 6,
   "metadata": {},
   "outputs": [
    {
     "name": "stdout",
     "output_type": "stream",
     "text": [
      "💡 initializing versioning for this dataset! create future versions of it using ln.Dataset(..., is_new_version_of=old_dataset)\n"
     ]
    }
   ],
   "source": [
    "dataset = ln.Dataset(files, name=\"cellxgene-census\", version=census_version)\n",
    "dataset.save()"
   ]
  },
  {
   "cell_type": "markdown",
   "metadata": {
    "tags": []
   },
   "source": [
    "## Register metadata"
   ]
  },
  {
   "cell_type": "markdown",
   "metadata": {},
   "source": [
    "Get all datasets and associated metadata using cellxgene REST API:"
   ]
  },
  {
   "cell_type": "code",
   "execution_count": 5,
   "metadata": {
    "tags": []
   },
   "outputs": [],
   "source": [
    "import requests\n",
    "\n",
    "\n",
    "def get_datasets_df_from_cxg():\n",
    "    api_url_base = \"https://api.cellxgene.cziscience.com\"\n",
    "    datasets_path = \"/curation/v1/datasets\"\n",
    "    datasets_url = f\"{api_url_base}{datasets_path}\"\n",
    "    headers = {\"Content-Type\": \"application/json\"}\n",
    "    res = requests.get(url=datasets_url, headers=headers)\n",
    "    res.raise_for_status()\n",
    "    res_content = res.json()\n",
    "    return res_content"
   ]
  },
  {
   "cell_type": "code",
   "execution_count": 6,
   "metadata": {
    "tags": []
   },
   "outputs": [
    {
     "data": {
      "text/plain": [
       "1130"
      ]
     },
     "execution_count": 6,
     "metadata": {},
     "output_type": "execute_result"
    }
   ],
   "source": [
    "res_content = get_datasets_df_from_cxg()\n",
    "len(res_content)"
   ]
  },
  {
   "cell_type": "code",
   "execution_count": 7,
   "metadata": {},
   "outputs": [
    {
     "data": {
      "text/plain": [
       "dict_keys(['assay', 'assets', 'cell_count', 'cell_type', 'collection_doi', 'collection_id', 'collection_name', 'collection_version_id', 'dataset_id', 'dataset_version_id', 'development_stage', 'disease', 'donor_id', 'explorer_url', 'is_primary_data', 'mean_genes_per_cell', 'organism', 'primary_cell_count', 'processing_status', 'published_at', 'revised_at', 'schema_version', 'self_reported_ethnicity', 'sex', 'suspension_type', 'tissue', 'title', 'tombstone', 'x_approximate_distribution'])"
      ]
     },
     "execution_count": 7,
     "metadata": {},
     "output_type": "execute_result"
    }
   ],
   "source": [
    "res_content[0].keys()"
   ]
  },
  {
   "cell_type": "code",
   "execution_count": 8,
   "metadata": {
    "tags": []
   },
   "outputs": [],
   "source": [
    "features = ln.Feature.lookup()\n",
    "files = ln.File.filter(key__contains=census_version).all()"
   ]
  },
  {
   "cell_type": "markdown",
   "metadata": {},
   "source": [
    "### collections, organisms"
   ]
  },
  {
   "cell_type": "code",
   "execution_count": 20,
   "metadata": {},
   "outputs": [
    {
     "name": "stdout",
     "output_type": "stream",
     "text": [
      "❗ loading non-default source inside a LaminDB instance\n",
      "registered organism: Organism(uid='sMq3BQz0', name='rhesus macaque', ontology_id='NCBITaxon:9544', scientific_name='Macaca mulatta', updated_at=2023-11-21 12:30:09 UTC, bionty_source_id=50, created_by_id=1)\n",
      "❗ loading non-default source inside a LaminDB instance\n",
      "registered organism: Organism(uid='aYpsHRNc', name='white-tufted-ear marmoset', ontology_id='NCBITaxon:9483', scientific_name='Callithrix jacchus', updated_at=2023-11-21 12:30:18 UTC, bionty_source_id=50, created_by_id=1)\n",
      "❗ loading non-default source inside a LaminDB instance\n",
      "registered organism: Organism(uid='Ihbc7tQx', name='chimpanzee', ontology_id='NCBITaxon:9598', scientific_name='Pan troglodytes', updated_at=2023-11-21 12:30:26 UTC, bionty_source_id=50, created_by_id=1)\n",
      "❗ loading non-default source inside a LaminDB instance\n",
      "registered organism: Organism(uid='Z0wGZNxo', name='domestic pig', ontology_id='NCBITaxon:9825', scientific_name='Sus scrofa domesticus', updated_at=2023-11-21 12:34:31 UTC, bionty_source_id=50, created_by_id=1)\n"
     ]
    }
   ],
   "source": [
    "is_collection = ln.ULabel.filter(name=\"is_collection\").one()\n",
    "collections = is_collection.children.all()\n",
    "organisms = lb.Organism.filter().all()\n",
    "\n",
    "for dataset_meta in res_content:\n",
    "    file = files.filter(key__contains=dataset_meta[\"dataset_id\"]).one_or_none()\n",
    "    if file is None:\n",
    "        continue\n",
    "    # register collection\n",
    "    collection = collections.filter(\n",
    "        reference=dataset_meta[\"collection_id\"]\n",
    "    ).one_or_none()\n",
    "    if collection is None:\n",
    "        collection = ln.ULabel(\n",
    "            name=dataset_meta[\"collection_name\"],\n",
    "            description=dataset_meta[\"collection_doi\"],\n",
    "            reference=dataset_meta[\"collection_id\"],\n",
    "            reference_type=\"collection_id\",\n",
    "        )\n",
    "        collection.save()\n",
    "        collection.parents.add(is_collection)\n",
    "    file.labels.add(collection, feature=features.collection)\n",
    "\n",
    "    # annotate with organism\n",
    "    organism_ontology_ids = [i[\"ontology_term_id\"] for i in dataset_meta[\"organism\"]]\n",
    "    organism_records = organisms.filter(ontology_id__in=organism_ontology_ids).list()\n",
    "    # register new organisms\n",
    "    if len(organism_records) == 0:\n",
    "        bionty_source = lb.BiontySource.filter(entity=\"Organism\", organism=\"all\").one()\n",
    "        for i in organism_ontology_ids:\n",
    "            record = lb.Organism.from_bionty(ontology_id=i, bionty_source=bionty_source)\n",
    "            record.save(parents=False)\n",
    "            print(f\"registered organism: {record}\")\n",
    "        organism_records = organisms.filter(\n",
    "            ontology_id__in=organism_ontology_ids\n",
    "        ).list()\n",
    "    file.labels.add(organism_records, feature=features.organism)"
   ]
  },
  {
   "cell_type": "markdown",
   "metadata": {},
   "source": [
    "### obs ontologies"
   ]
  },
  {
   "cell_type": "code",
   "execution_count": 9,
   "metadata": {},
   "outputs": [],
   "source": [
    "feature_names = [\n",
    "    \"self_reported_ethnicity\",\n",
    "    \"development_stage\",\n",
    "    \"cell_type\",\n",
    "    \"assay\",\n",
    "    \"tissue\",\n",
    "    \"disease\",\n",
    "    \"sex\",\n",
    "    \"donor_id\",\n",
    "    \"suspension_type\",\n",
    "]\n",
    "\n",
    "from lamindb.dev._feature_manager import get_accessor_by_orm\n",
    "\n",
    "ACCESSORS = get_accessor_by_orm(ln.File)\n",
    "FEATURE_TO_ACCESSOR = {}\n",
    "for name in feature_names:\n",
    "    feature = getattr(features, name)\n",
    "    accessor = ACCESSORS.get(feature.registries)\n",
    "    orm = getattr(ln.File, accessor).field.model\n",
    "    # TODO: ulabels are defined in the File model, improve this in LaminDB\n",
    "    if orm == ln.File:\n",
    "        orm = getattr(ln.File, accessor).field.related_model\n",
    "    FEATURE_TO_ACCESSOR[name] = (accessor, orm)"
   ]
  },
  {
   "cell_type": "code",
   "execution_count": 37,
   "metadata": {},
   "outputs": [],
   "source": [
    "obs_featureset = ln.FeatureSet(features=[getattr(features, i) for i in feature_names])\n",
    "obs_featureset.save()\n",
    "\n",
    "obs_featureset.files.set(files, through_defaults={\"slot\": \"obs\"})"
   ]
  },
  {
   "cell_type": "code",
   "execution_count": 10,
   "metadata": {},
   "outputs": [],
   "source": [
    "# extra step to register uberon ontologies as developmental stages\n",
    "def create_dv_record_from_uberon(ontology_id: str):\n",
    "    tissue_record = lb.Tissue.from_bionty(ontology_id=ontology_id)\n",
    "    dvs_record = lb.DevelopmentalStage(\n",
    "        name=tissue_record.name,\n",
    "        description=tissue_record.description,\n",
    "        ontology_id=tissue_record.ontology_id,\n",
    "        bionty_source_id=tissue_record.bionty_source_id,\n",
    "    )\n",
    "    dvs_record.save()\n",
    "\n",
    "\n",
    "for id in [\n",
    "    \"UBERON:0018241\",\n",
    "    \"UBERON:0034919\",\n",
    "    \"UBERON:0007222\",\n",
    "    \"UBERON:0000113\",\n",
    "    \"UBERON:0007220\",\n",
    "    \"UBERON:0007222\",\n",
    "]:\n",
    "    create_dv_record_from_uberon(id)"
   ]
  },
  {
   "cell_type": "code",
   "execution_count": 10,
   "metadata": {},
   "outputs": [
    {
     "name": "stdout",
     "output_type": "stream",
     "text": [
      "❗ now recursing through parents: this only happens once, but is much slower than bulk saving\n",
      "❗ \u001b[1;91mdid not create\u001b[0m DevelopmentalStage records for \u001b[1;93m19 non-validated\u001b[0m \u001b[3montology_ids\u001b[0m: \u001b[1;93m'MmusDv:0000057', 'MmusDv:0000058', 'MmusDv:0000059', 'MmusDv:0000065', 'MmusDv:0000066', 'MmusDv:0000067', 'MmusDv:0000068', 'MmusDv:0000070', 'MmusDv:0000071', 'MmusDv:0000072', 'MmusDv:0000073', 'MmusDv:0000074', 'MmusDv:0000079', 'MmusDv:0000098', 'MmusDv:0000099', 'MmusDv:0000102', 'UBERON:0000113', 'UBERON:0007220', 'UBERON:0007222'\u001b[0m\n",
      "❗ now recursing through parents: this only happens once, but is much slower than bulk saving\n",
      "❗ now recursing through parents: this only happens once, but is much slower than bulk saving\n",
      "❗ \u001b[1;91mdid not create\u001b[0m Tissue records for \u001b[1;93m18 non-validated\u001b[0m \u001b[3montology_ids\u001b[0m: \u001b[1;93m'CL:0000010 (cell culture)', 'CL:0000082 (cell culture)', 'CL:0000084 (cell culture)', 'CL:0000115 (cell culture)', 'CL:0000351 (cell culture)', 'CL:0002322 (cell culture)', 'CL:0002327 (cell culture)', 'CL:0002328 (cell culture)', 'CL:0002334 (cell culture)', 'CL:0002335 (cell culture)', 'CL:0002633 (cell culture)', 'CL:0010003 (cell culture)', 'UBERON:0000088 (organoid)', 'UBERON:0000310 (organoid)', 'UBERON:0000966 (organoid)', 'UBERON:0001295 (organoid)', 'UBERON:0002048 (organoid)', 'UBERON:0002370 (organoid)'\u001b[0m\n",
      "❗ now recursing through parents: this only happens once, but is much slower than bulk saving\n",
      "❗ now recursing through parents: this only happens once, but is much slower than bulk saving\n"
     ]
    }
   ],
   "source": [
    "ontology_ids = {}\n",
    "for name in feature_names:\n",
    "    if name in [\"donor_id\", \"suspension_type\"]:\n",
    "        continue\n",
    "    allids = set()\n",
    "    for i in res_content:\n",
    "        if name in i:\n",
    "            allids.update([(j[\"label\"], j[\"ontology_term_id\"]) for j in i[name]])\n",
    "\n",
    "    ontology_ids[name] = allids\n",
    "\n",
    "# register all ontology ids\n",
    "for name, terms in ontology_ids.items():\n",
    "    accessor, orm = FEATURE_TO_ACCESSOR.get(name)\n",
    "    terms_ids = [i[1] for i in terms]\n",
    "    records = orm.from_values(terms_ids, field=\"ontology_id\")\n",
    "    if len(records) > 0:\n",
    "        ln.save(records)"
   ]
  },
  {
   "cell_type": "code",
   "execution_count": 16,
   "metadata": {},
   "outputs": [
    {
     "name": "stdout",
     "output_type": "stream",
     "text": [
      "❗ \u001b[1;93m16 terms\u001b[0m (7.00%) are not validated for \u001b[3montology_id\u001b[0m: \u001b[1;93mMmusDv:0000066, MmusDv:0000057, MmusDv:0000072, MmusDv:0000067, MmusDv:0000099, MmusDv:0000070, MmusDv:0000065, MmusDv:0000071, MmusDv:0000058, MmusDv:0000102, MmusDv:0000098, MmusDv:0000068, MmusDv:0000079, MmusDv:0000059, MmusDv:0000073, MmusDv:0000074\u001b[0m\n",
      "   couldn't validate \u001b[1;91m16 terms\u001b[0m: \u001b[1;91m'MmusDv:0000059', 'MmusDv:0000068', 'MmusDv:0000058', 'MmusDv:0000066', 'MmusDv:0000057', 'MmusDv:0000102', 'MmusDv:0000098', 'MmusDv:0000071', 'MmusDv:0000074', 'MmusDv:0000065', 'MmusDv:0000067', 'MmusDv:0000073', 'MmusDv:0000070', 'MmusDv:0000072', 'MmusDv:0000079', 'MmusDv:0000099'\u001b[0m\n",
      "→  if you are sure, create new records via \u001b[3mln.DevelopmentalStage()\u001b[0m and save to your registry\n",
      "❗ \u001b[1;93m18 terms\u001b[0m (4.80%) are not validated for \u001b[3montology_id\u001b[0m: \u001b[1;93mUBERON:0001295 (organoid), UBERON:0002370 (organoid), CL:0002327 (cell culture), CL:0000115 (cell culture), CL:0000082 (cell culture), CL:0002334 (cell culture), CL:0002335 (cell culture), CL:0000010 (cell culture), CL:0002328 (cell culture), CL:0000084 (cell culture), CL:0010003 (cell culture), CL:0000351 (cell culture), CL:0002633 (cell culture), UBERON:0000310 (organoid), UBERON:0000088 (organoid), UBERON:0002048 (organoid), CL:0002322 (cell culture), UBERON:0000966 (organoid)\u001b[0m\n",
      "   couldn't validate \u001b[1;91m18 terms\u001b[0m: \u001b[1;91m'CL:0000115 (cell culture)', 'UBERON:0001295 (organoid)', 'UBERON:0002370 (organoid)', 'CL:0002327 (cell culture)', 'CL:0000082 (cell culture)', 'UBERON:0000310 (organoid)', 'UBERON:0000088 (organoid)', 'CL:0000084 (cell culture)', 'CL:0002334 (cell culture)', 'CL:0000010 (cell culture)', 'UBERON:0000966 (organoid)', 'CL:0000351 (cell culture)', 'CL:0002328 (cell culture)', 'CL:0002335 (cell culture)', 'CL:0002633 (cell culture)', 'UBERON:0002048 (organoid)', 'CL:0002322 (cell culture)', 'CL:0010003 (cell culture)'\u001b[0m\n",
      "→  if you are sure, create new records via \u001b[3mln.Tissue()\u001b[0m and save to your registry\n"
     ]
    }
   ],
   "source": [
    "# register the non-validated terms\n",
    "bionty_source_ds_mouse = lb.BiontySource.filter(\n",
    "    entity=\"DevelopmentalStage\", organism=\"mouse\"\n",
    ").one()\n",
    "\n",
    "for name, terms in ontology_ids.items():\n",
    "    accessor, orm = FEATURE_TO_ACCESSOR.get(name)\n",
    "    terms_ids = [i[1] for i in terms]\n",
    "    result = orm.inspect(terms_ids, field=\"ontology_id\")\n",
    "    if len(result.non_validated) > 0:\n",
    "        if name == \"development_stage\":\n",
    "            dv_records = orm.from_values(\n",
    "                result.non_validated,\n",
    "                field=\"ontology_id\",\n",
    "                bionty_source=bionty_source_ds_mouse,\n",
    "            )\n",
    "        elif name == \"tissue\":\n",
    "            ts_records = [\n",
    "                orm(name=term[0], ontology_id=term[1])\n",
    "                for term in terms\n",
    "                if term[1] in result.non_validated\n",
    "            ]\n",
    "\n",
    "ln.save(dv_records)\n",
    "ln.save(ts_records)"
   ]
  },
  {
   "cell_type": "markdown",
   "metadata": {},
   "source": [
    "### donors and suspension types"
   ]
  },
  {
   "cell_type": "code",
   "execution_count": 31,
   "metadata": {},
   "outputs": [],
   "source": [
    "donor_ids = set()\n",
    "suspension_types = set()\n",
    "\n",
    "for i in res_content:\n",
    "    if \"donor_id\" in i:\n",
    "        donor_ids.update(i[\"donor_id\"])\n",
    "    if \"suspension_type\" in i:\n",
    "        suspension_types.update(i[\"suspension_type\"])"
   ]
  },
  {
   "cell_type": "code",
   "execution_count": 18,
   "metadata": {},
   "outputs": [
    {
     "name": "stdout",
     "output_type": "stream",
     "text": [
      "❗ \u001b[1;93m1216 terms\u001b[0m (16.60%) are not validated for \u001b[3mname\u001b[0m: \u001b[1;93mmouse_YUYDJ, COVID19_Participant12, COVID19_Participant3, 328806, 364368, Human-BRCA1-B, RL2105, COVID19_Participant6, 1864, mouse_LVGJZ, Control_Participant14, 424707, 291740, 377001, mouse_VBJMY, G19.32.002, mouse_EUEJJ, mouse_RZFCS, mouse003, HTA4_11, ...\u001b[0m\n",
      "   couldn't validate \u001b[1;91m1216 terms\u001b[0m: \u001b[1;91m'Control_Participant16', 'C19.32.004', 'mouse_YUYDJ', '14104', 'Williams_GSE164241_GSM5177040', '5976', 'H18.29.134', 'COVID19_Participant12', 'mouse_VTQGY', 'ac45', 'HTA11_99999974143_84620', '779', 'AH2', 'Kydar05', 'GW20-12-7-18', 'Human-WT-C', 'Q19.26.003', 'SPECTRUM-OV-031', '380739', '514', ...\u001b[0m\n",
      "→  if you are sure, create new records via \u001b[3mln.ULabel()\u001b[0m and save to your registry\n"
     ]
    }
   ],
   "source": [
    "donors = ln.ULabel.filter(name=\"is_donor\").one().children.all()\n",
    "result = donors.inspect(donor_ids)\n",
    "new_donors = [ln.ULabel(name=name) for name in result.non_validated]\n",
    "ln.save(new_donors)\n",
    "is_donor = ln.ULabel.filter(name=\"is_donor\").one()\n",
    "is_donor.children.add(*new_donors)"
   ]
  },
  {
   "cell_type": "code",
   "execution_count": 36,
   "metadata": {},
   "outputs": [
    {
     "name": "stdout",
     "output_type": "stream",
     "text": [
      "❗ \u001b[1;93m1 term\u001b[0m (33.30%) is not validated for \u001b[3mname\u001b[0m: \u001b[1;93mna\u001b[0m\n",
      "   couldn't validate \u001b[1;91m1 term\u001b[0m: \u001b[1;91m'na'\u001b[0m\n",
      "→  if you are sure, create new record via \u001b[3mln.ULabel()\u001b[0m and save to your registry\n",
      "❗ records with similar names exist! did you mean to load one of them?\n"
     ]
    },
    {
     "data": {
      "text/html": [
       "<div>\n",
       "<style scoped>\n",
       "    .dataframe tbody tr th:only-of-type {\n",
       "        vertical-align: middle;\n",
       "    }\n",
       "\n",
       "    .dataframe tbody tr th {\n",
       "        vertical-align: top;\n",
       "    }\n",
       "\n",
       "    .dataframe thead th {\n",
       "        text-align: right;\n",
       "    }\n",
       "</style>\n",
       "<table border=\"1\" class=\"dataframe\">\n",
       "  <thead>\n",
       "    <tr style=\"text-align: right;\">\n",
       "      <th></th>\n",
       "      <th>uid</th>\n",
       "      <th>score</th>\n",
       "    </tr>\n",
       "    <tr>\n",
       "      <th>name</th>\n",
       "      <th></th>\n",
       "      <th></th>\n",
       "    </tr>\n",
       "  </thead>\n",
       "  <tbody>\n",
       "    <tr>\n",
       "      <th>nan</th>\n",
       "      <td>etXMfuAG</td>\n",
       "      <td>90.0</td>\n",
       "    </tr>\n",
       "    <tr>\n",
       "      <th>mouse_NASMM</th>\n",
       "      <td>H1NNCpCh</td>\n",
       "      <td>90.0</td>\n",
       "    </tr>\n",
       "  </tbody>\n",
       "</table>\n",
       "</div>"
      ],
      "text/plain": [
       "                  uid  score\n",
       "name                        \n",
       "nan          etXMfuAG   90.0\n",
       "mouse_NASMM  H1NNCpCh   90.0"
      ]
     },
     "metadata": {},
     "output_type": "display_data"
    }
   ],
   "source": [
    "stypes = ln.ULabel.filter(name=\"is_suspension_type\").one().children.all()\n",
    "result = stypes.inspect(suspension_types)\n",
    "new_stypes = [ln.ULabel(name=name) for name in result.non_validated]\n",
    "ln.save(new_stypes)\n",
    "is_suspension_type = ln.ULabel.filter(name=\"is_suspension_type\").one()\n",
    "is_suspension_type.children.add(*new_stypes)"
   ]
  },
  {
   "cell_type": "markdown",
   "metadata": {},
   "source": [
    "## Annotate files"
   ]
  },
  {
   "cell_type": "code",
   "execution_count": 45,
   "metadata": {},
   "outputs": [
    {
     "name": "stdout",
     "output_type": "stream",
     "text": [
      "annotating dataset 0 of 1130\n",
      "annotating dataset 50 of 1130\n",
      "annotating dataset 100 of 1130\n",
      "annotating dataset 150 of 1130\n",
      "annotating dataset 200 of 1130\n",
      "annotating dataset 250 of 1130\n",
      "annotating dataset 300 of 1130\n",
      "annotating dataset 350 of 1130\n",
      "annotating dataset 400 of 1130\n",
      "annotating dataset 450 of 1130\n",
      "annotating dataset 500 of 1130\n",
      "annotating dataset 550 of 1130\n",
      "annotating dataset 600 of 1130\n",
      "annotating dataset 650 of 1130\n",
      "annotating dataset 700 of 1130\n",
      "annotating dataset 750 of 1130\n",
      "annotating dataset 800 of 1130\n",
      "annotating dataset 850 of 1130\n",
      "annotating dataset 900 of 1130\n",
      "annotating dataset 950 of 1130\n",
      "annotating dataset 1000 of 1130\n",
      "annotating dataset 1050 of 1130\n",
      "annotating dataset 1100 of 1130\n"
     ]
    }
   ],
   "source": [
    "for idx, dataset_meta in enumerate(res_content):\n",
    "    if idx % 50 == 0:\n",
    "        print(f\"annotating dataset {idx} of {len(res_content)}\")\n",
    "    file = files.filter(key__contains=dataset_meta[\"dataset_id\"]).one_or_none()\n",
    "    if file is None:\n",
    "        continue\n",
    "    for field, terms in dataset_meta.items():\n",
    "        if field not in FEATURE_TO_ACCESSOR:\n",
    "            continue\n",
    "        accessor, orm = FEATURE_TO_ACCESSOR.get(field)\n",
    "        if field in [\"donor_id\", \"suspension_type\"]:\n",
    "            records = orm.from_values(terms, field=\"name\")\n",
    "        else:\n",
    "            records = orm.from_values(\n",
    "                [i[\"ontology_term_id\"] for i in terms], field=\"ontology_id\"\n",
    "            )\n",
    "        if len(records) > 0:\n",
    "            getattr(file, accessor).add(*records)"
   ]
  },
  {
   "cell_type": "code",
   "execution_count": 46,
   "metadata": {},
   "outputs": [
    {
     "name": "stdout",
     "output_type": "stream",
     "text": [
      "\u001b[1;92mFile\u001b[0m(uid='aEKsguSJF6kAoeXcICKt', key='cell-census/2023-11-13/h5ads/ff7d15fa-f4b6-4a0e-992e-fd0c9d088ded.h5ad', suffix='.h5ad', accessor='AnnData', size=339098252, hash='wk4aVyHI7iZWNq2n99_s4w-41', hash_type='md5-n', visibility=0, key_is_virtual=False, updated_at=2023-11-20 21:45:35 UTC)\n",
      "\n",
      "\u001b[1;92mProvenance\u001b[0m:\n",
      "  🗃️ storage: Storage(uid='oIYGbD74', root='s3://cellxgene-data-public', type='s3', region='us-west-2', updated_at=2023-10-16 15:04:08 UTC, created_by_id=1)\n",
      "  📔 transform: Transform(uid='4hbVFAINneXCz8', name='Register files from Census release 2023-11-13', short_name='census-release-2023-11', version='0', type='notebook', updated_at=2023-11-20 21:25:20 UTC, created_by_id=1)\n",
      "  👣 run: Run(uid='6ZcVntFiofyv226ywRDL', run_at=2023-11-21 19:43:44 UTC, transform_id=18, created_by_id=1)\n",
      "  👤 created_by: User(uid='kmvZDIX9', handle='sunnyosun', name='Sunny Sun', updated_at=2023-11-21 09:23:50 UTC)\n",
      "\u001b[1;92mFeatures\u001b[0m:\n",
      "  \u001b[1mexternal\u001b[0m: FeatureSet(uid='qgAXuV6LwRitejVy0ZY9', n=2, registry='core.Feature', hash='NspE1QMvOo8aoOOrotmH', updated_at=2023-11-21 14:17:10 UTC, created_by_id=1)\n",
      "    🔗 collection (1, \u001b[3mcore.ULabel\u001b[0m): 'Transcriptomic diversity of cell types across the adult human brain'\n",
      "    🔗 organism (1, \u001b[3mbionty.Organism\u001b[0m): 'human'\n",
      "  \u001b[1mobs\u001b[0m: FeatureSet(uid='vcl397zxUZfT8HO0H8WW', n=9, registry='core.Feature', hash='VgsTm88KGwJjDoC7cCJP', updated_at=2023-11-21 14:32:26 UTC, created_by_id=1)\n",
      "    🔗 donor_id (0, \u001b[3mcore.ULabel\u001b[0m): \n",
      "    🔗 development_stage (3, \u001b[3mbionty.DevelopmentalStage\u001b[0m): '42-year-old human stage', '50-year-old human stage', '29-year-old human stage'\n",
      "    🔗 disease (1, \u001b[3mbionty.Disease\u001b[0m): 'normal'\n",
      "    🔗 cell_type (10, \u001b[3mbionty.CellType\u001b[0m): 'endothelial cell', 'astrocyte', 'vascular associated smooth muscle cell', 'oligodendrocyte precursor cell', 'central nervous system macrophage', 'neuron', 'leukocyte', 'fibroblast', 'oligodendrocyte', 'pericyte'\n",
      "    🔗 sex (1, \u001b[3mbionty.Phenotype\u001b[0m): 'male'\n",
      "    🔗 suspension_type (0, \u001b[3mcore.ULabel\u001b[0m): \n",
      "    🔗 assay (1, \u001b[3mbionty.ExperimentalFactor\u001b[0m): '10x 3' v3'\n",
      "    🔗 tissue (1, \u001b[3mbionty.Tissue\u001b[0m): 'cerebral cortex'\n",
      "    🔗 self_reported_ethnicity (1, \u001b[3mbionty.Ethnicity\u001b[0m): 'European'\n",
      "\u001b[1;92mLabels\u001b[0m:\n",
      "  🏷️ organism (1, \u001b[3mbionty.Organism\u001b[0m): 'human'\n",
      "  🏷️ tissues (1, \u001b[3mbionty.Tissue\u001b[0m): 'cerebral cortex'\n",
      "  🏷️ cell_types (10, \u001b[3mbionty.CellType\u001b[0m): 'endothelial cell', 'astrocyte', 'vascular associated smooth muscle cell', 'oligodendrocyte precursor cell', 'central nervous system macrophage', 'neuron', 'leukocyte', 'fibroblast', 'oligodendrocyte', 'pericyte'\n",
      "  🏷️ diseases (1, \u001b[3mbionty.Disease\u001b[0m): 'normal'\n",
      "  🏷️ phenotypes (1, \u001b[3mbionty.Phenotype\u001b[0m): 'male'\n",
      "  🏷️ experimental_factors (1, \u001b[3mbionty.ExperimentalFactor\u001b[0m): '10x 3' v3'\n",
      "  🏷️ developmental_stages (3, \u001b[3mbionty.DevelopmentalStage\u001b[0m): '42-year-old human stage', '50-year-old human stage', '29-year-old human stage'\n",
      "  🏷️ ethnicities (1, \u001b[3mbionty.Ethnicity\u001b[0m): 'European'\n",
      "  🏷️ ulabels (5, \u001b[3mcore.ULabel\u001b[0m): 'Transcriptomic diversity of cell types across the adult human brain', 'nucleus', 'H19.30.001', 'H19.30.002', 'H18.30.002'\n",
      "\n"
     ]
    }
   ],
   "source": [
    "files.last().describe()"
   ]
  },
  {
   "cell_type": "markdown",
   "metadata": {},
   "source": [
    "## Register genes"
   ]
  },
  {
   "cell_type": "code",
   "execution_count": null,
   "metadata": {},
   "outputs": [],
   "source": [
    "ln.settings.track_run_inputs = False\n",
    "ln.settings.verbosity = \"hint\"\n",
    "\n",
    "for file in files:\n",
    "    adata_backed = file.backed()\n",
    "    genes = adata_backed.var_names\n",
    "    featureset = ln.FeatureSet.from_values(\n",
    "        genes, field=lb.Gene.ensembl_gene_id, organism=file.organism.first()\n",
    "    )\n",
    "    featureset.save()\n",
    "    file.feature_sets.add(featureset, through_defaults={\"slot\": \"var\"})"
   ]
  },
  {
   "cell_type": "code",
   "execution_count": null,
   "metadata": {},
   "outputs": [],
   "source": []
  }
 ],
 "metadata": {
  "availableInstances": [
   {
    "_defaultOrder": 0,
    "_isFastLaunch": true,
    "category": "General purpose",
    "gpuNum": 0,
    "hideHardwareSpecs": false,
    "memoryGiB": 4,
    "name": "ml.t3.medium",
    "vcpuNum": 2
   },
   {
    "_defaultOrder": 1,
    "_isFastLaunch": false,
    "category": "General purpose",
    "gpuNum": 0,
    "hideHardwareSpecs": false,
    "memoryGiB": 8,
    "name": "ml.t3.large",
    "vcpuNum": 2
   },
   {
    "_defaultOrder": 2,
    "_isFastLaunch": false,
    "category": "General purpose",
    "gpuNum": 0,
    "hideHardwareSpecs": false,
    "memoryGiB": 16,
    "name": "ml.t3.xlarge",
    "vcpuNum": 4
   },
   {
    "_defaultOrder": 3,
    "_isFastLaunch": false,
    "category": "General purpose",
    "gpuNum": 0,
    "hideHardwareSpecs": false,
    "memoryGiB": 32,
    "name": "ml.t3.2xlarge",
    "vcpuNum": 8
   },
   {
    "_defaultOrder": 4,
    "_isFastLaunch": true,
    "category": "General purpose",
    "gpuNum": 0,
    "hideHardwareSpecs": false,
    "memoryGiB": 8,
    "name": "ml.m5.large",
    "vcpuNum": 2
   },
   {
    "_defaultOrder": 5,
    "_isFastLaunch": false,
    "category": "General purpose",
    "gpuNum": 0,
    "hideHardwareSpecs": false,
    "memoryGiB": 16,
    "name": "ml.m5.xlarge",
    "vcpuNum": 4
   },
   {
    "_defaultOrder": 6,
    "_isFastLaunch": false,
    "category": "General purpose",
    "gpuNum": 0,
    "hideHardwareSpecs": false,
    "memoryGiB": 32,
    "name": "ml.m5.2xlarge",
    "vcpuNum": 8
   },
   {
    "_defaultOrder": 7,
    "_isFastLaunch": false,
    "category": "General purpose",
    "gpuNum": 0,
    "hideHardwareSpecs": false,
    "memoryGiB": 64,
    "name": "ml.m5.4xlarge",
    "vcpuNum": 16
   },
   {
    "_defaultOrder": 8,
    "_isFastLaunch": false,
    "category": "General purpose",
    "gpuNum": 0,
    "hideHardwareSpecs": false,
    "memoryGiB": 128,
    "name": "ml.m5.8xlarge",
    "vcpuNum": 32
   },
   {
    "_defaultOrder": 9,
    "_isFastLaunch": false,
    "category": "General purpose",
    "gpuNum": 0,
    "hideHardwareSpecs": false,
    "memoryGiB": 192,
    "name": "ml.m5.12xlarge",
    "vcpuNum": 48
   },
   {
    "_defaultOrder": 10,
    "_isFastLaunch": false,
    "category": "General purpose",
    "gpuNum": 0,
    "hideHardwareSpecs": false,
    "memoryGiB": 256,
    "name": "ml.m5.16xlarge",
    "vcpuNum": 64
   },
   {
    "_defaultOrder": 11,
    "_isFastLaunch": false,
    "category": "General purpose",
    "gpuNum": 0,
    "hideHardwareSpecs": false,
    "memoryGiB": 384,
    "name": "ml.m5.24xlarge",
    "vcpuNum": 96
   },
   {
    "_defaultOrder": 12,
    "_isFastLaunch": false,
    "category": "General purpose",
    "gpuNum": 0,
    "hideHardwareSpecs": false,
    "memoryGiB": 8,
    "name": "ml.m5d.large",
    "vcpuNum": 2
   },
   {
    "_defaultOrder": 13,
    "_isFastLaunch": false,
    "category": "General purpose",
    "gpuNum": 0,
    "hideHardwareSpecs": false,
    "memoryGiB": 16,
    "name": "ml.m5d.xlarge",
    "vcpuNum": 4
   },
   {
    "_defaultOrder": 14,
    "_isFastLaunch": false,
    "category": "General purpose",
    "gpuNum": 0,
    "hideHardwareSpecs": false,
    "memoryGiB": 32,
    "name": "ml.m5d.2xlarge",
    "vcpuNum": 8
   },
   {
    "_defaultOrder": 15,
    "_isFastLaunch": false,
    "category": "General purpose",
    "gpuNum": 0,
    "hideHardwareSpecs": false,
    "memoryGiB": 64,
    "name": "ml.m5d.4xlarge",
    "vcpuNum": 16
   },
   {
    "_defaultOrder": 16,
    "_isFastLaunch": false,
    "category": "General purpose",
    "gpuNum": 0,
    "hideHardwareSpecs": false,
    "memoryGiB": 128,
    "name": "ml.m5d.8xlarge",
    "vcpuNum": 32
   },
   {
    "_defaultOrder": 17,
    "_isFastLaunch": false,
    "category": "General purpose",
    "gpuNum": 0,
    "hideHardwareSpecs": false,
    "memoryGiB": 192,
    "name": "ml.m5d.12xlarge",
    "vcpuNum": 48
   },
   {
    "_defaultOrder": 18,
    "_isFastLaunch": false,
    "category": "General purpose",
    "gpuNum": 0,
    "hideHardwareSpecs": false,
    "memoryGiB": 256,
    "name": "ml.m5d.16xlarge",
    "vcpuNum": 64
   },
   {
    "_defaultOrder": 19,
    "_isFastLaunch": false,
    "category": "General purpose",
    "gpuNum": 0,
    "hideHardwareSpecs": false,
    "memoryGiB": 384,
    "name": "ml.m5d.24xlarge",
    "vcpuNum": 96
   },
   {
    "_defaultOrder": 20,
    "_isFastLaunch": false,
    "category": "General purpose",
    "gpuNum": 0,
    "hideHardwareSpecs": true,
    "memoryGiB": 0,
    "name": "ml.geospatial.interactive",
    "supportedImageNames": [
     "sagemaker-geospatial-v1-0"
    ],
    "vcpuNum": 0
   },
   {
    "_defaultOrder": 21,
    "_isFastLaunch": true,
    "category": "Compute optimized",
    "gpuNum": 0,
    "hideHardwareSpecs": false,
    "memoryGiB": 4,
    "name": "ml.c5.large",
    "vcpuNum": 2
   },
   {
    "_defaultOrder": 22,
    "_isFastLaunch": false,
    "category": "Compute optimized",
    "gpuNum": 0,
    "hideHardwareSpecs": false,
    "memoryGiB": 8,
    "name": "ml.c5.xlarge",
    "vcpuNum": 4
   },
   {
    "_defaultOrder": 23,
    "_isFastLaunch": false,
    "category": "Compute optimized",
    "gpuNum": 0,
    "hideHardwareSpecs": false,
    "memoryGiB": 16,
    "name": "ml.c5.2xlarge",
    "vcpuNum": 8
   },
   {
    "_defaultOrder": 24,
    "_isFastLaunch": false,
    "category": "Compute optimized",
    "gpuNum": 0,
    "hideHardwareSpecs": false,
    "memoryGiB": 32,
    "name": "ml.c5.4xlarge",
    "vcpuNum": 16
   },
   {
    "_defaultOrder": 25,
    "_isFastLaunch": false,
    "category": "Compute optimized",
    "gpuNum": 0,
    "hideHardwareSpecs": false,
    "memoryGiB": 72,
    "name": "ml.c5.9xlarge",
    "vcpuNum": 36
   },
   {
    "_defaultOrder": 26,
    "_isFastLaunch": false,
    "category": "Compute optimized",
    "gpuNum": 0,
    "hideHardwareSpecs": false,
    "memoryGiB": 96,
    "name": "ml.c5.12xlarge",
    "vcpuNum": 48
   },
   {
    "_defaultOrder": 27,
    "_isFastLaunch": false,
    "category": "Compute optimized",
    "gpuNum": 0,
    "hideHardwareSpecs": false,
    "memoryGiB": 144,
    "name": "ml.c5.18xlarge",
    "vcpuNum": 72
   },
   {
    "_defaultOrder": 28,
    "_isFastLaunch": false,
    "category": "Compute optimized",
    "gpuNum": 0,
    "hideHardwareSpecs": false,
    "memoryGiB": 192,
    "name": "ml.c5.24xlarge",
    "vcpuNum": 96
   },
   {
    "_defaultOrder": 29,
    "_isFastLaunch": true,
    "category": "Accelerated computing",
    "gpuNum": 1,
    "hideHardwareSpecs": false,
    "memoryGiB": 16,
    "name": "ml.g4dn.xlarge",
    "vcpuNum": 4
   },
   {
    "_defaultOrder": 30,
    "_isFastLaunch": false,
    "category": "Accelerated computing",
    "gpuNum": 1,
    "hideHardwareSpecs": false,
    "memoryGiB": 32,
    "name": "ml.g4dn.2xlarge",
    "vcpuNum": 8
   },
   {
    "_defaultOrder": 31,
    "_isFastLaunch": false,
    "category": "Accelerated computing",
    "gpuNum": 1,
    "hideHardwareSpecs": false,
    "memoryGiB": 64,
    "name": "ml.g4dn.4xlarge",
    "vcpuNum": 16
   },
   {
    "_defaultOrder": 32,
    "_isFastLaunch": false,
    "category": "Accelerated computing",
    "gpuNum": 1,
    "hideHardwareSpecs": false,
    "memoryGiB": 128,
    "name": "ml.g4dn.8xlarge",
    "vcpuNum": 32
   },
   {
    "_defaultOrder": 33,
    "_isFastLaunch": false,
    "category": "Accelerated computing",
    "gpuNum": 4,
    "hideHardwareSpecs": false,
    "memoryGiB": 192,
    "name": "ml.g4dn.12xlarge",
    "vcpuNum": 48
   },
   {
    "_defaultOrder": 34,
    "_isFastLaunch": false,
    "category": "Accelerated computing",
    "gpuNum": 1,
    "hideHardwareSpecs": false,
    "memoryGiB": 256,
    "name": "ml.g4dn.16xlarge",
    "vcpuNum": 64
   },
   {
    "_defaultOrder": 35,
    "_isFastLaunch": false,
    "category": "Accelerated computing",
    "gpuNum": 1,
    "hideHardwareSpecs": false,
    "memoryGiB": 61,
    "name": "ml.p3.2xlarge",
    "vcpuNum": 8
   },
   {
    "_defaultOrder": 36,
    "_isFastLaunch": false,
    "category": "Accelerated computing",
    "gpuNum": 4,
    "hideHardwareSpecs": false,
    "memoryGiB": 244,
    "name": "ml.p3.8xlarge",
    "vcpuNum": 32
   },
   {
    "_defaultOrder": 37,
    "_isFastLaunch": false,
    "category": "Accelerated computing",
    "gpuNum": 8,
    "hideHardwareSpecs": false,
    "memoryGiB": 488,
    "name": "ml.p3.16xlarge",
    "vcpuNum": 64
   },
   {
    "_defaultOrder": 38,
    "_isFastLaunch": false,
    "category": "Accelerated computing",
    "gpuNum": 8,
    "hideHardwareSpecs": false,
    "memoryGiB": 768,
    "name": "ml.p3dn.24xlarge",
    "vcpuNum": 96
   },
   {
    "_defaultOrder": 39,
    "_isFastLaunch": false,
    "category": "Memory Optimized",
    "gpuNum": 0,
    "hideHardwareSpecs": false,
    "memoryGiB": 16,
    "name": "ml.r5.large",
    "vcpuNum": 2
   },
   {
    "_defaultOrder": 40,
    "_isFastLaunch": false,
    "category": "Memory Optimized",
    "gpuNum": 0,
    "hideHardwareSpecs": false,
    "memoryGiB": 32,
    "name": "ml.r5.xlarge",
    "vcpuNum": 4
   },
   {
    "_defaultOrder": 41,
    "_isFastLaunch": false,
    "category": "Memory Optimized",
    "gpuNum": 0,
    "hideHardwareSpecs": false,
    "memoryGiB": 64,
    "name": "ml.r5.2xlarge",
    "vcpuNum": 8
   },
   {
    "_defaultOrder": 42,
    "_isFastLaunch": false,
    "category": "Memory Optimized",
    "gpuNum": 0,
    "hideHardwareSpecs": false,
    "memoryGiB": 128,
    "name": "ml.r5.4xlarge",
    "vcpuNum": 16
   },
   {
    "_defaultOrder": 43,
    "_isFastLaunch": false,
    "category": "Memory Optimized",
    "gpuNum": 0,
    "hideHardwareSpecs": false,
    "memoryGiB": 256,
    "name": "ml.r5.8xlarge",
    "vcpuNum": 32
   },
   {
    "_defaultOrder": 44,
    "_isFastLaunch": false,
    "category": "Memory Optimized",
    "gpuNum": 0,
    "hideHardwareSpecs": false,
    "memoryGiB": 384,
    "name": "ml.r5.12xlarge",
    "vcpuNum": 48
   },
   {
    "_defaultOrder": 45,
    "_isFastLaunch": false,
    "category": "Memory Optimized",
    "gpuNum": 0,
    "hideHardwareSpecs": false,
    "memoryGiB": 512,
    "name": "ml.r5.16xlarge",
    "vcpuNum": 64
   },
   {
    "_defaultOrder": 46,
    "_isFastLaunch": false,
    "category": "Memory Optimized",
    "gpuNum": 0,
    "hideHardwareSpecs": false,
    "memoryGiB": 768,
    "name": "ml.r5.24xlarge",
    "vcpuNum": 96
   },
   {
    "_defaultOrder": 47,
    "_isFastLaunch": false,
    "category": "Accelerated computing",
    "gpuNum": 1,
    "hideHardwareSpecs": false,
    "memoryGiB": 16,
    "name": "ml.g5.xlarge",
    "vcpuNum": 4
   },
   {
    "_defaultOrder": 48,
    "_isFastLaunch": false,
    "category": "Accelerated computing",
    "gpuNum": 1,
    "hideHardwareSpecs": false,
    "memoryGiB": 32,
    "name": "ml.g5.2xlarge",
    "vcpuNum": 8
   },
   {
    "_defaultOrder": 49,
    "_isFastLaunch": false,
    "category": "Accelerated computing",
    "gpuNum": 1,
    "hideHardwareSpecs": false,
    "memoryGiB": 64,
    "name": "ml.g5.4xlarge",
    "vcpuNum": 16
   },
   {
    "_defaultOrder": 50,
    "_isFastLaunch": false,
    "category": "Accelerated computing",
    "gpuNum": 1,
    "hideHardwareSpecs": false,
    "memoryGiB": 128,
    "name": "ml.g5.8xlarge",
    "vcpuNum": 32
   },
   {
    "_defaultOrder": 51,
    "_isFastLaunch": false,
    "category": "Accelerated computing",
    "gpuNum": 1,
    "hideHardwareSpecs": false,
    "memoryGiB": 256,
    "name": "ml.g5.16xlarge",
    "vcpuNum": 64
   },
   {
    "_defaultOrder": 52,
    "_isFastLaunch": false,
    "category": "Accelerated computing",
    "gpuNum": 4,
    "hideHardwareSpecs": false,
    "memoryGiB": 192,
    "name": "ml.g5.12xlarge",
    "vcpuNum": 48
   },
   {
    "_defaultOrder": 53,
    "_isFastLaunch": false,
    "category": "Accelerated computing",
    "gpuNum": 4,
    "hideHardwareSpecs": false,
    "memoryGiB": 384,
    "name": "ml.g5.24xlarge",
    "vcpuNum": 96
   },
   {
    "_defaultOrder": 54,
    "_isFastLaunch": false,
    "category": "Accelerated computing",
    "gpuNum": 8,
    "hideHardwareSpecs": false,
    "memoryGiB": 768,
    "name": "ml.g5.48xlarge",
    "vcpuNum": 192
   },
   {
    "_defaultOrder": 55,
    "_isFastLaunch": false,
    "category": "Accelerated computing",
    "gpuNum": 8,
    "hideHardwareSpecs": false,
    "memoryGiB": 1152,
    "name": "ml.p4d.24xlarge",
    "vcpuNum": 96
   },
   {
    "_defaultOrder": 56,
    "_isFastLaunch": false,
    "category": "Accelerated computing",
    "gpuNum": 8,
    "hideHardwareSpecs": false,
    "memoryGiB": 1152,
    "name": "ml.p4de.24xlarge",
    "vcpuNum": 96
   },
   {
    "_defaultOrder": 57,
    "_isFastLaunch": false,
    "category": "Accelerated computing",
    "gpuNum": 0,
    "hideHardwareSpecs": false,
    "memoryGiB": 32,
    "name": "ml.trn1.2xlarge",
    "vcpuNum": 8
   },
   {
    "_defaultOrder": 58,
    "_isFastLaunch": false,
    "category": "Accelerated computing",
    "gpuNum": 0,
    "hideHardwareSpecs": false,
    "memoryGiB": 512,
    "name": "ml.trn1.32xlarge",
    "vcpuNum": 128
   },
   {
    "_defaultOrder": 59,
    "_isFastLaunch": false,
    "category": "Accelerated computing",
    "gpuNum": 0,
    "hideHardwareSpecs": false,
    "memoryGiB": 512,
    "name": "ml.trn1n.32xlarge",
    "vcpuNum": 128
   }
  ],
  "instance_type": "ml.m5.large",
  "kernelspec": {
   "display_name": "Python 3 (Data Science 3.0)",
   "language": "python",
   "name": "python3__SAGEMAKER_INTERNAL__arn:aws:sagemaker:us-west-2:236514542706:image/sagemaker-data-science-310-v1"
  },
  "language_info": {
   "codemirror_mode": {
    "name": "ipython",
    "version": 3
   },
   "file_extension": ".py",
   "mimetype": "text/x-python",
   "name": "python",
   "nbconvert_exporter": "python",
   "pygments_lexer": "ipython3",
   "version": "3.10.6"
  },
  "nbproject": {
   "id": "4hbVFAINneXC",
   "parent": null,
   "pypackage": null,
   "time_init": "2023-11-20T21:25:14.338427+00:00",
   "user_handle": null,
   "user_id": null,
   "user_name": null,
   "version": "0"
  }
 },
 "nbformat": 4,
 "nbformat_minor": 4
}
