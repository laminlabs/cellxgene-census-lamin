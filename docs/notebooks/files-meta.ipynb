{
 "cells": [
  {
   "cell_type": "markdown",
   "metadata": {},
   "source": [
    "![](https://img.shields.io/badge/4/4-lightgrey)"
   ]
  },
  {
   "cell_type": "markdown",
   "metadata": {},
   "source": [
    "# Link cellxgene-census files to registered metadata"
   ]
  },
  {
   "cell_type": "code",
   "execution_count": null,
   "metadata": {},
   "outputs": [],
   "source": [
    "import lamindb as ln\n",
    "import lnschema_bionty as lb\n",
    "import cellxgene_census"
   ]
  },
  {
   "cell_type": "code",
   "execution_count": null,
   "metadata": {},
   "outputs": [],
   "source": [
    "ln.track()"
   ]
  },
  {
   "cell_type": "code",
   "execution_count": null,
   "metadata": {},
   "outputs": [],
   "source": [
    "census = cellxgene_census.open_soma(census_version=\"2023-07-25\")"
   ]
  },
  {
   "cell_type": "code",
   "execution_count": null,
   "metadata": {},
   "outputs": [],
   "source": [
    "datasets_df = census[\"census_info\"][\"datasets\"].read().concat().to_pandas()"
   ]
  },
  {
   "cell_type": "code",
   "execution_count": null,
   "metadata": {},
   "outputs": [],
   "source": [
    "datasets_df"
   ]
  },
  {
   "cell_type": "code",
   "execution_count": null,
   "metadata": {},
   "outputs": [],
   "source": [
    "files = ln.File.filter()"
   ]
  },
  {
   "cell_type": "code",
   "execution_count": null,
   "metadata": {},
   "outputs": [],
   "source": [
    "presence_matrix_dict = {}\n",
    "gene_metadata_dict = {}\n",
    "no_data = []"
   ]
  },
  {
   "cell_type": "code",
   "execution_count": null,
   "metadata": {
    "tags": [
     "hide-output"
    ]
   },
   "outputs": [],
   "source": [
    "for _, row in datasets_df.iloc[499:].iterrows():\n",
    "    print(f\"dataset: {row.dataset_id}\")\n",
    "\n",
    "    file = files.filter(description__contains=row.dataset_id).one()\n",
    "\n",
    "    # get organism\n",
    "    organism_record = files.first().organism.all().one()\n",
    "    lb.settings.organism = organism_record.name\n",
    "    organism = organism_record.scientific_name\n",
    "    census_data = census[\"census_data\"][organism]\n",
    "\n",
    "    feature_sets = {}\n",
    "\n",
    "    # obs feature set\n",
    "    obs = (\n",
    "        census_data.obs.read(value_filter=f\"dataset_id == '{row.dataset_id}'\")\n",
    "        .concat()\n",
    "        .to_pandas()\n",
    "    )\n",
    "    if obs.shape[0] == 0:\n",
    "        no_data.append(row.dataset_id)\n",
    "        continue\n",
    "    feature_set_obs = ln.FeatureSet.from_df(\n",
    "        obs.loc[:, ~obs.columns.str.endswith(\"_id\")],\n",
    "    )\n",
    "    feature_sets[\"obs\"] = feature_set_obs\n",
    "\n",
    "    # var feature set\n",
    "    if organism not in presence_matrix_dict:\n",
    "        presence_matrix_dict[organism] = cellxgene_census.get_presence_matrix(\n",
    "            census, organism=organism, measurement_name=\"RNA\"\n",
    "        )\n",
    "    presence_matrix = presence_matrix_dict.get(organism)\n",
    "    var_joinid = presence_matrix[row.soma_joinid, :].tocoo().col\n",
    "    if organism not in gene_metadata_dict:\n",
    "        gene_metadata_dict[organism] = (\n",
    "            census_data.ms[\"RNA\"].var.read().concat().to_pandas()\n",
    "        )\n",
    "    gene_metadata = gene_metadata_dict.get(organism)\n",
    "    var = gene_metadata.loc[gene_metadata.soma_joinid.isin(var_joinid)]\n",
    "    feature_set_var = ln.FeatureSet.from_values(\n",
    "        var.feature_id,\n",
    "        lb.Gene.ensembl_gene_id,\n",
    "        type=\"number\",\n",
    "    )\n",
    "    feature_sets[\"var\"] = feature_set_var\n",
    "\n",
    "    # link two feature sets to file\n",
    "    file._feature_sets = feature_sets\n",
    "    file.save()\n",
    "\n",
    "    # add labels to file\n",
    "    for feature in feature_set_obs.members:\n",
    "        if feature.type == \"category\":\n",
    "            file.labels.add(obs[feature.name], feature)"
   ]
  },
  {
   "cell_type": "code",
   "execution_count": null,
   "metadata": {},
   "outputs": [],
   "source": [
    "file.describe()"
   ]
  },
  {
   "cell_type": "markdown",
   "metadata": {},
   "source": [
    "## no data datasets\n",
    "\n",
    "Querying the following datasets from census didn't result any data:"
   ]
  },
  {
   "cell_type": "code",
   "execution_count": null,
   "metadata": {
    "tags": [
     "hide-output"
    ]
   },
   "outputs": [],
   "source": [
    "no_data"
   ]
  },
  {
   "cell_type": "code",
   "execution_count": null,
   "metadata": {},
   "outputs": [],
   "source": [
    "len(no_data)"
   ]
  }
 ],
 "metadata": {
  "kernelspec": {
   "display_name": "py39",
   "language": "python",
   "name": "python3"
  },
  "language_info": {
   "codemirror_mode": {
    "name": "ipython",
    "version": 3
   },
   "file_extension": ".py",
   "mimetype": "text/x-python",
   "name": "python",
   "nbconvert_exporter": "python",
   "pygments_lexer": "ipython3",
   "version": "3.9.16"
  },
  "nbproject": {
   "id": "xE0COcgUvwwt",
   "parent": null,
   "pypackage": null,
   "time_init": "2023-10-05T14:51:27.269965+00:00",
   "user_handle": null,
   "user_id": null,
   "user_name": null,
   "version": "1"
  }
 },
 "nbformat": 4,
 "nbformat_minor": 2
}
