{
 "cells": [
  {
   "cell_type": "markdown",
   "metadata": {},
   "source": [
    "![](https://img.shields.io/badge/3/4-lightgrey)"
   ]
  },
  {
   "cell_type": "markdown",
   "metadata": {},
   "source": [
    "# Register cellxgene-census metadata - mouse"
   ]
  },
  {
   "cell_type": "code",
   "execution_count": null,
   "metadata": {},
   "outputs": [],
   "source": [
    "import lamindb as ln\n",
    "import lnschema_bionty as lb\n",
    "import cellxgene_census"
   ]
  },
  {
   "cell_type": "code",
   "execution_count": null,
   "metadata": {},
   "outputs": [],
   "source": [
    "lb.settings.organism = \"mouse\"\n",
    "mouse = lb.settings.organism.scientific_name\n",
    "rna = \"RNA\""
   ]
  },
  {
   "cell_type": "code",
   "execution_count": null,
   "metadata": {},
   "outputs": [],
   "source": [
    "ln.track()"
   ]
  },
  {
   "cell_type": "code",
   "execution_count": null,
   "metadata": {},
   "outputs": [],
   "source": [
    "census = cellxgene_census.open_soma(census_version=\"2023-07-25\")"
   ]
  },
  {
   "cell_type": "code",
   "execution_count": null,
   "metadata": {},
   "outputs": [],
   "source": [
    "census_data = census[\"census_data\"][mouse]"
   ]
  },
  {
   "cell_type": "markdown",
   "metadata": {},
   "source": [
    "## Validate and register genes"
   ]
  },
  {
   "cell_type": "markdown",
   "metadata": {},
   "source": [
    "Gene metadata:"
   ]
  },
  {
   "cell_type": "code",
   "execution_count": null,
   "metadata": {},
   "outputs": [],
   "source": [
    "census_data.ms[rna].var.keys()"
   ]
  },
  {
   "cell_type": "code",
   "execution_count": null,
   "metadata": {},
   "outputs": [],
   "source": [
    "gene_metadata = census_data.ms[rna].var.read().concat().to_pandas()"
   ]
  },
  {
   "cell_type": "code",
   "execution_count": null,
   "metadata": {},
   "outputs": [],
   "source": [
    "gene_metadata.shape"
   ]
  },
  {
   "cell_type": "code",
   "execution_count": null,
   "metadata": {},
   "outputs": [],
   "source": [
    "gene_metadata.head()"
   ]
  },
  {
   "cell_type": "code",
   "execution_count": null,
   "metadata": {},
   "outputs": [],
   "source": [
    "lb.Gene.inspect(gene_metadata[\"feature_id\"], field=lb.Gene.ensembl_gene_id);"
   ]
  },
  {
   "cell_type": "code",
   "execution_count": null,
   "metadata": {},
   "outputs": [],
   "source": [
    "# register genes from bionty\n",
    "gene_records = lb.Gene.from_values(\n",
    "    gene_metadata[\"feature_id\"], field=lb.Gene.ensembl_gene_id\n",
    ")\n",
    "ln.save(gene_records)\n",
    "\n",
    "validated = lb.Gene.validate(gene_metadata[\"feature_id\"], field=lb.Gene.ensembl_gene_id)\n",
    "# register legacy genes manually\n",
    "gene_metadata_id = gene_metadata.set_index(\"feature_id\")\n",
    "records = []\n",
    "for gene_id in gene_metadata[\"feature_id\"][~validated]:\n",
    "    records.append(\n",
    "        lb.Gene(\n",
    "            ensembl_gene_id=gene_id, symbol=gene_metadata_id.loc[gene_id].feature_name\n",
    "        )\n",
    "    )\n",
    "ln.save(records)"
   ]
  },
  {
   "cell_type": "code",
   "execution_count": null,
   "metadata": {},
   "outputs": [],
   "source": [
    "gene_records = lb.Gene.from_values(\n",
    "    gene_metadata[\"feature_id\"], field=lb.Gene.ensembl_gene_id\n",
    ")\n",
    "\n",
    "feature_set = ln.FeatureSet(\n",
    "    features=gene_records,\n",
    "    name=\"all mouse genes in cellxgene-census RNA measurement\",\n",
    ")\n",
    "feature_set.save()"
   ]
  },
  {
   "cell_type": "markdown",
   "metadata": {},
   "source": [
    "## Observational metadata"
   ]
  },
  {
   "cell_type": "markdown",
   "metadata": {},
   "source": [
    "All available metadata columns:"
   ]
  },
  {
   "cell_type": "code",
   "execution_count": null,
   "metadata": {},
   "outputs": [],
   "source": [
    "census_data.obs.keys()"
   ]
  },
  {
   "cell_type": "code",
   "execution_count": null,
   "metadata": {},
   "outputs": [],
   "source": [
    "features = ln.Feature.lookup(return_field=ln.Feature.name)\n",
    "features_records = ln.Feature.lookup()"
   ]
  },
  {
   "cell_type": "markdown",
   "metadata": {},
   "source": [
    "### Validate and register ontologies"
   ]
  },
  {
   "cell_type": "markdown",
   "metadata": {},
   "source": [
    "Fetch all terms used in census for each ontology:"
   ]
  },
  {
   "cell_type": "code",
   "execution_count": null,
   "metadata": {},
   "outputs": [],
   "source": [
    "dfs = {}\n",
    "\n",
    "for cols in [\n",
    "    (features.assay, features.assay_ontology_term_id),\n",
    "    (features.cell_type, features.cell_type_ontology_term_id),\n",
    "    (features.development_stage, features.development_stage_ontology_term_id),\n",
    "    (features.disease, features.disease_ontology_term_id),\n",
    "    (\n",
    "        features.self_reported_ethnicity,\n",
    "        features.self_reported_ethnicity_ontology_term_id,\n",
    "    ),\n",
    "    (features.sex, features.sex_ontology_term_id),\n",
    "    (features.tissue, features.tissue_ontology_term_id),\n",
    "    (features.tissue_general, features.tissue_general_ontology_term_id),\n",
    "]:\n",
    "    dfs[cols[0]] = (\n",
    "        census_data.obs.read(column_names=[cols[0], cols[1]])\n",
    "        .concat()\n",
    "        .to_pandas()\n",
    "        .drop_duplicates()\n",
    "    )"
   ]
  },
  {
   "cell_type": "code",
   "execution_count": null,
   "metadata": {},
   "outputs": [],
   "source": [
    "dfs[features.development_stage].head()"
   ]
  },
  {
   "cell_type": "code",
   "execution_count": null,
   "metadata": {},
   "outputs": [],
   "source": [
    "def register_ontology(orm, name: str, parents: bool = True, **kwargs):\n",
    "    from lamin_utils import logger\n",
    "\n",
    "    df = dfs[name]\n",
    "    records = orm.from_values(\n",
    "        df[f\"{name}_ontology_term_id\"], field=orm.ontology_id, **kwargs\n",
    "    )\n",
    "    for record in records:\n",
    "        census_name = df[df[f\"{name}_ontology_term_id\"] == record.ontology_id][\n",
    "            name\n",
    "        ].tolist()[0]\n",
    "        if census_name != record.name:\n",
    "            logger.warning(\n",
    "                f\"census name '{census_name}' doesn't match ontology name\"\n",
    "                f\" '{record.name}', adding census name as abbr\\n\"\n",
    "            )\n",
    "            record.set_abbr(census_name)\n",
    "    name_with_schema = orm.__get_name_with_schema__()\n",
    "    feature = ln.Feature.filter(name=name).one()\n",
    "    feature.registries = name_with_schema\n",
    "    feature.save()\n",
    "    feature = ln.Feature.filter(name=f\"{name}_ontology_term_id\").one()\n",
    "    feature.registries = name_with_schema\n",
    "    feature.save()\n",
    "    ln.save(records, parents=parents)"
   ]
  },
  {
   "cell_type": "code",
   "execution_count": null,
   "metadata": {
    "tags": [
     "hide-output"
    ]
   },
   "outputs": [],
   "source": [
    "register_ontology(lb.ExperimentalFactor, features.assay)"
   ]
  },
  {
   "cell_type": "code",
   "execution_count": null,
   "metadata": {
    "tags": [
     "hide-output"
    ]
   },
   "outputs": [],
   "source": [
    "register_ontology(lb.CellType, features.cell_type)"
   ]
  },
  {
   "cell_type": "code",
   "execution_count": null,
   "metadata": {
    "tags": [
     "hide-output"
    ]
   },
   "outputs": [],
   "source": [
    "mouse_dv = lb.BiontySource.filter(entity=\"DevelopmentalStage\", organism=\"mouse\").one()\n",
    "register_ontology(\n",
    "    lb.DevelopmentalStage,\n",
    "    features.development_stage,\n",
    "    parents=True,\n",
    "    bionty_source=mouse_dv,\n",
    ")"
   ]
  },
  {
   "cell_type": "code",
   "execution_count": null,
   "metadata": {
    "tags": [
     "hide-output"
    ]
   },
   "outputs": [],
   "source": [
    "register_ontology(lb.Disease, features.disease)"
   ]
  },
  {
   "cell_type": "code",
   "execution_count": null,
   "metadata": {
    "tags": [
     "hide-output"
    ]
   },
   "outputs": [],
   "source": [
    "register_ontology(lb.Ethnicity, features.self_reported_ethnicity)"
   ]
  },
  {
   "cell_type": "code",
   "execution_count": null,
   "metadata": {},
   "outputs": [],
   "source": [
    "pato = lb.BiontySource.filter(source=\"pato\").one()\n",
    "register_ontology(lb.Phenotype, features.sex, parents=False, bionty_source=pato)"
   ]
  },
  {
   "cell_type": "code",
   "execution_count": null,
   "metadata": {
    "tags": [
     "hide-output"
    ]
   },
   "outputs": [],
   "source": [
    "register_ontology(lb.Tissue, features.tissue_general)"
   ]
  },
  {
   "cell_type": "code",
   "execution_count": null,
   "metadata": {
    "tags": [
     "hide-output"
    ]
   },
   "outputs": [],
   "source": [
    "register_ontology(lb.Tissue, features.tissue)"
   ]
  },
  {
   "cell_type": "markdown",
   "metadata": {},
   "source": [
    "### Validate and register non-ontological metadata"
   ]
  },
  {
   "cell_type": "markdown",
   "metadata": {},
   "source": [
    "\"donor_id\" and \"suspension_type\" are two fields without public ontologies, let's register them using \"ULabel\":"
   ]
  },
  {
   "cell_type": "code",
   "execution_count": null,
   "metadata": {},
   "outputs": [],
   "source": [
    "donor_ids = (\n",
    "    census_data.obs.read(column_names=[features.donor_id])\n",
    "    .concat()\n",
    "    .to_pandas()\n",
    "    .drop_duplicates()\n",
    ")"
   ]
  },
  {
   "cell_type": "markdown",
   "metadata": {},
   "source": [
    "Construct a parent \"is_donor\" to group these ulabels:"
   ]
  },
  {
   "cell_type": "code",
   "execution_count": null,
   "metadata": {
    "tags": [
     "hide-output"
    ]
   },
   "outputs": [],
   "source": [
    "records = []\n",
    "for donor_id in donor_ids[features.donor_id].unique():\n",
    "    record = ln.ULabel(\n",
    "        name=donor_id, description=f\"mouse {features.donor_id}: {donor_id}\"\n",
    "    )\n",
    "    records.append(record)\n",
    "\n",
    "ln.save(records)\n",
    "is_donor = ln.ULabel.filter(name=\"is_donor\").one()\n",
    "is_donor.children.set(records)"
   ]
  },
  {
   "cell_type": "markdown",
   "metadata": {},
   "source": [
    "We do the same for \"suspension_type\":"
   ]
  },
  {
   "cell_type": "code",
   "execution_count": null,
   "metadata": {},
   "outputs": [],
   "source": [
    "suspension_types = (\n",
    "    census_data.obs.read(column_names=[features.suspension_type])\n",
    "    .concat()\n",
    "    .to_pandas()\n",
    "    .drop_duplicates()\n",
    ")\n",
    "\n",
    "records = []\n",
    "for suspension_type in suspension_types[features.suspension_type].unique():\n",
    "    record = ln.ULabel(\n",
    "        name=suspension_type,\n",
    "        description=f\"{features.suspension_type}: {suspension_type}\",\n",
    "    )\n",
    "    records.append(record)\n",
    "\n",
    "ln.save(records)\n",
    "\n",
    "is_suspension_type = ln.ULabel(\n",
    "    name=\"is_suspension_type\", description=\"parent of suspension types\"\n",
    ")\n",
    "is_suspension_type.save()\n",
    "is_suspension_type.children.set(records)"
   ]
  },
  {
   "cell_type": "code",
   "execution_count": null,
   "metadata": {},
   "outputs": [],
   "source": [
    "is_suspension_type.view_parents(with_children=True)"
   ]
  },
  {
   "cell_type": "code",
   "execution_count": null,
   "metadata": {},
   "outputs": [],
   "source": [
    "census.close()"
   ]
  }
 ],
 "metadata": {
  "kernelspec": {
   "display_name": "py39",
   "language": "python",
   "name": "python3"
  },
  "language_info": {
   "codemirror_mode": {
    "name": "ipython",
    "version": 3
   },
   "file_extension": ".py",
   "mimetype": "text/x-python",
   "name": "python",
   "nbconvert_exporter": "python",
   "pygments_lexer": "ipython3",
   "version": "3.9.16"
  },
  "nbproject": {
   "id": "9SYGspfpkku9",
   "parent": null,
   "pypackage": null,
   "time_init": "2023-09-19T13:16:43.147615+00:00",
   "user_handle": null,
   "user_id": null,
   "user_name": null,
   "version": "1"
  }
 },
 "nbformat": 4,
 "nbformat_minor": 2
}
