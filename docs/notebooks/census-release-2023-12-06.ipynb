{
 "cells": [
  {
   "cell_type": "markdown",
   "metadata": {},
   "source": [
    "# Register files from Census release 2023-12-06"
   ]
  },
  {
   "cell_type": "code",
   "execution_count": null,
   "metadata": {
    "tags": []
   },
   "outputs": [],
   "source": [
    "import lamindb as ln\n",
    "import lnschema_bionty as lb\n",
    "import pandas as pd"
   ]
  },
  {
   "cell_type": "code",
   "execution_count": null,
   "metadata": {
    "tags": []
   },
   "outputs": [],
   "source": [
    "census_version = \"2023-12-06\""
   ]
  },
  {
   "cell_type": "code",
   "execution_count": null,
   "metadata": {
    "tags": []
   },
   "outputs": [],
   "source": [
    "s3path = f\"s3://cellxgene-data-public/cell-census/{census_version}/h5ads\"\n",
    "ln.UPath(s3path).view_tree()"
   ]
  },
  {
   "cell_type": "code",
   "execution_count": null,
   "metadata": {
    "tags": []
   },
   "outputs": [],
   "source": [
    "ln.track()"
   ]
  },
  {
   "cell_type": "markdown",
   "metadata": {},
   "source": [
    "## Register artifacts (files)"
   ]
  },
  {
   "cell_type": "code",
   "execution_count": null,
   "metadata": {},
   "outputs": [],
   "source": [
    "artifacts = ln.Artifact.from_dir(s3path)\n",
    "ln.save(artifacts)"
   ]
  },
  {
   "cell_type": "code",
   "execution_count": null,
   "metadata": {},
   "outputs": [],
   "source": [
    "dataset = ln.Dataset(artifacts, name=\"cellxgene-census\", version=census_version)\n",
    "dataset.save()"
   ]
  },
  {
   "cell_type": "markdown",
   "metadata": {
    "tags": []
   },
   "source": [
    "## Register metadata"
   ]
  },
  {
   "cell_type": "markdown",
   "metadata": {},
   "source": [
    "Get all datasets and associated metadata using cellxgene REST API:"
   ]
  },
  {
   "cell_type": "code",
   "execution_count": null,
   "metadata": {
    "tags": []
   },
   "outputs": [],
   "source": [
    "import requests\n",
    "\n",
    "\n",
    "def get_datasets_df_from_cxg():\n",
    "    api_url_base = \"https://api.cellxgene.cziscience.com\"\n",
    "    datasets_path = \"/curation/v1/datasets\"\n",
    "    datasets_url = f\"{api_url_base}{datasets_path}\"\n",
    "    headers = {\"Content-Type\": \"application/json\"}\n",
    "    res = requests.get(url=datasets_url, headers=headers)\n",
    "    res.raise_for_status()\n",
    "    res_content = res.json()\n",
    "    return res_content"
   ]
  },
  {
   "cell_type": "code",
   "execution_count": null,
   "metadata": {
    "tags": []
   },
   "outputs": [],
   "source": [
    "cellxgene_meta = get_datasets_df_from_cxg()\n",
    "len(cellxgene_meta)"
   ]
  },
  {
   "cell_type": "code",
   "execution_count": null,
   "metadata": {},
   "outputs": [],
   "source": [
    "cellxgene_meta[0].keys()"
   ]
  },
  {
   "cell_type": "markdown",
   "metadata": {},
   "source": [
    "### Register new features and parent labels"
   ]
  },
  {
   "cell_type": "code",
   "execution_count": null,
   "metadata": {},
   "outputs": [],
   "source": [
    "obs_features = {\n",
    "    \"assay\": \"bionty.ExperimentalFactor\",\n",
    "    \"cell_type\": \"bionty.CellType\",\n",
    "    \"development_stage\": \"bionty.DevelopmentalStage\",\n",
    "    \"disease\": \"bionty.Disease\",\n",
    "    \"donor_id\": \"core.ULabel\",\n",
    "    \"self_reported_ethnicity\": \"bionty.Ethnicity\",\n",
    "    \"sex\": \"bionty.Phenotype\",\n",
    "    \"suspension_type\": \"core.ULabel\",\n",
    "    \"tissue\": \"bionty.Tissue\",\n",
    "    \"tissue_type\": \"core.ULabel\",\n",
    "}\n",
    "\n",
    "obs_features_records = []\n",
    "for name, registry in obs_features.items():\n",
    "    record = ln.Feature(name=name, type=\"category\", registries=registry)\n",
    "    obs_features_records.append(record)\n",
    "ln.save(obs_features_records)\n",
    "obs_feature_set = ln.FeatureSet(features=obs_features_records, name=\"obs features\")\n",
    "obs_feature_set.save()\n",
    "obs_feature_set.artifacts.set(artifacts, through_defaults={\"slot\": \"obs\"})"
   ]
  },
  {
   "cell_type": "code",
   "execution_count": null,
   "metadata": {},
   "outputs": [],
   "source": [
    "ext_features = {\"organism\": \"bionty.Organism\", \"collection\": \"core.ULabel\"}\n",
    "\n",
    "ext_features_records = []\n",
    "for name, registry in ext_features.items():\n",
    "    record = ln.Feature(name=name, type=\"category\", registries=registry)\n",
    "    ext_features_records.append(record)\n",
    "ln.save(ext_features_records)\n",
    "ext_feature_set = ln.FeatureSet(features=ext_features_records, name=\"external features\")\n",
    "ext_feature_set.save()\n",
    "ext_feature_set.artifacts.set(artifacts, through_defaults={\"slot\": \"external\"})"
   ]
  },
  {
   "cell_type": "code",
   "execution_count": null,
   "metadata": {},
   "outputs": [],
   "source": [
    "ln.ULabel(name=\"is_collection\", description=\"parents of collections\").save()\n",
    "ln.ULabel(name=\"is_donor\", description=\"parents of donors\").save()\n",
    "ln.ULabel(name=\"is_suspension_type\", description=\"parents of suspension types\").save()\n",
    "ln.ULabel(name=\"is_tissue_type\", description=\"parents of tissue types\").save()"
   ]
  },
  {
   "cell_type": "code",
   "execution_count": null,
   "metadata": {
    "tags": []
   },
   "outputs": [],
   "source": [
    "features = ln.Feature.lookup()\n",
    "artifacts = ln.File.filter(key__contains=census_version).all()"
   ]
  },
  {
   "cell_type": "markdown",
   "metadata": {},
   "source": [
    "## collections, organisms"
   ]
  },
  {
   "cell_type": "code",
   "execution_count": null,
   "metadata": {},
   "outputs": [],
   "source": [
    "# register all collections\n",
    "is_collection = ln.ULabel.filter(name=\"is_collection\").one()\n",
    "collections_meta = set()\n",
    "for dataset_meta in cellxgene_meta:\n",
    "    collections_meta.add(\n",
    "        (\n",
    "            dataset_meta[\"collection_name\"],\n",
    "            dataset_meta[\"collection_doi\"],\n",
    "            dataset_meta[\"collection_id\"],\n",
    "        )\n",
    "    )\n",
    "\n",
    "collections_records = []\n",
    "for collection_name, collection_doi, collection_id in collections_meta:\n",
    "    collection = ln.ULabel(\n",
    "        name=collection_name,\n",
    "        description=collection_doi,\n",
    "        reference=collection_id,\n",
    "        reference_type=\"collection_id\",\n",
    "    )\n",
    "    collections_records.append(collection)\n",
    "ln.save(collections_records)\n",
    "is_collection.children.add(*collections_records)"
   ]
  },
  {
   "cell_type": "code",
   "execution_count": null,
   "metadata": {},
   "outputs": [],
   "source": [
    "# register all organisms\n",
    "ncbitaxon_source = lb.BiontySource.filter(source=\"ncbitaxon\").one()\n",
    "\n",
    "organisms_meta = set()\n",
    "for dataset_meta in cellxgene_meta:\n",
    "    organisms_meta.update({i[\"ontology_term_id\"] for i in dataset_meta[\"organism\"]})\n",
    "\n",
    "organisms_records = lb.Organism.from_values(\n",
    "    organisms_meta, field=lb.Organism.ontology_id, bionty_source=ncbitaxon_source\n",
    ")\n",
    "# rename house mouse to mouse\n",
    "for r in organisms_records:\n",
    "    if r.name == \"house mouse\":\n",
    "        r.name = \"mouse\"\n",
    "ln.save(organisms_records, parents=False)"
   ]
  },
  {
   "cell_type": "markdown",
   "metadata": {},
   "source": [
    "Link collections and organisms to artifacts:"
   ]
  },
  {
   "cell_type": "code",
   "execution_count": null,
   "metadata": {},
   "outputs": [],
   "source": [
    "ext_feature_set = ln.FeatureSet.filter(name=\"external features\").one()\n",
    "ext_features = ext_feature_set.members.lookup()\n",
    "collections = is_collection.children.all()\n",
    "organisms = lb.Organism.filter().all()\n",
    "\n",
    "for dataset_meta in cellxgene_meta:\n",
    "    # get registered file record based on dataset_id\n",
    "    file = artifacts.filter(key__contains=dataset_meta[\"dataset_id\"]).one_or_none()\n",
    "    if file is None:\n",
    "        continue\n",
    "\n",
    "    # register collection\n",
    "    collection = ln.ULabel.filter(reference=dataset_meta[\"collection_id\"]).one()\n",
    "    file.labels.add(collection, feature=ext_features.collection)\n",
    "\n",
    "    # register organism\n",
    "    organism_ontology_ids = [i[\"ontology_term_id\"] for i in dataset_meta[\"organism\"]]\n",
    "    organism_records = lb.Organism.filter(ontology_id__in=organism_ontology_ids).list()\n",
    "    file.labels.add(organism_records, feature=ext_features.organism)"
   ]
  },
  {
   "cell_type": "markdown",
   "metadata": {},
   "source": [
    "## ontologies"
   ]
  },
  {
   "cell_type": "markdown",
   "metadata": {},
   "source": [
    "Register all ontology ids:"
   ]
  },
  {
   "cell_type": "code",
   "execution_count": null,
   "metadata": {
    "tags": []
   },
   "outputs": [],
   "source": [
    "from typing import Optional\n",
    "from lnschema_bionty.models import Registry\n",
    "from lamindb.dev._feature_manager import get_accessor_by_orm\n",
    "\n",
    "obs_feature_set = ln.FeatureSet.filter(name=\"obs features\").one()\n",
    "obs_features_records = obs_feature_set.members.lookup()\n",
    "ACCESSORS = get_accessor_by_orm(ln.File)\n",
    "FEATURE_TO_ACCESSOR = {}\n",
    "for name in obs_features.keys():\n",
    "    feature = getattr(obs_features_records, name)\n",
    "    accessor = ACCESSORS.get(feature.registries)\n",
    "    orm = getattr(ln.File, accessor).field.model\n",
    "    # TODO: ulabels are defined in the File model, improve this in LaminDB\n",
    "    if orm == ln.File:\n",
    "        orm = getattr(ln.File, accessor).field.related_model\n",
    "    FEATURE_TO_ACCESSOR[name] = (accessor, orm)\n",
    "\n",
    "\n",
    "def create_ontology_record_from_source(\n",
    "    ontology_id: str,\n",
    "    from_orm: Registry,\n",
    "    target_orm: Registry,\n",
    "    bionty_source: Optional[lb.BiontySource] = None,\n",
    "):\n",
    "    from_record = from_orm.from_bionty(\n",
    "        ontology_id=ontology_id, bionty_source=bionty_source\n",
    "    )\n",
    "    try:\n",
    "        target_record = target_orm(\n",
    "            name=from_record.name,\n",
    "            description=from_record.description,\n",
    "            ontology_id=from_record.ontology_id,\n",
    "            bionty_source_id=from_record.bionty_source_id,\n",
    "        )\n",
    "        return target_record\n",
    "    except Exception:\n",
    "        pass"
   ]
  },
  {
   "cell_type": "code",
   "execution_count": null,
   "metadata": {},
   "outputs": [],
   "source": [
    "obs_features.keys()"
   ]
  },
  {
   "cell_type": "code",
   "execution_count": null,
   "metadata": {
    "editable": true,
    "jupyter": {
     "outputs_hidden": true
    },
    "slideshow": {
     "slide_type": ""
    },
    "tags": [
     "hide-output"
    ]
   },
   "outputs": [],
   "source": [
    "ln.settings.upon_create_search_names = False\n",
    "\n",
    "ontology_ids = {}\n",
    "for name in obs_features.keys():\n",
    "    if name in [\"donor_id\", \"suspension_type\", \"tissue_type\"]:\n",
    "        continue\n",
    "    allids = set()\n",
    "    for i in cellxgene_meta:\n",
    "        if name in i:\n",
    "            allids.update([(j[\"label\"], j[\"ontology_term_id\"]) for j in i[name]])\n",
    "\n",
    "    ontology_ids[name] = allids\n",
    "\n",
    "bionty_source_ds_mouse = lb.BiontySource.filter(\n",
    "    entity=\"DevelopmentalStage\", organism=\"mouse\"\n",
    ").one()\n",
    "bionty_source_pato = lb.BiontySource.filter(source=\"pato\").one()\n",
    "\n",
    "# register all ontology ids\n",
    "for name, terms in ontology_ids.items():\n",
    "    print(f\"registering {name}\")\n",
    "    accessor, orm = FEATURE_TO_ACCESSOR.get(name)\n",
    "    terms_ids = [i[1] for i in terms]\n",
    "    records = orm.from_values(terms_ids, field=\"ontology_id\")\n",
    "    if len(records) > 0:\n",
    "        ln.save(records)\n",
    "    inspect_result = orm.inspect(terms_ids, field=\"ontology_id\", mute=True)\n",
    "    if len(inspect_result.non_validated) > 0:\n",
    "        if name == \"development_stage\":\n",
    "            records = orm.from_values(\n",
    "                inspect_result.non_validated,\n",
    "                field=\"ontology_id\",\n",
    "                bionty_source=bionty_source_ds_mouse,\n",
    "            )\n",
    "            records += [\n",
    "                create_ontology_record_from_source(\n",
    "                    ontology_id=term_id, from_orm=lb.Tissue, target_orm=orm\n",
    "                )\n",
    "                for term_id in inspect_result.non_validated\n",
    "                if term_id.startswith(\"UBERON:\")\n",
    "            ]\n",
    "            records += [\n",
    "                orm(name=term_id, ontology_id=term_id)\n",
    "                for term_id in inspect_result.non_validated\n",
    "                if term_id == \"unknown\"\n",
    "            ]\n",
    "        else:\n",
    "            records = [\n",
    "                orm(name=term[0], ontology_id=term[1])\n",
    "                for term in terms\n",
    "                if (not term[1].startswith(\"PATO:\"))\n",
    "                and (term[1] in inspect_result.non_validated)\n",
    "            ]\n",
    "            records += [\n",
    "                create_ontology_record_from_source(\n",
    "                    ontology_id=term_id,\n",
    "                    from_orm=lb.Phenotype,\n",
    "                    target_orm=orm,\n",
    "                    bionty_source=bionty_source_pato,\n",
    "                )\n",
    "                for term_id in inspect_result.non_validated\n",
    "                if term_id.startswith(\"PATO:\")\n",
    "            ]\n",
    "\n",
    "        if len(records) > 0:\n",
    "            print(f\"registered {len(records)} records: {records}\")\n",
    "            ln.save(records)"
   ]
  },
  {
   "cell_type": "markdown",
   "metadata": {},
   "source": [
    "## donors and suspension_types"
   ]
  },
  {
   "cell_type": "code",
   "execution_count": null,
   "metadata": {
    "tags": []
   },
   "outputs": [],
   "source": [
    "donor_ids = set()\n",
    "suspension_types = set()\n",
    "\n",
    "for i in cellxgene_meta:\n",
    "    if \"donor_id\" in i:\n",
    "        donor_ids.update(i[\"donor_id\"])\n",
    "    if \"suspension_type\" in i:\n",
    "        suspension_types.update(i[\"suspension_type\"])"
   ]
  },
  {
   "cell_type": "code",
   "execution_count": null,
   "metadata": {
    "tags": []
   },
   "outputs": [],
   "source": [
    "is_donor = ln.ULabel.filter(name=\"is_donor\").one()\n",
    "donors = is_donor.children.all()\n",
    "result = donors.inspect(donor_ids, mute=True)\n",
    "new_donors = [ln.ULabel(name=name) for name in result.non_validated]\n",
    "ln.save(new_donors)\n",
    "is_donor.children.add(*new_donors)\n",
    "\n",
    "is_suspension_type = ln.ULabel.filter(name=\"is_suspension_type\").one()\n",
    "stypes = is_suspension_type.children.all()\n",
    "result = stypes.inspect(suspension_types, mute=True)\n",
    "new_stypes = [ln.ULabel(name=name) for name in result.non_validated]\n",
    "ln.save(new_stypes)\n",
    "is_suspension_type.children.add(*new_stypes)"
   ]
  },
  {
   "cell_type": "markdown",
   "metadata": {},
   "source": [
    "## Annotate artifacts with obs metadata"
   ]
  },
  {
   "cell_type": "code",
   "execution_count": null,
   "metadata": {},
   "outputs": [],
   "source": [
    "FEATURE_TO_ACCESSOR"
   ]
  },
  {
   "cell_type": "code",
   "execution_count": null,
   "metadata": {
    "tags": [
     "hide-output"
    ]
   },
   "outputs": [],
   "source": [
    "features = ln.Feature.lookup()\n",
    "\n",
    "for idx, dataset_meta in enumerate(cellxgene_meta):\n",
    "    if idx % 100 == 0:\n",
    "        print(f\"annotating dataset {idx} of {len(cellxgene_meta)}\")\n",
    "    file = artifacts.filter(key__contains=dataset_meta[\"dataset_id\"]).one_or_none()\n",
    "    if file is None:\n",
    "        continue\n",
    "    for field, terms in dataset_meta.items():\n",
    "        if field not in FEATURE_TO_ACCESSOR:\n",
    "            continue\n",
    "        accessor, orm = FEATURE_TO_ACCESSOR.get(field)\n",
    "        if field in [\"donor_id\", \"suspension_type\", \"tissue_type\"]:\n",
    "            records = orm.from_values(terms, field=\"name\")\n",
    "            if len(records) > 0:\n",
    "                # stratify by feature so that link tables records are written\n",
    "                file.labels.add(records, feature=getattr(features, field))\n",
    "        else:\n",
    "            records = orm.from_values(\n",
    "                [i[\"ontology_term_id\"] for i in terms], field=\"ontology_id\"\n",
    "            )\n",
    "            if len(records) > 0:\n",
    "                getattr(file, accessor).add(*records)"
   ]
  },
  {
   "cell_type": "markdown",
   "metadata": {},
   "source": [
    "Clean up the 2 \"unknowns\" in DevelopmentalStage:"
   ]
  },
  {
   "cell_type": "code",
   "execution_count": null,
   "metadata": {},
   "outputs": [],
   "source": [
    "lb.DevelopmentalStage.filter(name=\"unknown\").exclude(ontology_id=\"unknown\").delete()"
   ]
  },
  {
   "cell_type": "markdown",
   "metadata": {},
   "source": [
    "## Validate and register genes"
   ]
  },
  {
   "cell_type": "code",
   "execution_count": null,
   "metadata": {
    "tags": []
   },
   "outputs": [],
   "source": [
    "# register synthetic constructs and sars_cov_2 as new organisms\n",
    "new_organisms = lb.Organism.from_values(\n",
    "    [\"NCBITaxon:32630\", \"NCBITaxon:2697049\"],\n",
    "    field=lb.Organism.ontology_id,\n",
    "    bionty_source=ncbitaxon_source,\n",
    ")\n",
    "ln.save(new_organisms, parents=False)\n",
    "\n",
    "# genes files\n",
    "organisms = lb.Organism.lookup(field=lb.Organism.scientific_name)\n",
    "genes_files = {\n",
    "    \"homo_sapiens\": \"https://github.com/chanzuckerberg/single-cell-curation/raw/main/cellxgene_schema_cli/cellxgene_schema/ontology_files/genes_homo_sapiens.csv.gz\",\n",
    "    \"mus_musculus\": \"https://github.com/chanzuckerberg/single-cell-curation/raw/main/cellxgene_schema_cli/cellxgene_schema/ontology_files/genes_mus_musculus.csv.gz\",\n",
    "    \"synthetic_construct\": \"https://github.com/chanzuckerberg/single-cell-curation/raw/main/cellxgene_schema_cli/cellxgene_schema/ontology_files/genes_ercc.csv.gz\",\n",
    "    \"severe_acute_respiratory_syndrome_coronavirus_2\": \"https://github.com/chanzuckerberg/single-cell-curation/raw/main/cellxgene_schema_cli/cellxgene_schema/ontology_files/genes_sars_cov_2.csv.gz\",\n",
    "}"
   ]
  },
  {
   "cell_type": "markdown",
   "metadata": {},
   "source": [
    "Register all genes for each organism:"
   ]
  },
  {
   "cell_type": "code",
   "execution_count": null,
   "metadata": {
    "tags": [
     "hide-output"
    ]
   },
   "outputs": [],
   "source": [
    "for organism_name, genes_file in genes_files.items():\n",
    "    print(f\"registering {organism_name} genes\")\n",
    "    df = pd.read_csv(genes_file, header=None, index_col=0)\n",
    "    organism_record = getattr(organisms, organism_name)\n",
    "    gene_records = lb.Gene.from_values(\n",
    "        df.index, field=lb.Gene.ensembl_gene_id, organism=organism_record\n",
    "    )\n",
    "    ln.save(gene_records)\n",
    "    validated = lb.Gene.validate(\n",
    "        df.index, field=lb.Gene.ensembl_gene_id, organism=organism_record\n",
    "    )\n",
    "    # register legacy genes manually\n",
    "    new_records = []\n",
    "    for gene_id in df.index[~validated]:\n",
    "        new_records.append(\n",
    "            lb.Gene(\n",
    "                ensembl_gene_id=gene_id,\n",
    "                symbol=df.loc[gene_id][1],\n",
    "                organism=organism_record,\n",
    "            )\n",
    "        )\n",
    "    ln.save(new_records)\n",
    "\n",
    "    genes_feature_set = ln.FeatureSet(\n",
    "        features=gene_records + new_records, name=f\"all {organism_record.name} genes\"\n",
    "    )\n",
    "    genes_feature_set.save()"
   ]
  },
  {
   "cell_type": "markdown",
   "metadata": {},
   "source": [
    "## Link metadata to individual artifacts"
   ]
  },
  {
   "cell_type": "markdown",
   "metadata": {},
   "source": [
    "annotate with genes measured in each file:"
   ]
  },
  {
   "cell_type": "code",
   "execution_count": null,
   "metadata": {
    "tags": []
   },
   "outputs": [],
   "source": [
    "organisms = lb.Organism.lookup(field=lb.Organism.scientific_name)"
   ]
  },
  {
   "cell_type": "code",
   "execution_count": null,
   "metadata": {
    "tags": [
     "hide-output"
    ]
   },
   "outputs": [],
   "source": [
    "for idx, file in enumerate(artifacts):\n",
    "    if idx % 100 == 0:\n",
    "        print(f\"annotating dataset {idx} of {len(artifacts)}\")\n",
    "\n",
    "    adata_backed = file.backed()\n",
    "    var_names = adata_backed.var_names\n",
    "    organism_record = file.organism.first()\n",
    "    if organism_record is None:\n",
    "        print(f\"No organism found for file: {file}\")\n",
    "        continue\n",
    "    genes = lb.Gene.from_values(\n",
    "        var_names, field=lb.Gene.ensembl_gene_id, organism=organism_record\n",
    "    )\n",
    "\n",
    "    if len(genes) == 0 and var_names[0].startswith(\"ENSG\"):\n",
    "        genes += lb.Gene.from_values(\n",
    "            var_names, field=lb.Gene.ensembl_gene_id, organism=\"human\"\n",
    "        )\n",
    "\n",
    "    if len(var_names[var_names.str.startswith(\"ERCC\")]) > 0:\n",
    "        genes += lb.Gene.from_values(\n",
    "            var_names,\n",
    "            field=lb.Gene.ensembl_gene_id,\n",
    "            organism=organisms.synthetic_construct,\n",
    "        )\n",
    "    if len(var_names[var_names.str.startswith(\"ENSSASG\")]) > 0:\n",
    "        genes += lb.Gene.from_values(\n",
    "            var_names,\n",
    "            field=lb.Gene.ensembl_gene_id,\n",
    "            organism=organisms.severe_acute_respiratory_syndrome_coronavirus_2,\n",
    "        )\n",
    "\n",
    "    var_feature_set_file = ln.FeatureSet(genes, type=\"number\")\n",
    "    var_feature_set_file.save()\n",
    "    file.feature_sets.add(var_feature_set_file, through_defaults={\"slot\": \"var\"})"
   ]
  },
  {
   "cell_type": "code",
   "execution_count": null,
   "metadata": {
    "tags": []
   },
   "outputs": [],
   "source": [
    "file.describe()"
   ]
  },
  {
   "cell_type": "markdown",
   "metadata": {},
   "source": [
    "## Annotate tissue_type\n",
    "\n",
    "Before CxG schema 4.0, tissue_type column was not annotated, instead \"cell culture\" or \"organoid\" was added to the record ontology_id."
   ]
  },
  {
   "cell_type": "code",
   "execution_count": null,
   "metadata": {
    "tags": []
   },
   "outputs": [],
   "source": [
    "tissue_types = [ln.ULabel(name=i) for i in [\"tissue\", \"organoid\", \"cell culture\"]]\n",
    "ln.save(tissue_types)\n",
    "\n",
    "is_tissue_type = ln.ULabel.filter(name=\"is_tissue_type\").one()\n",
    "is_tissue_type.children.add(*tissue_types)"
   ]
  },
  {
   "cell_type": "code",
   "execution_count": null,
   "metadata": {
    "tags": []
   },
   "outputs": [],
   "source": [
    "is_tissue_type = ln.ULabel.filter(name=\"is_tissue_type\").one()\n",
    "tissue_types = is_tissue_type.children.lookup()\n",
    "features = ln.Feature.lookup()"
   ]
  },
  {
   "cell_type": "code",
   "execution_count": null,
   "metadata": {
    "tags": []
   },
   "outputs": [],
   "source": [
    "organoids = lb.Tissue.filter(ontology_id__contains=\"organoid\").all()\n",
    "organoids.df()"
   ]
  },
  {
   "cell_type": "code",
   "execution_count": null,
   "metadata": {
    "tags": []
   },
   "outputs": [],
   "source": [
    "for record in organoids:\n",
    "    print(record.name)\n",
    "    ontology_id = record.ontology_id.split(\" \")[0]\n",
    "    tissue_record = lb.Tissue.from_bionty(ontology_id=ontology_id)\n",
    "    if tissue_record._state.adding:\n",
    "        tissue_record.save()\n",
    "    for f in tissue_record.artifacts.all():\n",
    "        f.labels.add(tissue_types.organoid, features.tissue_type)"
   ]
  },
  {
   "cell_type": "code",
   "execution_count": null,
   "metadata": {
    "tags": []
   },
   "outputs": [],
   "source": [
    "organoids.delete()"
   ]
  },
  {
   "cell_type": "code",
   "execution_count": null,
   "metadata": {
    "tags": []
   },
   "outputs": [],
   "source": [
    "cell_cultures = lb.Tissue.filter(ontology_id__contains=\"cell culture\").all()\n",
    "cell_cultures.df()"
   ]
  },
  {
   "cell_type": "code",
   "execution_count": null,
   "metadata": {
    "tags": []
   },
   "outputs": [],
   "source": [
    "for record in cell_cultures:\n",
    "    print(record.name)\n",
    "    ontology_id = record.ontology_id.split(\" \")[0]\n",
    "    tissue_record = lb.CellType.from_bionty(ontology_id=ontology_id)\n",
    "    if tissue_record._state.adding:\n",
    "        tissue_record.save()\n",
    "    for f in tissue_record.artifacts.all():\n",
    "        f.labels.add(tissue_types.cell_culture, features.tissue_type)"
   ]
  },
  {
   "cell_type": "code",
   "execution_count": null,
   "metadata": {
    "tags": []
   },
   "outputs": [],
   "source": [
    "cell_cultures.delete()"
   ]
  },
  {
   "cell_type": "markdown",
   "metadata": {},
   "source": [
    "## Link metadata to collection"
   ]
  },
  {
   "cell_type": "code",
   "execution_count": null,
   "metadata": {
    "tags": []
   },
   "outputs": [],
   "source": [
    "collection = ln.Collection.filter(name=\"cellxgene-census\", version=census_version).one()"
   ]
  },
  {
   "cell_type": "markdown",
   "metadata": {},
   "source": [
    "feature sets:"
   ]
  },
  {
   "cell_type": "code",
   "execution_count": null,
   "metadata": {
    "tags": []
   },
   "outputs": [],
   "source": [
    "collection.feature_sets.add(\n",
    "    ln.FeatureSet.filter(name__contains=\"obs\").one(), through_defaults={\"slot\": \"obs\"}\n",
    ")\n",
    "collection.feature_sets.add(\n",
    "    ln.FeatureSet.filter(name__contains=\"ext\").one(),\n",
    "    through_defaults={\"slot\": \"external\"},\n",
    ")\n",
    "collection.feature_sets.add(\n",
    "    ln.FeatureSet.filter(name__contains=\"human\").one(),\n",
    "    through_defaults={\"slot\": \"var-human\"},\n",
    ")\n",
    "collection.feature_sets.add(\n",
    "    ln.FeatureSet.filter(name__contains=\"mouse\").one(),\n",
    "    through_defaults={\"slot\": \"var-mouse\"},\n",
    ")\n",
    "collection.feature_sets.add(\n",
    "    ln.FeatureSet.filter(name__contains=\"sars-2\").one(),\n",
    "    through_defaults={\"slot\": \"var-sars-cov-2\"},\n",
    ")\n",
    "collection.feature_sets.add(\n",
    "    ln.FeatureSet.filter(name__contains=\"synthetic construct\").one(),\n",
    "    through_defaults={\"slot\": \"var-ercc\"},\n",
    ")"
   ]
  },
  {
   "cell_type": "code",
   "execution_count": null,
   "metadata": {
    "tags": []
   },
   "outputs": [],
   "source": [
    "is_donor = ln.ULabel.filter(name=\"is_donor\").one()\n",
    "donors = is_donor.children.all().filter().exclude(artifacts=None).all()\n",
    "is_collection = ln.ULabel.filter(name=\"is_collection\").one()\n",
    "collections = is_collection.children.all().filter().exclude(artifacts=None).all()\n",
    "is_suspension_type = ln.ULabel.filter(name=\"is_suspension_type\").one()\n",
    "stypes = is_suspension_type.children.all().filter().exclude(artifacts=None).all()\n",
    "is_tissue_type = ln.ULabel.filter(name=\"is_tissue_type\").one()\n",
    "tissue_types = is_tissue_type.children.all().filter().exclude(artifacts=None).all()\n",
    "\n",
    "collection.labels.add(donors, features.donor_id)\n",
    "collection.labels.add(collections, features.collection)\n",
    "collection.labels.add(stypes, features.suspension_type)\n",
    "collection.labels.add(tissue_types, features.tissue_type)\n",
    "\n",
    "collection.labels.add(\n",
    "    lb.ExperimentalFactor.filter().exclude(artifacts=None).all(), features.assay\n",
    ")\n",
    "collection.labels.add(\n",
    "    lb.CellType.filter().exclude(artifacts=None).all(), features.cell_type\n",
    ")\n",
    "collection.labels.add(\n",
    "    lb.DevelopmentalStage.filter().exclude(artifacts=None).all(),\n",
    "    features.development_stage,\n",
    ")\n",
    "collection.labels.add(\n",
    "    lb.Disease.filter().exclude(artifacts=None).all(), features.disease\n",
    ")\n",
    "collection.labels.add(\n",
    "    lb.Ethnicity.filter().exclude(artifacts=None).all(),\n",
    "    features.self_reported_ethnicity,\n",
    ")\n",
    "collection.labels.add(lb.Phenotype.filter().exclude(artifacts=None).all(), features.sex)\n",
    "collection.labels.add(lb.Tissue.filter().exclude(artifacts=None).all(), features.tissue)"
   ]
  },
  {
   "cell_type": "code",
   "execution_count": null,
   "metadata": {
    "tags": []
   },
   "outputs": [],
   "source": [
    "collection.describe()"
   ]
  },
  {
   "cell_type": "markdown",
   "metadata": {},
   "source": [
    "## Register collections"
   ]
  },
  {
   "cell_type": "code",
   "execution_count": null,
   "metadata": {},
   "outputs": [],
   "source": [
    "for i, ulabel in enumerate(is_collection.children.all()):\n",
    "    if i % 20 == 0:\n",
    "        print(i)\n",
    "    artifacts = ulabel.artifacts.all()\n",
    "    if artifacts.count() == 0:\n",
    "        continue\n",
    "    if artifacts.count() == 1:\n",
    "        artifacts = artifacts[0]\n",
    "    collection = ln.Collection(\n",
    "        artifacts,\n",
    "        name=ulabel.name,\n",
    "        description=ulabel.description,\n",
    "        reference=ulabel.reference,\n",
    "        reference_type=\"CELLxGENE Collection ID\",\n",
    "    )\n",
    "    collection.save()"
   ]
  }
 ],
 "metadata": {
  "availableInstances": [
   {
    "_defaultOrder": 0,
    "_isFastLaunch": true,
    "category": "General purpose",
    "gpuNum": 0,
    "hideHardwareSpecs": false,
    "memoryGiB": 4,
    "name": "ml.t3.medium",
    "vcpuNum": 2
   },
   {
    "_defaultOrder": 1,
    "_isFastLaunch": false,
    "category": "General purpose",
    "gpuNum": 0,
    "hideHardwareSpecs": false,
    "memoryGiB": 8,
    "name": "ml.t3.large",
    "vcpuNum": 2
   },
   {
    "_defaultOrder": 2,
    "_isFastLaunch": false,
    "category": "General purpose",
    "gpuNum": 0,
    "hideHardwareSpecs": false,
    "memoryGiB": 16,
    "name": "ml.t3.xlarge",
    "vcpuNum": 4
   },
   {
    "_defaultOrder": 3,
    "_isFastLaunch": false,
    "category": "General purpose",
    "gpuNum": 0,
    "hideHardwareSpecs": false,
    "memoryGiB": 32,
    "name": "ml.t3.2xlarge",
    "vcpuNum": 8
   },
   {
    "_defaultOrder": 4,
    "_isFastLaunch": true,
    "category": "General purpose",
    "gpuNum": 0,
    "hideHardwareSpecs": false,
    "memoryGiB": 8,
    "name": "ml.m5.large",
    "vcpuNum": 2
   },
   {
    "_defaultOrder": 5,
    "_isFastLaunch": false,
    "category": "General purpose",
    "gpuNum": 0,
    "hideHardwareSpecs": false,
    "memoryGiB": 16,
    "name": "ml.m5.xlarge",
    "vcpuNum": 4
   },
   {
    "_defaultOrder": 6,
    "_isFastLaunch": false,
    "category": "General purpose",
    "gpuNum": 0,
    "hideHardwareSpecs": false,
    "memoryGiB": 32,
    "name": "ml.m5.2xlarge",
    "vcpuNum": 8
   },
   {
    "_defaultOrder": 7,
    "_isFastLaunch": false,
    "category": "General purpose",
    "gpuNum": 0,
    "hideHardwareSpecs": false,
    "memoryGiB": 64,
    "name": "ml.m5.4xlarge",
    "vcpuNum": 16
   },
   {
    "_defaultOrder": 8,
    "_isFastLaunch": false,
    "category": "General purpose",
    "gpuNum": 0,
    "hideHardwareSpecs": false,
    "memoryGiB": 128,
    "name": "ml.m5.8xlarge",
    "vcpuNum": 32
   },
   {
    "_defaultOrder": 9,
    "_isFastLaunch": false,
    "category": "General purpose",
    "gpuNum": 0,
    "hideHardwareSpecs": false,
    "memoryGiB": 192,
    "name": "ml.m5.12xlarge",
    "vcpuNum": 48
   },
   {
    "_defaultOrder": 10,
    "_isFastLaunch": false,
    "category": "General purpose",
    "gpuNum": 0,
    "hideHardwareSpecs": false,
    "memoryGiB": 256,
    "name": "ml.m5.16xlarge",
    "vcpuNum": 64
   },
   {
    "_defaultOrder": 11,
    "_isFastLaunch": false,
    "category": "General purpose",
    "gpuNum": 0,
    "hideHardwareSpecs": false,
    "memoryGiB": 384,
    "name": "ml.m5.24xlarge",
    "vcpuNum": 96
   },
   {
    "_defaultOrder": 12,
    "_isFastLaunch": false,
    "category": "General purpose",
    "gpuNum": 0,
    "hideHardwareSpecs": false,
    "memoryGiB": 8,
    "name": "ml.m5d.large",
    "vcpuNum": 2
   },
   {
    "_defaultOrder": 13,
    "_isFastLaunch": false,
    "category": "General purpose",
    "gpuNum": 0,
    "hideHardwareSpecs": false,
    "memoryGiB": 16,
    "name": "ml.m5d.xlarge",
    "vcpuNum": 4
   },
   {
    "_defaultOrder": 14,
    "_isFastLaunch": false,
    "category": "General purpose",
    "gpuNum": 0,
    "hideHardwareSpecs": false,
    "memoryGiB": 32,
    "name": "ml.m5d.2xlarge",
    "vcpuNum": 8
   },
   {
    "_defaultOrder": 15,
    "_isFastLaunch": false,
    "category": "General purpose",
    "gpuNum": 0,
    "hideHardwareSpecs": false,
    "memoryGiB": 64,
    "name": "ml.m5d.4xlarge",
    "vcpuNum": 16
   },
   {
    "_defaultOrder": 16,
    "_isFastLaunch": false,
    "category": "General purpose",
    "gpuNum": 0,
    "hideHardwareSpecs": false,
    "memoryGiB": 128,
    "name": "ml.m5d.8xlarge",
    "vcpuNum": 32
   },
   {
    "_defaultOrder": 17,
    "_isFastLaunch": false,
    "category": "General purpose",
    "gpuNum": 0,
    "hideHardwareSpecs": false,
    "memoryGiB": 192,
    "name": "ml.m5d.12xlarge",
    "vcpuNum": 48
   },
   {
    "_defaultOrder": 18,
    "_isFastLaunch": false,
    "category": "General purpose",
    "gpuNum": 0,
    "hideHardwareSpecs": false,
    "memoryGiB": 256,
    "name": "ml.m5d.16xlarge",
    "vcpuNum": 64
   },
   {
    "_defaultOrder": 19,
    "_isFastLaunch": false,
    "category": "General purpose",
    "gpuNum": 0,
    "hideHardwareSpecs": false,
    "memoryGiB": 384,
    "name": "ml.m5d.24xlarge",
    "vcpuNum": 96
   },
   {
    "_defaultOrder": 20,
    "_isFastLaunch": false,
    "category": "General purpose",
    "gpuNum": 0,
    "hideHardwareSpecs": true,
    "memoryGiB": 0,
    "name": "ml.geospatial.interactive",
    "supportedImageNames": [
     "sagemaker-geospatial-v1-0"
    ],
    "vcpuNum": 0
   },
   {
    "_defaultOrder": 21,
    "_isFastLaunch": true,
    "category": "Compute optimized",
    "gpuNum": 0,
    "hideHardwareSpecs": false,
    "memoryGiB": 4,
    "name": "ml.c5.large",
    "vcpuNum": 2
   },
   {
    "_defaultOrder": 22,
    "_isFastLaunch": false,
    "category": "Compute optimized",
    "gpuNum": 0,
    "hideHardwareSpecs": false,
    "memoryGiB": 8,
    "name": "ml.c5.xlarge",
    "vcpuNum": 4
   },
   {
    "_defaultOrder": 23,
    "_isFastLaunch": false,
    "category": "Compute optimized",
    "gpuNum": 0,
    "hideHardwareSpecs": false,
    "memoryGiB": 16,
    "name": "ml.c5.2xlarge",
    "vcpuNum": 8
   },
   {
    "_defaultOrder": 24,
    "_isFastLaunch": false,
    "category": "Compute optimized",
    "gpuNum": 0,
    "hideHardwareSpecs": false,
    "memoryGiB": 32,
    "name": "ml.c5.4xlarge",
    "vcpuNum": 16
   },
   {
    "_defaultOrder": 25,
    "_isFastLaunch": false,
    "category": "Compute optimized",
    "gpuNum": 0,
    "hideHardwareSpecs": false,
    "memoryGiB": 72,
    "name": "ml.c5.9xlarge",
    "vcpuNum": 36
   },
   {
    "_defaultOrder": 26,
    "_isFastLaunch": false,
    "category": "Compute optimized",
    "gpuNum": 0,
    "hideHardwareSpecs": false,
    "memoryGiB": 96,
    "name": "ml.c5.12xlarge",
    "vcpuNum": 48
   },
   {
    "_defaultOrder": 27,
    "_isFastLaunch": false,
    "category": "Compute optimized",
    "gpuNum": 0,
    "hideHardwareSpecs": false,
    "memoryGiB": 144,
    "name": "ml.c5.18xlarge",
    "vcpuNum": 72
   },
   {
    "_defaultOrder": 28,
    "_isFastLaunch": false,
    "category": "Compute optimized",
    "gpuNum": 0,
    "hideHardwareSpecs": false,
    "memoryGiB": 192,
    "name": "ml.c5.24xlarge",
    "vcpuNum": 96
   },
   {
    "_defaultOrder": 29,
    "_isFastLaunch": true,
    "category": "Accelerated computing",
    "gpuNum": 1,
    "hideHardwareSpecs": false,
    "memoryGiB": 16,
    "name": "ml.g4dn.xlarge",
    "vcpuNum": 4
   },
   {
    "_defaultOrder": 30,
    "_isFastLaunch": false,
    "category": "Accelerated computing",
    "gpuNum": 1,
    "hideHardwareSpecs": false,
    "memoryGiB": 32,
    "name": "ml.g4dn.2xlarge",
    "vcpuNum": 8
   },
   {
    "_defaultOrder": 31,
    "_isFastLaunch": false,
    "category": "Accelerated computing",
    "gpuNum": 1,
    "hideHardwareSpecs": false,
    "memoryGiB": 64,
    "name": "ml.g4dn.4xlarge",
    "vcpuNum": 16
   },
   {
    "_defaultOrder": 32,
    "_isFastLaunch": false,
    "category": "Accelerated computing",
    "gpuNum": 1,
    "hideHardwareSpecs": false,
    "memoryGiB": 128,
    "name": "ml.g4dn.8xlarge",
    "vcpuNum": 32
   },
   {
    "_defaultOrder": 33,
    "_isFastLaunch": false,
    "category": "Accelerated computing",
    "gpuNum": 4,
    "hideHardwareSpecs": false,
    "memoryGiB": 192,
    "name": "ml.g4dn.12xlarge",
    "vcpuNum": 48
   },
   {
    "_defaultOrder": 34,
    "_isFastLaunch": false,
    "category": "Accelerated computing",
    "gpuNum": 1,
    "hideHardwareSpecs": false,
    "memoryGiB": 256,
    "name": "ml.g4dn.16xlarge",
    "vcpuNum": 64
   },
   {
    "_defaultOrder": 35,
    "_isFastLaunch": false,
    "category": "Accelerated computing",
    "gpuNum": 1,
    "hideHardwareSpecs": false,
    "memoryGiB": 61,
    "name": "ml.p3.2xlarge",
    "vcpuNum": 8
   },
   {
    "_defaultOrder": 36,
    "_isFastLaunch": false,
    "category": "Accelerated computing",
    "gpuNum": 4,
    "hideHardwareSpecs": false,
    "memoryGiB": 244,
    "name": "ml.p3.8xlarge",
    "vcpuNum": 32
   },
   {
    "_defaultOrder": 37,
    "_isFastLaunch": false,
    "category": "Accelerated computing",
    "gpuNum": 8,
    "hideHardwareSpecs": false,
    "memoryGiB": 488,
    "name": "ml.p3.16xlarge",
    "vcpuNum": 64
   },
   {
    "_defaultOrder": 38,
    "_isFastLaunch": false,
    "category": "Accelerated computing",
    "gpuNum": 8,
    "hideHardwareSpecs": false,
    "memoryGiB": 768,
    "name": "ml.p3dn.24xlarge",
    "vcpuNum": 96
   },
   {
    "_defaultOrder": 39,
    "_isFastLaunch": false,
    "category": "Memory Optimized",
    "gpuNum": 0,
    "hideHardwareSpecs": false,
    "memoryGiB": 16,
    "name": "ml.r5.large",
    "vcpuNum": 2
   },
   {
    "_defaultOrder": 40,
    "_isFastLaunch": false,
    "category": "Memory Optimized",
    "gpuNum": 0,
    "hideHardwareSpecs": false,
    "memoryGiB": 32,
    "name": "ml.r5.xlarge",
    "vcpuNum": 4
   },
   {
    "_defaultOrder": 41,
    "_isFastLaunch": false,
    "category": "Memory Optimized",
    "gpuNum": 0,
    "hideHardwareSpecs": false,
    "memoryGiB": 64,
    "name": "ml.r5.2xlarge",
    "vcpuNum": 8
   },
   {
    "_defaultOrder": 42,
    "_isFastLaunch": false,
    "category": "Memory Optimized",
    "gpuNum": 0,
    "hideHardwareSpecs": false,
    "memoryGiB": 128,
    "name": "ml.r5.4xlarge",
    "vcpuNum": 16
   },
   {
    "_defaultOrder": 43,
    "_isFastLaunch": false,
    "category": "Memory Optimized",
    "gpuNum": 0,
    "hideHardwareSpecs": false,
    "memoryGiB": 256,
    "name": "ml.r5.8xlarge",
    "vcpuNum": 32
   },
   {
    "_defaultOrder": 44,
    "_isFastLaunch": false,
    "category": "Memory Optimized",
    "gpuNum": 0,
    "hideHardwareSpecs": false,
    "memoryGiB": 384,
    "name": "ml.r5.12xlarge",
    "vcpuNum": 48
   },
   {
    "_defaultOrder": 45,
    "_isFastLaunch": false,
    "category": "Memory Optimized",
    "gpuNum": 0,
    "hideHardwareSpecs": false,
    "memoryGiB": 512,
    "name": "ml.r5.16xlarge",
    "vcpuNum": 64
   },
   {
    "_defaultOrder": 46,
    "_isFastLaunch": false,
    "category": "Memory Optimized",
    "gpuNum": 0,
    "hideHardwareSpecs": false,
    "memoryGiB": 768,
    "name": "ml.r5.24xlarge",
    "vcpuNum": 96
   },
   {
    "_defaultOrder": 47,
    "_isFastLaunch": false,
    "category": "Accelerated computing",
    "gpuNum": 1,
    "hideHardwareSpecs": false,
    "memoryGiB": 16,
    "name": "ml.g5.xlarge",
    "vcpuNum": 4
   },
   {
    "_defaultOrder": 48,
    "_isFastLaunch": false,
    "category": "Accelerated computing",
    "gpuNum": 1,
    "hideHardwareSpecs": false,
    "memoryGiB": 32,
    "name": "ml.g5.2xlarge",
    "vcpuNum": 8
   },
   {
    "_defaultOrder": 49,
    "_isFastLaunch": false,
    "category": "Accelerated computing",
    "gpuNum": 1,
    "hideHardwareSpecs": false,
    "memoryGiB": 64,
    "name": "ml.g5.4xlarge",
    "vcpuNum": 16
   },
   {
    "_defaultOrder": 50,
    "_isFastLaunch": false,
    "category": "Accelerated computing",
    "gpuNum": 1,
    "hideHardwareSpecs": false,
    "memoryGiB": 128,
    "name": "ml.g5.8xlarge",
    "vcpuNum": 32
   },
   {
    "_defaultOrder": 51,
    "_isFastLaunch": false,
    "category": "Accelerated computing",
    "gpuNum": 1,
    "hideHardwareSpecs": false,
    "memoryGiB": 256,
    "name": "ml.g5.16xlarge",
    "vcpuNum": 64
   },
   {
    "_defaultOrder": 52,
    "_isFastLaunch": false,
    "category": "Accelerated computing",
    "gpuNum": 4,
    "hideHardwareSpecs": false,
    "memoryGiB": 192,
    "name": "ml.g5.12xlarge",
    "vcpuNum": 48
   },
   {
    "_defaultOrder": 53,
    "_isFastLaunch": false,
    "category": "Accelerated computing",
    "gpuNum": 4,
    "hideHardwareSpecs": false,
    "memoryGiB": 384,
    "name": "ml.g5.24xlarge",
    "vcpuNum": 96
   },
   {
    "_defaultOrder": 54,
    "_isFastLaunch": false,
    "category": "Accelerated computing",
    "gpuNum": 8,
    "hideHardwareSpecs": false,
    "memoryGiB": 768,
    "name": "ml.g5.48xlarge",
    "vcpuNum": 192
   },
   {
    "_defaultOrder": 55,
    "_isFastLaunch": false,
    "category": "Accelerated computing",
    "gpuNum": 8,
    "hideHardwareSpecs": false,
    "memoryGiB": 1152,
    "name": "ml.p4d.24xlarge",
    "vcpuNum": 96
   },
   {
    "_defaultOrder": 56,
    "_isFastLaunch": false,
    "category": "Accelerated computing",
    "gpuNum": 8,
    "hideHardwareSpecs": false,
    "memoryGiB": 1152,
    "name": "ml.p4de.24xlarge",
    "vcpuNum": 96
   },
   {
    "_defaultOrder": 57,
    "_isFastLaunch": false,
    "category": "Accelerated computing",
    "gpuNum": 0,
    "hideHardwareSpecs": false,
    "memoryGiB": 32,
    "name": "ml.trn1.2xlarge",
    "vcpuNum": 8
   },
   {
    "_defaultOrder": 58,
    "_isFastLaunch": false,
    "category": "Accelerated computing",
    "gpuNum": 0,
    "hideHardwareSpecs": false,
    "memoryGiB": 512,
    "name": "ml.trn1.32xlarge",
    "vcpuNum": 128
   },
   {
    "_defaultOrder": 59,
    "_isFastLaunch": false,
    "category": "Accelerated computing",
    "gpuNum": 0,
    "hideHardwareSpecs": false,
    "memoryGiB": 512,
    "name": "ml.trn1n.32xlarge",
    "vcpuNum": 128
   }
  ],
  "instance_type": "ml.t3.medium",
  "kernelspec": {
   "display_name": "py39",
   "language": "python",
   "name": "python3"
  },
  "language_info": {
   "codemirror_mode": {
    "name": "ipython",
    "version": 3
   },
   "file_extension": ".py",
   "mimetype": "text/x-python",
   "name": "python",
   "nbconvert_exporter": "python",
   "pygments_lexer": "ipython3",
   "version": "3.9.16"
  },
  "nbproject": {
   "id": "4hbVFAINneXC",
   "parent": null,
   "pypackage": null,
   "time_init": "2023-11-20T21:25:14.338427+00:00",
   "user_handle": null,
   "user_id": null,
   "user_name": null,
   "version": "0"
  }
 },
 "nbformat": 4,
 "nbformat_minor": 4
}
